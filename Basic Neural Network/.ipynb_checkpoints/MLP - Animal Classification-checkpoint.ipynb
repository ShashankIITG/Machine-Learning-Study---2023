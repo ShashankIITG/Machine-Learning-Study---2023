{
 "cells": [
  {
   "cell_type": "code",
   "execution_count": 74,
   "metadata": {},
   "outputs": [],
   "source": [
    "import os\n",
    "from pathlib import Path"
   ]
  },
  {
   "cell_type": "code",
   "execution_count": 38,
   "metadata": {},
   "outputs": [],
   "source": [
    "d = Path(\"../Datasets/images/\")"
   ]
  },
  {
   "cell_type": "code",
   "execution_count": 39,
   "metadata": {},
   "outputs": [],
   "source": [
    "image_data = []\n",
    "labels = []\n",
    "\n",
    "labels2dir = {\"cats\": 0, \"dogs\": 1, \"horses\": 2}"
   ]
  },
  {
   "cell_type": "code",
   "execution_count": 40,
   "metadata": {},
   "outputs": [],
   "source": [
    "# from keras.preprocessing import image\n",
    "import cv2\n",
    "import matplotlib.pyplot as plt"
   ]
  },
  {
   "cell_type": "code",
   "execution_count": 41,
   "metadata": {},
   "outputs": [],
   "source": [
    "import pandas as pd"
   ]
  },
  {
   "cell_type": "code",
   "execution_count": 42,
   "metadata": {},
   "outputs": [],
   "source": [
    "import numpy as np"
   ]
  },
  {
   "cell_type": "code",
   "execution_count": 43,
   "metadata": {
    "scrolled": true
   },
   "outputs": [],
   "source": [
    "folders = d.glob(\"*\")\n",
    "\n",
    "for folder_path in folders:\n",
    "    # print(folder_path)\n",
    "    l = str(folder_path).split(\"\\\\\")[-1]\n",
    "\n",
    "    if l != \"humans\":\n",
    "        images_dir = folder_path.glob(\"*.jpg\")\n",
    "        \n",
    "        for image_path in images_dir:\n",
    "            image = cv2.imread(str(image_path))\n",
    "            cvt_image = cv2.cvtColor(image, cv2.COLOR_BGR2RGB)\n",
    "            cvt_image = cv2.resize(cvt_image, (50, 50))\n",
    "            \n",
    "            ## for MLP (neural network) flattening the image is not necessary \n",
    "            image_data.append(cvt_image)\n",
    "            labels.append(labels2dir[l])\n",
    "            "
   ]
  },
  {
   "cell_type": "code",
   "execution_count": 44,
   "metadata": {},
   "outputs": [],
   "source": [
    "# shuffle image data since the bottom row have same animal images\n",
    "\n",
    "import random"
   ]
  },
  {
   "cell_type": "code",
   "execution_count": 45,
   "metadata": {},
   "outputs": [],
   "source": [
    "image_labels = list(zip(image_data, labels))\n",
    "\n",
    "random.shuffle(image_labels)\n",
    "\n",
    "image_data, labels = zip(*image_labels)\n",
    "image_data, labels = np.array(image_data), np.array(labels)"
   ]
  },
  {
   "cell_type": "code",
   "execution_count": 46,
   "metadata": {},
   "outputs": [
    {
     "name": "stdout",
     "output_type": "stream",
     "text": [
      "(606, 50, 50, 3) (606,)\n"
     ]
    }
   ],
   "source": [
    "print(image_data.shape, labels.shape)"
   ]
  },
  {
   "cell_type": "code",
   "execution_count": 47,
   "metadata": {},
   "outputs": [
    {
     "data": {
      "text/plain": [
       "numpy.ndarray"
      ]
     },
     "execution_count": 47,
     "metadata": {},
     "output_type": "execute_result"
    }
   ],
   "source": [
    "type(labels)"
   ]
  },
  {
   "cell_type": "code",
   "execution_count": 48,
   "metadata": {
    "scrolled": true
   },
   "outputs": [
    {
     "data": {
      "text/plain": [
       "array([1, 1, 1, 2, 0, 1, 0, 2, 2, 1, 1, 2, 0, 0, 2, 0, 0, 2, 0, 1, 2, 0,\n",
       "       1, 2, 1, 1, 1, 1, 0, 1, 1, 1, 1, 1, 2, 1, 1, 2, 0, 1, 1, 0, 2, 2,\n",
       "       2, 1, 1, 0, 1, 2, 2, 2, 1, 1, 1, 2, 2, 1, 0, 2, 1, 1, 2, 2, 1, 1,\n",
       "       1, 1, 2, 2, 1, 2, 0, 1, 0, 1, 2, 1, 1, 1, 1, 2, 1, 0, 0, 0, 2, 0,\n",
       "       1, 1, 2, 2, 2, 0, 2, 1, 0, 2, 1, 1, 2, 0, 1, 1, 2, 0, 0, 2, 0, 1,\n",
       "       0, 2, 1, 2, 1, 1, 1, 1, 1, 2, 0, 1, 2, 0, 0, 2, 2, 1, 2, 2, 2, 0,\n",
       "       0, 2, 0, 1, 2, 0, 1, 2, 2, 0, 0, 2, 0, 0, 1, 0, 1, 1, 1, 2, 1, 1,\n",
       "       0, 2, 2, 0, 0, 0, 2, 1, 0, 2, 1, 2, 2, 1, 2, 2, 2, 0, 0, 1, 2, 0,\n",
       "       0, 0, 2, 2, 2, 1, 2, 2, 1, 2, 1, 2, 1, 0, 2, 0, 1, 2, 2, 2, 1, 0,\n",
       "       0, 2, 2, 2, 2, 1, 0, 2, 0, 0, 1, 0, 2, 2, 2, 1, 1, 0, 1, 1, 1, 0,\n",
       "       2, 1, 2, 0, 2, 0, 2, 2, 1, 0, 2, 0, 0, 0, 2, 2, 2, 1, 2, 0, 0, 0,\n",
       "       2, 0, 0, 1, 0, 2, 1, 0, 0, 2, 2, 2, 2, 0, 1, 1, 0, 2, 1, 1, 0, 0,\n",
       "       0, 1, 2, 0, 0, 1, 1, 2, 2, 1, 2, 2, 0, 2, 0, 0, 0, 1, 2, 1, 1, 0,\n",
       "       2, 1, 1, 1, 0, 2, 1, 2, 2, 0, 2, 0, 0, 0, 2, 2, 1, 0, 1, 1, 1, 1,\n",
       "       1, 2, 1, 2, 2, 0, 1, 1, 1, 0, 2, 2, 2, 2, 0, 1, 0, 0, 2, 0, 0, 0,\n",
       "       2, 0, 1, 1, 0, 0, 0, 1, 1, 1, 0, 2, 1, 1, 1, 0, 1, 2, 0, 0, 2, 2,\n",
       "       0, 2, 1, 2, 1, 2, 1, 0, 2, 0, 1, 2, 2, 0, 1, 1, 2, 1, 2, 2, 2, 1,\n",
       "       0, 1, 0, 1, 2, 1, 1, 2, 0, 0, 0, 2, 2, 2, 0, 1, 0, 2, 0, 0, 1, 2,\n",
       "       1, 2, 0, 2, 0, 1, 2, 2, 0, 2, 0, 0, 0, 2, 2, 0, 2, 0, 1, 1, 1, 0,\n",
       "       0, 2, 2, 0, 0, 2, 0, 0, 2, 0, 0, 2, 1, 1, 0, 2, 0, 1, 0, 2, 1, 0,\n",
       "       2, 2, 1, 1, 2, 0, 0, 0, 0, 2, 1, 1, 0, 2, 0, 1, 1, 0, 1, 0, 1, 0,\n",
       "       0, 0, 2, 0, 0, 0, 1, 2, 0, 2, 2, 0, 1, 1, 1, 1, 0, 0, 0, 1, 1, 0,\n",
       "       0, 1, 1, 1, 0, 0, 0, 2, 1, 0, 0, 1, 1, 0, 0, 1, 1, 0, 2, 2, 0, 0,\n",
       "       0, 1, 2, 2, 2, 2, 1, 0, 1, 1, 0, 0, 2, 1, 2, 1, 1, 1, 2, 0, 0, 1,\n",
       "       1, 2, 1, 1, 2, 1, 2, 0, 0, 0, 0, 0, 0, 1, 2, 1, 1, 1, 2, 2, 0, 0,\n",
       "       2, 2, 0, 2, 2, 1, 1, 0, 2, 2, 2, 1, 1, 1, 1, 0, 2, 0, 0, 2, 2, 2,\n",
       "       0, 2, 0, 2, 0, 1, 2, 0, 2, 1, 0, 0, 1, 2, 2, 1, 1, 1, 1, 1, 0, 2,\n",
       "       0, 0, 2, 1, 2, 1, 2, 2, 0, 0, 0, 0])"
      ]
     },
     "execution_count": 48,
     "metadata": {},
     "output_type": "execute_result"
    }
   ],
   "source": [
    "labels"
   ]
  },
  {
   "cell_type": "code",
   "execution_count": 49,
   "metadata": {},
   "outputs": [],
   "source": [
    "# flatten to image to 1D array for easy fed into MLP - not necessary\n",
    "image_data = image_data.reshape((image_data.shape[0], -1))"
   ]
  },
  {
   "cell_type": "code",
   "execution_count": 50,
   "metadata": {},
   "outputs": [],
   "source": [
    "# normalizing data to avoid overflow of exp(Z3)\n",
    "image_data = image_data/255.0"
   ]
  },
  {
   "cell_type": "code",
   "execution_count": 51,
   "metadata": {},
   "outputs": [
    {
     "data": {
      "text/plain": [
       "(606, 7500)"
      ]
     },
     "execution_count": 51,
     "metadata": {},
     "output_type": "execute_result"
    }
   ],
   "source": [
    "image_data.shape"
   ]
  },
  {
   "cell_type": "markdown",
   "metadata": {},
   "source": [
    "### train test split and visualize images"
   ]
  },
  {
   "cell_type": "code",
   "execution_count": 52,
   "metadata": {},
   "outputs": [],
   "source": [
    "split = int(0.8 * image_data.shape[0])"
   ]
  },
  {
   "cell_type": "code",
   "execution_count": 53,
   "metadata": {},
   "outputs": [],
   "source": [
    "# training set\n",
    "X = image_data[:split]\n",
    "Y = labels[:split]\n",
    "\n",
    "# testing set\n",
    "Xt = image_data[split:]\n",
    "Yt = labels[split:]"
   ]
  },
  {
   "cell_type": "code",
   "execution_count": 54,
   "metadata": {},
   "outputs": [
    {
     "name": "stdout",
     "output_type": "stream",
     "text": [
      "(484, 7500) (484,)\n",
      "(122, 7500) (122,)\n"
     ]
    }
   ],
   "source": [
    "print(X.shape, Y.shape)\n",
    "print(Xt.shape, Yt.shape)"
   ]
  },
  {
   "cell_type": "code",
   "execution_count": 55,
   "metadata": {},
   "outputs": [
    {
     "data": {
      "text/plain": [
       "array([1, 1, 1, 2, 0, 1, 0, 2, 2, 1, 1, 2, 0, 0, 2, 0, 0, 2, 0, 1, 2, 0,\n",
       "       1, 2, 1, 1, 1, 1, 0, 1, 1, 1, 1, 1, 2, 1, 1, 2, 0, 1, 1, 0, 2, 2,\n",
       "       2, 1, 1, 0, 1, 2, 2, 2, 1, 1, 1, 2, 2, 1, 0, 2, 1, 1, 2, 2, 1, 1,\n",
       "       1, 1, 2, 2, 1, 2, 0, 1, 0, 1, 2, 1, 1, 1, 1, 2, 1, 0, 0, 0, 2, 0,\n",
       "       1, 1, 2, 2, 2, 0, 2, 1, 0, 2, 1, 1, 2, 0, 1, 1, 2, 0, 0, 2, 0, 1,\n",
       "       0, 2, 1, 2, 1, 1, 1, 1, 1, 2, 0, 1, 2, 0, 0, 2, 2, 1, 2, 2, 2, 0,\n",
       "       0, 2, 0, 1, 2, 0, 1, 2, 2, 0, 0, 2, 0, 0, 1, 0, 1, 1, 1, 2, 1, 1,\n",
       "       0, 2, 2, 0, 0, 0, 2, 1, 0, 2, 1, 2, 2, 1, 2, 2, 2, 0, 0, 1, 2, 0,\n",
       "       0, 0, 2, 2, 2, 1, 2, 2, 1, 2, 1, 2, 1, 0, 2, 0, 1, 2, 2, 2, 1, 0,\n",
       "       0, 2, 2, 2, 2, 1, 0, 2, 0, 0, 1, 0, 2, 2, 2, 1, 1, 0, 1, 1, 1, 0,\n",
       "       2, 1, 2, 0, 2, 0, 2, 2, 1, 0, 2, 0, 0, 0, 2, 2, 2, 1, 2, 0, 0, 0,\n",
       "       2, 0, 0, 1, 0, 2, 1, 0, 0, 2, 2, 2, 2, 0, 1, 1, 0, 2, 1, 1, 0, 0,\n",
       "       0, 1, 2, 0, 0, 1, 1, 2, 2, 1, 2, 2, 0, 2, 0, 0, 0, 1, 2, 1, 1, 0,\n",
       "       2, 1, 1, 1, 0, 2, 1, 2, 2, 0, 2, 0, 0, 0, 2, 2, 1, 0, 1, 1, 1, 1,\n",
       "       1, 2, 1, 2, 2, 0, 1, 1, 1, 0, 2, 2, 2, 2, 0, 1, 0, 0, 2, 0, 0, 0,\n",
       "       2, 0, 1, 1, 0, 0, 0, 1, 1, 1, 0, 2, 1, 1, 1, 0, 1, 2, 0, 0, 2, 2,\n",
       "       0, 2, 1, 2, 1, 2, 1, 0, 2, 0, 1, 2, 2, 0, 1, 1, 2, 1, 2, 2, 2, 1,\n",
       "       0, 1, 0, 1, 2, 1, 1, 2, 0, 0, 0, 2, 2, 2, 0, 1, 0, 2, 0, 0, 1, 2,\n",
       "       1, 2, 0, 2, 0, 1, 2, 2, 0, 2, 0, 0, 0, 2, 2, 0, 2, 0, 1, 1, 1, 0,\n",
       "       0, 2, 2, 0, 0, 2, 0, 0, 2, 0, 0, 2, 1, 1, 0, 2, 0, 1, 0, 2, 1, 0,\n",
       "       2, 2, 1, 1, 2, 0, 0, 0, 0, 2, 1, 1, 0, 2, 0, 1, 1, 0, 1, 0, 1, 0,\n",
       "       0, 0, 2, 0, 0, 0, 1, 2, 0, 2, 2, 0, 1, 1, 1, 1, 0, 0, 0, 1, 1, 0])"
      ]
     },
     "execution_count": 55,
     "metadata": {},
     "output_type": "execute_result"
    }
   ],
   "source": [
    "Y"
   ]
  },
  {
   "cell_type": "code",
   "execution_count": 56,
   "metadata": {},
   "outputs": [],
   "source": [
    "### Now we have training data (X, Y) and testing data"
   ]
  },
  {
   "cell_type": "code",
   "execution_count": 57,
   "metadata": {},
   "outputs": [],
   "source": [
    "def one_hot(Y, classes):\n",
    "    no_of_images = Y.shape[0]\n",
    "    Y_oht = np.zeros((no_of_images, classes))\n",
    "    \n",
    "    Y_oht[np.arange(no_of_images), Y] = 1\n",
    "    return Y_oht\n",
    "\n",
    "# mean square error (MSE) cost/error/loss function\n",
    "def mse(Yoht, Y_):\n",
    "    l = np.mean(np.square(Y_ - Yoht), axis=1)\n",
    "    return l\n",
    "\n",
    "# cross entropy loss function\n",
    "def crs_etrp(Yoht, Y_):\n",
    "    l = -np.mean(Yoht * np.log(Y_))\n",
    "    return l\n",
    "\n",
    "# activation function\n",
    "def relu(z):\n",
    "    z[z <= 0] = 0\n",
    "    return z\n",
    "\n",
    "# probablity\n",
    "def softmax(p):\n",
    "    p = p - np.max(p)\n",
    "    exp_p = np.exp(p)\n",
    "    total = np.sum(exp_p, axis=1, keepdims=True)\n",
    "    return exp_p/total\n",
    "\n",
    "# derivative of relu\n",
    "def der_relu(a):\n",
    "    a[a > 0] = 1\n",
    "    return a\n",
    "\n",
    "# derivative of tanh\n",
    "def der_tanh(a):\n",
    "    der = 1 - np.square(a)\n",
    "    return der"
   ]
  },
  {
   "cell_type": "code",
   "execution_count": 58,
   "metadata": {},
   "outputs": [],
   "source": [
    "Yoht = one_hot(Y, 3)"
   ]
  },
  {
   "cell_type": "code",
   "execution_count": 59,
   "metadata": {},
   "outputs": [
    {
     "data": {
      "text/plain": [
       "(484,)"
      ]
     },
     "execution_count": 59,
     "metadata": {},
     "output_type": "execute_result"
    }
   ],
   "source": [
    "mse(Yoht, 1).shape"
   ]
  },
  {
   "cell_type": "code",
   "execution_count": 60,
   "metadata": {
    "scrolled": true
   },
   "outputs": [
    {
     "data": {
      "text/plain": [
       "(484, 3)"
      ]
     },
     "execution_count": 60,
     "metadata": {},
     "output_type": "execute_result"
    }
   ],
   "source": [
    "Yoht.shape"
   ]
  },
  {
   "cell_type": "code",
   "execution_count": 112,
   "metadata": {},
   "outputs": [],
   "source": [
    "class MLP:\n",
    "    # this mlp uses relu activation function, mse loss function and SGD optimization algorithm\n",
    "    def __init__(self, input_neurons, hidden_neurons, output_neurons):\n",
    "        np.random.seed(0)\n",
    "        \n",
    "        model = {}\n",
    "        \n",
    "        model['W1'] = np.random.rand(input_neurons, hidden_neurons[0])\n",
    "        model['B1'] = np.zeros((1, hidden_neurons[0]))\n",
    "        \n",
    "        model['W2'] = np.random.rand(hidden_neurons[0], hidden_neurons[1])\n",
    "        model['B2'] = np.zeros((1, hidden_neurons[1]))\n",
    "        \n",
    "        #output layer\n",
    "        model['W3'] = np.random.rand(hidden_neurons[1], output_neurons)\n",
    "        model['B3'] = np.zeros((1, output_neurons))\n",
    "        \n",
    "        self.model = model\n",
    "        \n",
    "    def feedForward(self, X):\n",
    "        \n",
    "        W1, W2, W3 = self.model['W1'], self.model['W2'], self.model['W3']\n",
    "        B1, B2, B3 = self.model['B1'], self.model['B2'], self.model['B3']\n",
    "        \n",
    "        Z1 = np.dot(X, W1) + B1\n",
    "        A1 = np.tanh(Z1)\n",
    "        \n",
    "        Z2 = np.dot(A1, W2) + B2\n",
    "        A2 = np.tanh(Z2)\n",
    "        \n",
    "        Z3 = np.dot(A2, W3) + B3\n",
    "        Y_ = softmax(Z3)\n",
    "        \n",
    "        self.activations = (A1, A2, Y_)\n",
    "        \n",
    "    def backProp(self, X, Y, learning_rate=0.001):\n",
    "        W1, W2, W3 = self.model['W1'], self.model['W2'], self.model['W3']\n",
    "        B1, B2, B3 = self.model['B1'], self.model['B2'], self.model['B3']\n",
    "        A1, A2, Y_ = self.activations\n",
    "        \n",
    "        m = X.shape[0] #  no of samples\n",
    "        \n",
    "        delta3 = Y_ - Y\n",
    "        # derviative of loss\n",
    "        dW3 = np.dot(A2.T, delta3)\n",
    "        dB3 = np.sum(delta3, axis=0)/float(m)\n",
    "        \n",
    "        delta2 = der_tanh(A2) * np.dot(delta3, W3.T)\n",
    "        dW2 = np.dot(A1.T, delta2)\n",
    "        dB2 = np.sum(delta2, axis=0)\n",
    "        \n",
    "        delta1 = der_tanh(A1) * np.dot(delta2, W2.T)\n",
    "        dW1 = np.dot(X.T, delta1)\n",
    "        dB1 = np.sum(delta1, axis=0)\n",
    "        \n",
    "        self.model['W1'] -= learning_rate*dW1\n",
    "        self.model['B1'] -= learning_rate*dB1\n",
    "        \n",
    "        self.model['W2'] -= learning_rate*dW2\n",
    "        self.model['B2'] -= learning_rate*dB2\n",
    "        \n",
    "        # updating weights and biases\n",
    "        self.model['W3'] -= learning_rate*dW3\n",
    "        self.model['B3'] -= learning_rate*dB3\n",
    "        \n",
    "    def predict(self, X):\n",
    "        pred_out = self.feedForward(X)\n",
    "        return np.argmax(pred_out, axis=1)\n",
    "    \n",
    "    def accuracy(self, X, Y):\n",
    "        Y_ = self.predict(X)\n",
    "        print(Y_.shape)\n",
    "        # A, B, Y_ = self.activations\n",
    "        acc = np.sum(Y_ == Y)/Y.shape[0]\n",
    "        return 100*acc\n",
    "    \n",
    "    def summary(self):\n",
    "        W1, W2, W3 = self.model['W1'], self.model['W2'], self.model['W3']\n",
    "        B1, B2, B3 = self.model['B1'], self.model['B2'], self.model['B3']\n",
    "        \n",
    "        A1, A2, Y_ = self.activations\n",
    "        \n",
    "        print(\"W1\", W1.shape)\n",
    "        print(\"A1\", A1.shape)\n",
    "        \n",
    "        print(\"W2\", W2.shape)\n",
    "        print(\"A2\", A2.shape)\n",
    "        \n",
    "        print(\"W3\", W3.shape)\n",
    "        print(\"pred_outputs\", Y_.shape)"
   ]
  },
  {
   "cell_type": "code",
   "execution_count": 113,
   "metadata": {},
   "outputs": [],
   "source": [
    "# training our model\n",
    "\n",
    "def train(X, Y, model, epochs, learning_rate=0.001, logs=True):\n",
    "    training_loss = []\n",
    "    W = []\n",
    "    \n",
    "    classes = 3\n",
    "    Y_oht = one_hot(Y, classes)\n",
    "    \n",
    "    for i in range(epochs):\n",
    "        model.feedForward(X)\n",
    "        A1, A2, Y_ = model.activations\n",
    "        loss = crs_etrp(Y_oht, Y_)\n",
    "        \n",
    "        training_loss.append(loss)\n",
    "        \n",
    "        model.backProp(X, Y_oht, learning_rate)\n",
    "        \n",
    "        if(logs):\n",
    "            print(\"Epochs %d Loss %.4f\"%(i, loss), end=\"\\r\")\n",
    "            \n",
    "    return training_loss"
   ]
  },
  {
   "cell_type": "code",
   "execution_count": 114,
   "metadata": {},
   "outputs": [
    {
     "name": "stdout",
     "output_type": "stream",
     "text": [
      "Epochs 499 Loss 0.3662\r"
     ]
    }
   ],
   "source": [
    "my_mlp = MLP(X.shape[1], [10, 5], np.unique(Y).size)\n",
    "\n",
    "loss_list = train(X, Y, my_mlp, 500, learning_rate=0.00005)"
   ]
  },
  {
   "cell_type": "code",
   "execution_count": 115,
   "metadata": {},
   "outputs": [
    {
     "data": {
      "image/png": "[encoded data removed]",
      "text/plain": [
       "<Figure size 432x288 with 1 Axes>"
      ]
     },
     "metadata": {
      "needs_background": "light"
     },
     "output_type": "display_data"
    }
   ],
   "source": [
    "plt.plot(loss_list)\n",
    "plt.show()"
   ]
  },
  {
   "cell_type": "code",
   "execution_count": 116,
   "metadata": {},
   "outputs": [],
   "source": [
    "a, b, Y_ = my_mlp.activations"
   ]
  },
  {
   "cell_type": "code",
   "execution_count": 122,
   "metadata": {},
   "outputs": [
    {
     "ename": "AxisError",
     "evalue": "axis 1 is out of bounds for array of dimension 1",
     "output_type": "error",
     "traceback": [
      "\u001b[1;31m---------------------------------------------------------------------------\u001b[0m",
      "\u001b[1;31mAxisError\u001b[0m                                 Traceback (most recent call last)",
      "\u001b[1;32m<ipython-input-122-8113e6f32f77>\u001b[0m in \u001b[0;36m<module>\u001b[1;34m\u001b[0m\n\u001b[0;32m      1\u001b[0m \u001b[1;31m# train_acc = my_mlp.accuracy(X, Y)\u001b[0m\u001b[1;33m\u001b[0m\u001b[1;33m\u001b[0m\u001b[1;33m\u001b[0m\u001b[0m\n\u001b[1;32m----> 2\u001b[1;33m \u001b[0mtest_acc\u001b[0m \u001b[1;33m=\u001b[0m \u001b[0mmy_mlp\u001b[0m\u001b[1;33m.\u001b[0m\u001b[0maccuracy\u001b[0m\u001b[1;33m(\u001b[0m\u001b[0mXt\u001b[0m\u001b[1;33m,\u001b[0m \u001b[0mYt\u001b[0m\u001b[1;33m)\u001b[0m\u001b[1;33m\u001b[0m\u001b[1;33m\u001b[0m\u001b[0m\n\u001b[0m",
      "\u001b[1;32m<ipython-input-112-787b0579afeb>\u001b[0m in \u001b[0;36maccuracy\u001b[1;34m(self, X, Y)\u001b[0m\n\u001b[0;32m     69\u001b[0m \u001b[1;33m\u001b[0m\u001b[0m\n\u001b[0;32m     70\u001b[0m     \u001b[1;32mdef\u001b[0m \u001b[0maccuracy\u001b[0m\u001b[1;33m(\u001b[0m\u001b[0mself\u001b[0m\u001b[1;33m,\u001b[0m \u001b[0mX\u001b[0m\u001b[1;33m,\u001b[0m \u001b[0mY\u001b[0m\u001b[1;33m)\u001b[0m\u001b[1;33m:\u001b[0m\u001b[1;33m\u001b[0m\u001b[1;33m\u001b[0m\u001b[0m\n\u001b[1;32m---> 71\u001b[1;33m         \u001b[0mY_\u001b[0m \u001b[1;33m=\u001b[0m \u001b[0mself\u001b[0m\u001b[1;33m.\u001b[0m\u001b[0mpredict\u001b[0m\u001b[1;33m(\u001b[0m\u001b[0mX\u001b[0m\u001b[1;33m)\u001b[0m\u001b[1;33m\u001b[0m\u001b[1;33m\u001b[0m\u001b[0m\n\u001b[0m\u001b[0;32m     72\u001b[0m         \u001b[0mprint\u001b[0m\u001b[1;33m(\u001b[0m\u001b[0mY_\u001b[0m\u001b[1;33m.\u001b[0m\u001b[0mshape\u001b[0m\u001b[1;33m)\u001b[0m\u001b[1;33m\u001b[0m\u001b[1;33m\u001b[0m\u001b[0m\n\u001b[0;32m     73\u001b[0m         \u001b[1;31m# A, B, Y_ = self.activations\u001b[0m\u001b[1;33m\u001b[0m\u001b[1;33m\u001b[0m\u001b[1;33m\u001b[0m\u001b[0m\n",
      "\u001b[1;32m<ipython-input-112-787b0579afeb>\u001b[0m in \u001b[0;36mpredict\u001b[1;34m(self, X)\u001b[0m\n\u001b[0;32m     66\u001b[0m     \u001b[1;32mdef\u001b[0m \u001b[0mpredict\u001b[0m\u001b[1;33m(\u001b[0m\u001b[0mself\u001b[0m\u001b[1;33m,\u001b[0m \u001b[0mX\u001b[0m\u001b[1;33m)\u001b[0m\u001b[1;33m:\u001b[0m\u001b[1;33m\u001b[0m\u001b[1;33m\u001b[0m\u001b[0m\n\u001b[0;32m     67\u001b[0m         \u001b[0mpred_out\u001b[0m \u001b[1;33m=\u001b[0m \u001b[0mself\u001b[0m\u001b[1;33m.\u001b[0m\u001b[0mfeedForward\u001b[0m\u001b[1;33m(\u001b[0m\u001b[0mX\u001b[0m\u001b[1;33m)\u001b[0m\u001b[1;33m\u001b[0m\u001b[1;33m\u001b[0m\u001b[0m\n\u001b[1;32m---> 68\u001b[1;33m         \u001b[1;32mreturn\u001b[0m \u001b[0mnp\u001b[0m\u001b[1;33m.\u001b[0m\u001b[0margmax\u001b[0m\u001b[1;33m(\u001b[0m\u001b[0mpred_out\u001b[0m\u001b[1;33m,\u001b[0m \u001b[0maxis\u001b[0m\u001b[1;33m=\u001b[0m\u001b[1;36m1\u001b[0m\u001b[1;33m)\u001b[0m\u001b[1;33m\u001b[0m\u001b[1;33m\u001b[0m\u001b[0m\n\u001b[0m\u001b[0;32m     69\u001b[0m \u001b[1;33m\u001b[0m\u001b[0m\n\u001b[0;32m     70\u001b[0m     \u001b[1;32mdef\u001b[0m \u001b[0maccuracy\u001b[0m\u001b[1;33m(\u001b[0m\u001b[0mself\u001b[0m\u001b[1;33m,\u001b[0m \u001b[0mX\u001b[0m\u001b[1;33m,\u001b[0m \u001b[0mY\u001b[0m\u001b[1;33m)\u001b[0m\u001b[1;33m:\u001b[0m\u001b[1;33m\u001b[0m\u001b[1;33m\u001b[0m\u001b[0m\n",
      "\u001b[1;32m<__array_function__ internals>\u001b[0m in \u001b[0;36margmax\u001b[1;34m(*args, **kwargs)\u001b[0m\n",
      "\u001b[1;32mZ:\\Google\\Anaconda\\lib\\site-packages\\numpy\\core\\fromnumeric.py\u001b[0m in \u001b[0;36margmax\u001b[1;34m(a, axis, out)\u001b[0m\n\u001b[0;32m   1186\u001b[0m \u001b[1;33m\u001b[0m\u001b[0m\n\u001b[0;32m   1187\u001b[0m     \"\"\"\n\u001b[1;32m-> 1188\u001b[1;33m     \u001b[1;32mreturn\u001b[0m \u001b[0m_wrapfunc\u001b[0m\u001b[1;33m(\u001b[0m\u001b[0ma\u001b[0m\u001b[1;33m,\u001b[0m \u001b[1;34m'argmax'\u001b[0m\u001b[1;33m,\u001b[0m \u001b[0maxis\u001b[0m\u001b[1;33m=\u001b[0m\u001b[0maxis\u001b[0m\u001b[1;33m,\u001b[0m \u001b[0mout\u001b[0m\u001b[1;33m=\u001b[0m\u001b[0mout\u001b[0m\u001b[1;33m)\u001b[0m\u001b[1;33m\u001b[0m\u001b[1;33m\u001b[0m\u001b[0m\n\u001b[0m\u001b[0;32m   1189\u001b[0m \u001b[1;33m\u001b[0m\u001b[0m\n\u001b[0;32m   1190\u001b[0m \u001b[1;33m\u001b[0m\u001b[0m\n",
      "\u001b[1;32mZ:\\Google\\Anaconda\\lib\\site-packages\\numpy\\core\\fromnumeric.py\u001b[0m in \u001b[0;36m_wrapfunc\u001b[1;34m(obj, method, *args, **kwds)\u001b[0m\n\u001b[0;32m     53\u001b[0m     \u001b[0mbound\u001b[0m \u001b[1;33m=\u001b[0m \u001b[0mgetattr\u001b[0m\u001b[1;33m(\u001b[0m\u001b[0mobj\u001b[0m\u001b[1;33m,\u001b[0m \u001b[0mmethod\u001b[0m\u001b[1;33m,\u001b[0m \u001b[1;32mNone\u001b[0m\u001b[1;33m)\u001b[0m\u001b[1;33m\u001b[0m\u001b[1;33m\u001b[0m\u001b[0m\n\u001b[0;32m     54\u001b[0m     \u001b[1;32mif\u001b[0m \u001b[0mbound\u001b[0m \u001b[1;32mis\u001b[0m \u001b[1;32mNone\u001b[0m\u001b[1;33m:\u001b[0m\u001b[1;33m\u001b[0m\u001b[1;33m\u001b[0m\u001b[0m\n\u001b[1;32m---> 55\u001b[1;33m         \u001b[1;32mreturn\u001b[0m \u001b[0m_wrapit\u001b[0m\u001b[1;33m(\u001b[0m\u001b[0mobj\u001b[0m\u001b[1;33m,\u001b[0m \u001b[0mmethod\u001b[0m\u001b[1;33m,\u001b[0m \u001b[1;33m*\u001b[0m\u001b[0margs\u001b[0m\u001b[1;33m,\u001b[0m \u001b[1;33m**\u001b[0m\u001b[0mkwds\u001b[0m\u001b[1;33m)\u001b[0m\u001b[1;33m\u001b[0m\u001b[1;33m\u001b[0m\u001b[0m\n\u001b[0m\u001b[0;32m     56\u001b[0m \u001b[1;33m\u001b[0m\u001b[0m\n\u001b[0;32m     57\u001b[0m     \u001b[1;32mtry\u001b[0m\u001b[1;33m:\u001b[0m\u001b[1;33m\u001b[0m\u001b[1;33m\u001b[0m\u001b[0m\n",
      "\u001b[1;32mZ:\\Google\\Anaconda\\lib\\site-packages\\numpy\\core\\fromnumeric.py\u001b[0m in \u001b[0;36m_wrapit\u001b[1;34m(obj, method, *args, **kwds)\u001b[0m\n\u001b[0;32m     42\u001b[0m     \u001b[1;32mexcept\u001b[0m \u001b[0mAttributeError\u001b[0m\u001b[1;33m:\u001b[0m\u001b[1;33m\u001b[0m\u001b[1;33m\u001b[0m\u001b[0m\n\u001b[0;32m     43\u001b[0m         \u001b[0mwrap\u001b[0m \u001b[1;33m=\u001b[0m \u001b[1;32mNone\u001b[0m\u001b[1;33m\u001b[0m\u001b[1;33m\u001b[0m\u001b[0m\n\u001b[1;32m---> 44\u001b[1;33m     \u001b[0mresult\u001b[0m \u001b[1;33m=\u001b[0m \u001b[0mgetattr\u001b[0m\u001b[1;33m(\u001b[0m\u001b[0masarray\u001b[0m\u001b[1;33m(\u001b[0m\u001b[0mobj\u001b[0m\u001b[1;33m)\u001b[0m\u001b[1;33m,\u001b[0m \u001b[0mmethod\u001b[0m\u001b[1;33m)\u001b[0m\u001b[1;33m(\u001b[0m\u001b[1;33m*\u001b[0m\u001b[0margs\u001b[0m\u001b[1;33m,\u001b[0m \u001b[1;33m**\u001b[0m\u001b[0mkwds\u001b[0m\u001b[1;33m)\u001b[0m\u001b[1;33m\u001b[0m\u001b[1;33m\u001b[0m\u001b[0m\n\u001b[0m\u001b[0;32m     45\u001b[0m     \u001b[1;32mif\u001b[0m \u001b[0mwrap\u001b[0m\u001b[1;33m:\u001b[0m\u001b[1;33m\u001b[0m\u001b[1;33m\u001b[0m\u001b[0m\n\u001b[0;32m     46\u001b[0m         \u001b[1;32mif\u001b[0m \u001b[1;32mnot\u001b[0m \u001b[0misinstance\u001b[0m\u001b[1;33m(\u001b[0m\u001b[0mresult\u001b[0m\u001b[1;33m,\u001b[0m \u001b[0mmu\u001b[0m\u001b[1;33m.\u001b[0m\u001b[0mndarray\u001b[0m\u001b[1;33m)\u001b[0m\u001b[1;33m:\u001b[0m\u001b[1;33m\u001b[0m\u001b[1;33m\u001b[0m\u001b[0m\n",
      "\u001b[1;31mAxisError\u001b[0m: axis 1 is out of bounds for array of dimension 1"
     ]
    }
   ],
   "source": [
    "from sklearn.metrics import classi"
   ]
  },
  {
   "cell_type": "code",
   "execution_count": null,
   "metadata": {},
   "outputs": [],
   "source": []
  }
 ],
 "metadata": {
  "kernelspec": {
   "display_name": "Python 3",
   "language": "python",
   "name": "python3"
  },
  "language_info": {
   "codemirror_mode": {
    "name": "ipython",
    "version": 3
   },
   "file_extension": ".py",
   "mimetype": "text/x-python",
   "name": "python",
   "nbconvert_exporter": "python",
   "pygments_lexer": "ipython3",
   "version": "3.8.5"
  }
 },
 "nbformat": 4,
 "nbformat_minor": 4
}
