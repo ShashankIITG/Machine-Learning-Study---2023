{
 "cells": [
  {
   "cell_type": "markdown",
   "metadata": {},
   "source": [
    "### Multi-Layer Perceptron (MLP) is also known as feed forward net / deep forward net"
   ]
  },
  {
   "cell_type": "code",
   "execution_count": null,
   "metadata": {},
   "outputs": [],
   "source": [
    "# model parameters\n",
    "input_size = 2 # no of features \n",
    "hidden_layers = [4, 3] # no of neurons in 1st and 2nd layer\n",
    "output_size = 2"
   ]
  },
  {
   "cell_type": "code",
   "execution_count": 1,
   "metadata": {},
   "outputs": [],
   "source": [
    "import numpy as np"
   ]
  },
  {
   "cell_type": "code",
   "execution_count": null,
   "metadata": {},
   "outputs": [],
   "source": [
    "a = np.array([[2, 1, 3], [4, 5, 7]])\n",
    "def softmax(Y):\n",
    "    e_pa = np.exp(Y)\n",
    "    probs = e_pa/np.sum(e_pa, axis=1, keepdims=True)\n",
    "        \n",
    "    return probs\n",
    "    \n",
    "softmax(a)"
   ]
  },
  {
   "cell_type": "code",
   "execution_count": 2,
   "metadata": {},
   "outputs": [],
   "source": [
    "def sigmoid(Z):\n",
    "    return 1/(1 + np.exp(Z))\n",
    "\n",
    "def softmax(Y):\n",
    "    e_pa = np.exp(Y)\n",
    "    probs = e_pa/np.sum(e_pa, axis=1, keepdims=True)\n",
    "\n",
    "    return probs\n",
    "\n",
    "def cost(pred_outputs, outputs_oht):\n",
    "    # outputs_oht is one hot vectors of outputs\n",
    "    c = -np.mean(outputs_oht*np.log(pred_outputs))\n",
    "    return c\n",
    "\n",
    "def one_hot(outputs, depth):\n",
    "    m = outputs.shape[0]\n",
    "    outputs_oht = np.zeros((m, depth))\n",
    "    outputs_oht[np.arange(m), outputs] = 1\n",
    "    \n",
    "    return outputs_oht"
   ]
  },
  {
   "cell_type": "code",
   "execution_count": 3,
   "metadata": {},
   "outputs": [],
   "source": [
    "# Neural Network Architecture\n",
    "\n",
    "class MLP:\n",
    "    def __init__(self, input_size, hidden_layers, output_size):\n",
    "        np.random.seed(0)\n",
    "        \n",
    "        # creating dictonary to access parameter later on\n",
    "        model = {}\n",
    "        \n",
    "        # weights and bias for neurons in first layer\n",
    "        model['W1'] = np.random.rand(input_size, hidden_layers[0])\n",
    "        model['b1'] = np.zeros((1, hidden_layers[0]))\n",
    "        \n",
    "        # weights for neurons in second layer\n",
    "        model['W2'] = np.random.rand(hidden_layers[0], hidden_layers[1])\n",
    "        model['b2'] = np.zeros((1, hidden_layers[1]))\n",
    "        \n",
    "        # weights for neurons in third layer (output layer)\n",
    "        model['W3'] = np.random.rand(hidden_layers[1], output_size)\n",
    "        model['b3'] = np.zeros((1, output_size))\n",
    "        \n",
    "        self.model = model\n",
    "        \n",
    "    def forwardPropogation(self, inputs):\n",
    "        # forward propogation is the step of passing and feeding the input data through the neural network for output\n",
    "        model = self.model\n",
    "        \n",
    "        # calculate activation of first layer\n",
    "        z1 = np.dot(inputs, model['W1']) + model['b1']\n",
    "        a1 = np.tanh(z1)\n",
    "        \n",
    "        # calculate activation of second layer\n",
    "        z2 = np.dot(a1, model['W2']) + model['b2']\n",
    "        a2 = np.tanh(z2)\n",
    "        \n",
    "        # calculate softmax (output) for third/output layer\n",
    "        z3 = np.dot(a2, model['W3']) + model['b3']\n",
    "        pred_outputs = softmax(z3)\n",
    "        \n",
    "        self.activations = (a1, a2, pred_outputs)\n",
    "        return pred_outputs\n",
    "        \n",
    "    def backPropogation(self, inputs, outputs, learning_rate = 0.001):\n",
    "        # backward propogation is a step of updating the Weight and bias using gradient descent\n",
    "        \n",
    "        W1, W2, W3 = self.model['W1'], self.model['W2'], self.model['W3']\n",
    "        b1, b2, b3 = self.model['b1'], self.model['b2'], self.model['b3']\n",
    "        \n",
    "        m = inputs.shape[0]\n",
    "        a1, a2, pred_outputs = self.activations\n",
    "        \n",
    "        delta3 = pred_outputs - outputs\n",
    "        dW3 = np.dot(a2.T, delta3)\n",
    "        dB3 = np.sum(delta3, axis=0)/m\n",
    "        \n",
    "        delta2 = (1-np.square(a2)) * np.dot(delta3, W3.T)\n",
    "        dW2 = np.dot(a1.T, delta2)\n",
    "        dB2 = np.sum(delta2, axis=0)/m\n",
    "        \n",
    "        delta1 = (1-np.square(a1)) * np.dot(delta2, W2.T)\n",
    "        dW1 = np.dot(inputs.T, delta1)\n",
    "        dB1 = np.sum(delta1, axis=0)/m\n",
    "        \n",
    "        self.model['W3'] -= learning_rate*dW3\n",
    "        self.model['b3'] -= learning_rate*dB3\n",
    "        \n",
    "        self.model['W2'] -= learning_rate*dW2\n",
    "        self.model['b2'] -= learning_rate*dB2\n",
    "        \n",
    "        self.model['W1'] -= learning_rate*dW1\n",
    "        self.model['b1'] -= learning_rate*dB1\n",
    "        \n",
    "    def predict(self, inputs):\n",
    "        pred_out = self.forwardPropogation(inputs)\n",
    "        return np.argmax(pred_out, axis=1)\n",
    "    \n",
    "    def summary(self):\n",
    "        W1, W2, W3 = self.model['W1'], self.model['W2'], self.model['W3']\n",
    "        b1, b2, b3 = self.model['b1'], self.model['b2'], self.model['b3']\n",
    "        \n",
    "        a1, a2, a3 = self.activations\n",
    "        \n",
    "        print(\"W1\", W1.shape)\n",
    "        print(\"a1\", a1.shape)\n",
    "        \n",
    "        print(\"W2\", W2.shape)\n",
    "        print(\"a2\", a2.shape)\n",
    "        \n",
    "        print(\"W3\", W3.shape)\n",
    "        print(\"pred_outputs\", pred_outputs.shape)"
   ]
  },
  {
   "cell_type": "code",
   "execution_count": 4,
   "metadata": {},
   "outputs": [],
   "source": [
    " a = np.array([[10, 10], [20, 20]])"
   ]
  },
  {
   "cell_type": "code",
   "execution_count": 5,
   "metadata": {},
   "outputs": [],
   "source": [
    "# generate dataset\n",
    "\n",
    "from sklearn.datasets import make_circles\n",
    "import matplotlib.pyplot as plt"
   ]
  },
  {
   "cell_type": "code",
   "execution_count": 6,
   "metadata": {},
   "outputs": [],
   "source": [
    "inputs, outputs = make_circles(n_samples=500, shuffle=True, noise=0.05, random_state=1, factor=0.8)"
   ]
  },
  {
   "cell_type": "code",
   "execution_count": 7,
   "metadata": {},
   "outputs": [
    {
     "data": {
      "image/png": "[encoded data removed]",
      "text/plain": [
       "<Figure size 432x288 with 1 Axes>"
      ]
     },
     "metadata": {
      "needs_background": "light"
     },
     "output_type": "display_data"
    }
   ],
   "source": [
    "plt.scatter(inputs[:,0], inputs[:,1], c=outputs, cmap=plt.cm.Accent)\n",
    "plt.show()"
   ]
  },
  {
   "cell_type": "code",
   "execution_count": 8,
   "metadata": {},
   "outputs": [],
   "source": [
    "# training our model\n",
    "\n",
    "def train(X, Y, model, epochs, learning_rate=0.001, logs=True):\n",
    "    training_loss = []\n",
    "    \n",
    "    classes = 2\n",
    "    Y_oht = one_hot(Y, classes)\n",
    "    \n",
    "    for i in range(epochs):\n",
    "        Y_ = model.forwardPropogation(X)\n",
    "        loss = cost(Y_, Y_oht)\n",
    "        training_loss.append(loss)\n",
    "        \n",
    "        model.backPropogation(X, Y_oht, learning_rate)\n",
    "        \n",
    "        \n",
    "        if(logs):\n",
    "            print(\"Epochs %d Loss %.4f\"%(i, loss), end=\"\\r\")\n",
    "            \n",
    "    return training_loss"
   ]
  },
  {
   "cell_type": "code",
   "execution_count": 9,
   "metadata": {},
   "outputs": [
    {
     "name": "stdout",
     "output_type": "stream",
     "text": [
      "Epochs 499 Loss 0.3465\r"
     ]
    }
   ],
   "source": [
    "mlp = MLP(input_size=2, hidden_layers=[10, 5], output_size=2)\n",
    "\n",
    "losses = train(inputs, outputs, mlp, 500, 0.001)"
   ]
  },
  {
   "cell_type": "code",
   "execution_count": null,
   "metadata": {},
   "outputs": [],
   "source": [
    "plt.plot(losses)\n",
    "plt.show()"
   ]
  },
  {
   "cell_type": "code",
   "execution_count": null,
   "metadata": {},
   "outputs": [],
   "source": [
    "# cross-validation\n",
    "\n",
    "def acc(Y, Y_):\n",
    "    return 100*(np.sum(Y==Y_)/Y.shape[0])"
   ]
  },
  {
   "cell_type": "code",
   "execution_count": null,
   "metadata": {},
   "outputs": [],
   "source": [
    "pred_outputs = mlp.predict(inputs)"
   ]
  },
  {
   "cell_type": "code",
   "execution_count": null,
   "metadata": {},
   "outputs": [],
   "source": [
    "acc(outputs, pred_outputs)"
   ]
  },
  {
   "cell_type": "markdown",
   "metadata": {},
   "source": [
    "# testing XoR dataset"
   ]
  },
  {
   "cell_type": "code",
   "execution_count": null,
   "metadata": {},
   "outputs": [],
   "source": [
    "my_mlp = MLP(input_size=2, hidden_layers=[10, 5], output_size=2)"
   ]
  },
  {
   "cell_type": "code",
   "execution_count": null,
   "metadata": {},
   "outputs": [],
   "source": [
    "X = np.array([[0, 0],\n",
    "             [0, 1],\n",
    "             [1, 0],\n",
    "             [1, 1]])\n",
    "\n",
    "Y = np.array([[0, 1, 1, 0]])"
   ]
  },
  {
   "cell_type": "code",
   "execution_count": null,
   "metadata": {},
   "outputs": [],
   "source": [
    "losses = train(X, Y, my_mlp, 500, 0.001)"
   ]
  },
  {
   "cell_type": "code",
   "execution_count": null,
   "metadata": {},
   "outputs": [],
   "source": [
    "import matplotlib.pyplot as plt"
   ]
  },
  {
   "cell_type": "code",
   "execution_count": null,
   "metadata": {},
   "outputs": [],
   "source": [
    "plt.plot(losses)\n",
    "plt.show()"
   ]
  },
  {
   "cell_type": "markdown",
   "metadata": {},
   "source": [
    "## testing performance across dataset"
   ]
  },
  {
   "cell_type": "code",
   "execution_count": 1,
   "metadata": {},
   "outputs": [
    {
     "name": "stderr",
     "output_type": "stream",
     "text": [
      "<frozen importlib._bootstrap>:219: RuntimeWarning: numpy.ufunc size changed, may indicate binary incompatibility. Expected 192 from C header, got 216 from PyObject\n"
     ]
    }
   ],
   "source": [
    "import sklearn.datasets"
   ]
  },
  {
   "cell_type": "code",
   "execution_count": null,
   "metadata": {},
   "outputs": [],
   "source": [
    "def load_dataset(dataset):\n",
    "    if dataset == \"moon\":\n",
    "        X, Y = make_moons()"
   ]
  }
 ],
 "metadata": {
  "kernelspec": {
   "display_name": "Python 3",
   "language": "python",
   "name": "python3"
  },
  "language_info": {
   "codemirror_mode": {
    "name": "ipython",
    "version": 3
   },
   "file_extension": ".py",
   "mimetype": "text/x-python",
   "name": "python",
   "nbconvert_exporter": "python",
   "pygments_lexer": "ipython3",
   "version": "3.8.5"
  }
 },
 "nbformat": 4,
 "nbformat_minor": 4
}
