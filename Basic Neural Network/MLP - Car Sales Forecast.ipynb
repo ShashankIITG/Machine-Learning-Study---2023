{
 "cells": [
  {
   "cell_type": "markdown",
   "metadata": {},
   "source": [
    "https://www.kaggle.com/code/songulerdem/car-sales-forecast-with-multi-layer-perceptron/notebook#Build-the-Model"
   ]
  },
  {
   "cell_type": "code",
   "execution_count": 148,
   "metadata": {},
   "outputs": [],
   "source": [
    "import numpy as np\n",
    "import pandas as pd"
   ]
  },
  {
   "cell_type": "code",
   "execution_count": 149,
   "metadata": {},
   "outputs": [],
   "source": [
    "df_dataset = pd.read_csv(\"../Datasets/car sales.csv\")"
   ]
  },
  {
   "cell_type": "code",
   "execution_count": 150,
   "metadata": {},
   "outputs": [
    {
     "data": {
      "text/html": [
       "<div>\n",
       "<style scoped>\n",
       "    .dataframe tbody tr th:only-of-type {\n",
       "        vertical-align: middle;\n",
       "    }\n",
       "\n",
       "    .dataframe tbody tr th {\n",
       "        vertical-align: top;\n",
       "    }\n",
       "\n",
       "    .dataframe thead th {\n",
       "        text-align: right;\n",
       "    }\n",
       "</style>\n",
       "<table border=\"1\" class=\"dataframe\">\n",
       "  <thead>\n",
       "    <tr style=\"text-align: right;\">\n",
       "      <th></th>\n",
       "      <th>Month</th>\n",
       "      <th>Sales</th>\n",
       "    </tr>\n",
       "  </thead>\n",
       "  <tbody>\n",
       "    <tr>\n",
       "      <th>0</th>\n",
       "      <td>2016-01</td>\n",
       "      <td>266</td>\n",
       "    </tr>\n",
       "    <tr>\n",
       "      <th>1</th>\n",
       "      <td>2016-02</td>\n",
       "      <td>146</td>\n",
       "    </tr>\n",
       "    <tr>\n",
       "      <th>2</th>\n",
       "      <td>2016-03</td>\n",
       "      <td>183</td>\n",
       "    </tr>\n",
       "    <tr>\n",
       "      <th>3</th>\n",
       "      <td>2016-04</td>\n",
       "      <td>119</td>\n",
       "    </tr>\n",
       "    <tr>\n",
       "      <th>4</th>\n",
       "      <td>2016-05</td>\n",
       "      <td>180</td>\n",
       "    </tr>\n",
       "  </tbody>\n",
       "</table>\n",
       "</div>"
      ],
      "text/plain": [
       "     Month  Sales\n",
       "0  2016-01    266\n",
       "1  2016-02    146\n",
       "2  2016-03    183\n",
       "3  2016-04    119\n",
       "4  2016-05    180"
      ]
     },
     "execution_count": 150,
     "metadata": {},
     "output_type": "execute_result"
    }
   ],
   "source": [
    "df_dataset.head()"
   ]
  },
  {
   "cell_type": "code",
   "execution_count": 151,
   "metadata": {},
   "outputs": [
    {
     "data": {
      "text/plain": [
       "(36, 2)"
      ]
     },
     "execution_count": 151,
     "metadata": {},
     "output_type": "execute_result"
    }
   ],
   "source": [
    "df_dataset.shape"
   ]
  },
  {
   "cell_type": "code",
   "execution_count": 152,
   "metadata": {
    "scrolled": true
   },
   "outputs": [
    {
     "name": "stdout",
     "output_type": "stream",
     "text": [
      "<class 'pandas.core.frame.DataFrame'>\n",
      "RangeIndex: 36 entries, 0 to 35\n",
      "Data columns (total 2 columns):\n",
      " #   Column  Non-Null Count  Dtype \n",
      "---  ------  --------------  ----- \n",
      " 0   Month   36 non-null     object\n",
      " 1   Sales   36 non-null     int64 \n",
      "dtypes: int64(1), object(1)\n",
      "memory usage: 704.0+ bytes\n"
     ]
    }
   ],
   "source": [
    "df_dataset.info()"
   ]
  },
  {
   "cell_type": "code",
   "execution_count": 153,
   "metadata": {},
   "outputs": [],
   "source": [
    "import matplotlib.pyplot as plt"
   ]
  },
  {
   "cell_type": "code",
   "execution_count": 177,
   "metadata": {},
   "outputs": [
    {
     "data": {
      "text/plain": [
       "dtype('<M8[ns]')"
      ]
     },
     "execution_count": 177,
     "metadata": {},
     "output_type": "execute_result"
    }
   ],
   "source": [
    "df_dataset.Month.dtype"
   ]
  },
  {
   "cell_type": "code",
   "execution_count": 168,
   "metadata": {},
   "outputs": [],
   "source": [
    "# train test split\n",
    "df_train = df_dataset[:-6]\n",
    "df_test = df_dataset[-6:]"
   ]
  },
  {
   "cell_type": "code",
   "execution_count": 169,
   "metadata": {},
   "outputs": [],
   "source": [
    "df_dataset.Month = pd.to_datetime(df_dataset.Month, format=\"%Y-%m\")"
   ]
  },
  {
   "cell_type": "code",
   "execution_count": 176,
   "metadata": {},
   "outputs": [
    {
     "data": {
      "text/plain": [
       "dtype('<M8[ns]')"
      ]
     },
     "execution_count": 176,
     "metadata": {},
     "output_type": "execute_result"
    }
   ],
   "source": [
    "df_dataset.Month.dtype"
   ]
  },
  {
   "cell_type": "code",
   "execution_count": 188,
   "metadata": {
    "scrolled": true
   },
   "outputs": [
    {
     "data": {
      "image/png": "[encoded data removed]",
      "text/plain": [
       "<Figure size 720x360 with 1 Axes>"
      ]
     },
     "metadata": {
      "needs_background": "light"
     },
     "output_type": "display_data"
    }
   ],
   "source": [
    "plt.figure(figsize=(10, 5))\n",
    "plt.scatter(df_dataset.Month, df_dataset.Sales)\n",
    "plt.show()"
   ]
  },
  {
   "cell_type": "markdown",
   "metadata": {},
   "source": [
    "## sales forecast using linear regression using month and year data"
   ]
  },
  {
   "cell_type": "code",
   "execution_count": 189,
   "metadata": {},
   "outputs": [
    {
     "name": "stdout",
     "output_type": "stream",
     "text": [
      "<class 'pandas.core.frame.DataFrame'>\n",
      "RangeIndex: 30 entries, 0 to 29\n",
      "Data columns (total 2 columns):\n",
      " #   Column  Non-Null Count  Dtype \n",
      "---  ------  --------------  ----- \n",
      " 0   Month   30 non-null     object\n",
      " 1   Sales   30 non-null     int64 \n",
      "dtypes: int64(1), object(1)\n",
      "memory usage: 608.0+ bytes\n"
     ]
    }
   ],
   "source": [
    "df_train.info()"
   ]
  },
  {
   "cell_type": "code",
   "execution_count": 190,
   "metadata": {},
   "outputs": [],
   "source": [
    "# pandas data frame into numpy array\n",
    "train = df_train.values\n",
    "test = df_test.values"
   ]
  },
  {
   "cell_type": "code",
   "execution_count": 191,
   "metadata": {},
   "outputs": [],
   "source": [
    "# convert time data into integer for linear regression\n",
    "\n",
    "def time2int(npdata):\n",
    "    # split date time\n",
    "    datetime = np.char.split(npdata[:,0].astype(str), sep = '-')\n",
    "    datetime = np.vstack(datetime)\n",
    "    \n",
    "    # year = datetime[:, 0].astype(int)\n",
    "    # month = datetime[:, 1].astype(int)\n",
    "    datetime = datetime.astype(int)\n",
    "    \n",
    "    return datetime"
   ]
  },
  {
   "cell_type": "code",
   "execution_count": 192,
   "metadata": {},
   "outputs": [],
   "source": [
    "## train data \n",
    "X = time2int(train)\n",
    "X = np.array(X, dtype='int')\n",
    "\n",
    "Y = train[:, 1]\n",
    "Y = np.array(Y, dtype='int')\n",
    "Y = Y.reshape((-1,1))\n",
    "\n",
    "## test data\n",
    "Xt = time2int(test)\n",
    "Xt = np.array(Xt, dtype='int')\n",
    "\n",
    "Yt = test[:, 1]\n",
    "Yt = np.array(Yt, dtype='int')\n",
    "Yt = Yt.reshape((-1,1))"
   ]
  },
  {
   "cell_type": "code",
   "execution_count": 209,
   "metadata": {},
   "outputs": [],
   "source": [
    "# implement linear regression\n",
    "def hypothesis(X, W):\n",
    "    if X.shape[1] != W.shape[0]:\n",
    "        ones = np.ones((X.shape[0], 1))\n",
    "        X = np.hstack((ones, X))\n",
    "    Y_ = np.dot(X, W)\n",
    "    return Y_\n",
    "\n",
    "def cost(X, Y, W):\n",
    "    Y_ = hypothesis(X, W)\n",
    "    cost = np.mean((Y_ - Y)**2)\n",
    "    return cost\n",
    "    \n",
    "def gradient(X, Y, W):\n",
    "    Y_ = hypothesis(X, W)\n",
    "    dW = np.dot(X.T, (Y_ - Y))\n",
    "    return dW/X.shape[1]\n",
    "\n",
    "def gradientDescent(X, Y, lr = 0.01, epochs = 300):\n",
    "    ones = np.ones((X.shape[0], 1))\n",
    "    X = np.hstack((ones, X))\n",
    "    # print(X.shape)\n",
    "    \n",
    "    m = X.shape[0]\n",
    "    n = X.shape[1]\n",
    "    W = np.zeros((n, 1))\n",
    "    \n",
    "    loss = []\n",
    "    l = cost(X, Y, W)\n",
    "    loss.append(l)\n",
    "    \n",
    "    #print(hypothesis(X, W))\n",
    "    for i in range(epochs):\n",
    "        dW = gradient(X, Y, W)\n",
    "        #print(dW)\n",
    "        W = W - lr * dW\n",
    "        \n",
    "        #print(hypothesis(X, W))\n",
    "        loss.append(cost(X, Y, W))\n",
    "        # print(i, end=\"/r\")\n",
    "        \n",
    "    return W, loss"
   ]
  },
  {
   "cell_type": "code",
   "execution_count": 228,
   "metadata": {},
   "outputs": [],
   "source": [
    "def plot3D(X, Y, W):\n",
    "    scatter = go.Scatter3d(x=list(X[:,0]), y=list(X[:, 1]), z=list(Y[:,0]),\n",
    "                       mode='markers', marker=dict(size=4, color='red', opacity=0.8))\n",
    "\n",
    "    # Create a hyperplane\n",
    "    xx, yy = np.meshgrid(np.linspace(2000, 2020, 41), np.linspace(0,14, 14*6))\n",
    "    xy = np.hstack((xx, yy))\n",
    "    zz = W[0] + W[1]*xx + W[2]*yy\n",
    "    surface = go.Surface(z=zz, x=list(X[:,0]), y=list(X[:, 1]), colorscale='Viridis', showscale=False)\n",
    "\n",
    "    # Create a figure\n",
    "    fig = go.Figure(data=[scatter, surface])\n",
    "\n",
    "    # Update the layout\n",
    "    fig.update_layout(scene = dict(\n",
    "                    xaxis_title='X Label',\n",
    "                    yaxis_title='Y Label',\n",
    "                    zaxis_title='Z Label'))\n",
    "\n",
    "    # Show the plot\n",
    "    fig.show()"
   ]
  },
  {
   "cell_type": "code",
   "execution_count": 194,
   "metadata": {},
   "outputs": [],
   "source": [
    "W, loss = gradientDescent(X, Y, 0.0000000001, 1000)"
   ]
  },
  {
   "cell_type": "code",
   "execution_count": 203,
   "metadata": {},
   "outputs": [
    {
     "data": {
      "text/plain": [
       "[<matplotlib.lines.Line2D at 0x1fd2cd4e340>]"
      ]
     },
     "execution_count": 203,
     "metadata": {},
     "output_type": "execute_result"
    },
    {
     "data": {
      "image/png": "[encoded data removed]",
      "text/plain": [
       "<Figure size 432x288 with 1 Axes>"
      ]
     },
     "metadata": {
      "needs_background": "light"
     },
     "output_type": "display_data"
    }
   ],
   "source": [
    "plt.plot(loss, c=\"yellow\")"
   ]
  },
  {
   "cell_type": "code",
   "execution_count": 204,
   "metadata": {},
   "outputs": [],
   "source": [
    "import plotly.graph_objects as go"
   ]
  },
  {
   "cell_type": "code",
   "execution_count": 229,
   "metadata": {},
   "outputs": [
    {
     "data": {
      "application/vnd.plotly.v1+json": {
       "config": {
        "plotlyServerURL": "https://plot.ly"
       },
       "data": [
        {
         "marker": {
          "color": "red",
          "opacity": 0.8,
          "size": 4
         },
         "mode": "markers",
         "type": "scatter3d",
         "x": [
          2016,
          2016,
          2016,
          2016,
          2016,
          2016,
          2016,
          2016,
          2016,
          2016,
          2016,
          2016,
          2017,
          2017,
          2017,
          2017,
          2017,
          2017,
          2017,
          2017,
          2017,
          2017,
          2017,
          2017,
          2018,
          2018,
          2018,
          2018,
          2018,
          2018
         ],
         "y": [
          1,
          2,
          3,
          4,
          5,
          6,
          7,
          8,
          9,
          10,
          11,
          12,
          1,
          2,
          3,
          4,
          5,
          6,
          7,
          8,
          9,
          10,
          11,
          12,
          1,
          2,
          3,
          4,
          5,
          6
         ],
         "z": [
          266,
          146,
          183,
          119,
          180,
          169,
          232,
          225,
          193,
          123,
          337,
          186,
          194,
          150,
          210,
          273,
          191,
          287,
          226,
          304,
          290,
          422,
          265,
          342,
          340,
          440,
          316,
          439,
          401,
          390
         ]
        },
        {
         "colorscale": [
          [
           0,
           "#440154"
          ],
          [
           0.1111111111111111,
           "#482878"
          ],
          [
           0.2222222222222222,
           "#3e4989"
          ],
          [
           0.3333333333333333,
           "#31688e"
          ],
          [
           0.4444444444444444,
           "#26828e"
          ],
          [
           0.5555555555555556,
           "#1f9e89"
          ],
          [
           0.6666666666666666,
           "#35b779"
          ],
          [
           0.7777777777777778,
           "#6ece58"
          ],
          [
           0.8888888888888888,
           "#b5de2b"
          ],
          [
           1,
           "#fde725"
          ]
         ],
         "showscale": false,
         "type": "surface",
         "x": [
          2016,
          2016,
          2016,
          2016,
          2016,
          2016,
          2016,
          2016,
          2016,
          2016,
          2016,
          2016,
          2017,
          2017,
          2017,
          2017,
          2017,
          2017,
          2017,
          2017,
          2017,
          2017,
          2017,
          2017,
          2018,
          2018,
          2018,
          2018,
          2018,
          2018
         ],
         "y": [
          1,
          2,
          3,
          4,
          5,
          6,
          7,
          8,
          9,
          10,
          11,
          12,
          1,
          2,
          3,
          4,
          5,
          6,
          7,
          8,
          9,
          10,
          11,
          12,
          1,
          2,
          3,
          4,
          5,
          6
         ],
         "z": [
          [
           254.746289515873,
           254.80997607246928,
           254.8736626290656,
           254.93734918566187,
           255.00103574225815,
           255.06472229885446,
           255.12840885545074,
           255.19209541204705,
           255.25578196864333,
           255.3194685252396,
           255.38315508183592,
           255.4468416384322,
           255.5105281950285,
           255.5742147516248,
           255.63790130822107,
           255.70158786481738,
           255.76527442141366,
           255.82896097800995,
           255.89264753460625,
           255.95633409120254,
           256.0200206477988,
           256.0837072043951,
           256.1473937609914,
           256.2110803175877,
           256.27476687418397,
           256.33845343078025,
           256.40213998737653,
           256.46582654397287,
           256.52951310056915,
           256.5931996571654,
           256.6568862137617,
           256.720572770358,
           256.7842593269543,
           256.8479458835506,
           256.9116324401469,
           256.97531899674317,
           257.03900555333945,
           257.1026921099358,
           257.16637866653207,
           257.23006522312835,
           257.29375177972463
          ],
          [
           254.74635573786472,
           254.810042294461,
           254.8737288510573,
           254.9374154076536,
           255.00110196424987,
           255.06478852084618,
           255.12847507744246,
           255.19216163403877,
           255.25584819063505,
           255.31953474723133,
           255.38322130382764,
           255.44690786042392,
           255.51059441702023,
           255.5742809736165,
           255.6379675302128,
           255.7016540868091,
           255.76534064340538,
           255.82902720000166,
           255.89271375659797,
           255.95640031319425,
           256.0200868697905,
           256.0837734263868,
           256.1474599829831,
           256.2111465395794,
           256.27483309617566,
           256.33851965277194,
           256.4022062093682,
           256.46589276596455,
           256.52957932256083,
           256.5932658791571,
           256.6569524357534,
           256.7206389923497,
           256.784325548946,
           256.8480121055423,
           256.9116986621386,
           256.97538521873486,
           257.03907177533114,
           257.1027583319275,
           257.16644488852376,
           257.23013144512004,
           257.2938180017163
          ],
          [
           254.7464219598564,
           254.8101085164527,
           254.873795073049,
           254.93748162964528,
           255.00116818624156,
           255.06485474283787,
           255.12854129943415,
           255.19222785603046,
           255.25591441262674,
           255.31960096922302,
           255.38328752581933,
           255.4469740824156,
           255.51066063901192,
           255.5743471956082,
           255.63803375220448,
           255.7017203088008,
           255.76540686539707,
           255.82909342199335,
           255.89277997858966,
           255.95646653518594,
           256.0201530917822,
           256.08383964837856,
           256.14752620497484,
           256.2112127615711,
           256.2748993181674,
           256.3385858747637,
           256.40227243135996,
           256.4659589879563,
           256.5296455445526,
           256.59333210114886,
           256.65701865774514,
           256.7207052143414,
           256.78439177093776,
           256.84807832753404,
           256.9117648841303,
           256.9754514407266,
           257.0391379973229,
           257.1028245539192,
           257.1665111105155,
           257.2301976671118,
           257.29388422370806
          ],
          [
           254.74648818184812,
           254.8101747384444,
           254.8738612950407,
           254.937547851637,
           255.00123440823327,
           255.06492096482958,
           255.12860752142586,
           255.19229407802217,
           255.25598063461845,
           255.31966719121473,
           255.38335374781104,
           255.44704030440732,
           255.51072686100363,
           255.5744134175999,
           255.6380999741962,
           255.7017865307925,
           255.76547308738878,
           255.82915964398507,
           255.89284620058137,
           255.95653275717765,
           256.0202193137739,
           256.08390587037024,
           256.1475924269665,
           256.2112789835628,
           256.2749655401591,
           256.33865209675537,
           256.40233865335165,
           256.466025209948,
           256.52971176654427,
           256.59339832314055,
           256.65708487973683,
           256.7207714363331,
           256.78445799292945,
           256.8481445495257,
           256.911831106122,
           256.9755176627183,
           257.03920421931457,
           257.1028907759109,
           257.1665773325072,
           257.23026388910347,
           257.29395044569975
          ],
          [
           254.74655440383984,
           254.81024096043612,
           254.87392751703243,
           254.9376140736287,
           255.001300630225,
           255.0649871868213,
           255.12867374341758,
           255.1923603000139,
           255.25604685661017,
           255.31973341320645,
           255.38341996980276,
           255.44710652639904,
           255.51079308299535,
           255.57447963959163,
           255.6381661961879,
           255.70185275278422,
           255.7655393093805,
           255.82922586597678,
           255.8929124225731,
           255.95659897916937,
           256.0202855357656,
           256.08397209236193,
           256.1476586489582,
           256.2113452055545,
           256.2750317621508,
           256.33871831874706,
           256.40240487534334,
           256.4660914319397,
           256.52977798853595,
           256.59346454513224,
           256.6571511017285,
           256.7208376583248,
           256.78452421492113,
           256.8482107715174,
           256.9118973281137,
           256.97558388471,
           257.03927044130626,
           257.1029569979026,
           257.1666435544989,
           257.23033011109516,
           257.29401666769144
          ],
          [
           254.74662062583153,
           254.8103071824278,
           254.87399373902412,
           254.9376802956204,
           255.00136685221668,
           255.065053408813,
           255.12873996540927,
           255.19242652200558,
           255.25611307860186,
           255.31979963519814,
           255.38348619179445,
           255.44717274839073,
           255.51085930498704,
           255.57454586158332,
           255.6382324181796,
           255.7019189747759,
           255.7656055313722,
           255.82929208796847,
           255.89297864456478,
           255.95666520116106,
           256.02035175775734,
           256.0840383143537,
           256.14772487094996,
           256.21141142754624,
           256.2750979841425,
           256.3387845407388,
           256.4024710973351,
           256.4661576539314,
           256.5298442105277,
           256.593530767124,
           256.65721732372026,
           256.72090388031654,
           256.7845904369129,
           256.84827699350916,
           256.91196355010544,
           256.9756501067017,
           257.039336663298,
           257.10302321989434,
           257.1667097764906,
           257.2303963330869,
           257.2940828896832
          ],
          [
           254.74668684782324,
           254.81037340441952,
           254.87405996101583,
           254.9377465176121,
           255.0014330742084,
           255.0651196308047,
           255.12880618740098,
           255.1924927439973,
           255.25617930059357,
           255.31986585718985,
           255.38355241378616,
           255.44723897038244,
           255.51092552697875,
           255.57461208357503,
           255.6382986401713,
           255.70198519676762,
           255.7656717533639,
           255.82935830996018,
           255.8930448665565,
           255.95673142315277,
           256.020417979749,
           256.08410453634536,
           256.14779109294165,
           256.2114776495379,
           256.2751642061342,
           256.3388507627305,
           256.40253731932677,
           256.4662238759231,
           256.5299104325194,
           256.59359698911567,
           256.65728354571195,
           256.72097010230823,
           256.78465665890457,
           256.84834321550085,
           256.9120297720971,
           256.9757163286934,
           257.0394028852897,
           257.103089441886,
           257.1667759984823,
           257.2304625550786,
           257.29414911167487
          ],
          [
           254.74675306981493,
           254.8104396264112,
           254.87412618300752,
           254.9378127396038,
           255.00149929620008,
           255.0651858527964,
           255.12887240939267,
           255.19255896598898,
           255.25624552258526,
           255.31993207918154,
           255.38361863577785,
           255.44730519237413,
           255.51099174897044,
           255.57467830556672,
           255.638364862163,
           255.7020514187593,
           255.7657379753556,
           255.82942453195187,
           255.89311108854818,
           255.95679764514446,
           256.0204842017407,
           256.08417075833705,
           256.14785731493333,
           256.2115438715296,
           256.2752304281259,
           256.3389169847222,
           256.40260354131846,
           256.4662900979148,
           256.5299766545111,
           256.59366321110735,
           256.65734976770364,
           256.7210363242999,
           256.78472288089625,
           256.84840943749253,
           256.9120959940888,
           256.9757825506851,
           257.0394691072814,
           257.1031556638777,
           257.166842220474,
           257.2305287770703,
           257.29421533366656
          ],
          [
           254.74681929180664,
           254.81050584840293,
           254.87419240499923,
           254.93787896159552,
           255.0015655181918,
           255.0652520747881,
           255.1289386313844,
           255.1926251879807,
           255.25631174457698,
           255.31999830117326,
           255.38368485776957,
           255.44737141436585,
           255.51105797096216,
           255.57474452755844,
           255.63843108415472,
           255.70211764075103,
           255.7658041973473,
           255.8294907539436,
           255.8931773105399,
           255.95686386713618,
           256.02055042373246,
           256.0842369803288,
           256.1479235369251,
           256.21161009352136,
           256.27529665011764,
           256.3389832067139,
           256.4026697633102,
           256.46635631990654,
           256.5300428765028,
           256.5937294330991,
           256.6574159896954,
           256.72110254629166,
           256.784789102888,
           256.8484756594843,
           256.91216221608056,
           256.97584877267684,
           257.0395353292731,
           257.10322188586946,
           257.16690844246574,
           257.230594999062,
           257.2942815556583
          ],
          [
           254.74688551379836,
           254.81057207039464,
           254.87425862699095,
           254.93794518358723,
           255.0016317401835,
           255.06531829677982,
           255.1290048533761,
           255.1926914099724,
           255.2563779665687,
           255.32006452316497,
           255.38375107976128,
           255.44743763635756,
           255.51112419295387,
           255.57481074955015,
           255.63849730614643,
           255.70218386274274,
           255.76587041933902,
           255.8295569759353,
           255.8932435325316,
           255.9569300891279,
           256.02061664572415,
           256.0843032023205,
           256.14798975891676,
           256.21167631551305,
           256.2753628721093,
           256.3390494287056,
           256.4027359853019,
           256.4664225418982,
           256.5301090984945,
           256.5937956550908,
           256.65748221168707,
           256.72116876828335,
           256.7848553248797,
           256.84854188147597,
           256.91222843807225,
           256.9759149946685,
           257.0396015512648,
           257.10328810786115,
           257.1669746644574,
           257.2306612210537,
           257.29434777765
          ],
          [
           254.74695173579005,
           254.81063829238633,
           254.87432484898264,
           254.93801140557892,
           255.0016979621752,
           255.0653845187715,
           255.1290710753678,
           255.1927576319641,
           255.25644418856038,
           255.32013074515666,
           255.38381730175297,
           255.44750385834925,
           255.51119041494556,
           255.57487697154184,
           255.63856352813812,
           255.70225008473443,
           255.7659366413307,
           255.829623197927,
           255.8933097545233,
           255.95699631111958,
           256.02068286771583,
           256.0843694243122,
           256.14805598090845,
           256.21174253750473,
           256.275429094101,
           256.3391156506973,
           256.4028022072936,
           256.4664887638899,
           256.5301753204862,
           256.5938618770825,
           256.65754843367876,
           256.72123499027504,
           256.7849215468714,
           256.84860810346765,
           256.91229466006394,
           256.9759812166602,
           257.0396677732565,
           257.10335432985283,
           257.1670408864491,
           257.2307274430454,
           257.2944139996417
          ],
          [
           254.74701795778176,
           254.81070451437805,
           254.87439107097435,
           254.93807762757064,
           255.00176418416692,
           255.06545074076323,
           255.1291372973595,
           255.19282385395582,
           255.2565104105521,
           255.32019696714838,
           255.3838835237447,
           255.44757008034097,
           255.51125663693728,
           255.57494319353356,
           255.63862975012984,
           255.70231630672615,
           255.76600286332243,
           255.8296894199187,
           255.89337597651502,
           255.9570625331113,
           256.0207490897075,
           256.08443564630386,
           256.14812220290014,
           256.2118087594964,
           256.2754953160927,
           256.339181872689,
           256.40286842928526,
           256.4665549858816,
           256.5302415424779,
           256.59392809907416,
           256.65761465567044,
           256.7213012122667,
           256.78498776886306,
           256.84867432545934,
           256.9123608820556,
           256.9760474386519,
           257.0397339952482,
           257.1034205518445,
           257.1671071084408,
           257.2307936650371,
           257.29448022163336
          ],
          [
           254.74708417977348,
           254.81077073636976,
           254.87445729296607,
           254.93814384956235,
           255.00183040615863,
           255.06551696275494,
           255.12920351935122,
           255.19289007594753,
           255.2565766325438,
           255.3202631891401,
           255.3839497457364,
           255.44763630233268,
           255.511322858929,
           255.57500941552527,
           255.63869597212155,
           255.70238252871786,
           255.76606908531414,
           255.82975564191042,
           255.89344219850673,
           255.957128755103,
           256.02081531169927,
           256.0845018682956,
           256.1481884248919,
           256.21187498148817,
           256.27556153808445,
           256.3392480946807,
           256.402934651277,
           256.46662120787335,
           256.5303077644696,
           256.5939943210659,
           256.6576808776622,
           256.72136743425847,
           256.7850539908548,
           256.8487405474511,
           256.91242710404737,
           256.97611366064365,
           257.03980021723993,
           257.10348677383627,
           257.16717333043255,
           257.2308598870288,
           257.2945464436251
          ],
          [
           254.74715040176517,
           254.81083695836145,
           254.87452351495776,
           254.93821007155404,
           255.00189662815032,
           255.06558318474663,
           255.1292697413429,
           255.19295629793922,
           255.2566428545355,
           255.32032941113178,
           255.3840159677281,
           255.44770252432437,
           255.51138908092068,
           255.57507563751696,
           255.63876219411324,
           255.70244875070955,
           255.76613530730583,
           255.8298218639021,
           255.89350842049842,
           255.9571949770947,
           256.02088153369095,
           256.0845680902873,
           256.1482546468836,
           256.21194120347985,
           256.27562776007613,
           256.3393143166724,
           256.4030008732687,
           256.46668742986503,
           256.5303739864613,
           256.5940605430576,
           256.6577470996539,
           256.72143365625016,
           256.7851202128465,
           256.8488067694428,
           256.91249332603905,
           256.97617988263534,
           257.0398664392316,
           257.10355299582795,
           257.16723955242423,
           257.2309261090205,
           257.2946126656168
          ],
          [
           254.74721662375688,
           254.81090318035316,
           254.87458973694947,
           254.93827629354575,
           255.00196285014204,
           255.06564940673834,
           255.12933596333463,
           255.19302251993093,
           255.25670907652722,
           255.3203956331235,
           255.3840821897198,
           255.4477687463161,
           255.5114553029124,
           255.57514185950868,
           255.63882841610496,
           255.70251497270127,
           255.76620152929755,
           255.82988808589383,
           255.89357464249014,
           255.95726119908642,
           256.02094775568264,
           256.084634312279,
           256.14832086887526,
           256.21200742547154,
           256.2756939820678,
           256.3393805386641,
           256.4030670952604,
           256.4667536518567,
           256.530440208453,
           256.5941267650493,
           256.65781332164556,
           256.72149987824184,
           256.7851864348382,
           256.84887299143446,
           256.91255954803074,
           256.976246104627,
           257.0399326612233,
           257.10361921781964,
           257.1673057744159,
           257.2309923310122,
           257.2946788876085
          ],
          [
           254.74728284574857,
           254.81096940234485,
           254.87465595894116,
           254.93834251553744,
           255.00202907213372,
           255.06571562873003,
           255.1294021853263,
           255.19308874192262,
           255.2567752985189,
           255.32046185511518,
           255.3841484117115,
           255.44783496830777,
           255.51152152490408,
           255.57520808150036,
           255.63889463809664,
           255.70258119469295,
           255.76626775128923,
           255.82995430788552,
           255.89364086448182,
           255.9573274210781,
           256.0210139776744,
           256.0847005342707,
           256.148387090867,
           256.2120736474633,
           256.27576020405957,
           256.33944676065585,
           256.4031333172521,
           256.46681987384846,
           256.53050643044475,
           256.594192987041,
           256.6578795436373,
           256.7215661002336,
           256.7852526568299,
           256.8489392134262,
           256.9126257700225,
           256.97631232661877,
           257.03999888321505,
           257.1036854398114,
           257.16737199640767,
           257.23105855300395,
           257.2947451096002
          ],
          [
           254.7473490677403,
           254.81103562433657,
           254.87472218093288,
           254.93840873752916,
           255.00209529412544,
           255.06578185072175,
           255.12946840731803,
           255.19315496391434,
           255.25684152051062,
           255.3205280771069,
           255.3842146337032,
           255.4479011902995,
           255.5115877468958,
           255.57527430349208,
           255.63896086008836,
           255.70264741668467,
           255.76633397328095,
           255.83002052987723,
           255.89370708647354,
           255.95739364306982,
           256.0210801996661,
           256.0847667562624,
           256.1484533128587,
           256.212139869455,
           256.27582642605125,
           256.33951298264753,
           256.4031995392438,
           256.46688609584015,
           256.53057265243643,
           256.5942592090327,
           256.657945765629,
           256.7216323222253,
           256.7853188788216,
           256.8490054354179,
           256.9126919920142,
           256.97637854861046,
           257.04006510520674,
           257.1037516618031,
           257.16743821839935,
           257.23112477499564,
           257.2948113315919
          ],
          [
           254.747415289732,
           254.81110184632828,
           254.8747884029246,
           254.93847495952087,
           255.00216151611716,
           255.06584807271346,
           255.12953462930975,
           255.19322118590605,
           255.25690774250234,
           255.32059429909862,
           255.38428085569493,
           255.4479674122912,
           255.51165396888752,
           255.5753405254838,
           255.63902708208008,
           255.70271363867639,
           255.76640019527267,
           255.83008675186895,
           255.89377330846526,
           255.95745986506154,
           256.02114642165776,
           256.0848329782541,
           256.1485195348504,
           256.21220609144666,
           256.27589264804294,
           256.3395792046392,
           256.4032657612355,
           256.46695231783184,
           256.5306388744281,
           256.5943254310244,
           256.6580119876207,
           256.72169854421696,
           256.7853851008133,
           256.8490716574096,
           256.91275821400586,
           256.97644477060214,
           257.0401313271984,
           257.10381788379476,
           257.16750444039104,
           257.2311909969873,
           257.2948775535836
          ],
          [
           254.7474815117237,
           254.81116806831997,
           254.87485462491628,
           254.93854118151256,
           255.00222773810884,
           255.06591429470515,
           255.12960085130143,
           255.19328740789774,
           255.25697396449402,
           255.3206605210903,
           255.3843470776866,
           255.4480336342829,
           255.5117201908792,
           255.57540674747548,
           255.63909330407176,
           255.70277986066807,
           255.76646641726435,
           255.83015297386063,
           255.89383953045694,
           255.95752608705322,
           256.0212126436495,
           256.08489920024584,
           256.1485857568421,
           256.2122723134384,
           256.2759588700347,
           256.33964542663097,
           256.40333198322725,
           256.4670185398236,
           256.53070509641987,
           256.59439165301615,
           256.6580782096124,
           256.7217647662087,
           256.78545132280505,
           256.8491378794013,
           256.9128244359976,
           256.9765109925939,
           257.04019754919017,
           257.1038841057865,
           257.1675706623828,
           257.23125721897907,
           257.29494377557535
          ],
          [
           254.7475477337154,
           254.8112342903117,
           254.874920846908,
           254.93860740350428,
           255.00229396010056,
           255.06598051669687,
           255.12966707329315,
           255.19335362988946,
           255.25704018648574,
           255.32072674308202,
           255.38441329967833,
           255.4480998562746,
           255.51178641287092,
           255.5754729694672,
           255.63915952606348,
           255.7028460826598,
           255.76653263925607,
           255.83021919585235,
           255.89390575244866,
           255.95759230904494,
           256.0212788656412,
           256.08496542223753,
           256.1486519788338,
           256.2123385354301,
           256.2760250920264,
           256.33971164862265,
           256.40339820521893,
           256.4670847618153,
           256.53077131841155,
           256.59445787500783,
           256.6581444316041,
           256.7218309882004,
           256.78551754479673,
           256.849204101393,
           256.9128906579893,
           256.9765772145856,
           257.04026377118186,
           257.1039503277782,
           257.1676368843745,
           257.23132344097075,
           257.29500999756704
          ],
          [
           254.74761395570712,
           254.8113005123034,
           254.8749870688997,
           254.938673625496,
           255.00236018209227,
           255.06604673868858,
           255.12973329528486,
           255.19341985188117,
           255.25710640847745,
           255.32079296507374,
           255.38447952167004,
           255.44816607826633,
           255.51185263486263,
           255.57553919145892,
           255.6392257480552,
           255.7029123046515,
           255.7665988612478,
           255.83028541784407,
           255.89397197444038,
           255.95765853103666,
           256.0213450876329,
           256.0850316442292,
           256.1487182008255,
           256.2124047574218,
           256.27609131401806,
           256.33977787061434,
           256.4034644272106,
           256.46715098380696,
           256.53083754040324,
           256.5945240969995,
           256.6582106535958,
           256.7218972101921,
           256.7855837667884,
           256.8492703233847,
           256.912956879981,
           256.97664343657726,
           257.04032999317354,
           257.1040165497699,
           257.16770310636616,
           257.23138966296244,
           257.2950762195587
          ],
          [
           254.7476801776988,
           254.8113667342951,
           254.8750532908914,
           254.93873984748768,
           255.00242640408396,
           255.06611296068027,
           255.12979951727655,
           255.19348607387286,
           255.25717263046914,
           255.32085918706542,
           255.38454574366173,
           255.448232300258,
           255.51191885685432,
           255.5756054134506,
           255.63929197004688,
           255.7029785266432,
           255.76666508323947,
           255.83035163983575,
           255.89403819643206,
           255.95772475302834,
           256.0214113096246,
           256.08509786622096,
           256.14878442281724,
           256.2124709794135,
           256.2761575360098,
           256.3398440926061,
           256.40353064920237,
           256.4672172057987,
           256.530903762395,
           256.59459031899127,
           256.65827687558755,
           256.7219634321838,
           256.78564998878016,
           256.84933654537645,
           256.9130231019727,
           256.976709658569,
           257.0403962151653,
           257.1040827717616,
           257.1677693283579,
           257.2314558849542,
           257.29514244155047
          ],
          [
           254.74774639969053,
           254.8114329562868,
           254.87511951288312,
           254.9388060694794,
           255.00249262607568,
           255.066179182672,
           255.12986573926827,
           255.19355229586458,
           255.25723885246086,
           255.32092540905714,
           255.38461196565345,
           255.44829852224973,
           255.51198507884604,
           255.57567163544232,
           255.6393581920386,
           255.7030447486349,
           255.7667313052312,
           255.83041786182747,
           255.89410441842378,
           255.95779097502006,
           256.0214775316163,
           256.08516408821265,
           256.14885064480893,
           256.2125372014052,
           256.2762237580015,
           256.3399103145978,
           256.40359687119405,
           256.4672834277904,
           256.5309699843867,
           256.59465654098295,
           256.65834309757923,
           256.7220296541755,
           256.78571621077185,
           256.84940276736813,
           256.9130893239644,
           256.9767758805607,
           257.040462437157,
           257.1041489937533,
           257.1678355503496,
           257.2315221069459,
           257.29520866354216
          ],
          [
           254.74781262168221,
           254.8114991782785,
           254.8751857348748,
           254.93887229147109,
           255.00255884806737,
           255.06624540466368,
           255.12993196125996,
           255.19361851785627,
           255.25730507445255,
           255.32099163104883,
           255.38467818764514,
           255.44836474424142,
           255.51205130083773,
           255.575737857434,
           255.6394244140303,
           255.7031109706266,
           255.76679752722288,
           255.83048408381916,
           255.89417064041547,
           255.95785719701175,
           256.021543753608,
           256.08523031020434,
           256.1489168668006,
           256.2126034233969,
           256.2762899799932,
           256.33997653658946,
           256.40366309318574,
           256.4673496497821,
           256.53103620637836,
           256.59472276297464,
           256.6584093195709,
           256.7220958761672,
           256.78578243276354,
           256.8494689893598,
           256.9131555459561,
           256.9768421025524,
           257.04052865914866,
           257.104215215745,
           257.1679017723413,
           257.23158832893756,
           257.29527488553384
          ],
          [
           254.74787884367393,
           254.8115654002702,
           254.87525195686652,
           254.9389385134628,
           255.00262507005908,
           255.0663116266554,
           255.12999818325167,
           255.19368473984798,
           255.25737129644426,
           255.32105785304054,
           255.38474440963685,
           255.44843096623313,
           255.51211752282944,
           255.57580407942572,
           255.639490636022,
           255.7031771926183,
           255.7668637492146,
           255.83055030581087,
           255.89423686240718,
           255.95792341900346,
           256.02160997559974,
           256.0852965321961,
           256.14898308879236,
           256.21266964538864,
           256.2763562019849,
           256.3400427585812,
           256.4037293151775,
           256.4674158717738,
           256.5311024283701,
           256.5947889849664,
           256.65847554156267,
           256.72216209815895,
           256.7858486547553,
           256.84953521135157,
           256.91322176794785,
           256.9769083245441,
           257.0405948811404,
           257.10428143773674,
           257.167967994333,
           257.2316545509293,
           257.2953411075256
          ],
          [
           254.74794506566565,
           254.81163162226193,
           254.87531817885824,
           254.93900473545452,
           255.0026912920508,
           255.0663778486471,
           255.1300644052434,
           255.1937509618397,
           255.25743751843598,
           255.32112407503226,
           255.38481063162857,
           255.44849718822485,
           255.51218374482116,
           255.57587030141744,
           255.63955685801372,
           255.70324341461003,
           255.7669299712063,
           255.8306165278026,
           255.8943030843989,
           255.95798964099518,
           256.02167619759143,
           256.08536275418777,
           256.14904931078405,
           256.21273586738033,
           256.2764224239766,
           256.3401089805729,
           256.4037955371692,
           256.4674820937655,
           256.5311686503618,
           256.5948552069581,
           256.65854176355435,
           256.72222832015063,
           256.785914876747,
           256.84960143334325,
           256.91328798993953,
           256.9769745465358,
           257.0406611031321,
           257.10434765972843,
           257.1680342163247,
           257.231720772921,
           257.2954073295173
          ],
          [
           254.74801128765733,
           254.81169784425362,
           254.87538440084992,
           254.9390709574462,
           255.0027575140425,
           255.0664440706388,
           255.13013062723508,
           255.19381718383138,
           255.25750374042767,
           255.32119029702395,
           255.38487685362026,
           255.44856341021654,
           255.51224996681285,
           255.57593652340913,
           255.6396230800054,
           255.70330963660172,
           255.766996193198,
           255.83068274979428,
           255.8943693063906,
           255.95805586298687,
           256.0217424195831,
           256.08542897617946,
           256.14911553277574,
           256.212802089372,
           256.2764886459683,
           256.3401752025646,
           256.40386175916086,
           256.4675483157572,
           256.5312348723535,
           256.59492142894976,
           256.65860798554604,
           256.7222945421423,
           256.78598109873866,
           256.84966765533494,
           256.9133542119312,
           256.9770407685275,
           257.0407273251238,
           257.1044138817201,
           257.1681004383164,
           257.2317869949127,
           257.29547355150896
          ],
          [
           254.74807750964905,
           254.81176406624533,
           254.87545062284164,
           254.93913717943792,
           255.0028237360342,
           255.0665102926305,
           255.1301968492268,
           255.1938834058231,
           255.25756996241938,
           255.32125651901566,
           255.38494307561197,
           255.44862963220825,
           255.51231618880456,
           255.57600274540084,
           255.63968930199712,
           255.70337585859343,
           255.7670624151897,
           255.830748971786,
           255.8944355283823,
           255.95812208497858,
           256.0218086415748,
           256.08549519817115,
           256.1491817547674,
           256.2128683113637,
           256.27655486796,
           256.34024142455627,
           256.40392798115255,
           256.4676145377489,
           256.53130109434517,
           256.59498765094145,
           256.65867420753773,
           256.722360764134,
           256.78604732073035,
           256.8497338773266,
           256.9134204339229,
           256.9771069905192,
           257.04079354711547,
           257.1044801037118,
           257.1681666603081,
           257.23185321690437,
           257.29553977350065
          ],
          [
           254.74814373164077,
           254.81183028823705,
           254.87551684483336,
           254.93920340142964,
           255.00288995802592,
           255.06657651462223,
           255.1302630712185,
           255.19394962781482,
           255.2576361844111,
           255.32132274100738,
           255.3850092976037,
           255.44869585419997,
           255.51238241079628,
           255.57606896739256,
           255.63975552398884,
           255.70344208058515,
           255.76712863718143,
           255.8308151937777,
           255.89450175037402,
           255.9581883069703,
           256.02187486356655,
           256.0855614201629,
           256.14924797675917,
           256.21293453335545,
           256.27662108995173,
           256.340307646548,
           256.4039942031443,
           256.46768075974063,
           256.5313673163369,
           256.5950538729332,
           256.6587404295295,
           256.72242698612575,
           256.7861135427221,
           256.8498000993184,
           256.91348665591465,
           256.97717321251093,
           257.0408597691072,
           257.10454632570355,
           257.16823288229983,
           257.2319194388961,
           257.2956059954924
          ],
          [
           254.74820995363245,
           254.81189651022873,
           254.87558306682504,
           254.93926962342132,
           255.0029561800176,
           255.06664273661391,
           255.1303292932102,
           255.1940158498065,
           255.25770240640279,
           255.32138896299907,
           255.38507551959538,
           255.44876207619166,
           255.51244863278797,
           255.57613518938425,
           255.63982174598053,
           255.70350830257684,
           255.76719485917312,
           255.8308814157694,
           255.8945679723657,
           255.958254528962,
           256.02194108555824,
           256.0856276421546,
           256.14931419875086,
           256.21300075534714,
           256.2766873119434,
           256.3403738685397,
           256.404060425136,
           256.4677469817323,
           256.5314335383286,
           256.5951200949249,
           256.65880665152116,
           256.72249320811744,
           256.7861797647138,
           256.84986632131006,
           256.91355287790634,
           256.9772394345026,
           257.0409259910989,
           257.10461254769524,
           257.1682991042915,
           257.2319856608878,
           257.2956722174841
          ],
          [
           254.74827617562417,
           254.81196273222045,
           254.87564928881676,
           254.93933584541304,
           255.00302240200932,
           255.06670895860563,
           255.1303955152019,
           255.19408207179822,
           255.2577686283945,
           255.32145518499078,
           255.3851417415871,
           255.44882829818337,
           255.51251485477968,
           255.57620141137596,
           255.63988796797224,
           255.70357452456855,
           255.76726108116483,
           255.8309476377611,
           255.89463419435742,
           255.9583207509537,
           256.0220073075499,
           256.08569386414626,
           256.14938042074255,
           256.2130669773388,
           256.2767535339351,
           256.3404400905314,
           256.40412664712767,
           256.467813203724,
           256.5314997603203,
           256.59518631691657,
           256.65887287351285,
           256.72255943010913,
           256.78624598670547,
           256.84993254330175,
           256.913619099898,
           256.9773056564943,
           257.0409922130906,
           257.1046787696869,
           257.1683653262832,
           257.2320518828795,
           257.29573843947577
          ],
          [
           254.7483423976159,
           254.81202895421217,
           254.87571551080848,
           254.93940206740476,
           255.00308862400104,
           255.06677518059735,
           255.13046173719363,
           255.19414829378994,
           255.25783485038622,
           255.3215214069825,
           255.3852079635788,
           255.4488945201751,
           255.5125810767714,
           255.57626763336768,
           255.63995418996396,
           255.70364074656027,
           255.76732730315655,
           255.83101385975283,
           255.89470041634914,
           255.95838697294542,
           256.0220735295417,
           256.085760086138,
           256.1494466427343,
           256.21313319933057,
           256.27681975592685,
           256.34050631252313,
           256.4041928691194,
           256.46787942571575,
           256.53156598231203,
           256.5952525389083,
           256.6589390955046,
           256.7226256521009,
           256.7863122086972,
           256.8499987652935,
           256.9136853218898,
           256.97737187848605,
           257.04105843508233,
           257.1047449916787,
           257.16843154827495,
           257.23211810487123,
           257.2958046614675
          ],
          [
           254.74840861960757,
           254.81209517620385,
           254.87578173280016,
           254.93946828939644,
           255.00315484599273,
           255.06684140258903,
           255.13052795918532,
           255.19421451578162,
           255.2579010723779,
           255.32158762897419,
           255.3852741855705,
           255.44896074216678,
           255.51264729876308,
           255.57633385535937,
           255.64002041195565,
           255.70370696855196,
           255.76739352514824,
           255.83108008174452,
           255.89476663834083,
           255.9584531949371,
           256.02213975153336,
           256.0858263081297,
           256.149512864726,
           256.21319942132226,
           256.27688597791854,
           256.3405725345148,
           256.4042590911111,
           256.46794564770744,
           256.5316322043037,
           256.5953187609,
           256.6590053174963,
           256.72269187409256,
           256.7863784306889,
           256.8500649872852,
           256.91375154388146,
           256.97743810047774,
           257.041124657074,
           257.10481121367036,
           257.16849777026664,
           257.2321843268629,
           257.2958708834592
          ],
          [
           254.7484748415993,
           254.81216139819557,
           254.87584795479188,
           254.93953451138816,
           255.00322106798444,
           255.06690762458075,
           255.13059418117703,
           255.19428073777334,
           255.25796729436962,
           255.3216538509659,
           255.3853404075622,
           255.4490269641585,
           255.5127135207548,
           255.57640007735108,
           255.64008663394736,
           255.70377319054367,
           255.76745974713995,
           255.83114630373623,
           255.89483286033254,
           255.95851941692882,
           256.02220597352505,
           256.0858925301214,
           256.14957908671767,
           256.21326564331395,
           256.2769521999102,
           256.3406387565065,
           256.4043253131028,
           256.4680118696991,
           256.5316984262954,
           256.5953849828917,
           256.65907153948797,
           256.72275809608425,
           256.7864446526806,
           256.85013120927687,
           256.91381776587315,
           256.97750432246943,
           257.0411908790657,
           257.10487743566205,
           257.1685639922583,
           257.2322505488546,
           257.2959371054509
          ],
          [
           254.74854106359098,
           254.81222762018726,
           254.87591417678357,
           254.93960073337985,
           255.00328728997613,
           255.06697384657244,
           255.13066040316872,
           255.19434695976503,
           255.2580335163613,
           255.3217200729576,
           255.3854066295539,
           255.44909318615018,
           255.5127797427465,
           255.57646629934277,
           255.64015285593905,
           255.70383941253536,
           255.76752596913164,
           255.83121252572792,
           255.89489908232423,
           255.9585856389205,
           256.0222721955168,
           256.08595875211313,
           256.1496453087094,
           256.2133318653057,
           256.27701842190197,
           256.34070497849825,
           256.40439153509453,
           256.46807809169087,
           256.53176464828715,
           256.59545120488343,
           256.6591377614797,
           256.722824318076,
           256.78651087467233,
           256.8501974312686,
           256.9138839878649,
           256.9775705444612,
           257.04125710105745,
           257.1049436576538,
           257.1686302142501,
           257.23231677084635,
           257.29600332744263
          ],
          [
           254.7486072855827,
           254.81229384217897,
           254.87598039877528,
           254.93966695537156,
           255.00335351196784,
           255.06704006856415,
           255.13072662516043,
           255.19441318175674,
           255.25809973835302,
           255.3217862949493,
           255.38547285154561,
           255.4491594081419,
           255.5128459647382,
           255.57653252133449,
           255.64021907793077,
           255.70390563452708,
           255.76759219112336,
           255.83127874771964,
           255.89496530431595,
           255.95865186091223,
           256.0223384175085,
           256.0860249741048,
           256.1497115307011,
           256.2133980872974,
           256.27708464389366,
           256.34077120048994,
           256.4044577570862,
           256.46814431368256,
           256.53183087027884,
           256.5955174268751,
           256.6592039834714,
           256.7228905400677,
           256.786577096664,
           256.8502636532603,
           256.9139502098566,
           256.97763676645286,
           257.04132332304914,
           257.1050098796455,
           257.16869643624176,
           257.23238299283804,
           257.2960695494343
          ],
          [
           254.7486735075744,
           254.8123600641707,
           254.876046620767,
           254.93973317736328,
           255.00341973395956,
           255.06710629055587,
           255.13079284715215,
           255.19447940374846,
           255.25816596034474,
           255.32185251694102,
           255.38553907353733,
           255.4492256301336,
           255.51291218672992,
           255.5765987433262,
           255.64028529992248,
           255.7039718565188,
           255.76765841311507,
           255.83134496971135,
           255.89503152630766,
           255.95871808290394,
           256.02240463950017,
           256.0860911960965,
           256.1497777526928,
           256.21346430928907,
           256.27715086588535,
           256.3408374224816,
           256.4045239790779,
           256.46821053567425,
           256.5318970922705,
           256.5955836488668,
           256.6592702054631,
           256.72295676205937,
           256.7866433186557,
           256.850329875252,
           256.91401643184827,
           256.97770298844455,
           257.04138954504083,
           257.10507610163717,
           257.16876265823345,
           257.2324492148297,
           257.296135771426
          ],
          [
           254.7487397295661,
           254.81242628616238,
           254.8761128427587,
           254.93979939935497,
           255.00348595595125,
           255.06717251254756,
           255.13085906914384,
           255.19454562574015,
           255.25823218233643,
           255.3219187389327,
           255.38560529552902,
           255.4492918521253,
           255.5129784087216,
           255.5766649653179,
           255.64035152191417,
           255.70403807851048,
           255.76772463510676,
           255.83141119170304,
           255.89509774829935,
           255.95878430489563,
           256.0224708614919,
           256.08615741808825,
           256.14984397468453,
           256.2135305312808,
           256.2772170878771,
           256.34090364447337,
           256.40459020106965,
           256.468276757666,
           256.53196331426227,
           256.59564987085855,
           256.65933642745483,
           256.7230229840511,
           256.78670954064745,
           256.85039609724373,
           256.91408265384,
           256.9777692104363,
           257.0414557670326,
           257.1051423236289,
           257.1688288802252,
           257.2325154368215,
           257.29620199341775
          ],
          [
           254.7488059515578,
           254.8124925081541,
           254.8761790647504,
           254.93986562134668,
           255.00355217794296,
           255.06723873453927,
           255.13092529113555,
           255.19461184773186,
           255.25829840432814,
           255.32198496092442,
           255.38567151752073,
           255.44935807411701,
           255.51304463071332,
           255.5767311873096,
           255.64041774390589,
           255.7041043005022,
           255.76779085709848,
           255.83147741369476,
           255.89516397029107,
           255.95885052688735,
           256.0225370834836,
           256.08622364007994,
           256.1499101966762,
           256.2135967532725,
           256.2772833098688,
           256.34096986646506,
           256.40465642306134,
           256.4683429796577,
           256.53202953625396,
           256.59571609285024,
           256.6594026494465,
           256.7230892060428,
           256.78677576263914,
           256.8504623192354,
           256.9141488758317,
           256.977835432428,
           257.04152198902426,
           257.1052085456206,
           257.1688951022169,
           257.23258165881316,
           257.29626821540944
          ],
          [
           254.74887217354953,
           254.8125587301458,
           254.87624528674212,
           254.9399318433384,
           255.00361839993468,
           255.067304956531,
           255.13099151312727,
           255.19467806972358,
           255.25836462631986,
           255.32205118291614,
           255.38573773951245,
           255.44942429610873,
           255.51311085270504,
           255.57679740930132,
           255.6404839658976,
           255.7041705224939,
           255.7678570790902,
           255.83154363568647,
           255.89523019228278,
           255.95891674887906,
           256.0226033054753,
           256.0862898620716,
           256.1499764186679,
           256.2136629752642,
           256.27734953186047,
           256.34103608845675,
           256.404722645053,
           256.46840920164937,
           256.53209575824565,
           256.5957823148419,
           256.6594688714382,
           256.7231554280345,
           256.7868419846308,
           256.8505285412271,
           256.9142150978234,
           256.97790165441967,
           257.04158821101595,
           257.1052747676123,
           257.16896132420857,
           257.23264788080485,
           257.29633443740113
          ],
          [
           254.74893839554122,
           254.8126249521375,
           254.8763115087338,
           254.9399980653301,
           255.00368462192637,
           255.06737117852268,
           255.13105773511896,
           255.19474429171527,
           255.25843084831155,
           255.32211740490783,
           255.38580396150414,
           255.44949051810042,
           255.51317707469673,
           255.576863631293,
           255.6405501878893,
           255.7042367444856,
           255.76792330108188,
           255.83160985767816,
           255.89529641427447,
           255.95898297087075,
           256.02266952746703,
           256.08635608406337,
           256.15004264065965,
           256.21372919725593,
           256.2774157538522,
           256.3411023104485,
           256.4047888670448,
           256.4684754236411,
           256.5321619802374,
           256.59584853683367,
           256.65953509342995,
           256.72322165002623,
           256.78690820662257,
           256.85059476321885,
           256.91428131981513,
           256.9779678764114,
           257.0416544330077,
           257.10534098960403,
           257.1690275462003,
           257.2327141027966,
           257.2964006593929
          ],
          [
           254.74900461753293,
           254.8126911741292,
           254.87637773072552,
           254.9400642873218,
           255.00375084391808,
           255.0674374005144,
           255.13112395711067,
           255.19481051370698,
           255.25849707030326,
           255.32218362689954,
           255.38587018349585,
           255.44955674009213,
           255.51324329668844,
           255.57692985328472,
           255.640616409881,
           255.70430296647731,
           255.7679895230736,
           255.83167607966988,
           255.89536263626619,
           255.95904919286247,
           256.0227357494587,
           256.08642230605506,
           256.15010886265134,
           256.2137954192476,
           256.2774819758439,
           256.3411685324402,
           256.40485508903646,
           256.4685416456328,
           256.5322282022291,
           256.59591475882536,
           256.65960131542164,
           256.7232878720179,
           256.78697442861426,
           256.85066098521054,
           256.9143475418068,
           256.9780340984031,
           257.0417206549994,
           257.1054072115957,
           257.169093768192,
           257.2327803247883,
           257.29646688138456
          ],
          [
           254.74907083952462,
           254.8127573961209,
           254.8764439527172,
           254.9401305093135,
           255.00381706590977,
           255.06750362250608,
           255.13119017910236,
           255.19487673569867,
           255.25856329229495,
           255.32224984889123,
           255.38593640548754,
           255.44962296208382,
           255.51330951868013,
           255.5769960752764,
           255.6406826318727,
           255.704369188469,
           255.76805574506528,
           255.83174230166156,
           255.89542885825787,
           255.95911541485415,
           256.0228019714504,
           256.08648852804674,
           256.150175084643,
           256.2138616412393,
           256.2775481978356,
           256.34123475443187,
           256.40492131102815,
           256.4686078676245,
           256.53229442422077,
           256.59598098081705,
           256.6596675374133,
           256.7233540940096,
           256.78704065060595,
           256.8507272072022,
           256.9144137637985,
           256.9781003203948,
           257.04178687699107,
           257.1054734335874,
           257.1691599901837,
           257.23284654677997,
           257.29653310337625
          ],
          [
           254.74913706151634,
           254.81282361811262,
           254.87651017470893,
           254.9401967313052,
           255.0038832879015,
           255.0675698444978,
           255.13125640109408,
           255.1949429576904,
           255.25862951428667,
           255.32231607088295,
           255.38600262747926,
           255.44968918407554,
           255.51337574067185,
           255.57706229726813,
           255.6407488538644,
           255.70443541046072,
           255.768121967057,
           255.83180852365328,
           255.8954950802496,
           255.95918163684587,
           256.02286819344215,
           256.0865547500385,
           256.15024130663477,
           256.21392786323105,
           256.27761441982733,
           256.3413009764236,
           256.4049875330199,
           256.46867408961623,
           256.5323606462125,
           256.5960472028088,
           256.65973375940507,
           256.72342031600135,
           256.7871068725977,
           256.85079342919397,
           256.91447998579025,
           256.97816654238653,
           257.0418530989828,
           257.10553965557915,
           257.16922621217543,
           257.2329127687717,
           257.296599325368
          ],
          [
           254.74920328350805,
           254.81288984010433,
           254.87657639670064,
           254.94026295329692,
           255.0039495098932,
           255.0676360664895,
           255.1313226230858,
           255.1950091796821,
           255.25869573627838,
           255.32238229287466,
           255.38606884947097,
           255.44975540606725,
           255.51344196266356,
           255.57712851925984,
           255.64081507585612,
           255.70450163245243,
           255.76818818904871,
           255.831874745645,
           255.8955613022413,
           255.95924785883759,
           256.02293441543384,
           256.0866209720302,
           256.15030752862646,
           256.21399408522274,
           256.277680641819,
           256.3413671984153,
           256.4050537550116,
           256.4687403116079,
           256.5324268682042,
           256.5961134248005,
           256.65979998139676,
           256.72348653799304,
           256.7871730945894,
           256.85085965118566,
           256.91454620778194,
           256.9782327643782,
           257.0419193209745,
           257.10560587757084,
           257.1692924341671,
           257.2329789907634,
           257.2966655473597
          ],
          [
           254.74926950549974,
           254.81295606209602,
           254.87664261869233,
           254.9403291752886,
           255.0040157318849,
           255.0677022884812,
           255.13138884507748,
           255.1950754016738,
           255.25876195827007,
           255.32244851486635,
           255.38613507146266,
           255.44982162805894,
           255.51350818465525,
           255.57719474125153,
           255.6408812978478,
           255.70456785444412,
           255.7682544110404,
           255.83194096763668,
           255.895627524233,
           255.95931408082927,
           256.0230006374255,
           256.08668719402186,
           256.15037375061814,
           256.2140603072144,
           256.2777468638107,
           256.341433420407,
           256.40511997700327,
           256.4688065335996,
           256.5324930901959,
           256.59617964679217,
           256.65986620338845,
           256.7235527599847,
           256.78723931658106,
           256.85092587317735,
           256.9146124297736,
           256.9782989863699,
           257.0419855429662,
           257.1056720995625,
           257.1693586561588,
           257.2330452127551,
           257.29673176935137
          ],
          [
           254.74933572749146,
           254.81302228408774,
           254.87670884068405,
           254.94039539728033,
           255.0040819538766,
           255.06776851047292,
           255.1314550670692,
           255.1951416236655,
           255.2588281802618,
           255.32251473685807,
           255.38620129345438,
           255.44988785005066,
           255.51357440664697,
           255.57726096324325,
           255.64094751983953,
           255.70463407643584,
           255.76832063303212,
           255.8320071896284,
           255.8956937462247,
           255.959380302821,
           256.0230668594172,
           256.08675341601355,
           256.15043997260983,
           256.2141265292061,
           256.2778130858024,
           256.3414996423987,
           256.40518619899495,
           256.4688727555913,
           256.5325593121876,
           256.59624586878385,
           256.65993242538013,
           256.7236189819764,
           256.78730553857275,
           256.85099209516903,
           256.9146786517653,
           256.9783652083616,
           257.0420517649579,
           257.1057383215542,
           257.1694248781505,
           257.2331114347468,
           257.29679799134306
          ],
          [
           254.74940194948317,
           254.81308850607945,
           254.87677506267576,
           254.94046161927204,
           255.00414817586832,
           255.06783473246463,
           255.1315212890609,
           255.19520784565722,
           255.2588944022535,
           255.32258095884978,
           255.3862675154461,
           255.44995407204237,
           255.51364062863868,
           255.57732718523496,
           255.64101374183124,
           255.70470029842755,
           255.76838685502383,
           255.83207341162012,
           255.89575996821642,
           255.9594465248127,
           256.02313308140896,
           256.0868196380053,
           256.1505061946016,
           256.21419275119786,
           256.27787930779414,
           256.3415658643904,
           256.4052524209867,
           256.46893897758304,
           256.5326255341793,
           256.5963120907756,
           256.6599986473719,
           256.72368520396816,
           256.7873717605645,
           256.8510583171608,
           256.91474487375706,
           256.97843143035334,
           257.0421179869496,
           257.10580454354596,
           257.16949110014224,
           257.2331776567385,
           257.2968642133348
          ],
          [
           254.74946817147486,
           254.81315472807114,
           254.87684128466745,
           254.94052784126373,
           255.00421439786,
           255.06790095445632,
           255.1315875110526,
           255.1952740676489,
           255.2589606242452,
           255.32264718084147,
           255.38633373743778,
           255.45002029403406,
           255.51370685063037,
           255.57739340722665,
           255.64107996382293,
           255.70476652041924,
           255.76845307701552,
           255.8321396336118,
           255.8958261902081,
           255.9595127468044,
           256.02319930340065,
           256.086885859997,
           256.15057241659326,
           256.21425897318954,
           256.2779455297858,
           256.3416320863821,
           256.4053186429784,
           256.4690051995747,
           256.532691756171,
           256.5963783127673,
           256.66006486936357,
           256.72375142595985,
           256.7874379825562,
           256.85112453915247,
           256.91481109574875,
           256.978497652345,
           257.0421842089413,
           257.10587076553765,
           257.1695573221339,
           257.2332438787302,
           257.2969304353265
          ],
          [
           254.74953439346658,
           254.81322095006286,
           254.87690750665917,
           254.94059406325545,
           255.00428061985173,
           255.06796717644804,
           255.13165373304432,
           255.19534028964063,
           255.2590268462369,
           255.3227134028332,
           255.3863999594295,
           255.45008651602578,
           255.5137730726221,
           255.57745962921837,
           255.64114618581465,
           255.70483274241096,
           255.76851929900724,
           255.83220585560352,
           255.89589241219983,
           255.9595789687961,
           256.02326552539233,
           256.08695208198867,
           256.15063863858495,
           256.21432519518123,
           256.2780117517775,
           256.3416983083738,
           256.4053848649701,
           256.4690714215664,
           256.5327579781627,
           256.596444534759,
           256.66013109135525,
           256.72381764795153,
           256.7875042045479,
           256.85119076114415,
           256.91487731774043,
           256.9785638743367,
           257.042250430933,
           257.10593698752933,
           257.1696235441256,
           257.2333101007219,
           257.2969966573182
          ],
          [
           254.74960061545826,
           254.81328717205454,
           254.87697372865085,
           254.94066028524713,
           255.00434684184341,
           255.06803339843972,
           255.131719955036,
           255.1954065116323,
           255.2590930682286,
           255.32277962482488,
           255.38646618142118,
           255.45015273801747,
           255.51383929461377,
           255.57752585121005,
           255.64121240780634,
           255.70489896440264,
           255.76858552099893,
           255.8322720775952,
           255.89595863419152,
           255.9596451907878,
           256.0233317473841,
           256.0870183039804,
           256.1507048605767,
           256.214391417173,
           256.27807797376926,
           256.34176453036554,
           256.4054510869618,
           256.46913764355816,
           256.53282420015444,
           256.5965107567507,
           256.660197313347,
           256.7238838699433,
           256.7875704265396,
           256.8512569831359,
           256.9149435397322,
           256.97863009632846,
           257.04231665292474,
           257.1060032095211,
           257.16968976611736,
           257.23337632271364,
           257.2970628793099
          ],
          [
           254.74966683744998,
           254.81335339404626,
           254.87703995064257,
           254.94072650723885,
           255.00441306383513,
           255.06809962043144,
           255.13178617702772,
           255.19547273362403,
           255.2591592902203,
           255.3228458468166,
           255.3865324034129,
           255.45021896000918,
           255.5139055166055,
           255.57759207320177,
           255.64127862979805,
           255.70496518639436,
           255.76865174299064,
           255.83233829958692,
           255.89602485618323,
           255.9597114127795,
           256.02339796937576,
           256.0870845259721,
           256.1507710825684,
           256.21445763916466,
           256.27814419576094,
           256.3418307523572,
           256.4055173089535,
           256.46920386554984,
           256.5328904221461,
           256.5965769787424,
           256.6602635353387,
           256.72395009193497,
           256.7876366485313,
           256.8513232051276,
           256.91500976172387,
           256.97869631832015,
           257.0423828749164,
           257.10606943151276,
           257.16975598810905,
           257.2334425447053,
           257.2971291013016
          ],
          [
           254.7497330594417,
           254.81341961603798,
           254.87710617263429,
           254.94079272923057,
           255.00447928582685,
           255.06816584242316,
           255.13185239901944,
           255.19553895561575,
           255.25922551221203,
           255.3229120688083,
           255.38659862540462,
           255.4502851820009,
           255.5139717385972,
           255.5776582951935,
           255.64134485178977,
           255.70503140838608,
           255.76871796498236,
           255.83240452157864,
           255.89609107817495,
           255.95977763477123,
           256.02346419136745,
           256.0871507479638,
           256.15083730456007,
           256.21452386115635,
           256.27821041775263,
           256.3418969743489,
           256.4055835309452,
           256.46927008754153,
           256.5329566441378,
           256.5966432007341,
           256.6603297573304,
           256.72401631392665,
           256.787702870523,
           256.8513894271193,
           256.91507598371555,
           256.97876254031183,
           257.0424490969081,
           257.10613565350445,
           257.16982221010073,
           257.233508766697,
           257.2971953232933
          ],
          [
           254.74979928143338,
           254.81348583802966,
           254.87717239462597,
           254.94085895122225,
           255.00454550781853,
           255.06823206441484,
           255.13191862101112,
           255.19560517760743,
           255.2592917342037,
           255.3229782908,
           255.3866648473963,
           255.45035140399258,
           255.5140379605889,
           255.57772451718517,
           255.64141107378146,
           255.70509763037776,
           255.76878418697405,
           255.83247074357033,
           255.89615730016664,
           255.95984385676292,
           256.0235304133592,
           256.08721696995553,
           256.1509035265518,
           256.2145900831481,
           256.2782766397444,
           256.34196319634066,
           256.40564975293694,
           256.4693363095333,
           256.53302286612956,
           256.59670942272584,
           256.6603959793221,
           256.7240825359184,
           256.78776909251474,
           256.851455649111,
           256.9151422057073,
           256.9788287623036,
           257.04251531889986,
           257.1062018754962,
           257.1698884320925,
           257.23357498868876,
           257.29726154528504
          ],
          [
           254.7498655034251,
           254.81355206002138,
           254.8772386166177,
           254.94092517321397,
           255.00461172981025,
           255.06829828640656,
           255.13198484300284,
           255.19567139959915,
           255.25935795619543,
           255.3230445127917,
           255.38673106938802,
           255.4504176259843,
           255.5141041825806,
           255.5777907391769,
           255.64147729577317,
           255.70516385236948,
           255.76885040896576,
           255.83253696556204,
           255.89622352215835,
           255.95991007875463,
           256.0235966353509,
           256.0872831919472,
           256.1509697485435,
           256.2146563051398,
           256.27834286173606,
           256.34202941833234,
           256.4057159749286,
           256.46940253152496,
           256.53308908812124,
           256.5967756447175,
           256.6604622013138,
           256.7241487579101,
           256.7878353145064,
           256.8515218711027,
           256.915208427699,
           256.97889498429527,
           257.04258154089155,
           257.1062680974879,
           257.16995465408417,
           257.23364121068045,
           257.2973277672767
          ],
          [
           254.74993172541681,
           254.8136182820131,
           254.8773048386094,
           254.94099139520569,
           255.00467795180197,
           255.06836450839828,
           255.13205106499456,
           255.19573762159087,
           255.25942417818715,
           255.32311073478343,
           255.38679729137974,
           255.45048384797602,
           255.51417040457233,
           255.5778569611686,
           255.6415435177649,
           255.7052300743612,
           255.76891663095748,
           255.83260318755376,
           255.89628974415007,
           255.95997630074635,
           256.0236628573426,
           256.0873494139389,
           256.1510359705352,
           256.21472252713147,
           256.27840908372775,
           256.34209564032403,
           256.4057821969203,
           256.46946875351665,
           256.53315531011293,
           256.5968418667092,
           256.6605284233055,
           256.7242149799018,
           256.7879015364981,
           256.8515880930944,
           256.9152746496907,
           256.97896120628695,
           257.04264776288323,
           257.1063343194796,
           257.17002087607585,
           257.23370743267213,
           257.2973939892684
          ],
          [
           254.7499979474085,
           254.81368450400478,
           254.8773710606011,
           254.94105761719737,
           255.00474417379365,
           255.06843073038996,
           255.13211728698624,
           255.19580384358255,
           255.25949040017883,
           255.32317695677511,
           255.38686351337142,
           255.4505500699677,
           255.514236626564,
           255.5779231831603,
           255.64160973975657,
           255.70529629635288,
           255.76898285294916,
           255.83266940954545,
           255.89635596614175,
           255.96004252273804,
           256.0237290793343,
           256.08741563593065,
           256.15110219252693,
           256.2147887491232,
           256.2784753057195,
           256.3421618623158,
           256.40584841891206,
           256.4695349755084,
           256.5332215321047,
           256.59690808870096,
           256.66059464529724,
           256.7242812018935,
           256.78796775848986,
           256.85165431508614,
           256.9153408716824,
           256.9790274282787,
           257.042713984875,
           257.1064005414713,
           257.1700870980676,
           257.2337736546639,
           257.29746021126016
          ],
          [
           254.75006416940022,
           254.8137507259965,
           254.8774372825928,
           254.9411238391891,
           255.00481039578537,
           255.06849695238168,
           255.13218350897796,
           255.19587006557427,
           255.25955662217055,
           255.32324317876683,
           255.38692973536314,
           255.45061629195942,
           255.51430284855573,
           255.577989405152,
           255.6416759617483,
           255.7053625183446,
           255.76904907494088,
           255.83273563153716,
           255.89642218813347,
           255.96010874472975,
           256.023795301326,
           256.08748185792234,
           256.1511684145186,
           256.2148549711149,
           256.2785415277112,
           256.34222808430746,
           256.40591464090375,
           256.4696011975001,
           256.53328775409636,
           256.59697431069264,
           256.6606608672889,
           256.7243474238852,
           256.78803398048154,
           256.8517205370778,
           256.9154070936741,
           256.9790936502704,
           257.04278020686667,
           257.106466763463,
           257.1701533200593,
           257.23383987665557,
           257.29752643325185
          ],
          [
           254.75013039139193,
           254.81381694798822,
           254.87750350458452,
           254.9411900611808,
           255.0048766177771,
           255.0685631743734,
           255.13224973096968,
           255.19593628756598,
           255.25962284416227,
           255.32330940075855,
           255.38699595735486,
           255.45068251395114,
           255.51436907054745,
           255.57805562714373,
           255.64174218374,
           255.70542874033632,
           255.7691152969326,
           255.83280185352888,
           255.8964884101252,
           255.96017496672147,
           256.0238615233177,
           256.08754807991403,
           256.1512346365103,
           256.2149211931066,
           256.27860774970287,
           256.34229430629915,
           256.40598086289543,
           256.46966741949177,
           256.53335397608805,
           256.59704053268433,
           256.6607270892806,
           256.7244136458769,
           256.78810020247323,
           256.8517867590695,
           256.9154733156658,
           256.9791598722621,
           257.04284642885835,
           257.1065329854547,
           257.170219542051,
           257.23390609864725,
           257.29759265524353
          ],
          [
           254.75019661338362,
           254.8138831699799,
           254.8775697265762,
           254.9412562831725,
           255.00494283976877,
           255.06862939636508,
           255.13231595296136,
           255.19600250955767,
           255.25968906615395,
           255.32337562275023,
           255.38706217934654,
           255.45074873594282,
           255.51443529253913,
           255.5781218491354,
           255.6418084057317,
           255.705494962328,
           255.76918151892428,
           255.83286807552057,
           255.89655463211687,
           255.96024118871316,
           256.02392774530944,
           256.0876143019058,
           256.15130085850205,
           256.21498741509834,
           256.2786739716946,
           256.3423605282909,
           256.4060470848872,
           256.4697336414835,
           256.5334201980798,
           256.5971067546761,
           256.66079331127236,
           256.72447986786864,
           256.788166424465,
           256.85185298106126,
           256.91553953765754,
           256.9792260942538,
           257.0429126508501,
           257.10659920744644,
           257.1702857640427,
           257.233972320639,
           257.2976588772353
          ],
          [
           254.75026283537534,
           254.81394939197162,
           254.87763594856793,
           254.9413225051642,
           255.0050090617605,
           255.0686956183568,
           255.13238217495308,
           255.1960687315494,
           255.25975528814567,
           255.32344184474195,
           255.38712840133826,
           255.45081495793454,
           255.51450151453085,
           255.57818807112713,
           255.6418746277234,
           255.70556118431972,
           255.769247740916,
           255.83293429751228,
           255.8966208541086,
           255.96030741070487,
           256.0239939673011,
           256.08768052389746,
           256.15136708049374,
           256.21505363709,
           256.2787401936863,
           256.3424267502826,
           256.40611330687886,
           256.4697998634752,
           256.5334864200715,
           256.59717297666776,
           256.66085953326404,
           256.7245460898603,
           256.78823264645666,
           256.85191920305294,
           256.9156057596492,
           256.9792923162455,
           257.0429788728418,
           257.1066654294381,
           257.1703519860344,
           257.2340385426307,
           257.29772509922697
          ],
          [
           254.75032905736703,
           254.8140156139633,
           254.87770217055962,
           254.9413887271559,
           255.00507528375218,
           255.0687618403485,
           255.13244839694477,
           255.19613495354108,
           255.25982151013736,
           255.32350806673364,
           255.38719462332995,
           255.45088117992623,
           255.51456773652254,
           255.57825429311882,
           255.6419408497151,
           255.7056274063114,
           255.7693139629077,
           255.83300051950397,
           255.89668707610028,
           255.96037363269656,
           256.0240601892928,
           256.08774674588915,
           256.15143330248543,
           256.2151198590817,
           256.278806415678,
           256.3424929722743,
           256.40617952887055,
           256.4698660854669,
           256.53355264206317,
           256.59723919865945,
           256.66092575525573,
           256.724612311852,
           256.78829886844835,
           256.85198542504463,
           256.9156719816409,
           256.9793585382372,
           257.0430450948335,
           257.1067316514298,
           257.1704182080261,
           257.2341047646224,
           257.29779132121865
          ],
          [
           254.75039527935874,
           254.81408183595502,
           254.87776839255133,
           254.9414549491476,
           255.0051415057439,
           255.0688280623402,
           255.13251461893648,
           255.1962011755328,
           255.25988773212907,
           255.32357428872535,
           255.38726084532166,
           255.45094740191794,
           255.51463395851425,
           255.57832051511053,
           255.64200707170681,
           255.70569362830312,
           255.7693801848994,
           255.83306674149568,
           255.896753298092,
           255.96043985468827,
           256.02412641128456,
           256.0878129678809,
           256.1514995244772,
           256.21518608107345,
           256.27887263766974,
           256.342559194266,
           256.4062457508623,
           256.46993230745863,
           256.5336188640549,
           256.5973054206512,
           256.6609919772475,
           256.72467853384376,
           256.7883650904401,
           256.8520516470364,
           256.91573820363266,
           256.97942476022894,
           257.0431113168252,
           257.10679787342156,
           257.17048443001784,
           257.2341709866141,
           257.2978575432104
          ],
          [
           254.75046150135046,
           254.81414805794674,
           254.87783461454305,
           254.94152117113933,
           255.0052077277356,
           255.06889428433192,
           255.1325808409282,
           255.1962673975245,
           255.2599539541208,
           255.32364051071707,
           255.38732706731338,
           255.45101362390966,
           255.51470018050597,
           255.57838673710225,
           255.64207329369853,
           255.70575985029484,
           255.76944640689112,
           255.8331329634874,
           255.8968195200837,
           255.96050607668,
           256.02419263327624,
           256.0878791898726,
           256.15156574646886,
           256.21525230306514,
           256.2789388596614,
           256.3426254162577,
           256.406311972854,
           256.4699985294503,
           256.5336850860466,
           256.5973716426429,
           256.66105819923916,
           256.72474475583545,
           256.7884313124318,
           256.85211786902806,
           256.91580442562434,
           256.9794909822206,
           257.0431775388169,
           257.10686409541324,
           257.1705506520095,
           257.2342372086058,
           257.2979237652021
          ],
          [
           254.75052772334215,
           254.81421427993843,
           254.87790083653474,
           254.94158739313102,
           255.0052739497273,
           255.0689605063236,
           255.1326470629199,
           255.1963336195162,
           255.26002017611248,
           255.32370673270876,
           255.38739328930507,
           255.45107984590135,
           255.51476640249766,
           255.57845295909394,
           255.64213951569022,
           255.70582607228653,
           255.7695126288828,
           255.8331991854791,
           255.8968857420754,
           255.96057229867168,
           256.02425885526793,
           256.08794541186427,
           256.15163196846055,
           256.21531852505683,
           256.2790050816531,
           256.3426916382494,
           256.4063781948457,
           256.470064751442,
           256.5337513080383,
           256.59743786463457,
           256.66112442123085,
           256.72481097782713,
           256.78849753442347,
           256.85218409101975,
           256.91587064761603,
           256.9795572042123,
           257.0432437608086,
           257.10693031740493,
           257.1706168740012,
           257.2343034305975,
           257.2979899871938
          ],
          [
           254.75059394533386,
           254.81428050193014,
           254.87796705852645,
           254.94165361512273,
           255.005340171719,
           255.06902672831532,
           255.1327132849116,
           255.1963998415079,
           255.2600863981042,
           255.32377295470047,
           255.38745951129678,
           255.45114606789306,
           255.51483262448937,
           255.57851918108565,
           255.64220573768193,
           255.70589229427824,
           255.76957885087452,
           255.8332654074708,
           255.8969519640671,
           255.9606385206634,
           256.0243250772596,
           256.08801163385596,
           256.15169819045224,
           256.2153847470485,
           256.2790713036448,
           256.3427578602411,
           256.40644441683736,
           256.4701309734337,
           256.53381753003,
           256.59750408662626,
           256.66119064322254,
           256.7248771998188,
           256.78856375641516,
           256.85225031301144,
           256.9159368696077,
           256.979623426204,
           257.0433099828003,
           257.1069965393966,
           257.1706830959929,
           257.2343696525892,
           257.29805620918546
          ],
          [
           254.75066016732558,
           254.81434672392186,
           254.87803328051817,
           254.94171983711445,
           255.00540639371073,
           255.06909295030704,
           255.13277950690332,
           255.19646606349963,
           255.2601526200959,
           255.3238391766922,
           255.3875257332885,
           255.45121228988478,
           255.5148988464811,
           255.57858540307737,
           255.64227195967365,
           255.70595851626996,
           255.76964507286624,
           255.83333162946252,
           255.89701818605883,
           255.9607047426551,
           256.02439129925136,
           256.0880778558477,
           256.151764412444,
           256.21545096904026,
           256.27913752563654,
           256.3428240822328,
           256.4065106388291,
           256.47019719542544,
           256.5338837520217,
           256.597570308618,
           256.6612568652143,
           256.72494342181056,
           256.7886299784069,
           256.8523165350032,
           256.91600309159946,
           256.97968964819574,
           257.043376204792,
           257.10706276138836,
           257.17074931798464,
           257.2344358745809,
           257.2981224311772
          ],
          [
           254.75072638931726,
           254.81441294591355,
           254.87809950250985,
           254.94178605910614,
           255.00547261570242,
           255.06915917229873,
           255.132845728895,
           255.19653228549132,
           255.2602188420876,
           255.32390539868388,
           255.3875919552802,
           255.45127851187647,
           255.51496506847278,
           255.57865162506906,
           255.64233818166534,
           255.70602473826165,
           255.76971129485793,
           255.8333978514542,
           255.89708440805052,
           255.9607709646468,
           256.02445752124305,
           256.0881440778394,
           256.15183063443567,
           256.21551719103195,
           256.27920374762823,
           256.3428903042245,
           256.4065768608208,
           256.47026341741713,
           256.5339499740134,
           256.5976365306097,
           256.661323087206,
           256.72500964380225,
           256.7886962003986,
           256.85238275699487,
           256.91606931359115,
           256.97975587018743,
           257.0434424267837,
           257.10712898338005,
           257.17081553997633,
           257.2345020965726,
           257.2981886531689
          ],
          [
           254.75079261130898,
           254.81447916790526,
           254.87816572450157,
           254.94185228109785,
           255.00553883769413,
           255.06922539429044,
           255.13291195088672,
           255.19659850748303,
           255.2602850640793,
           255.3239716206756,
           255.3876581772719,
           255.45134473386818,
           255.5150312904645,
           255.57871784706077,
           255.64240440365705,
           255.70609096025336,
           255.76977751684964,
           255.83346407344592,
           255.89715063004223,
           255.9608371866385,
           256.02452374323474,
           256.0882102998311,
           256.15189685642736,
           256.21558341302364,
           256.2792699696199,
           256.3429565262162,
           256.4066430828125,
           256.4703296394088,
           256.5340161960051,
           256.5977027526014,
           256.66138930919766,
           256.72507586579394,
           256.7887624223903,
           256.85244897898656,
           256.91613553558284,
           256.9798220921791,
           257.0435086487754,
           257.10719520537174,
           257.170881761968,
           257.2345683185643,
           257.2982548751606
          ],
          [
           254.75085883330067,
           254.81454538989695,
           254.87823194649326,
           254.94191850308954,
           255.00560505968582,
           255.06929161628213,
           255.1329781728784,
           255.19666472947472,
           255.260351286071,
           255.32403784266728,
           255.3877243992636,
           255.45141095585987,
           255.51509751245618,
           255.57878406905246,
           255.64247062564874,
           255.70615718224505,
           255.76984373884133,
           255.8335302954376,
           255.89721685203392,
           255.9609034086302,
           256.0245899652265,
           256.0882765218228,
           256.1519630784191,
           256.2156496350154,
           256.27933619161166,
           256.34302274820794,
           256.4067093048042,
           256.47039586140056,
           256.53408241799684,
           256.5977689745931,
           256.6614555311894,
           256.7251420877857,
           256.788828644382,
           256.8525152009783,
           256.9162017575746,
           256.97988831417086,
           257.04357487076715,
           257.1072614273635,
           257.17094798395976,
           257.23463454055604,
           257.2983210971523
          ],
          [
           254.75092505529238,
           254.81461161188867,
           254.87829816848497,
           254.94198472508126,
           255.00567128167754,
           255.06935783827385,
           255.13304439487013,
           255.19673095146644,
           255.26041750806272,
           255.324104064659,
           255.3877906212553,
           255.4514771778516,
           255.5151637344479,
           255.57885029104418,
           255.64253684764046,
           255.70622340423677,
           255.76990996083305,
           255.83359651742933,
           255.89728307402564,
           255.96096963062192,
           256.02465618721817,
           256.0883427438145,
           256.1520293004108,
           256.21571585700707,
           256.27940241360335,
           256.34308897019963,
           256.4067755267959,
           256.47046208339225,
           256.53414863998853,
           256.5978351965848,
           256.6615217531811,
           256.7252083097774,
           256.7888948663737,
           256.85258142297,
           256.91626797956627,
           256.97995453616255,
           257.04364109275883,
           257.10732764935517,
           257.17101420595145,
           257.23470076254773,
           257.298387319144
          ],
          [
           254.7509912772841,
           254.81467783388038,
           254.8783643904767,
           254.94205094707297,
           255.00573750366925,
           255.06942406026556,
           255.13311061686184,
           255.19679717345815,
           255.26048373005443,
           255.3241702866507,
           255.38785684324702,
           255.4515433998433,
           255.5152299564396,
           255.5789165130359,
           255.64260306963217,
           255.70628962622848,
           255.76997618282476,
           255.83366273942104,
           255.89734929601735,
           255.96103585261363,
           256.02472240920986,
           256.0884089658062,
           256.1520955224025,
           256.21578207899876,
           256.27946863559504,
           256.3431551921913,
           256.4068417487876,
           256.47052830538394,
           256.5342148619802,
           256.5979014185765,
           256.6615879751728,
           256.72527453176906,
           256.7889610883654,
           256.8526476449617,
           256.91633420155796,
           256.98002075815424,
           257.0437073147505,
           257.10739387134686,
           257.17108042794314,
           257.2347669845394,
           257.2984535411357
          ],
          [
           254.7510574992758,
           254.81474405587207,
           254.87843061246838,
           254.94211716906466,
           255.00580372566094,
           255.06949028225725,
           255.13317683885353,
           255.19686339544984,
           255.26054995204612,
           255.3242365086424,
           255.3879230652387,
           255.451609621835,
           255.5152961784313,
           255.57898273502758,
           255.64266929162386,
           255.70635584822017,
           255.77004240481645,
           255.83372896141273,
           255.89741551800904,
           255.96110207460532,
           256.0247886312016,
           256.08847518779794,
           256.1521617443942,
           256.2158483009905,
           256.2795348575868,
           256.34322141418306,
           256.40690797077934,
           256.4705945273757,
           256.53428108397196,
           256.59796764056824,
           256.6616541971645,
           256.7253407537608,
           256.78902731035714,
           256.8527138669534,
           256.9164004235497,
           256.980086980146,
           257.04377353674226,
           257.1074600933386,
           257.1711466499349,
           257.23483320653116,
           257.29851976312744
          ],
          [
           254.7511237212675,
           254.81481027786378,
           254.8784968344601,
           254.94218339105637,
           255.00586994765266,
           255.06955650424896,
           255.13324306084525,
           255.19692961744155,
           255.26061617403784,
           255.32430273063412,
           255.38798928723043,
           255.4516758438267,
           255.51536240042302,
           255.5790489570193,
           255.64273551361558,
           255.7064220702119,
           255.77010862680817,
           255.83379518340445,
           255.89748174000076,
           255.96116829659704,
           256.0248548531933,
           256.0885414097896,
           256.1522279663859,
           256.2159145229822,
           256.27960107957847,
           256.34328763617475,
           256.40697419277103,
           256.47066074936737,
           256.53434730596365,
           256.59803386255993,
           256.6617204191562,
           256.7254069757525,
           256.78909353234883,
           256.8527800889451,
           256.9164666455414,
           256.98015320213767,
           257.04383975873395,
           257.1075263153303,
           257.17121287192657,
           257.23489942852285,
           257.29858598511913
          ],
          [
           254.75118994325922,
           254.8148764998555,
           254.8785630564518,
           254.9422496130481,
           255.00593616964437,
           255.06962272624068,
           255.13330928283696,
           255.19699583943327,
           255.26068239602955,
           255.32436895262583,
           255.38805550922214,
           255.45174206581842,
           255.51542862241473,
           255.579115179011,
           255.6428017356073,
           255.7064882922036,
           255.77017484879988,
           255.83386140539616,
           255.89754796199247,
           255.96123451858875,
           256.024921075185,
           256.0886076317813,
           256.1522941883776,
           256.2159807449739,
           256.27966730157016,
           256.34335385816644,
           256.4070404147627,
           256.47072697135906,
           256.53441352795534,
           256.5981000845516,
           256.6617866411479,
           256.7254731977442,
           256.7891597543405,
           256.8528463109368,
           256.9165328675331,
           256.98021942412936,
           257.04390598072564,
           257.107592537322,
           257.17127909391826,
           257.23496565051454,
           257.2986522071108
          ],
          [
           254.7512561652509,
           254.8149427218472,
           254.8786292784435,
           254.94231583503978,
           255.00600239163606,
           255.06968894823237,
           255.13337550482865,
           255.19706206142496,
           255.26074861802124,
           255.32443517461752,
           255.38812173121383,
           255.4518082878101,
           255.51549484440642,
           255.5791814010027,
           255.64286795759898,
           255.7065545141953,
           255.77024107079157,
           255.83392762738785,
           255.89761418398416,
           255.96130074058044,
           256.0249872971767,
           256.08867385377306,
           256.15236041036934,
           256.2160469669656,
           256.2797335235619,
           256.3434200801582,
           256.40710663675446,
           256.4707931933508,
           256.5344797499471,
           256.59816630654336,
           256.66185286313964,
           256.7255394197359,
           256.78922597633226,
           256.85291253292854,
           256.9165990895248,
           256.9802856461211,
           257.0439722027174,
           257.1076587593137,
           257.17134531591,
           257.2350318725063,
           257.29871842910256
          ],
          [
           254.75132238724262,
           254.8150089438389,
           254.8786955004352,
           254.9423820570315,
           255.00606861362778,
           255.06975517022408,
           255.13344172682037,
           255.19712828341667,
           255.26081484001296,
           255.32450139660924,
           255.38818795320554,
           255.45187450980183,
           255.51556106639813,
           255.57924762299442,
           255.6429341795907,
           255.706620736187,
           255.7703072927833,
           255.83399384937957,
           255.89768040597588,
           255.96136696257216,
           256.0250535191684,
           256.08874007576475,
           256.152426632361,
           256.2161131889573,
           256.2797997455536,
           256.34348630214987,
           256.40717285874615,
           256.4708594153425,
           256.53454597193877,
           256.59823252853505,
           256.66191908513133,
           256.7256056417276,
           256.78929219832395,
           256.85297875492023,
           256.9166653115165,
           256.9803518681128,
           257.0440384247091,
           257.1077249813054,
           257.1714115379017,
           257.23509809449797,
           257.29878465109425
          ],
          [
           254.7513886092343,
           254.8150751658306,
           254.8787617224269,
           254.94244827902318,
           255.00613483561946,
           255.06982139221577,
           255.13350794881205,
           255.19719450540836,
           255.26088106200464,
           255.32456761860092,
           255.38825417519723,
           255.4519407317935,
           255.51562728838982,
           255.5793138449861,
           255.64300040158238,
           255.7066869581787,
           255.77037351477497,
           255.83406007137125,
           255.89774662796756,
           255.96143318456384,
           256.0251197411601,
           256.08880629775643,
           256.1524928543527,
           256.216179410949,
           256.2798659675453,
           256.34355252414156,
           256.40723908073784,
           256.4709256373342,
           256.53461219393046,
           256.59829875052674,
           256.661985307123,
           256.7256718637193,
           256.78935842031564,
           256.8530449769119,
           256.9167315335082,
           256.9804180901045,
           257.04410464670076,
           257.1077912032971,
           257.1714777598934,
           257.23516431648966,
           257.29885087308594
          ],
          [
           254.75145483122603,
           254.8151413878223,
           254.87882794441862,
           254.9425145010149,
           255.00620105761118,
           255.0698876142075,
           255.13357417080377,
           255.19726072740008,
           255.26094728399636,
           255.32463384059264,
           255.38832039718895,
           255.45200695378523,
           255.51569351038154,
           255.57938006697782,
           255.6430666235741,
           255.7067531801704,
           255.7704397367667,
           255.83412629336297,
           255.89781284995928,
           255.96149940655556,
           256.02518596315184,
           256.0888725197482,
           256.15255907634446,
           256.21624563294074,
           256.279932189537,
           256.3436187461333,
           256.4073053027296,
           256.4709918593259,
           256.5346784159222,
           256.5983649725185,
           256.66205152911476,
           256.72573808571104,
           256.7894246423074,
           256.85311119890366,
           256.91679775549994,
           256.9804843120962,
           257.0441708686925,
           257.10785742528884,
           257.1715439818851,
           257.2352305384814,
           257.2989170950777
          ],
          [
           254.75152105321774,
           254.81520760981402,
           254.87889416641033,
           254.9425807230066,
           255.0062672796029,
           255.0699538361992,
           255.13364039279548,
           255.1973269493918,
           255.26101350598807,
           255.32470006258436,
           255.38838661918066,
           255.45207317577695,
           255.51575973237325,
           255.57944628896954,
           255.64313284556582,
           255.70681940216213,
           255.7705059587584,
           255.8341925153547,
           255.897879071951,
           255.96156562854728,
           256.02525218514353,
           256.08893874173987,
           256.15262529833615,
           256.2163118549324,
           256.2799984115287,
           256.343684968125,
           256.40737152472127,
           256.4710580813176,
           256.5347446379139,
           256.59843119451017,
           256.66211775110645,
           256.72580430770273,
           256.78949086429907,
           256.85317742089535,
           256.91686397749163,
           256.9805505340879,
           257.0442370906842,
           257.10792364728053,
           257.1716102038768,
           257.2352967604731,
           257.29898331706937
          ],
          [
           254.75158727520943,
           254.8152738318057,
           254.87896038840202,
           254.9426469449983,
           255.00633350159458,
           255.0700200581909,
           255.13370661478717,
           255.19739317138348,
           255.26107972797976,
           255.32476628457604,
           255.38845284117235,
           255.45213939776863,
           255.51582595436494,
           255.57951251096122,
           255.6431990675575,
           255.7068856241538,
           255.7705721807501,
           255.83425873734637,
           255.89794529394268,
           255.96163185053896,
           256.0253184071352,
           256.08900496373155,
           256.15269152032783,
           256.2163780769241,
           256.2800646335204,
           256.3437511901167,
           256.40743774671296,
           256.4711243033093,
           256.5348108599056,
           256.59849741650186,
           256.66218397309814,
           256.7258705296944,
           256.78955708629076,
           256.85324364288704,
           256.9169301994833,
           256.9806167560796,
           257.0443033126759,
           257.1079898692722,
           257.1716764258685,
           257.2353629824648,
           257.29904953906106
          ],
          [
           254.75165349720115,
           254.81534005379743,
           254.87902661039374,
           254.94271316699002,
           255.0063997235863,
           255.0700862801826,
           255.1337728367789,
           255.1974593933752,
           255.26114594997148,
           255.32483250656776,
           255.38851906316407,
           255.45220561976035,
           255.51589217635666,
           255.57957873295294,
           255.64326528954922,
           255.70695184614553,
           255.7706384027418,
           255.8343249593381,
           255.8980115159344,
           255.96169807253068,
           256.0253846291269,
           256.08907118572324,
           256.1527577423195,
           256.2164442989158,
           256.2801308555121,
           256.34381741210836,
           256.40750396870465,
           256.471190525301,
           256.53487708189726,
           256.59856363849354,
           256.6622501950898,
           256.7259367516861,
           256.78962330828244,
           256.8533098648787,
           256.916996421475,
           256.9806829780713,
           257.04436953466757,
           257.1080560912639,
           257.1717426478602,
           257.23542920445647,
           257.29911576105275
          ],
          [
           254.75171971919286,
           254.81540627578914,
           254.87909283238545,
           254.94277938898173,
           255.00646594557801,
           255.07015250217432,
           255.1338390587706,
           255.1975256153669,
           255.2612121719632,
           255.32489872855948,
           255.38858528515578,
           255.45227184175207,
           255.51595839834837,
           255.57964495494465,
           255.64333151154094,
           255.70701806813724,
           255.77070462473353,
           255.8343911813298,
           255.89807773792612,
           255.9617642945224,
           256.02545085111865,
           256.089137407715,
           256.15282396431127,
           256.21651052090755,
           256.28019707750383,
           256.3438836341001,
           256.4075701906964,
           256.4712567472927,
           256.534943303889,
           256.5986298604853,
           256.66231641708157,
           256.72600297367785,
           256.7896895302742,
           256.85337608687047,
           256.91706264346675,
           256.98074920006303,
           257.0444357566593,
           257.10812231325565,
           257.17180886985193,
           257.2354954264482,
           257.2991819830445
          ],
          [
           254.75178594118455,
           254.81547249778083,
           254.87915905437714,
           254.94284561097342,
           255.0065321675697,
           255.070218724166,
           255.1339052807623,
           255.1975918373586,
           255.26127839395488,
           255.32496495055116,
           255.38865150714747,
           255.45233806374375,
           255.51602462034006,
           255.57971117693634,
           255.64339773353262,
           255.70708429012893,
           255.7707708467252,
           255.8344574033215,
           255.8981439599178,
           255.96183051651408,
           256.02551707311034,
           256.0892036297067,
           256.15289018630295,
           256.21657674289924,
           256.2802632994955,
           256.3439498560918,
           256.4076364126881,
           256.4713229692844,
           256.5350095258807,
           256.598696082477,
           256.66238263907326,
           256.72606919566954,
           256.7897557522659,
           256.85344230886216,
           256.91712886545844,
           256.9808154220547,
           257.044501978651,
           257.10818853524734,
           257.1718750918436,
           257.2355616484399,
           257.2992482050362
          ]
         ]
        }
       ],
       "layout": {
        "scene": {
         "xaxis": {
          "title": {
           "text": "X Label"
          }
         },
         "yaxis": {
          "title": {
           "text": "Y Label"
          }
         },
         "zaxis": {
          "title": {
           "text": "Z Label"
          }
         }
        },
        "template": {
         "data": {
          "bar": [
           {
            "error_x": {
             "color": "#2a3f5f"
            },
            "error_y": {
             "color": "#2a3f5f"
            },
            "marker": {
             "line": {
              "color": "#E5ECF6",
              "width": 0.5
             },
             "pattern": {
              "fillmode": "overlay",
              "size": 10,
              "solidity": 0.2
             }
            },
            "type": "bar"
           }
          ],
          "barpolar": [
           {
            "marker": {
             "line": {
              "color": "#E5ECF6",
              "width": 0.5
             },
             "pattern": {
              "fillmode": "overlay",
              "size": 10,
              "solidity": 0.2
             }
            },
            "type": "barpolar"
           }
          ],
          "carpet": [
           {
            "aaxis": {
             "endlinecolor": "#2a3f5f",
             "gridcolor": "white",
             "linecolor": "white",
             "minorgridcolor": "white",
             "startlinecolor": "#2a3f5f"
            },
            "baxis": {
             "endlinecolor": "#2a3f5f",
             "gridcolor": "white",
             "linecolor": "white",
             "minorgridcolor": "white",
             "startlinecolor": "#2a3f5f"
            },
            "type": "carpet"
           }
          ],
          "choropleth": [
           {
            "colorbar": {
             "outlinewidth": 0,
             "ticks": ""
            },
            "type": "choropleth"
           }
          ],
          "contour": [
           {
            "colorbar": {
             "outlinewidth": 0,
             "ticks": ""
            },
            "colorscale": [
             [
              0,
              "#0d0887"
             ],
             [
              0.1111111111111111,
              "#46039f"
             ],
             [
              0.2222222222222222,
              "#7201a8"
             ],
             [
              0.3333333333333333,
              "#9c179e"
             ],
             [
              0.4444444444444444,
              "#bd3786"
             ],
             [
              0.5555555555555556,
              "#d8576b"
             ],
             [
              0.6666666666666666,
              "#ed7953"
             ],
             [
              0.7777777777777778,
              "#fb9f3a"
             ],
             [
              0.8888888888888888,
              "#fdca26"
             ],
             [
              1,
              "#f0f921"
             ]
            ],
            "type": "contour"
           }
          ],
          "contourcarpet": [
           {
            "colorbar": {
             "outlinewidth": 0,
             "ticks": ""
            },
            "type": "contourcarpet"
           }
          ],
          "heatmap": [
           {
            "colorbar": {
             "outlinewidth": 0,
             "ticks": ""
            },
            "colorscale": [
             [
              0,
              "#0d0887"
             ],
             [
              0.1111111111111111,
              "#46039f"
             ],
             [
              0.2222222222222222,
              "#7201a8"
             ],
             [
              0.3333333333333333,
              "#9c179e"
             ],
             [
              0.4444444444444444,
              "#bd3786"
             ],
             [
              0.5555555555555556,
              "#d8576b"
             ],
             [
              0.6666666666666666,
              "#ed7953"
             ],
             [
              0.7777777777777778,
              "#fb9f3a"
             ],
             [
              0.8888888888888888,
              "#fdca26"
             ],
             [
              1,
              "#f0f921"
             ]
            ],
            "type": "heatmap"
           }
          ],
          "heatmapgl": [
           {
            "colorbar": {
             "outlinewidth": 0,
             "ticks": ""
            },
            "colorscale": [
             [
              0,
              "#0d0887"
             ],
             [
              0.1111111111111111,
              "#46039f"
             ],
             [
              0.2222222222222222,
              "#7201a8"
             ],
             [
              0.3333333333333333,
              "#9c179e"
             ],
             [
              0.4444444444444444,
              "#bd3786"
             ],
             [
              0.5555555555555556,
              "#d8576b"
             ],
             [
              0.6666666666666666,
              "#ed7953"
             ],
             [
              0.7777777777777778,
              "#fb9f3a"
             ],
             [
              0.8888888888888888,
              "#fdca26"
             ],
             [
              1,
              "#f0f921"
             ]
            ],
            "type": "heatmapgl"
           }
          ],
          "histogram": [
           {
            "marker": {
             "pattern": {
              "fillmode": "overlay",
              "size": 10,
              "solidity": 0.2
             }
            },
            "type": "histogram"
           }
          ],
          "histogram2d": [
           {
            "colorbar": {
             "outlinewidth": 0,
             "ticks": ""
            },
            "colorscale": [
             [
              0,
              "#0d0887"
             ],
             [
              0.1111111111111111,
              "#46039f"
             ],
             [
              0.2222222222222222,
              "#7201a8"
             ],
             [
              0.3333333333333333,
              "#9c179e"
             ],
             [
              0.4444444444444444,
              "#bd3786"
             ],
             [
              0.5555555555555556,
              "#d8576b"
             ],
             [
              0.6666666666666666,
              "#ed7953"
             ],
             [
              0.7777777777777778,
              "#fb9f3a"
             ],
             [
              0.8888888888888888,
              "#fdca26"
             ],
             [
              1,
              "#f0f921"
             ]
            ],
            "type": "histogram2d"
           }
          ],
          "histogram2dcontour": [
           {
            "colorbar": {
             "outlinewidth": 0,
             "ticks": ""
            },
            "colorscale": [
             [
              0,
              "#0d0887"
             ],
             [
              0.1111111111111111,
              "#46039f"
             ],
             [
              0.2222222222222222,
              "#7201a8"
             ],
             [
              0.3333333333333333,
              "#9c179e"
             ],
             [
              0.4444444444444444,
              "#bd3786"
             ],
             [
              0.5555555555555556,
              "#d8576b"
             ],
             [
              0.6666666666666666,
              "#ed7953"
             ],
             [
              0.7777777777777778,
              "#fb9f3a"
             ],
             [
              0.8888888888888888,
              "#fdca26"
             ],
             [
              1,
              "#f0f921"
             ]
            ],
            "type": "histogram2dcontour"
           }
          ],
          "mesh3d": [
           {
            "colorbar": {
             "outlinewidth": 0,
             "ticks": ""
            },
            "type": "mesh3d"
           }
          ],
          "parcoords": [
           {
            "line": {
             "colorbar": {
              "outlinewidth": 0,
              "ticks": ""
             }
            },
            "type": "parcoords"
           }
          ],
          "pie": [
           {
            "automargin": true,
            "type": "pie"
           }
          ],
          "scatter": [
           {
            "fillpattern": {
             "fillmode": "overlay",
             "size": 10,
             "solidity": 0.2
            },
            "type": "scatter"
           }
          ],
          "scatter3d": [
           {
            "line": {
             "colorbar": {
              "outlinewidth": 0,
              "ticks": ""
             }
            },
            "marker": {
             "colorbar": {
              "outlinewidth": 0,
              "ticks": ""
             }
            },
            "type": "scatter3d"
           }
          ],
          "scattercarpet": [
           {
            "marker": {
             "colorbar": {
              "outlinewidth": 0,
              "ticks": ""
             }
            },
            "type": "scattercarpet"
           }
          ],
          "scattergeo": [
           {
            "marker": {
             "colorbar": {
              "outlinewidth": 0,
              "ticks": ""
             }
            },
            "type": "scattergeo"
           }
          ],
          "scattergl": [
           {
            "marker": {
             "colorbar": {
              "outlinewidth": 0,
              "ticks": ""
             }
            },
            "type": "scattergl"
           }
          ],
          "scattermapbox": [
           {
            "marker": {
             "colorbar": {
              "outlinewidth": 0,
              "ticks": ""
             }
            },
            "type": "scattermapbox"
           }
          ],
          "scatterpolar": [
           {
            "marker": {
             "colorbar": {
              "outlinewidth": 0,
              "ticks": ""
             }
            },
            "type": "scatterpolar"
           }
          ],
          "scatterpolargl": [
           {
            "marker": {
             "colorbar": {
              "outlinewidth": 0,
              "ticks": ""
             }
            },
            "type": "scatterpolargl"
           }
          ],
          "scatterternary": [
           {
            "marker": {
             "colorbar": {
              "outlinewidth": 0,
              "ticks": ""
             }
            },
            "type": "scatterternary"
           }
          ],
          "surface": [
           {
            "colorbar": {
             "outlinewidth": 0,
             "ticks": ""
            },
            "colorscale": [
             [
              0,
              "#0d0887"
             ],
             [
              0.1111111111111111,
              "#46039f"
             ],
             [
              0.2222222222222222,
              "#7201a8"
             ],
             [
              0.3333333333333333,
              "#9c179e"
             ],
             [
              0.4444444444444444,
              "#bd3786"
             ],
             [
              0.5555555555555556,
              "#d8576b"
             ],
             [
              0.6666666666666666,
              "#ed7953"
             ],
             [
              0.7777777777777778,
              "#fb9f3a"
             ],
             [
              0.8888888888888888,
              "#fdca26"
             ],
             [
              1,
              "#f0f921"
             ]
            ],
            "type": "surface"
           }
          ],
          "table": [
           {
            "cells": {
             "fill": {
              "color": "#EBF0F8"
             },
             "line": {
              "color": "white"
             }
            },
            "header": {
             "fill": {
              "color": "#C8D4E3"
             },
             "line": {
              "color": "white"
             }
            },
            "type": "table"
           }
          ]
         },
         "layout": {
          "annotationdefaults": {
           "arrowcolor": "#2a3f5f",
           "arrowhead": 0,
           "arrowwidth": 1
          },
          "autotypenumbers": "strict",
          "coloraxis": {
           "colorbar": {
            "outlinewidth": 0,
            "ticks": ""
           }
          },
          "colorscale": {
           "diverging": [
            [
             0,
             "#8e0152"
            ],
            [
             0.1,
             "#c51b7d"
            ],
            [
             0.2,
             "#de77ae"
            ],
            [
             0.3,
             "#f1b6da"
            ],
            [
             0.4,
             "#fde0ef"
            ],
            [
             0.5,
             "#f7f7f7"
            ],
            [
             0.6,
             "#e6f5d0"
            ],
            [
             0.7,
             "#b8e186"
            ],
            [
             0.8,
             "#7fbc41"
            ],
            [
             0.9,
             "#4d9221"
            ],
            [
             1,
             "#276419"
            ]
           ],
           "sequential": [
            [
             0,
             "#0d0887"
            ],
            [
             0.1111111111111111,
             "#46039f"
            ],
            [
             0.2222222222222222,
             "#7201a8"
            ],
            [
             0.3333333333333333,
             "#9c179e"
            ],
            [
             0.4444444444444444,
             "#bd3786"
            ],
            [
             0.5555555555555556,
             "#d8576b"
            ],
            [
             0.6666666666666666,
             "#ed7953"
            ],
            [
             0.7777777777777778,
             "#fb9f3a"
            ],
            [
             0.8888888888888888,
             "#fdca26"
            ],
            [
             1,
             "#f0f921"
            ]
           ],
           "sequentialminus": [
            [
             0,
             "#0d0887"
            ],
            [
             0.1111111111111111,
             "#46039f"
            ],
            [
             0.2222222222222222,
             "#7201a8"
            ],
            [
             0.3333333333333333,
             "#9c179e"
            ],
            [
             0.4444444444444444,
             "#bd3786"
            ],
            [
             0.5555555555555556,
             "#d8576b"
            ],
            [
             0.6666666666666666,
             "#ed7953"
            ],
            [
             0.7777777777777778,
             "#fb9f3a"
            ],
            [
             0.8888888888888888,
             "#fdca26"
            ],
            [
             1,
             "#f0f921"
            ]
           ]
          },
          "colorway": [
           "#636efa",
           "#EF553B",
           "#00cc96",
           "#ab63fa",
           "#FFA15A",
           "#19d3f3",
           "#FF6692",
           "#B6E880",
           "#FF97FF",
           "#FECB52"
          ],
          "font": {
           "color": "#2a3f5f"
          },
          "geo": {
           "bgcolor": "white",
           "lakecolor": "white",
           "landcolor": "#E5ECF6",
           "showlakes": true,
           "showland": true,
           "subunitcolor": "white"
          },
          "hoverlabel": {
           "align": "left"
          },
          "hovermode": "closest",
          "mapbox": {
           "style": "light"
          },
          "paper_bgcolor": "white",
          "plot_bgcolor": "#E5ECF6",
          "polar": {
           "angularaxis": {
            "gridcolor": "white",
            "linecolor": "white",
            "ticks": ""
           },
           "bgcolor": "#E5ECF6",
           "radialaxis": {
            "gridcolor": "white",
            "linecolor": "white",
            "ticks": ""
           }
          },
          "scene": {
           "xaxis": {
            "backgroundcolor": "#E5ECF6",
            "gridcolor": "white",
            "gridwidth": 2,
            "linecolor": "white",
            "showbackground": true,
            "ticks": "",
            "zerolinecolor": "white"
           },
           "yaxis": {
            "backgroundcolor": "#E5ECF6",
            "gridcolor": "white",
            "gridwidth": 2,
            "linecolor": "white",
            "showbackground": true,
            "ticks": "",
            "zerolinecolor": "white"
           },
           "zaxis": {
            "backgroundcolor": "#E5ECF6",
            "gridcolor": "white",
            "gridwidth": 2,
            "linecolor": "white",
            "showbackground": true,
            "ticks": "",
            "zerolinecolor": "white"
           }
          },
          "shapedefaults": {
           "line": {
            "color": "#2a3f5f"
           }
          },
          "ternary": {
           "aaxis": {
            "gridcolor": "white",
            "linecolor": "white",
            "ticks": ""
           },
           "baxis": {
            "gridcolor": "white",
            "linecolor": "white",
            "ticks": ""
           },
           "bgcolor": "#E5ECF6",
           "caxis": {
            "gridcolor": "white",
            "linecolor": "white",
            "ticks": ""
           }
          },
          "title": {
           "x": 0.05
          },
          "xaxis": {
           "automargin": true,
           "gridcolor": "white",
           "linecolor": "white",
           "ticks": "",
           "title": {
            "standoff": 15
           },
           "zerolinecolor": "white",
           "zerolinewidth": 2
          },
          "yaxis": {
           "automargin": true,
           "gridcolor": "white",
           "linecolor": "white",
           "ticks": "",
           "title": {
            "standoff": 15
           },
           "zerolinecolor": "white",
           "zerolinewidth": 2
          }
         }
        }
       }
      },
      "text/html": [
       "<div>                            <div id=\"87128a63-21e9-4bfb-a67e-0a5a145302bf\" class=\"plotly-graph-div\" style=\"height:525px; width:100%;\"></div>            <script type=\"text/javascript\">                require([\"plotly\"], function(Plotly) {                    window.PLOTLYENV=window.PLOTLYENV || {};                                    if (document.getElementById(\"87128a63-21e9-4bfb-a67e-0a5a145302bf\")) {                    Plotly.newPlot(                        \"87128a63-21e9-4bfb-a67e-0a5a145302bf\",                        [{\"marker\":{\"color\":\"red\",\"opacity\":0.8,\"size\":4},\"mode\":\"markers\",\"x\":[2016,2016,2016,2016,2016,2016,2016,2016,2016,2016,2016,2016,2017,2017,2017,2017,2017,2017,2017,2017,2017,2017,2017,2017,2018,2018,2018,2018,2018,2018],\"y\":[1,2,3,4,5,6,7,8,9,10,11,12,1,2,3,4,5,6,7,8,9,10,11,12,1,2,3,4,5,6],\"z\":[266,146,183,119,180,169,232,225,193,123,337,186,194,150,210,273,191,287,226,304,290,422,265,342,340,440,316,439,401,390],\"type\":\"scatter3d\"},{\"colorscale\":[[0.0,\"#440154\"],[0.1111111111111111,\"#482878\"],[0.2222222222222222,\"#3e4989\"],[0.3333333333333333,\"#31688e\"],[0.4444444444444444,\"#26828e\"],[0.5555555555555556,\"#1f9e89\"],[0.6666666666666666,\"#35b779\"],[0.7777777777777778,\"#6ece58\"],[0.8888888888888888,\"#b5de2b\"],[1.0,\"#fde725\"]],\"showscale\":false,\"x\":[2016,2016,2016,2016,2016,2016,2016,2016,2016,2016,2016,2016,2017,2017,2017,2017,2017,2017,2017,2017,2017,2017,2017,2017,2018,2018,2018,2018,2018,2018],\"y\":[1,2,3,4,5,6,7,8,9,10,11,12,1,2,3,4,5,6,7,8,9,10,11,12,1,2,3,4,5,6],\"z\":[[254.746289515873,254.80997607246928,254.8736626290656,254.93734918566187,255.00103574225815,255.06472229885446,255.12840885545074,255.19209541204705,255.25578196864333,255.3194685252396,255.38315508183592,255.4468416384322,255.5105281950285,255.5742147516248,255.63790130822107,255.70158786481738,255.76527442141366,255.82896097800995,255.89264753460625,255.95633409120254,256.0200206477988,256.0837072043951,256.1473937609914,256.2110803175877,256.27476687418397,256.33845343078025,256.40213998737653,256.46582654397287,256.52951310056915,256.5931996571654,256.6568862137617,256.720572770358,256.7842593269543,256.8479458835506,256.9116324401469,256.97531899674317,257.03900555333945,257.1026921099358,257.16637866653207,257.23006522312835,257.29375177972463],[254.74635573786472,254.810042294461,254.8737288510573,254.9374154076536,255.00110196424987,255.06478852084618,255.12847507744246,255.19216163403877,255.25584819063505,255.31953474723133,255.38322130382764,255.44690786042392,255.51059441702023,255.5742809736165,255.6379675302128,255.7016540868091,255.76534064340538,255.82902720000166,255.89271375659797,255.95640031319425,256.0200868697905,256.0837734263868,256.1474599829831,256.2111465395794,256.27483309617566,256.33851965277194,256.4022062093682,256.46589276596455,256.52957932256083,256.5932658791571,256.6569524357534,256.7206389923497,256.784325548946,256.8480121055423,256.9116986621386,256.97538521873486,257.03907177533114,257.1027583319275,257.16644488852376,257.23013144512004,257.2938180017163],[254.7464219598564,254.8101085164527,254.873795073049,254.93748162964528,255.00116818624156,255.06485474283787,255.12854129943415,255.19222785603046,255.25591441262674,255.31960096922302,255.38328752581933,255.4469740824156,255.51066063901192,255.5743471956082,255.63803375220448,255.7017203088008,255.76540686539707,255.82909342199335,255.89277997858966,255.95646653518594,256.0201530917822,256.08383964837856,256.14752620497484,256.2112127615711,256.2748993181674,256.3385858747637,256.40227243135996,256.4659589879563,256.5296455445526,256.59333210114886,256.65701865774514,256.7207052143414,256.78439177093776,256.84807832753404,256.9117648841303,256.9754514407266,257.0391379973229,257.1028245539192,257.1665111105155,257.2301976671118,257.29388422370806],[254.74648818184812,254.8101747384444,254.8738612950407,254.937547851637,255.00123440823327,255.06492096482958,255.12860752142586,255.19229407802217,255.25598063461845,255.31966719121473,255.38335374781104,255.44704030440732,255.51072686100363,255.5744134175999,255.6380999741962,255.7017865307925,255.76547308738878,255.82915964398507,255.89284620058137,255.95653275717765,256.0202193137739,256.08390587037024,256.1475924269665,256.2112789835628,256.2749655401591,256.33865209675537,256.40233865335165,256.466025209948,256.52971176654427,256.59339832314055,256.65708487973683,256.7207714363331,256.78445799292945,256.8481445495257,256.911831106122,256.9755176627183,257.03920421931457,257.1028907759109,257.1665773325072,257.23026388910347,257.29395044569975],[254.74655440383984,254.81024096043612,254.87392751703243,254.9376140736287,255.001300630225,255.0649871868213,255.12867374341758,255.1923603000139,255.25604685661017,255.31973341320645,255.38341996980276,255.44710652639904,255.51079308299535,255.57447963959163,255.6381661961879,255.70185275278422,255.7655393093805,255.82922586597678,255.8929124225731,255.95659897916937,256.0202855357656,256.08397209236193,256.1476586489582,256.2113452055545,256.2750317621508,256.33871831874706,256.40240487534334,256.4660914319397,256.52977798853595,256.59346454513224,256.6571511017285,256.7208376583248,256.78452421492113,256.8482107715174,256.9118973281137,256.97558388471,257.03927044130626,257.1029569979026,257.1666435544989,257.23033011109516,257.29401666769144],[254.74662062583153,254.8103071824278,254.87399373902412,254.9376802956204,255.00136685221668,255.065053408813,255.12873996540927,255.19242652200558,255.25611307860186,255.31979963519814,255.38348619179445,255.44717274839073,255.51085930498704,255.57454586158332,255.6382324181796,255.7019189747759,255.7656055313722,255.82929208796847,255.89297864456478,255.95666520116106,256.02035175775734,256.0840383143537,256.14772487094996,256.21141142754624,256.2750979841425,256.3387845407388,256.4024710973351,256.4661576539314,256.5298442105277,256.593530767124,256.65721732372026,256.72090388031654,256.7845904369129,256.84827699350916,256.91196355010544,256.9756501067017,257.039336663298,257.10302321989434,257.1667097764906,257.2303963330869,257.2940828896832],[254.74668684782324,254.81037340441952,254.87405996101583,254.9377465176121,255.0014330742084,255.0651196308047,255.12880618740098,255.1924927439973,255.25617930059357,255.31986585718985,255.38355241378616,255.44723897038244,255.51092552697875,255.57461208357503,255.6382986401713,255.70198519676762,255.7656717533639,255.82935830996018,255.8930448665565,255.95673142315277,256.020417979749,256.08410453634536,256.14779109294165,256.2114776495379,256.2751642061342,256.3388507627305,256.40253731932677,256.4662238759231,256.5299104325194,256.59359698911567,256.65728354571195,256.72097010230823,256.78465665890457,256.84834321550085,256.9120297720971,256.9757163286934,257.0394028852897,257.103089441886,257.1667759984823,257.2304625550786,257.29414911167487],[254.74675306981493,254.8104396264112,254.87412618300752,254.9378127396038,255.00149929620008,255.0651858527964,255.12887240939267,255.19255896598898,255.25624552258526,255.31993207918154,255.38361863577785,255.44730519237413,255.51099174897044,255.57467830556672,255.638364862163,255.7020514187593,255.7657379753556,255.82942453195187,255.89311108854818,255.95679764514446,256.0204842017407,256.08417075833705,256.14785731493333,256.2115438715296,256.2752304281259,256.3389169847222,256.40260354131846,256.4662900979148,256.5299766545111,256.59366321110735,256.65734976770364,256.7210363242999,256.78472288089625,256.84840943749253,256.9120959940888,256.9757825506851,257.0394691072814,257.1031556638777,257.166842220474,257.2305287770703,257.29421533366656],[254.74681929180664,254.81050584840293,254.87419240499923,254.93787896159552,255.0015655181918,255.0652520747881,255.1289386313844,255.1926251879807,255.25631174457698,255.31999830117326,255.38368485776957,255.44737141436585,255.51105797096216,255.57474452755844,255.63843108415472,255.70211764075103,255.7658041973473,255.8294907539436,255.8931773105399,255.95686386713618,256.02055042373246,256.0842369803288,256.1479235369251,256.21161009352136,256.27529665011764,256.3389832067139,256.4026697633102,256.46635631990654,256.5300428765028,256.5937294330991,256.6574159896954,256.72110254629166,256.784789102888,256.8484756594843,256.91216221608056,256.97584877267684,257.0395353292731,257.10322188586946,257.16690844246574,257.230594999062,257.2942815556583],[254.74688551379836,254.81057207039464,254.87425862699095,254.93794518358723,255.0016317401835,255.06531829677982,255.1290048533761,255.1926914099724,255.2563779665687,255.32006452316497,255.38375107976128,255.44743763635756,255.51112419295387,255.57481074955015,255.63849730614643,255.70218386274274,255.76587041933902,255.8295569759353,255.8932435325316,255.9569300891279,256.02061664572415,256.0843032023205,256.14798975891676,256.21167631551305,256.2753628721093,256.3390494287056,256.4027359853019,256.4664225418982,256.5301090984945,256.5937956550908,256.65748221168707,256.72116876828335,256.7848553248797,256.84854188147597,256.91222843807225,256.9759149946685,257.0396015512648,257.10328810786115,257.1669746644574,257.2306612210537,257.29434777765],[254.74695173579005,254.81063829238633,254.87432484898264,254.93801140557892,255.0016979621752,255.0653845187715,255.1290710753678,255.1927576319641,255.25644418856038,255.32013074515666,255.38381730175297,255.44750385834925,255.51119041494556,255.57487697154184,255.63856352813812,255.70225008473443,255.7659366413307,255.829623197927,255.8933097545233,255.95699631111958,256.02068286771583,256.0843694243122,256.14805598090845,256.21174253750473,256.275429094101,256.3391156506973,256.4028022072936,256.4664887638899,256.5301753204862,256.5938618770825,256.65754843367876,256.72123499027504,256.7849215468714,256.84860810346765,256.91229466006394,256.9759812166602,257.0396677732565,257.10335432985283,257.1670408864491,257.2307274430454,257.2944139996417],[254.74701795778176,254.81070451437805,254.87439107097435,254.93807762757064,255.00176418416692,255.06545074076323,255.1291372973595,255.19282385395582,255.2565104105521,255.32019696714838,255.3838835237447,255.44757008034097,255.51125663693728,255.57494319353356,255.63862975012984,255.70231630672615,255.76600286332243,255.8296894199187,255.89337597651502,255.9570625331113,256.0207490897075,256.08443564630386,256.14812220290014,256.2118087594964,256.2754953160927,256.339181872689,256.40286842928526,256.4665549858816,256.5302415424779,256.59392809907416,256.65761465567044,256.7213012122667,256.78498776886306,256.84867432545934,256.9123608820556,256.9760474386519,257.0397339952482,257.1034205518445,257.1671071084408,257.2307936650371,257.29448022163336],[254.74708417977348,254.81077073636976,254.87445729296607,254.93814384956235,255.00183040615863,255.06551696275494,255.12920351935122,255.19289007594753,255.2565766325438,255.3202631891401,255.3839497457364,255.44763630233268,255.511322858929,255.57500941552527,255.63869597212155,255.70238252871786,255.76606908531414,255.82975564191042,255.89344219850673,255.957128755103,256.02081531169927,256.0845018682956,256.1481884248919,256.21187498148817,256.27556153808445,256.3392480946807,256.402934651277,256.46662120787335,256.5303077644696,256.5939943210659,256.6576808776622,256.72136743425847,256.7850539908548,256.8487405474511,256.91242710404737,256.97611366064365,257.03980021723993,257.10348677383627,257.16717333043255,257.2308598870288,257.2945464436251],[254.74715040176517,254.81083695836145,254.87452351495776,254.93821007155404,255.00189662815032,255.06558318474663,255.1292697413429,255.19295629793922,255.2566428545355,255.32032941113178,255.3840159677281,255.44770252432437,255.51138908092068,255.57507563751696,255.63876219411324,255.70244875070955,255.76613530730583,255.8298218639021,255.89350842049842,255.9571949770947,256.02088153369095,256.0845680902873,256.1482546468836,256.21194120347985,256.27562776007613,256.3393143166724,256.4030008732687,256.46668742986503,256.5303739864613,256.5940605430576,256.6577470996539,256.72143365625016,256.7851202128465,256.8488067694428,256.91249332603905,256.97617988263534,257.0398664392316,257.10355299582795,257.16723955242423,257.2309261090205,257.2946126656168],[254.74721662375688,254.81090318035316,254.87458973694947,254.93827629354575,255.00196285014204,255.06564940673834,255.12933596333463,255.19302251993093,255.25670907652722,255.3203956331235,255.3840821897198,255.4477687463161,255.5114553029124,255.57514185950868,255.63882841610496,255.70251497270127,255.76620152929755,255.82988808589383,255.89357464249014,255.95726119908642,256.02094775568264,256.084634312279,256.14832086887526,256.21200742547154,256.2756939820678,256.3393805386641,256.4030670952604,256.4667536518567,256.530440208453,256.5941267650493,256.65781332164556,256.72149987824184,256.7851864348382,256.84887299143446,256.91255954803074,256.976246104627,257.0399326612233,257.10361921781964,257.1673057744159,257.2309923310122,257.2946788876085],[254.74728284574857,254.81096940234485,254.87465595894116,254.93834251553744,255.00202907213372,255.06571562873003,255.1294021853263,255.19308874192262,255.2567752985189,255.32046185511518,255.3841484117115,255.44783496830777,255.51152152490408,255.57520808150036,255.63889463809664,255.70258119469295,255.76626775128923,255.82995430788552,255.89364086448182,255.9573274210781,256.0210139776744,256.0847005342707,256.148387090867,256.2120736474633,256.27576020405957,256.33944676065585,256.4031333172521,256.46681987384846,256.53050643044475,256.594192987041,256.6578795436373,256.7215661002336,256.7852526568299,256.8489392134262,256.9126257700225,256.97631232661877,257.03999888321505,257.1036854398114,257.16737199640767,257.23105855300395,257.2947451096002],[254.7473490677403,254.81103562433657,254.87472218093288,254.93840873752916,255.00209529412544,255.06578185072175,255.12946840731803,255.19315496391434,255.25684152051062,255.3205280771069,255.3842146337032,255.4479011902995,255.5115877468958,255.57527430349208,255.63896086008836,255.70264741668467,255.76633397328095,255.83002052987723,255.89370708647354,255.95739364306982,256.0210801996661,256.0847667562624,256.1484533128587,256.212139869455,256.27582642605125,256.33951298264753,256.4031995392438,256.46688609584015,256.53057265243643,256.5942592090327,256.657945765629,256.7216323222253,256.7853188788216,256.8490054354179,256.9126919920142,256.97637854861046,257.04006510520674,257.1037516618031,257.16743821839935,257.23112477499564,257.2948113315919],[254.747415289732,254.81110184632828,254.8747884029246,254.93847495952087,255.00216151611716,255.06584807271346,255.12953462930975,255.19322118590605,255.25690774250234,255.32059429909862,255.38428085569493,255.4479674122912,255.51165396888752,255.5753405254838,255.63902708208008,255.70271363867639,255.76640019527267,255.83008675186895,255.89377330846526,255.95745986506154,256.02114642165776,256.0848329782541,256.1485195348504,256.21220609144666,256.27589264804294,256.3395792046392,256.4032657612355,256.46695231783184,256.5306388744281,256.5943254310244,256.6580119876207,256.72169854421696,256.7853851008133,256.8490716574096,256.91275821400586,256.97644477060214,257.0401313271984,257.10381788379476,257.16750444039104,257.2311909969873,257.2948775535836],[254.7474815117237,254.81116806831997,254.87485462491628,254.93854118151256,255.00222773810884,255.06591429470515,255.12960085130143,255.19328740789774,255.25697396449402,255.3206605210903,255.3843470776866,255.4480336342829,255.5117201908792,255.57540674747548,255.63909330407176,255.70277986066807,255.76646641726435,255.83015297386063,255.89383953045694,255.95752608705322,256.0212126436495,256.08489920024584,256.1485857568421,256.2122723134384,256.2759588700347,256.33964542663097,256.40333198322725,256.4670185398236,256.53070509641987,256.59439165301615,256.6580782096124,256.7217647662087,256.78545132280505,256.8491378794013,256.9128244359976,256.9765109925939,257.04019754919017,257.1038841057865,257.1675706623828,257.23125721897907,257.29494377557535],[254.7475477337154,254.8112342903117,254.874920846908,254.93860740350428,255.00229396010056,255.06598051669687,255.12966707329315,255.19335362988946,255.25704018648574,255.32072674308202,255.38441329967833,255.4480998562746,255.51178641287092,255.5754729694672,255.63915952606348,255.7028460826598,255.76653263925607,255.83021919585235,255.89390575244866,255.95759230904494,256.0212788656412,256.08496542223753,256.1486519788338,256.2123385354301,256.2760250920264,256.33971164862265,256.40339820521893,256.4670847618153,256.53077131841155,256.59445787500783,256.6581444316041,256.7218309882004,256.78551754479673,256.849204101393,256.9128906579893,256.9765772145856,257.04026377118186,257.1039503277782,257.1676368843745,257.23132344097075,257.29500999756704],[254.74761395570712,254.8113005123034,254.8749870688997,254.938673625496,255.00236018209227,255.06604673868858,255.12973329528486,255.19341985188117,255.25710640847745,255.32079296507374,255.38447952167004,255.44816607826633,255.51185263486263,255.57553919145892,255.6392257480552,255.7029123046515,255.7665988612478,255.83028541784407,255.89397197444038,255.95765853103666,256.0213450876329,256.0850316442292,256.1487182008255,256.2124047574218,256.27609131401806,256.33977787061434,256.4034644272106,256.46715098380696,256.53083754040324,256.5945240969995,256.6582106535958,256.7218972101921,256.7855837667884,256.8492703233847,256.912956879981,256.97664343657726,257.04032999317354,257.1040165497699,257.16770310636616,257.23138966296244,257.2950762195587],[254.7476801776988,254.8113667342951,254.8750532908914,254.93873984748768,255.00242640408396,255.06611296068027,255.12979951727655,255.19348607387286,255.25717263046914,255.32085918706542,255.38454574366173,255.448232300258,255.51191885685432,255.5756054134506,255.63929197004688,255.7029785266432,255.76666508323947,255.83035163983575,255.89403819643206,255.95772475302834,256.0214113096246,256.08509786622096,256.14878442281724,256.2124709794135,256.2761575360098,256.3398440926061,256.40353064920237,256.4672172057987,256.530903762395,256.59459031899127,256.65827687558755,256.7219634321838,256.78564998878016,256.84933654537645,256.9130231019727,256.976709658569,257.0403962151653,257.1040827717616,257.1677693283579,257.2314558849542,257.29514244155047],[254.74774639969053,254.8114329562868,254.87511951288312,254.9388060694794,255.00249262607568,255.066179182672,255.12986573926827,255.19355229586458,255.25723885246086,255.32092540905714,255.38461196565345,255.44829852224973,255.51198507884604,255.57567163544232,255.6393581920386,255.7030447486349,255.7667313052312,255.83041786182747,255.89410441842378,255.95779097502006,256.0214775316163,256.08516408821265,256.14885064480893,256.2125372014052,256.2762237580015,256.3399103145978,256.40359687119405,256.4672834277904,256.5309699843867,256.59465654098295,256.65834309757923,256.7220296541755,256.78571621077185,256.84940276736813,256.9130893239644,256.9767758805607,257.040462437157,257.1041489937533,257.1678355503496,257.2315221069459,257.29520866354216],[254.74781262168221,254.8114991782785,254.8751857348748,254.93887229147109,255.00255884806737,255.06624540466368,255.12993196125996,255.19361851785627,255.25730507445255,255.32099163104883,255.38467818764514,255.44836474424142,255.51205130083773,255.575737857434,255.6394244140303,255.7031109706266,255.76679752722288,255.83048408381916,255.89417064041547,255.95785719701175,256.021543753608,256.08523031020434,256.1489168668006,256.2126034233969,256.2762899799932,256.33997653658946,256.40366309318574,256.4673496497821,256.53103620637836,256.59472276297464,256.6584093195709,256.7220958761672,256.78578243276354,256.8494689893598,256.9131555459561,256.9768421025524,257.04052865914866,257.104215215745,257.1679017723413,257.23158832893756,257.29527488553384],[254.74787884367393,254.8115654002702,254.87525195686652,254.9389385134628,255.00262507005908,255.0663116266554,255.12999818325167,255.19368473984798,255.25737129644426,255.32105785304054,255.38474440963685,255.44843096623313,255.51211752282944,255.57580407942572,255.639490636022,255.7031771926183,255.7668637492146,255.83055030581087,255.89423686240718,255.95792341900346,256.02160997559974,256.0852965321961,256.14898308879236,256.21266964538864,256.2763562019849,256.3400427585812,256.4037293151775,256.4674158717738,256.5311024283701,256.5947889849664,256.65847554156267,256.72216209815895,256.7858486547553,256.84953521135157,256.91322176794785,256.9769083245441,257.0405948811404,257.10428143773674,257.167967994333,257.2316545509293,257.2953411075256],[254.74794506566565,254.81163162226193,254.87531817885824,254.93900473545452,255.0026912920508,255.0663778486471,255.1300644052434,255.1937509618397,255.25743751843598,255.32112407503226,255.38481063162857,255.44849718822485,255.51218374482116,255.57587030141744,255.63955685801372,255.70324341461003,255.7669299712063,255.8306165278026,255.8943030843989,255.95798964099518,256.02167619759143,256.08536275418777,256.14904931078405,256.21273586738033,256.2764224239766,256.3401089805729,256.4037955371692,256.4674820937655,256.5311686503618,256.5948552069581,256.65854176355435,256.72222832015063,256.785914876747,256.84960143334325,256.91328798993953,256.9769745465358,257.0406611031321,257.10434765972843,257.1680342163247,257.231720772921,257.2954073295173],[254.74801128765733,254.81169784425362,254.87538440084992,254.9390709574462,255.0027575140425,255.0664440706388,255.13013062723508,255.19381718383138,255.25750374042767,255.32119029702395,255.38487685362026,255.44856341021654,255.51224996681285,255.57593652340913,255.6396230800054,255.70330963660172,255.766996193198,255.83068274979428,255.8943693063906,255.95805586298687,256.0217424195831,256.08542897617946,256.14911553277574,256.212802089372,256.2764886459683,256.3401752025646,256.40386175916086,256.4675483157572,256.5312348723535,256.59492142894976,256.65860798554604,256.7222945421423,256.78598109873866,256.84966765533494,256.9133542119312,256.9770407685275,257.0407273251238,257.1044138817201,257.1681004383164,257.2317869949127,257.29547355150896],[254.74807750964905,254.81176406624533,254.87545062284164,254.93913717943792,255.0028237360342,255.0665102926305,255.1301968492268,255.1938834058231,255.25756996241938,255.32125651901566,255.38494307561197,255.44862963220825,255.51231618880456,255.57600274540084,255.63968930199712,255.70337585859343,255.7670624151897,255.830748971786,255.8944355283823,255.95812208497858,256.0218086415748,256.08549519817115,256.1491817547674,256.2128683113637,256.27655486796,256.34024142455627,256.40392798115255,256.4676145377489,256.53130109434517,256.59498765094145,256.65867420753773,256.722360764134,256.78604732073035,256.8497338773266,256.9134204339229,256.9771069905192,257.04079354711547,257.1044801037118,257.1681666603081,257.23185321690437,257.29553977350065],[254.74814373164077,254.81183028823705,254.87551684483336,254.93920340142964,255.00288995802592,255.06657651462223,255.1302630712185,255.19394962781482,255.2576361844111,255.32132274100738,255.3850092976037,255.44869585419997,255.51238241079628,255.57606896739256,255.63975552398884,255.70344208058515,255.76712863718143,255.8308151937777,255.89450175037402,255.9581883069703,256.02187486356655,256.0855614201629,256.14924797675917,256.21293453335545,256.27662108995173,256.340307646548,256.4039942031443,256.46768075974063,256.5313673163369,256.5950538729332,256.6587404295295,256.72242698612575,256.7861135427221,256.8498000993184,256.91348665591465,256.97717321251093,257.0408597691072,257.10454632570355,257.16823288229983,257.2319194388961,257.2956059954924],[254.74820995363245,254.81189651022873,254.87558306682504,254.93926962342132,255.0029561800176,255.06664273661391,255.1303292932102,255.1940158498065,255.25770240640279,255.32138896299907,255.38507551959538,255.44876207619166,255.51244863278797,255.57613518938425,255.63982174598053,255.70350830257684,255.76719485917312,255.8308814157694,255.8945679723657,255.958254528962,256.02194108555824,256.0856276421546,256.14931419875086,256.21300075534714,256.2766873119434,256.3403738685397,256.404060425136,256.4677469817323,256.5314335383286,256.5951200949249,256.65880665152116,256.72249320811744,256.7861797647138,256.84986632131006,256.91355287790634,256.9772394345026,257.0409259910989,257.10461254769524,257.1682991042915,257.2319856608878,257.2956722174841],[254.74827617562417,254.81196273222045,254.87564928881676,254.93933584541304,255.00302240200932,255.06670895860563,255.1303955152019,255.19408207179822,255.2577686283945,255.32145518499078,255.3851417415871,255.44882829818337,255.51251485477968,255.57620141137596,255.63988796797224,255.70357452456855,255.76726108116483,255.8309476377611,255.89463419435742,255.9583207509537,256.0220073075499,256.08569386414626,256.14938042074255,256.2130669773388,256.2767535339351,256.3404400905314,256.40412664712767,256.467813203724,256.5314997603203,256.59518631691657,256.65887287351285,256.72255943010913,256.78624598670547,256.84993254330175,256.913619099898,256.9773056564943,257.0409922130906,257.1046787696869,257.1683653262832,257.2320518828795,257.29573843947577],[254.7483423976159,254.81202895421217,254.87571551080848,254.93940206740476,255.00308862400104,255.06677518059735,255.13046173719363,255.19414829378994,255.25783485038622,255.3215214069825,255.3852079635788,255.4488945201751,255.5125810767714,255.57626763336768,255.63995418996396,255.70364074656027,255.76732730315655,255.83101385975283,255.89470041634914,255.95838697294542,256.0220735295417,256.085760086138,256.1494466427343,256.21313319933057,256.27681975592685,256.34050631252313,256.4041928691194,256.46787942571575,256.53156598231203,256.5952525389083,256.6589390955046,256.7226256521009,256.7863122086972,256.8499987652935,256.9136853218898,256.97737187848605,257.04105843508233,257.1047449916787,257.16843154827495,257.23211810487123,257.2958046614675],[254.74840861960757,254.81209517620385,254.87578173280016,254.93946828939644,255.00315484599273,255.06684140258903,255.13052795918532,255.19421451578162,255.2579010723779,255.32158762897419,255.3852741855705,255.44896074216678,255.51264729876308,255.57633385535937,255.64002041195565,255.70370696855196,255.76739352514824,255.83108008174452,255.89476663834083,255.9584531949371,256.02213975153336,256.0858263081297,256.149512864726,256.21319942132226,256.27688597791854,256.3405725345148,256.4042590911111,256.46794564770744,256.5316322043037,256.5953187609,256.6590053174963,256.72269187409256,256.7863784306889,256.8500649872852,256.91375154388146,256.97743810047774,257.041124657074,257.10481121367036,257.16849777026664,257.2321843268629,257.2958708834592],[254.7484748415993,254.81216139819557,254.87584795479188,254.93953451138816,255.00322106798444,255.06690762458075,255.13059418117703,255.19428073777334,255.25796729436962,255.3216538509659,255.3853404075622,255.4490269641585,255.5127135207548,255.57640007735108,255.64008663394736,255.70377319054367,255.76745974713995,255.83114630373623,255.89483286033254,255.95851941692882,256.02220597352505,256.0858925301214,256.14957908671767,256.21326564331395,256.2769521999102,256.3406387565065,256.4043253131028,256.4680118696991,256.5316984262954,256.5953849828917,256.65907153948797,256.72275809608425,256.7864446526806,256.85013120927687,256.91381776587315,256.97750432246943,257.0411908790657,257.10487743566205,257.1685639922583,257.2322505488546,257.2959371054509],[254.74854106359098,254.81222762018726,254.87591417678357,254.93960073337985,255.00328728997613,255.06697384657244,255.13066040316872,255.19434695976503,255.2580335163613,255.3217200729576,255.3854066295539,255.44909318615018,255.5127797427465,255.57646629934277,255.64015285593905,255.70383941253536,255.76752596913164,255.83121252572792,255.89489908232423,255.9585856389205,256.0222721955168,256.08595875211313,256.1496453087094,256.2133318653057,256.27701842190197,256.34070497849825,256.40439153509453,256.46807809169087,256.53176464828715,256.59545120488343,256.6591377614797,256.722824318076,256.78651087467233,256.8501974312686,256.9138839878649,256.9775705444612,257.04125710105745,257.1049436576538,257.1686302142501,257.23231677084635,257.29600332744263],[254.7486072855827,254.81229384217897,254.87598039877528,254.93966695537156,255.00335351196784,255.06704006856415,255.13072662516043,255.19441318175674,255.25809973835302,255.3217862949493,255.38547285154561,255.4491594081419,255.5128459647382,255.57653252133449,255.64021907793077,255.70390563452708,255.76759219112336,255.83127874771964,255.89496530431595,255.95865186091223,256.0223384175085,256.0860249741048,256.1497115307011,256.2133980872974,256.27708464389366,256.34077120048994,256.4044577570862,256.46814431368256,256.53183087027884,256.5955174268751,256.6592039834714,256.7228905400677,256.786577096664,256.8502636532603,256.9139502098566,256.97763676645286,257.04132332304914,257.1050098796455,257.16869643624176,257.23238299283804,257.2960695494343],[254.7486735075744,254.8123600641707,254.876046620767,254.93973317736328,255.00341973395956,255.06710629055587,255.13079284715215,255.19447940374846,255.25816596034474,255.32185251694102,255.38553907353733,255.4492256301336,255.51291218672992,255.5765987433262,255.64028529992248,255.7039718565188,255.76765841311507,255.83134496971135,255.89503152630766,255.95871808290394,256.02240463950017,256.0860911960965,256.1497777526928,256.21346430928907,256.27715086588535,256.3408374224816,256.4045239790779,256.46821053567425,256.5318970922705,256.5955836488668,256.6592702054631,256.72295676205937,256.7866433186557,256.850329875252,256.91401643184827,256.97770298844455,257.04138954504083,257.10507610163717,257.16876265823345,257.2324492148297,257.296135771426],[254.7487397295661,254.81242628616238,254.8761128427587,254.93979939935497,255.00348595595125,255.06717251254756,255.13085906914384,255.19454562574015,255.25823218233643,255.3219187389327,255.38560529552902,255.4492918521253,255.5129784087216,255.5766649653179,255.64035152191417,255.70403807851048,255.76772463510676,255.83141119170304,255.89509774829935,255.95878430489563,256.0224708614919,256.08615741808825,256.14984397468453,256.2135305312808,256.2772170878771,256.34090364447337,256.40459020106965,256.468276757666,256.53196331426227,256.59564987085855,256.65933642745483,256.7230229840511,256.78670954064745,256.85039609724373,256.91408265384,256.9777692104363,257.0414557670326,257.1051423236289,257.1688288802252,257.2325154368215,257.29620199341775],[254.7488059515578,254.8124925081541,254.8761790647504,254.93986562134668,255.00355217794296,255.06723873453927,255.13092529113555,255.19461184773186,255.25829840432814,255.32198496092442,255.38567151752073,255.44935807411701,255.51304463071332,255.5767311873096,255.64041774390589,255.7041043005022,255.76779085709848,255.83147741369476,255.89516397029107,255.95885052688735,256.0225370834836,256.08622364007994,256.1499101966762,256.2135967532725,256.2772833098688,256.34096986646506,256.40465642306134,256.4683429796577,256.53202953625396,256.59571609285024,256.6594026494465,256.7230892060428,256.78677576263914,256.8504623192354,256.9141488758317,256.977835432428,257.04152198902426,257.1052085456206,257.1688951022169,257.23258165881316,257.29626821540944],[254.74887217354953,254.8125587301458,254.87624528674212,254.9399318433384,255.00361839993468,255.067304956531,255.13099151312727,255.19467806972358,255.25836462631986,255.32205118291614,255.38573773951245,255.44942429610873,255.51311085270504,255.57679740930132,255.6404839658976,255.7041705224939,255.7678570790902,255.83154363568647,255.89523019228278,255.95891674887906,256.0226033054753,256.0862898620716,256.1499764186679,256.2136629752642,256.27734953186047,256.34103608845675,256.404722645053,256.46840920164937,256.53209575824565,256.5957823148419,256.6594688714382,256.7231554280345,256.7868419846308,256.8505285412271,256.9142150978234,256.97790165441967,257.04158821101595,257.1052747676123,257.16896132420857,257.23264788080485,257.29633443740113],[254.74893839554122,254.8126249521375,254.8763115087338,254.9399980653301,255.00368462192637,255.06737117852268,255.13105773511896,255.19474429171527,255.25843084831155,255.32211740490783,255.38580396150414,255.44949051810042,255.51317707469673,255.576863631293,255.6405501878893,255.7042367444856,255.76792330108188,255.83160985767816,255.89529641427447,255.95898297087075,256.02266952746703,256.08635608406337,256.15004264065965,256.21372919725593,256.2774157538522,256.3411023104485,256.4047888670448,256.4684754236411,256.5321619802374,256.59584853683367,256.65953509342995,256.72322165002623,256.78690820662257,256.85059476321885,256.91428131981513,256.9779678764114,257.0416544330077,257.10534098960403,257.1690275462003,257.2327141027966,257.2964006593929],[254.74900461753293,254.8126911741292,254.87637773072552,254.9400642873218,255.00375084391808,255.0674374005144,255.13112395711067,255.19481051370698,255.25849707030326,255.32218362689954,255.38587018349585,255.44955674009213,255.51324329668844,255.57692985328472,255.640616409881,255.70430296647731,255.7679895230736,255.83167607966988,255.89536263626619,255.95904919286247,256.0227357494587,256.08642230605506,256.15010886265134,256.2137954192476,256.2774819758439,256.3411685324402,256.40485508903646,256.4685416456328,256.5322282022291,256.59591475882536,256.65960131542164,256.7232878720179,256.78697442861426,256.85066098521054,256.9143475418068,256.9780340984031,257.0417206549994,257.1054072115957,257.169093768192,257.2327803247883,257.29646688138456],[254.74907083952462,254.8127573961209,254.8764439527172,254.9401305093135,255.00381706590977,255.06750362250608,255.13119017910236,255.19487673569867,255.25856329229495,255.32224984889123,255.38593640548754,255.44962296208382,255.51330951868013,255.5769960752764,255.6406826318727,255.704369188469,255.76805574506528,255.83174230166156,255.89542885825787,255.95911541485415,256.0228019714504,256.08648852804674,256.150175084643,256.2138616412393,256.2775481978356,256.34123475443187,256.40492131102815,256.4686078676245,256.53229442422077,256.59598098081705,256.6596675374133,256.7233540940096,256.78704065060595,256.8507272072022,256.9144137637985,256.9781003203948,257.04178687699107,257.1054734335874,257.1691599901837,257.23284654677997,257.29653310337625],[254.74913706151634,254.81282361811262,254.87651017470893,254.9401967313052,255.0038832879015,255.0675698444978,255.13125640109408,255.1949429576904,255.25862951428667,255.32231607088295,255.38600262747926,255.44968918407554,255.51337574067185,255.57706229726813,255.6407488538644,255.70443541046072,255.768121967057,255.83180852365328,255.8954950802496,255.95918163684587,256.02286819344215,256.0865547500385,256.15024130663477,256.21392786323105,256.27761441982733,256.3413009764236,256.4049875330199,256.46867408961623,256.5323606462125,256.5960472028088,256.65973375940507,256.72342031600135,256.7871068725977,256.85079342919397,256.91447998579025,256.97816654238653,257.0418530989828,257.10553965557915,257.16922621217543,257.2329127687717,257.296599325368],[254.74920328350805,254.81288984010433,254.87657639670064,254.94026295329692,255.0039495098932,255.0676360664895,255.1313226230858,255.1950091796821,255.25869573627838,255.32238229287466,255.38606884947097,255.44975540606725,255.51344196266356,255.57712851925984,255.64081507585612,255.70450163245243,255.76818818904871,255.831874745645,255.8955613022413,255.95924785883759,256.02293441543384,256.0866209720302,256.15030752862646,256.21399408522274,256.277680641819,256.3413671984153,256.4050537550116,256.4687403116079,256.5324268682042,256.5961134248005,256.65979998139676,256.72348653799304,256.7871730945894,256.85085965118566,256.91454620778194,256.9782327643782,257.0419193209745,257.10560587757084,257.1692924341671,257.2329789907634,257.2966655473597],[254.74926950549974,254.81295606209602,254.87664261869233,254.9403291752886,255.0040157318849,255.0677022884812,255.13138884507748,255.1950754016738,255.25876195827007,255.32244851486635,255.38613507146266,255.44982162805894,255.51350818465525,255.57719474125153,255.6408812978478,255.70456785444412,255.7682544110404,255.83194096763668,255.895627524233,255.95931408082927,256.0230006374255,256.08668719402186,256.15037375061814,256.2140603072144,256.2777468638107,256.341433420407,256.40511997700327,256.4688065335996,256.5324930901959,256.59617964679217,256.65986620338845,256.7235527599847,256.78723931658106,256.85092587317735,256.9146124297736,256.9782989863699,257.0419855429662,257.1056720995625,257.1693586561588,257.2330452127551,257.29673176935137],[254.74933572749146,254.81302228408774,254.87670884068405,254.94039539728033,255.0040819538766,255.06776851047292,255.1314550670692,255.1951416236655,255.2588281802618,255.32251473685807,255.38620129345438,255.44988785005066,255.51357440664697,255.57726096324325,255.64094751983953,255.70463407643584,255.76832063303212,255.8320071896284,255.8956937462247,255.959380302821,256.0230668594172,256.08675341601355,256.15043997260983,256.2141265292061,256.2778130858024,256.3414996423987,256.40518619899495,256.4688727555913,256.5325593121876,256.59624586878385,256.65993242538013,256.7236189819764,256.78730553857275,256.85099209516903,256.9146786517653,256.9783652083616,257.0420517649579,257.1057383215542,257.1694248781505,257.2331114347468,257.29679799134306],[254.74940194948317,254.81308850607945,254.87677506267576,254.94046161927204,255.00414817586832,255.06783473246463,255.1315212890609,255.19520784565722,255.2588944022535,255.32258095884978,255.3862675154461,255.44995407204237,255.51364062863868,255.57732718523496,255.64101374183124,255.70470029842755,255.76838685502383,255.83207341162012,255.89575996821642,255.9594465248127,256.02313308140896,256.0868196380053,256.1505061946016,256.21419275119786,256.27787930779414,256.3415658643904,256.4052524209867,256.46893897758304,256.5326255341793,256.5963120907756,256.6599986473719,256.72368520396816,256.7873717605645,256.8510583171608,256.91474487375706,256.97843143035334,257.0421179869496,257.10580454354596,257.16949110014224,257.2331776567385,257.2968642133348],[254.74946817147486,254.81315472807114,254.87684128466745,254.94052784126373,255.00421439786,255.06790095445632,255.1315875110526,255.1952740676489,255.2589606242452,255.32264718084147,255.38633373743778,255.45002029403406,255.51370685063037,255.57739340722665,255.64107996382293,255.70476652041924,255.76845307701552,255.8321396336118,255.8958261902081,255.9595127468044,256.02319930340065,256.086885859997,256.15057241659326,256.21425897318954,256.2779455297858,256.3416320863821,256.4053186429784,256.4690051995747,256.532691756171,256.5963783127673,256.66006486936357,256.72375142595985,256.7874379825562,256.85112453915247,256.91481109574875,256.978497652345,257.0421842089413,257.10587076553765,257.1695573221339,257.2332438787302,257.2969304353265],[254.74953439346658,254.81322095006286,254.87690750665917,254.94059406325545,255.00428061985173,255.06796717644804,255.13165373304432,255.19534028964063,255.2590268462369,255.3227134028332,255.3863999594295,255.45008651602578,255.5137730726221,255.57745962921837,255.64114618581465,255.70483274241096,255.76851929900724,255.83220585560352,255.89589241219983,255.9595789687961,256.02326552539233,256.08695208198867,256.15063863858495,256.21432519518123,256.2780117517775,256.3416983083738,256.4053848649701,256.4690714215664,256.5327579781627,256.596444534759,256.66013109135525,256.72381764795153,256.7875042045479,256.85119076114415,256.91487731774043,256.9785638743367,257.042250430933,257.10593698752933,257.1696235441256,257.2333101007219,257.2969966573182],[254.74960061545826,254.81328717205454,254.87697372865085,254.94066028524713,255.00434684184341,255.06803339843972,255.131719955036,255.1954065116323,255.2590930682286,255.32277962482488,255.38646618142118,255.45015273801747,255.51383929461377,255.57752585121005,255.64121240780634,255.70489896440264,255.76858552099893,255.8322720775952,255.89595863419152,255.9596451907878,256.0233317473841,256.0870183039804,256.1507048605767,256.214391417173,256.27807797376926,256.34176453036554,256.4054510869618,256.46913764355816,256.53282420015444,256.5965107567507,256.660197313347,256.7238838699433,256.7875704265396,256.8512569831359,256.9149435397322,256.97863009632846,257.04231665292474,257.1060032095211,257.16968976611736,257.23337632271364,257.2970628793099],[254.74966683744998,254.81335339404626,254.87703995064257,254.94072650723885,255.00441306383513,255.06809962043144,255.13178617702772,255.19547273362403,255.2591592902203,255.3228458468166,255.3865324034129,255.45021896000918,255.5139055166055,255.57759207320177,255.64127862979805,255.70496518639436,255.76865174299064,255.83233829958692,255.89602485618323,255.9597114127795,256.02339796937576,256.0870845259721,256.1507710825684,256.21445763916466,256.27814419576094,256.3418307523572,256.4055173089535,256.46920386554984,256.5328904221461,256.5965769787424,256.6602635353387,256.72395009193497,256.7876366485313,256.8513232051276,256.91500976172387,256.97869631832015,257.0423828749164,257.10606943151276,257.16975598810905,257.2334425447053,257.2971291013016],[254.7497330594417,254.81341961603798,254.87710617263429,254.94079272923057,255.00447928582685,255.06816584242316,255.13185239901944,255.19553895561575,255.25922551221203,255.3229120688083,255.38659862540462,255.4502851820009,255.5139717385972,255.5776582951935,255.64134485178977,255.70503140838608,255.76871796498236,255.83240452157864,255.89609107817495,255.95977763477123,256.02346419136745,256.0871507479638,256.15083730456007,256.21452386115635,256.27821041775263,256.3418969743489,256.4055835309452,256.46927008754153,256.5329566441378,256.5966432007341,256.6603297573304,256.72401631392665,256.787702870523,256.8513894271193,256.91507598371555,256.97876254031183,257.0424490969081,257.10613565350445,257.16982221010073,257.233508766697,257.2971953232933],[254.74979928143338,254.81348583802966,254.87717239462597,254.94085895122225,255.00454550781853,255.06823206441484,255.13191862101112,255.19560517760743,255.2592917342037,255.3229782908,255.3866648473963,255.45035140399258,255.5140379605889,255.57772451718517,255.64141107378146,255.70509763037776,255.76878418697405,255.83247074357033,255.89615730016664,255.95984385676292,256.0235304133592,256.08721696995553,256.1509035265518,256.2145900831481,256.2782766397444,256.34196319634066,256.40564975293694,256.4693363095333,256.53302286612956,256.59670942272584,256.6603959793221,256.7240825359184,256.78776909251474,256.851455649111,256.9151422057073,256.9788287623036,257.04251531889986,257.1062018754962,257.1698884320925,257.23357498868876,257.29726154528504],[254.7498655034251,254.81355206002138,254.8772386166177,254.94092517321397,255.00461172981025,255.06829828640656,255.13198484300284,255.19567139959915,255.25935795619543,255.3230445127917,255.38673106938802,255.4504176259843,255.5141041825806,255.5777907391769,255.64147729577317,255.70516385236948,255.76885040896576,255.83253696556204,255.89622352215835,255.95991007875463,256.0235966353509,256.0872831919472,256.1509697485435,256.2146563051398,256.27834286173606,256.34202941833234,256.4057159749286,256.46940253152496,256.53308908812124,256.5967756447175,256.6604622013138,256.7241487579101,256.7878353145064,256.8515218711027,256.915208427699,256.97889498429527,257.04258154089155,257.1062680974879,257.16995465408417,257.23364121068045,257.2973277672767],[254.74993172541681,254.8136182820131,254.8773048386094,254.94099139520569,255.00467795180197,255.06836450839828,255.13205106499456,255.19573762159087,255.25942417818715,255.32311073478343,255.38679729137974,255.45048384797602,255.51417040457233,255.5778569611686,255.6415435177649,255.7052300743612,255.76891663095748,255.83260318755376,255.89628974415007,255.95997630074635,256.0236628573426,256.0873494139389,256.1510359705352,256.21472252713147,256.27840908372775,256.34209564032403,256.4057821969203,256.46946875351665,256.53315531011293,256.5968418667092,256.6605284233055,256.7242149799018,256.7879015364981,256.8515880930944,256.9152746496907,256.97896120628695,257.04264776288323,257.1063343194796,257.17002087607585,257.23370743267213,257.2973939892684],[254.7499979474085,254.81368450400478,254.8773710606011,254.94105761719737,255.00474417379365,255.06843073038996,255.13211728698624,255.19580384358255,255.25949040017883,255.32317695677511,255.38686351337142,255.4505500699677,255.514236626564,255.5779231831603,255.64160973975657,255.70529629635288,255.76898285294916,255.83266940954545,255.89635596614175,255.96004252273804,256.0237290793343,256.08741563593065,256.15110219252693,256.2147887491232,256.2784753057195,256.3421618623158,256.40584841891206,256.4695349755084,256.5332215321047,256.59690808870096,256.66059464529724,256.7242812018935,256.78796775848986,256.85165431508614,256.9153408716824,256.9790274282787,257.042713984875,257.1064005414713,257.1700870980676,257.2337736546639,257.29746021126016],[254.75006416940022,254.8137507259965,254.8774372825928,254.9411238391891,255.00481039578537,255.06849695238168,255.13218350897796,255.19587006557427,255.25955662217055,255.32324317876683,255.38692973536314,255.45061629195942,255.51430284855573,255.577989405152,255.6416759617483,255.7053625183446,255.76904907494088,255.83273563153716,255.89642218813347,255.96010874472975,256.023795301326,256.08748185792234,256.1511684145186,256.2148549711149,256.2785415277112,256.34222808430746,256.40591464090375,256.4696011975001,256.53328775409636,256.59697431069264,256.6606608672889,256.7243474238852,256.78803398048154,256.8517205370778,256.9154070936741,256.9790936502704,257.04278020686667,257.106466763463,257.1701533200593,257.23383987665557,257.29752643325185],[254.75013039139193,254.81381694798822,254.87750350458452,254.9411900611808,255.0048766177771,255.0685631743734,255.13224973096968,255.19593628756598,255.25962284416227,255.32330940075855,255.38699595735486,255.45068251395114,255.51436907054745,255.57805562714373,255.64174218374,255.70542874033632,255.7691152969326,255.83280185352888,255.8964884101252,255.96017496672147,256.0238615233177,256.08754807991403,256.1512346365103,256.2149211931066,256.27860774970287,256.34229430629915,256.40598086289543,256.46966741949177,256.53335397608805,256.59704053268433,256.6607270892806,256.7244136458769,256.78810020247323,256.8517867590695,256.9154733156658,256.9791598722621,257.04284642885835,257.1065329854547,257.170219542051,257.23390609864725,257.29759265524353],[254.75019661338362,254.8138831699799,254.8775697265762,254.9412562831725,255.00494283976877,255.06862939636508,255.13231595296136,255.19600250955767,255.25968906615395,255.32337562275023,255.38706217934654,255.45074873594282,255.51443529253913,255.5781218491354,255.6418084057317,255.705494962328,255.76918151892428,255.83286807552057,255.89655463211687,255.96024118871316,256.02392774530944,256.0876143019058,256.15130085850205,256.21498741509834,256.2786739716946,256.3423605282909,256.4060470848872,256.4697336414835,256.5334201980798,256.5971067546761,256.66079331127236,256.72447986786864,256.788166424465,256.85185298106126,256.91553953765754,256.9792260942538,257.0429126508501,257.10659920744644,257.1702857640427,257.233972320639,257.2976588772353],[254.75026283537534,254.81394939197162,254.87763594856793,254.9413225051642,255.0050090617605,255.0686956183568,255.13238217495308,255.1960687315494,255.25975528814567,255.32344184474195,255.38712840133826,255.45081495793454,255.51450151453085,255.57818807112713,255.6418746277234,255.70556118431972,255.769247740916,255.83293429751228,255.8966208541086,255.96030741070487,256.0239939673011,256.08768052389746,256.15136708049374,256.21505363709,256.2787401936863,256.3424267502826,256.40611330687886,256.4697998634752,256.5334864200715,256.59717297666776,256.66085953326404,256.7245460898603,256.78823264645666,256.85191920305294,256.9156057596492,256.9792923162455,257.0429788728418,257.1066654294381,257.1703519860344,257.2340385426307,257.29772509922697],[254.75032905736703,254.8140156139633,254.87770217055962,254.9413887271559,255.00507528375218,255.0687618403485,255.13244839694477,255.19613495354108,255.25982151013736,255.32350806673364,255.38719462332995,255.45088117992623,255.51456773652254,255.57825429311882,255.6419408497151,255.7056274063114,255.7693139629077,255.83300051950397,255.89668707610028,255.96037363269656,256.0240601892928,256.08774674588915,256.15143330248543,256.2151198590817,256.278806415678,256.3424929722743,256.40617952887055,256.4698660854669,256.53355264206317,256.59723919865945,256.66092575525573,256.724612311852,256.78829886844835,256.85198542504463,256.9156719816409,256.9793585382372,257.0430450948335,257.1067316514298,257.1704182080261,257.2341047646224,257.29779132121865],[254.75039527935874,254.81408183595502,254.87776839255133,254.9414549491476,255.0051415057439,255.0688280623402,255.13251461893648,255.1962011755328,255.25988773212907,255.32357428872535,255.38726084532166,255.45094740191794,255.51463395851425,255.57832051511053,255.64200707170681,255.70569362830312,255.7693801848994,255.83306674149568,255.896753298092,255.96043985468827,256.02412641128456,256.0878129678809,256.1514995244772,256.21518608107345,256.27887263766974,256.342559194266,256.4062457508623,256.46993230745863,256.5336188640549,256.5973054206512,256.6609919772475,256.72467853384376,256.7883650904401,256.8520516470364,256.91573820363266,256.97942476022894,257.0431113168252,257.10679787342156,257.17048443001784,257.2341709866141,257.2978575432104],[254.75046150135046,254.81414805794674,254.87783461454305,254.94152117113933,255.0052077277356,255.06889428433192,255.1325808409282,255.1962673975245,255.2599539541208,255.32364051071707,255.38732706731338,255.45101362390966,255.51470018050597,255.57838673710225,255.64207329369853,255.70575985029484,255.76944640689112,255.8331329634874,255.8968195200837,255.96050607668,256.02419263327624,256.0878791898726,256.15156574646886,256.21525230306514,256.2789388596614,256.3426254162577,256.406311972854,256.4699985294503,256.5336850860466,256.5973716426429,256.66105819923916,256.72474475583545,256.7884313124318,256.85211786902806,256.91580442562434,256.9794909822206,257.0431775388169,257.10686409541324,257.1705506520095,257.2342372086058,257.2979237652021],[254.75052772334215,254.81421427993843,254.87790083653474,254.94158739313102,255.0052739497273,255.0689605063236,255.1326470629199,255.1963336195162,255.26002017611248,255.32370673270876,255.38739328930507,255.45107984590135,255.51476640249766,255.57845295909394,255.64213951569022,255.70582607228653,255.7695126288828,255.8331991854791,255.8968857420754,255.96057229867168,256.02425885526793,256.08794541186427,256.15163196846055,256.21531852505683,256.2790050816531,256.3426916382494,256.4063781948457,256.470064751442,256.5337513080383,256.59743786463457,256.66112442123085,256.72481097782713,256.78849753442347,256.85218409101975,256.91587064761603,256.9795572042123,257.0432437608086,257.10693031740493,257.1706168740012,257.2343034305975,257.2979899871938],[254.75059394533386,254.81428050193014,254.87796705852645,254.94165361512273,255.005340171719,255.06902672831532,255.1327132849116,255.1963998415079,255.2600863981042,255.32377295470047,255.38745951129678,255.45114606789306,255.51483262448937,255.57851918108565,255.64220573768193,255.70589229427824,255.76957885087452,255.8332654074708,255.8969519640671,255.9606385206634,256.0243250772596,256.08801163385596,256.15169819045224,256.2153847470485,256.2790713036448,256.3427578602411,256.40644441683736,256.4701309734337,256.53381753003,256.59750408662626,256.66119064322254,256.7248771998188,256.78856375641516,256.85225031301144,256.9159368696077,256.979623426204,257.0433099828003,257.1069965393966,257.1706830959929,257.2343696525892,257.29805620918546],[254.75066016732558,254.81434672392186,254.87803328051817,254.94171983711445,255.00540639371073,255.06909295030704,255.13277950690332,255.19646606349963,255.2601526200959,255.3238391766922,255.3875257332885,255.45121228988478,255.5148988464811,255.57858540307737,255.64227195967365,255.70595851626996,255.76964507286624,255.83333162946252,255.89701818605883,255.9607047426551,256.02439129925136,256.0880778558477,256.151764412444,256.21545096904026,256.27913752563654,256.3428240822328,256.4065106388291,256.47019719542544,256.5338837520217,256.597570308618,256.6612568652143,256.72494342181056,256.7886299784069,256.8523165350032,256.91600309159946,256.97968964819574,257.043376204792,257.10706276138836,257.17074931798464,257.2344358745809,257.2981224311772],[254.75072638931726,254.81441294591355,254.87809950250985,254.94178605910614,255.00547261570242,255.06915917229873,255.132845728895,255.19653228549132,255.2602188420876,255.32390539868388,255.3875919552802,255.45127851187647,255.51496506847278,255.57865162506906,255.64233818166534,255.70602473826165,255.76971129485793,255.8333978514542,255.89708440805052,255.9607709646468,256.02445752124305,256.0881440778394,256.15183063443567,256.21551719103195,256.27920374762823,256.3428903042245,256.4065768608208,256.47026341741713,256.5339499740134,256.5976365306097,256.661323087206,256.72500964380225,256.7886962003986,256.85238275699487,256.91606931359115,256.97975587018743,257.0434424267837,257.10712898338005,257.17081553997633,257.2345020965726,257.2981886531689],[254.75079261130898,254.81447916790526,254.87816572450157,254.94185228109785,255.00553883769413,255.06922539429044,255.13291195088672,255.19659850748303,255.2602850640793,255.3239716206756,255.3876581772719,255.45134473386818,255.5150312904645,255.57871784706077,255.64240440365705,255.70609096025336,255.76977751684964,255.83346407344592,255.89715063004223,255.9608371866385,256.02452374323474,256.0882102998311,256.15189685642736,256.21558341302364,256.2792699696199,256.3429565262162,256.4066430828125,256.4703296394088,256.5340161960051,256.5977027526014,256.66138930919766,256.72507586579394,256.7887624223903,256.85244897898656,256.91613553558284,256.9798220921791,257.0435086487754,257.10719520537174,257.170881761968,257.2345683185643,257.2982548751606],[254.75085883330067,254.81454538989695,254.87823194649326,254.94191850308954,255.00560505968582,255.06929161628213,255.1329781728784,255.19666472947472,255.260351286071,255.32403784266728,255.3877243992636,255.45141095585987,255.51509751245618,255.57878406905246,255.64247062564874,255.70615718224505,255.76984373884133,255.8335302954376,255.89721685203392,255.9609034086302,256.0245899652265,256.0882765218228,256.1519630784191,256.2156496350154,256.27933619161166,256.34302274820794,256.4067093048042,256.47039586140056,256.53408241799684,256.5977689745931,256.6614555311894,256.7251420877857,256.788828644382,256.8525152009783,256.9162017575746,256.97988831417086,257.04357487076715,257.1072614273635,257.17094798395976,257.23463454055604,257.2983210971523],[254.75092505529238,254.81461161188867,254.87829816848497,254.94198472508126,255.00567128167754,255.06935783827385,255.13304439487013,255.19673095146644,255.26041750806272,255.324104064659,255.3877906212553,255.4514771778516,255.5151637344479,255.57885029104418,255.64253684764046,255.70622340423677,255.76990996083305,255.83359651742933,255.89728307402564,255.96096963062192,256.02465618721817,256.0883427438145,256.1520293004108,256.21571585700707,256.27940241360335,256.34308897019963,256.4067755267959,256.47046208339225,256.53414863998853,256.5978351965848,256.6615217531811,256.7252083097774,256.7888948663737,256.85258142297,256.91626797956627,256.97995453616255,257.04364109275883,257.10732764935517,257.17101420595145,257.23470076254773,257.298387319144],[254.7509912772841,254.81467783388038,254.8783643904767,254.94205094707297,255.00573750366925,255.06942406026556,255.13311061686184,255.19679717345815,255.26048373005443,255.3241702866507,255.38785684324702,255.4515433998433,255.5152299564396,255.5789165130359,255.64260306963217,255.70628962622848,255.76997618282476,255.83366273942104,255.89734929601735,255.96103585261363,256.02472240920986,256.0884089658062,256.1520955224025,256.21578207899876,256.27946863559504,256.3431551921913,256.4068417487876,256.47052830538394,256.5342148619802,256.5979014185765,256.6615879751728,256.72527453176906,256.7889610883654,256.8526476449617,256.91633420155796,256.98002075815424,257.0437073147505,257.10739387134686,257.17108042794314,257.2347669845394,257.2984535411357],[254.7510574992758,254.81474405587207,254.87843061246838,254.94211716906466,255.00580372566094,255.06949028225725,255.13317683885353,255.19686339544984,255.26054995204612,255.3242365086424,255.3879230652387,255.451609621835,255.5152961784313,255.57898273502758,255.64266929162386,255.70635584822017,255.77004240481645,255.83372896141273,255.89741551800904,255.96110207460532,256.0247886312016,256.08847518779794,256.1521617443942,256.2158483009905,256.2795348575868,256.34322141418306,256.40690797077934,256.4705945273757,256.53428108397196,256.59796764056824,256.6616541971645,256.7253407537608,256.78902731035714,256.8527138669534,256.9164004235497,256.980086980146,257.04377353674226,257.1074600933386,257.1711466499349,257.23483320653116,257.29851976312744],[254.7511237212675,254.81481027786378,254.8784968344601,254.94218339105637,255.00586994765266,255.06955650424896,255.13324306084525,255.19692961744155,255.26061617403784,255.32430273063412,255.38798928723043,255.4516758438267,255.51536240042302,255.5790489570193,255.64273551361558,255.7064220702119,255.77010862680817,255.83379518340445,255.89748174000076,255.96116829659704,256.0248548531933,256.0885414097896,256.1522279663859,256.2159145229822,256.27960107957847,256.34328763617475,256.40697419277103,256.47066074936737,256.53434730596365,256.59803386255993,256.6617204191562,256.7254069757525,256.78909353234883,256.8527800889451,256.9164666455414,256.98015320213767,257.04383975873395,257.1075263153303,257.17121287192657,257.23489942852285,257.29858598511913],[254.75118994325922,254.8148764998555,254.8785630564518,254.9422496130481,255.00593616964437,255.06962272624068,255.13330928283696,255.19699583943327,255.26068239602955,255.32436895262583,255.38805550922214,255.45174206581842,255.51542862241473,255.579115179011,255.6428017356073,255.7064882922036,255.77017484879988,255.83386140539616,255.89754796199247,255.96123451858875,256.024921075185,256.0886076317813,256.1522941883776,256.2159807449739,256.27966730157016,256.34335385816644,256.4070404147627,256.47072697135906,256.53441352795534,256.5981000845516,256.6617866411479,256.7254731977442,256.7891597543405,256.8528463109368,256.9165328675331,256.98021942412936,257.04390598072564,257.107592537322,257.17127909391826,257.23496565051454,257.2986522071108],[254.7512561652509,254.8149427218472,254.8786292784435,254.94231583503978,255.00600239163606,255.06968894823237,255.13337550482865,255.19706206142496,255.26074861802124,255.32443517461752,255.38812173121383,255.4518082878101,255.51549484440642,255.5791814010027,255.64286795759898,255.7065545141953,255.77024107079157,255.83392762738785,255.89761418398416,255.96130074058044,256.0249872971767,256.08867385377306,256.15236041036934,256.2160469669656,256.2797335235619,256.3434200801582,256.40710663675446,256.4707931933508,256.5344797499471,256.59816630654336,256.66185286313964,256.7255394197359,256.78922597633226,256.85291253292854,256.9165990895248,256.9802856461211,257.0439722027174,257.1076587593137,257.17134531591,257.2350318725063,257.29871842910256],[254.75132238724262,254.8150089438389,254.8786955004352,254.9423820570315,255.00606861362778,255.06975517022408,255.13344172682037,255.19712828341667,255.26081484001296,255.32450139660924,255.38818795320554,255.45187450980183,255.51556106639813,255.57924762299442,255.6429341795907,255.706620736187,255.7703072927833,255.83399384937957,255.89768040597588,255.96136696257216,256.0250535191684,256.08874007576475,256.152426632361,256.2161131889573,256.2797997455536,256.34348630214987,256.40717285874615,256.4708594153425,256.53454597193877,256.59823252853505,256.66191908513133,256.7256056417276,256.78929219832395,256.85297875492023,256.9166653115165,256.9803518681128,257.0440384247091,257.1077249813054,257.1714115379017,257.23509809449797,257.29878465109425],[254.7513886092343,254.8150751658306,254.8787617224269,254.94244827902318,255.00613483561946,255.06982139221577,255.13350794881205,255.19719450540836,255.26088106200464,255.32456761860092,255.38825417519723,255.4519407317935,255.51562728838982,255.5793138449861,255.64300040158238,255.7066869581787,255.77037351477497,255.83406007137125,255.89774662796756,255.96143318456384,256.0251197411601,256.08880629775643,256.1524928543527,256.216179410949,256.2798659675453,256.34355252414156,256.40723908073784,256.4709256373342,256.53461219393046,256.59829875052674,256.661985307123,256.7256718637193,256.78935842031564,256.8530449769119,256.9167315335082,256.9804180901045,257.04410464670076,257.1077912032971,257.1714777598934,257.23516431648966,257.29885087308594],[254.75145483122603,254.8151413878223,254.87882794441862,254.9425145010149,255.00620105761118,255.0698876142075,255.13357417080377,255.19726072740008,255.26094728399636,255.32463384059264,255.38832039718895,255.45200695378523,255.51569351038154,255.57938006697782,255.6430666235741,255.7067531801704,255.7704397367667,255.83412629336297,255.89781284995928,255.96149940655556,256.02518596315184,256.0888725197482,256.15255907634446,256.21624563294074,256.279932189537,256.3436187461333,256.4073053027296,256.4709918593259,256.5346784159222,256.5983649725185,256.66205152911476,256.72573808571104,256.7894246423074,256.85311119890366,256.91679775549994,256.9804843120962,257.0441708686925,257.10785742528884,257.1715439818851,257.2352305384814,257.2989170950777],[254.75152105321774,254.81520760981402,254.87889416641033,254.9425807230066,255.0062672796029,255.0699538361992,255.13364039279548,255.1973269493918,255.26101350598807,255.32470006258436,255.38838661918066,255.45207317577695,255.51575973237325,255.57944628896954,255.64313284556582,255.70681940216213,255.7705059587584,255.8341925153547,255.897879071951,255.96156562854728,256.02525218514353,256.08893874173987,256.15262529833615,256.2163118549324,256.2799984115287,256.343684968125,256.40737152472127,256.4710580813176,256.5347446379139,256.59843119451017,256.66211775110645,256.72580430770273,256.78949086429907,256.85317742089535,256.91686397749163,256.9805505340879,257.0442370906842,257.10792364728053,257.1716102038768,257.2352967604731,257.29898331706937],[254.75158727520943,254.8152738318057,254.87896038840202,254.9426469449983,255.00633350159458,255.0700200581909,255.13370661478717,255.19739317138348,255.26107972797976,255.32476628457604,255.38845284117235,255.45213939776863,255.51582595436494,255.57951251096122,255.6431990675575,255.7068856241538,255.7705721807501,255.83425873734637,255.89794529394268,255.96163185053896,256.0253184071352,256.08900496373155,256.15269152032783,256.2163780769241,256.2800646335204,256.3437511901167,256.40743774671296,256.4711243033093,256.5348108599056,256.59849741650186,256.66218397309814,256.7258705296944,256.78955708629076,256.85324364288704,256.9169301994833,256.9806167560796,257.0443033126759,257.1079898692722,257.1716764258685,257.2353629824648,257.29904953906106],[254.75165349720115,254.81534005379743,254.87902661039374,254.94271316699002,255.0063997235863,255.0700862801826,255.1337728367789,255.1974593933752,255.26114594997148,255.32483250656776,255.38851906316407,255.45220561976035,255.51589217635666,255.57957873295294,255.64326528954922,255.70695184614553,255.7706384027418,255.8343249593381,255.8980115159344,255.96169807253068,256.0253846291269,256.08907118572324,256.1527577423195,256.2164442989158,256.2801308555121,256.34381741210836,256.40750396870465,256.471190525301,256.53487708189726,256.59856363849354,256.6622501950898,256.7259367516861,256.78962330828244,256.8533098648787,256.916996421475,256.9806829780713,257.04436953466757,257.1080560912639,257.1717426478602,257.23542920445647,257.29911576105275],[254.75171971919286,254.81540627578914,254.87909283238545,254.94277938898173,255.00646594557801,255.07015250217432,255.1338390587706,255.1975256153669,255.2612121719632,255.32489872855948,255.38858528515578,255.45227184175207,255.51595839834837,255.57964495494465,255.64333151154094,255.70701806813724,255.77070462473353,255.8343911813298,255.89807773792612,255.9617642945224,256.02545085111865,256.089137407715,256.15282396431127,256.21651052090755,256.28019707750383,256.3438836341001,256.4075701906964,256.4712567472927,256.534943303889,256.5986298604853,256.66231641708157,256.72600297367785,256.7896895302742,256.85337608687047,256.91706264346675,256.98074920006303,257.0444357566593,257.10812231325565,257.17180886985193,257.2354954264482,257.2991819830445],[254.75178594118455,254.81547249778083,254.87915905437714,254.94284561097342,255.0065321675697,255.070218724166,255.1339052807623,255.1975918373586,255.26127839395488,255.32496495055116,255.38865150714747,255.45233806374375,255.51602462034006,255.57971117693634,255.64339773353262,255.70708429012893,255.7707708467252,255.8344574033215,255.8981439599178,255.96183051651408,256.02551707311034,256.0892036297067,256.15289018630295,256.21657674289924,256.2802632994955,256.3439498560918,256.4076364126881,256.4713229692844,256.5350095258807,256.598696082477,256.66238263907326,256.72606919566954,256.7897557522659,256.85344230886216,256.91712886545844,256.9808154220547,257.044501978651,257.10818853524734,257.1718750918436,257.2355616484399,257.2992482050362]],\"type\":\"surface\"}],                        {\"template\":{\"data\":{\"histogram2dcontour\":[{\"type\":\"histogram2dcontour\",\"colorbar\":{\"outlinewidth\":0,\"ticks\":\"\"},\"colorscale\":[[0.0,\"#0d0887\"],[0.1111111111111111,\"#46039f\"],[0.2222222222222222,\"#7201a8\"],[0.3333333333333333,\"#9c179e\"],[0.4444444444444444,\"#bd3786\"],[0.5555555555555556,\"#d8576b\"],[0.6666666666666666,\"#ed7953\"],[0.7777777777777778,\"#fb9f3a\"],[0.8888888888888888,\"#fdca26\"],[1.0,\"#f0f921\"]]}],\"choropleth\":[{\"type\":\"choropleth\",\"colorbar\":{\"outlinewidth\":0,\"ticks\":\"\"}}],\"histogram2d\":[{\"type\":\"histogram2d\",\"colorbar\":{\"outlinewidth\":0,\"ticks\":\"\"},\"colorscale\":[[0.0,\"#0d0887\"],[0.1111111111111111,\"#46039f\"],[0.2222222222222222,\"#7201a8\"],[0.3333333333333333,\"#9c179e\"],[0.4444444444444444,\"#bd3786\"],[0.5555555555555556,\"#d8576b\"],[0.6666666666666666,\"#ed7953\"],[0.7777777777777778,\"#fb9f3a\"],[0.8888888888888888,\"#fdca26\"],[1.0,\"#f0f921\"]]}],\"heatmap\":[{\"type\":\"heatmap\",\"colorbar\":{\"outlinewidth\":0,\"ticks\":\"\"},\"colorscale\":[[0.0,\"#0d0887\"],[0.1111111111111111,\"#46039f\"],[0.2222222222222222,\"#7201a8\"],[0.3333333333333333,\"#9c179e\"],[0.4444444444444444,\"#bd3786\"],[0.5555555555555556,\"#d8576b\"],[0.6666666666666666,\"#ed7953\"],[0.7777777777777778,\"#fb9f3a\"],[0.8888888888888888,\"#fdca26\"],[1.0,\"#f0f921\"]]}],\"heatmapgl\":[{\"type\":\"heatmapgl\",\"colorbar\":{\"outlinewidth\":0,\"ticks\":\"\"},\"colorscale\":[[0.0,\"#0d0887\"],[0.1111111111111111,\"#46039f\"],[0.2222222222222222,\"#7201a8\"],[0.3333333333333333,\"#9c179e\"],[0.4444444444444444,\"#bd3786\"],[0.5555555555555556,\"#d8576b\"],[0.6666666666666666,\"#ed7953\"],[0.7777777777777778,\"#fb9f3a\"],[0.8888888888888888,\"#fdca26\"],[1.0,\"#f0f921\"]]}],\"contourcarpet\":[{\"type\":\"contourcarpet\",\"colorbar\":{\"outlinewidth\":0,\"ticks\":\"\"}}],\"contour\":[{\"type\":\"contour\",\"colorbar\":{\"outlinewidth\":0,\"ticks\":\"\"},\"colorscale\":[[0.0,\"#0d0887\"],[0.1111111111111111,\"#46039f\"],[0.2222222222222222,\"#7201a8\"],[0.3333333333333333,\"#9c179e\"],[0.4444444444444444,\"#bd3786\"],[0.5555555555555556,\"#d8576b\"],[0.6666666666666666,\"#ed7953\"],[0.7777777777777778,\"#fb9f3a\"],[0.8888888888888888,\"#fdca26\"],[1.0,\"#f0f921\"]]}],\"surface\":[{\"type\":\"surface\",\"colorbar\":{\"outlinewidth\":0,\"ticks\":\"\"},\"colorscale\":[[0.0,\"#0d0887\"],[0.1111111111111111,\"#46039f\"],[0.2222222222222222,\"#7201a8\"],[0.3333333333333333,\"#9c179e\"],[0.4444444444444444,\"#bd3786\"],[0.5555555555555556,\"#d8576b\"],[0.6666666666666666,\"#ed7953\"],[0.7777777777777778,\"#fb9f3a\"],[0.8888888888888888,\"#fdca26\"],[1.0,\"#f0f921\"]]}],\"mesh3d\":[{\"type\":\"mesh3d\",\"colorbar\":{\"outlinewidth\":0,\"ticks\":\"\"}}],\"scatter\":[{\"fillpattern\":{\"fillmode\":\"overlay\",\"size\":10,\"solidity\":0.2},\"type\":\"scatter\"}],\"parcoords\":[{\"type\":\"parcoords\",\"line\":{\"colorbar\":{\"outlinewidth\":0,\"ticks\":\"\"}}}],\"scatterpolargl\":[{\"type\":\"scatterpolargl\",\"marker\":{\"colorbar\":{\"outlinewidth\":0,\"ticks\":\"\"}}}],\"bar\":[{\"error_x\":{\"color\":\"#2a3f5f\"},\"error_y\":{\"color\":\"#2a3f5f\"},\"marker\":{\"line\":{\"color\":\"#E5ECF6\",\"width\":0.5},\"pattern\":{\"fillmode\":\"overlay\",\"size\":10,\"solidity\":0.2}},\"type\":\"bar\"}],\"scattergeo\":[{\"type\":\"scattergeo\",\"marker\":{\"colorbar\":{\"outlinewidth\":0,\"ticks\":\"\"}}}],\"scatterpolar\":[{\"type\":\"scatterpolar\",\"marker\":{\"colorbar\":{\"outlinewidth\":0,\"ticks\":\"\"}}}],\"histogram\":[{\"marker\":{\"pattern\":{\"fillmode\":\"overlay\",\"size\":10,\"solidity\":0.2}},\"type\":\"histogram\"}],\"scattergl\":[{\"type\":\"scattergl\",\"marker\":{\"colorbar\":{\"outlinewidth\":0,\"ticks\":\"\"}}}],\"scatter3d\":[{\"type\":\"scatter3d\",\"line\":{\"colorbar\":{\"outlinewidth\":0,\"ticks\":\"\"}},\"marker\":{\"colorbar\":{\"outlinewidth\":0,\"ticks\":\"\"}}}],\"scattermapbox\":[{\"type\":\"scattermapbox\",\"marker\":{\"colorbar\":{\"outlinewidth\":0,\"ticks\":\"\"}}}],\"scatterternary\":[{\"type\":\"scatterternary\",\"marker\":{\"colorbar\":{\"outlinewidth\":0,\"ticks\":\"\"}}}],\"scattercarpet\":[{\"type\":\"scattercarpet\",\"marker\":{\"colorbar\":{\"outlinewidth\":0,\"ticks\":\"\"}}}],\"carpet\":[{\"aaxis\":{\"endlinecolor\":\"#2a3f5f\",\"gridcolor\":\"white\",\"linecolor\":\"white\",\"minorgridcolor\":\"white\",\"startlinecolor\":\"#2a3f5f\"},\"baxis\":{\"endlinecolor\":\"#2a3f5f\",\"gridcolor\":\"white\",\"linecolor\":\"white\",\"minorgridcolor\":\"white\",\"startlinecolor\":\"#2a3f5f\"},\"type\":\"carpet\"}],\"table\":[{\"cells\":{\"fill\":{\"color\":\"#EBF0F8\"},\"line\":{\"color\":\"white\"}},\"header\":{\"fill\":{\"color\":\"#C8D4E3\"},\"line\":{\"color\":\"white\"}},\"type\":\"table\"}],\"barpolar\":[{\"marker\":{\"line\":{\"color\":\"#E5ECF6\",\"width\":0.5},\"pattern\":{\"fillmode\":\"overlay\",\"size\":10,\"solidity\":0.2}},\"type\":\"barpolar\"}],\"pie\":[{\"automargin\":true,\"type\":\"pie\"}]},\"layout\":{\"autotypenumbers\":\"strict\",\"colorway\":[\"#636efa\",\"#EF553B\",\"#00cc96\",\"#ab63fa\",\"#FFA15A\",\"#19d3f3\",\"#FF6692\",\"#B6E880\",\"#FF97FF\",\"#FECB52\"],\"font\":{\"color\":\"#2a3f5f\"},\"hovermode\":\"closest\",\"hoverlabel\":{\"align\":\"left\"},\"paper_bgcolor\":\"white\",\"plot_bgcolor\":\"#E5ECF6\",\"polar\":{\"bgcolor\":\"#E5ECF6\",\"angularaxis\":{\"gridcolor\":\"white\",\"linecolor\":\"white\",\"ticks\":\"\"},\"radialaxis\":{\"gridcolor\":\"white\",\"linecolor\":\"white\",\"ticks\":\"\"}},\"ternary\":{\"bgcolor\":\"#E5ECF6\",\"aaxis\":{\"gridcolor\":\"white\",\"linecolor\":\"white\",\"ticks\":\"\"},\"baxis\":{\"gridcolor\":\"white\",\"linecolor\":\"white\",\"ticks\":\"\"},\"caxis\":{\"gridcolor\":\"white\",\"linecolor\":\"white\",\"ticks\":\"\"}},\"coloraxis\":{\"colorbar\":{\"outlinewidth\":0,\"ticks\":\"\"}},\"colorscale\":{\"sequential\":[[0.0,\"#0d0887\"],[0.1111111111111111,\"#46039f\"],[0.2222222222222222,\"#7201a8\"],[0.3333333333333333,\"#9c179e\"],[0.4444444444444444,\"#bd3786\"],[0.5555555555555556,\"#d8576b\"],[0.6666666666666666,\"#ed7953\"],[0.7777777777777778,\"#fb9f3a\"],[0.8888888888888888,\"#fdca26\"],[1.0,\"#f0f921\"]],\"sequentialminus\":[[0.0,\"#0d0887\"],[0.1111111111111111,\"#46039f\"],[0.2222222222222222,\"#7201a8\"],[0.3333333333333333,\"#9c179e\"],[0.4444444444444444,\"#bd3786\"],[0.5555555555555556,\"#d8576b\"],[0.6666666666666666,\"#ed7953\"],[0.7777777777777778,\"#fb9f3a\"],[0.8888888888888888,\"#fdca26\"],[1.0,\"#f0f921\"]],\"diverging\":[[0,\"#8e0152\"],[0.1,\"#c51b7d\"],[0.2,\"#de77ae\"],[0.3,\"#f1b6da\"],[0.4,\"#fde0ef\"],[0.5,\"#f7f7f7\"],[0.6,\"#e6f5d0\"],[0.7,\"#b8e186\"],[0.8,\"#7fbc41\"],[0.9,\"#4d9221\"],[1,\"#276419\"]]},\"xaxis\":{\"gridcolor\":\"white\",\"linecolor\":\"white\",\"ticks\":\"\",\"title\":{\"standoff\":15},\"zerolinecolor\":\"white\",\"automargin\":true,\"zerolinewidth\":2},\"yaxis\":{\"gridcolor\":\"white\",\"linecolor\":\"white\",\"ticks\":\"\",\"title\":{\"standoff\":15},\"zerolinecolor\":\"white\",\"automargin\":true,\"zerolinewidth\":2},\"scene\":{\"xaxis\":{\"backgroundcolor\":\"#E5ECF6\",\"gridcolor\":\"white\",\"linecolor\":\"white\",\"showbackground\":true,\"ticks\":\"\",\"zerolinecolor\":\"white\",\"gridwidth\":2},\"yaxis\":{\"backgroundcolor\":\"#E5ECF6\",\"gridcolor\":\"white\",\"linecolor\":\"white\",\"showbackground\":true,\"ticks\":\"\",\"zerolinecolor\":\"white\",\"gridwidth\":2},\"zaxis\":{\"backgroundcolor\":\"#E5ECF6\",\"gridcolor\":\"white\",\"linecolor\":\"white\",\"showbackground\":true,\"ticks\":\"\",\"zerolinecolor\":\"white\",\"gridwidth\":2}},\"shapedefaults\":{\"line\":{\"color\":\"#2a3f5f\"}},\"annotationdefaults\":{\"arrowcolor\":\"#2a3f5f\",\"arrowhead\":0,\"arrowwidth\":1},\"geo\":{\"bgcolor\":\"white\",\"landcolor\":\"#E5ECF6\",\"subunitcolor\":\"white\",\"showland\":true,\"showlakes\":true,\"lakecolor\":\"white\"},\"title\":{\"x\":0.05},\"mapbox\":{\"style\":\"light\"}}},\"scene\":{\"xaxis\":{\"title\":{\"text\":\"X Label\"}},\"yaxis\":{\"title\":{\"text\":\"Y Label\"}},\"zaxis\":{\"title\":{\"text\":\"Z Label\"}}}},                        {\"responsive\": true}                    ).then(function(){\n",
       "                            \n",
       "var gd = document.getElementById('87128a63-21e9-4bfb-a67e-0a5a145302bf');\n",
       "var x = new MutationObserver(function (mutations, observer) {{\n",
       "        var display = window.getComputedStyle(gd).display;\n",
       "        if (!display || display === 'none') {{\n",
       "            console.log([gd, 'removed!']);\n",
       "            Plotly.purge(gd);\n",
       "            observer.disconnect();\n",
       "        }}\n",
       "}});\n",
       "\n",
       "// Listen for the removal of the full notebook cells\n",
       "var notebookContainer = gd.closest('#notebook-container');\n",
       "if (notebookContainer) {{\n",
       "    x.observe(notebookContainer, {childList: true});\n",
       "}}\n",
       "\n",
       "// Listen for the clearing of the current output cell\n",
       "var outputEl = gd.closest('.output');\n",
       "if (outputEl) {{\n",
       "    x.observe(outputEl, {childList: true});\n",
       "}}\n",
       "\n",
       "                        })                };                });            </script>        </div>"
      ]
     },
     "metadata": {},
     "output_type": "display_data"
    }
   ],
   "source": [
    "plot3D(X, Y, W)"
   ]
  },
  {
   "cell_type": "markdown",
   "metadata": {},
   "source": [
    "#### using sklearn"
   ]
  },
  {
   "cell_type": "code",
   "execution_count": 230,
   "metadata": {},
   "outputs": [],
   "source": [
    "from sklearn.linear_model import LinearRegression"
   ]
  },
  {
   "cell_type": "code",
   "execution_count": 231,
   "metadata": {},
   "outputs": [],
   "source": [
    "reg3D = LinearRegression()"
   ]
  },
  {
   "cell_type": "code",
   "execution_count": 273,
   "metadata": {},
   "outputs": [
    {
     "data": {
      "text/plain": [
       "LinearRegression()"
      ]
     },
     "execution_count": 273,
     "metadata": {},
     "output_type": "execute_result"
    }
   ],
   "source": [
    "reg3D.fit(X, Y.reshape((-1,)))"
   ]
  },
  {
   "cell_type": "code",
   "execution_count": 274,
   "metadata": {},
   "outputs": [],
   "source": [
    "W3d = np.vstack((reg3D.intercept_.reshape((-1, 1)), reg3D.coef_.reshape((-1, 1))))"
   ]
  },
  {
   "cell_type": "code",
   "execution_count": 275,
   "metadata": {},
   "outputs": [
    {
     "data": {
      "application/vnd.plotly.v1+json": {
       "config": {
        "plotlyServerURL": "https://plot.ly"
       },
       "data": [
        {
         "marker": {
          "color": "red",
          "opacity": 0.8,
          "size": 4
         },
         "mode": "markers",
         "type": "scatter3d",
         "x": [
          2016,
          2016,
          2016,
          2016,
          2016,
          2016,
          2016,
          2016,
          2016,
          2016,
          2016,
          2016,
          2017,
          2017,
          2017,
          2017,
          2017,
          2017,
          2017,
          2017,
          2017,
          2017,
          2017,
          2017,
          2018,
          2018,
          2018,
          2018,
          2018,
          2018
         ],
         "y": [
          1,
          2,
          3,
          4,
          5,
          6,
          7,
          8,
          9,
          10,
          11,
          12,
          1,
          2,
          3,
          4,
          5,
          6,
          7,
          8,
          9,
          10,
          11,
          12,
          1,
          2,
          3,
          4,
          5,
          6
         ],
         "z": [
          266,
          146,
          183,
          119,
          180,
          169,
          232,
          225,
          193,
          123,
          337,
          186,
          194,
          150,
          210,
          273,
          191,
          287,
          226,
          304,
          290,
          422,
          265,
          342,
          340,
          440,
          316,
          439,
          401,
          390
         ]
        },
        {
         "colorscale": [
          [
           0,
           "#440154"
          ],
          [
           0.1111111111111111,
           "#482878"
          ],
          [
           0.2222222222222222,
           "#3e4989"
          ],
          [
           0.3333333333333333,
           "#31688e"
          ],
          [
           0.4444444444444444,
           "#26828e"
          ],
          [
           0.5555555555555556,
           "#1f9e89"
          ],
          [
           0.6666666666666666,
           "#35b779"
          ],
          [
           0.7777777777777778,
           "#6ece58"
          ],
          [
           0.8888888888888888,
           "#b5de2b"
          ],
          [
           1,
           "#fde725"
          ]
         ],
         "showscale": false,
         "type": "surface",
         "x": [
          2016,
          2016,
          2016,
          2016,
          2016,
          2016,
          2016,
          2016,
          2016,
          2016,
          2016,
          2016,
          2017,
          2017,
          2017,
          2017,
          2017,
          2017,
          2017,
          2017,
          2017,
          2017,
          2017,
          2017,
          2018,
          2018,
          2018,
          2018,
          2018,
          2018
         ],
         "y": [
          1,
          2,
          3,
          4,
          5,
          6,
          7,
          8,
          9,
          10,
          11,
          12,
          1,
          2,
          3,
          4,
          5,
          6,
          7,
          8,
          9,
          10,
          11,
          12,
          1,
          2,
          3,
          4,
          5,
          6
         ],
         "z": [
          [
           -1495.5509518477193,
           -1444.6815789473767,
           -1393.8122060470632,
           -1342.9428331467207,
           -1292.073460246378,
           -1241.2040873460355,
           -1190.334714445693,
           -1139.4653415453795,
           -1088.595968645037,
           -1037.7265957446944,
           -986.8572228443518,
           -935.9878499440383,
           -885.1184770436957,
           -834.2491041433532,
           -783.3797312430106,
           -732.5103583426971,
           -681.6409854423546,
           -630.771612542012,
           -579.9022396416694,
           -529.0328667413269,
           -478.1634938410134,
           -427.29412094067084,
           -376.42474804032827,
           -325.5553751399857,
           -274.68600223967223,
           -223.81662933932967,
           -172.9472564389871,
           -122.07788353864453,
           -71.20851063833106,
           -20.339137737988494,
           30.530235162354074,
           81.39960806269664,
           132.2689809630392,
           183.13835386335268,
           234.00772676369525,
           284.8770996640378,
           335.7464725643804,
           386.61584546469385,
           437.4852183650364,
           488.354591265379,
           539.2239641657216
          ],
          [
           -1494.1889744869886,
           -1443.319601586646,
           -1392.4502286863326,
           -1341.58085578599,
           -1290.7114828856475,
           -1239.842109985305,
           -1188.9727370849623,
           -1138.1033641846489,
           -1087.2339912843063,
           -1036.3646183839637,
           -985.495245483621,
           -934.6258725833076,
           -883.756499682965,
           -832.8871267826224,
           -782.0177538822799,
           -731.1483809819664,
           -680.2790080816238,
           -629.4096351812813,
           -578.5402622809387,
           -527.6708893805961,
           -476.8015164802827,
           -425.93214357994015,
           -375.0627706795976,
           -324.193397779255,
           -273.32402487894154,
           -222.45465197859895,
           -171.58527907825638,
           -120.71590617791381,
           -69.84653327760034,
           -18.97716037725778,
           31.89221252308479,
           82.76158542342736,
           133.63095832376993,
           184.5003312240834,
           235.36970412442597,
           286.2390770247685,
           337.1084499251111,
           387.97782282542454,
           438.8471957257671,
           489.7165686261097,
           540.5859415264523
          ],
          [
           -1492.8269971262578,
           -1441.9576242259152,
           -1391.0882513256017,
           -1340.2188784252592,
           -1289.3495055249166,
           -1238.480132624574,
           -1187.6107597242315,
           -1136.741386823918,
           -1085.8720139235754,
           -1035.0026410232329,
           -984.1332681228904,
           -933.2638952225769,
           -882.3945223222344,
           -831.5251494218918,
           -780.6557765215492,
           -729.7864036212358,
           -678.9170307208932,
           -628.0476578205506,
           -577.1782849202081,
           -526.3089120198655,
           -475.43953911955197,
           -424.5701662192094,
           -373.70079331886683,
           -322.83142041852426,
           -271.9620475182108,
           -221.09267461786823,
           -170.22330171752566,
           -119.35392881718309,
           -68.48455591686962,
           -17.615183016527062,
           33.254189883815506,
           84.12356278415808,
           134.99293568450065,
           185.86230858481412,
           236.73168148515668,
           287.60105438549925,
           338.4704272858418,
           389.3398001861553,
           440.20917308649786,
           491.0785459868404,
           541.9479188871829
          ],
          [
           -1491.4650197655271,
           -1440.5956468651846,
           -1389.726273964871,
           -1338.8569010645285,
           -1287.987528164186,
           -1237.1181552638434,
           -1186.2487823635008,
           -1135.3794094631874,
           -1084.5100365628448,
           -1033.6406636625022,
           -982.7712907621597,
           -931.9019178618462,
           -881.0325449615036,
           -830.163172061161,
           -779.2937991608185,
           -728.424426260505,
           -677.5550533601624,
           -626.6856804598199,
           -575.8163075594773,
           -524.9469346591347,
           -474.0775617588213,
           -423.2081888584787,
           -372.33881595813614,
           -321.46944305779357,
           -270.6000701574801,
           -219.7306972571375,
           -168.86132435679494,
           -117.99195145645238,
           -67.12257855613892,
           -16.253205655796343,
           34.616167244546226,
           85.48554014488879,
           136.35491304523137,
           187.22428594554484,
           238.0936588458874,
           288.96303174622994,
           339.8324046465725,
           390.701777546886,
           441.57115044722855,
           492.4405233475711,
           543.3098962479137
          ],
          [
           -1490.1030424047965,
           -1439.233669504454,
           -1388.3642966041405,
           -1337.494923703798,
           -1286.6255508034553,
           -1235.7561779031128,
           -1184.8868050027702,
           -1134.0174321024567,
           -1083.1480592021142,
           -1032.2786863017716,
           -981.4093134014289,
           -930.5399405011154,
           -879.6705676007729,
           -828.8011947004303,
           -777.9318218000877,
           -727.0624488997743,
           -676.1930759994317,
           -625.3237030990891,
           -574.4543301987466,
           -523.584957298404,
           -472.7155843980905,
           -421.84621149774796,
           -370.9768385974054,
           -320.1074656970628,
           -269.23809279674936,
           -218.3687198964068,
           -167.49934699606422,
           -116.62997409572166,
           -65.7606011954082,
           -14.891228295065627,
           35.97814460527694,
           86.8475175056195,
           137.7168904059621,
           188.58626330627555,
           239.45563620661812,
           290.3250091069607,
           341.19438200730326,
           392.0637549076167,
           442.9331278079593,
           493.80250070830186,
           544.6718736086444
          ],
          [
           -1488.7410650440656,
           -1437.871692143723,
           -1387.0023192434096,
           -1336.132946343067,
           -1285.2635734427245,
           -1234.394200542382,
           -1183.5248276420393,
           -1132.6554547417259,
           -1081.7860818413833,
           -1030.9167089410407,
           -980.0473360406982,
           -929.1779631403847,
           -878.3085902400421,
           -827.4392173396996,
           -776.569844439357,
           -725.7004715390435,
           -674.831098638701,
           -623.9617257383584,
           -573.0923528380158,
           -522.2229799376732,
           -471.35360703735984,
           -420.48423413701727,
           -369.6148612366747,
           -318.74548833633213,
           -267.87611543601867,
           -217.0067425356761,
           -166.13736963533353,
           -115.26799673499094,
           -64.39862383467748,
           -13.529250934334911,
           37.34012196600766,
           88.20949486635023,
           139.07886776669278,
           189.94824066700625,
           240.81761356734881,
           291.6869864676914,
           342.55635936803395,
           393.4257322683474,
           444.29510516869,
           495.16447806903255,
           546.0338509693752
          ],
          [
           -1487.379087683335,
           -1436.5097147829924,
           -1385.640341882679,
           -1334.7709689823364,
           -1283.9015960819938,
           -1233.0322231816513,
           -1182.1628502813087,
           -1131.2934773809952,
           -1080.4241044806527,
           -1029.55473158031,
           -978.6853586799675,
           -927.815985779654,
           -876.9466128793115,
           -826.0772399789689,
           -775.2078670786264,
           -724.3384941783129,
           -673.4691212779703,
           -622.5997483776277,
           -571.7303754772852,
           -520.8610025769426,
           -469.9916296766291,
           -419.1222567762865,
           -368.25288387594395,
           -317.3835109756014,
           -266.5141380752879,
           -215.64476517494538,
           -164.7753922746028,
           -113.90601937426023,
           -63.03664647394676,
           -12.167273573604195,
           38.70209932673838,
           89.57147222708095,
           140.4408451274235,
           191.31021802773697,
           242.17959092807953,
           293.04896382842213,
           343.9183367287647,
           394.78770962907817,
           445.65708252942073,
           496.5264554297633,
           547.3958283301058
          ],
          [
           -1486.0171103226041,
           -1435.1477374222616,
           -1384.278364521948,
           -1333.4089916216055,
           -1282.539618721263,
           -1231.6702458209204,
           -1180.8008729205778,
           -1129.9315000202644,
           -1079.0621271199218,
           -1028.1927542195792,
           -977.3233813192368,
           -926.4540084189233,
           -875.5846355185807,
           -824.7152626182382,
           -773.8458897178956,
           -722.9765168175821,
           -672.1071439172396,
           -621.237771016897,
           -570.3683981165544,
           -519.4990252162119,
           -468.6296523158984,
           -417.76027941555583,
           -366.89090651521326,
           -316.0215336148707,
           -265.1521607145572,
           -214.28278781421466,
           -163.4134149138721,
           -112.5440420135295,
           -61.67466911321605,
           -10.805296212873477,
           40.06407668746909,
           90.93344958781167,
           141.80282248815422,
           192.67219538846769,
           243.54156828881025,
           294.4109411891528,
           345.2803140894954,
           396.14968698980886,
           447.0190598901514,
           497.888432790494,
           548.7578056908366
          ],
          [
           -1484.6551329618735,
           -1433.785760061531,
           -1382.9163871612175,
           -1332.047014260875,
           -1281.1776413605323,
           -1230.3082684601898,
           -1179.4388955598472,
           -1128.5695226595337,
           -1077.7001497591912,
           -1026.8307768588486,
           -975.961403958506,
           -925.0920310581926,
           -874.22265815785,
           -823.3532852575074,
           -772.4839123571649,
           -721.6145394568514,
           -670.7451665565088,
           -619.8757936561663,
           -569.0064207558237,
           -518.1370478554811,
           -467.26767495516765,
           -416.3983020548251,
           -365.5289291544825,
           -314.65955625413994,
           -263.7901833538265,
           -212.92081045348394,
           -162.05143755314137,
           -111.1820646527988,
           -60.31269175248533,
           -9.443318852142761,
           41.42605404819981,
           92.29542694854237,
           143.16479984888494,
           194.0341727491984,
           244.90354564954097,
           295.77291854988357,
           346.64229145022614,
           397.5116643505396,
           448.3810372508822,
           499.25041015122474,
           550.1197830515673
          ],
          [
           -1483.2931556011429,
           -1432.4237827008003,
           -1381.5544098004868,
           -1330.6850369001443,
           -1279.8156639998017,
           -1228.9462910994591,
           -1178.0769181991166,
           -1127.207545298803,
           -1076.3381723984605,
           -1025.468799498118,
           -974.5994265977753,
           -923.7300536974618,
           -872.8606807971192,
           -821.9913078967767,
           -771.1219349964341,
           -720.2525620961206,
           -669.3831891957781,
           -618.5138162954355,
           -567.6444433950929,
           -516.7750704947504,
           -465.90569759443696,
           -415.0363246940944,
           -364.1669517937518,
           -313.29757889340925,
           -262.4282059930958,
           -211.55883309275322,
           -160.68946019241065,
           -109.82008729206808,
           -58.950714391754616,
           -8.081341491412045,
           42.78803140893052,
           93.65740430927309,
           144.52677720961566,
           195.39615010992912,
           246.2655230102717,
           297.13489591061426,
           348.00426881095683,
           398.8736417112703,
           449.74301461161286,
           500.61238751195543,
           551.4817604122981
          ],
          [
           -1481.931178240412,
           -1431.0618053400694,
           -1380.192432439756,
           -1329.3230595394134,
           -1278.4536866390708,
           -1227.5843137387283,
           -1176.7149408383857,
           -1125.8455679380722,
           -1074.9761950377297,
           -1024.106822137387,
           -973.2374492370446,
           -922.3680763367312,
           -871.4987034363886,
           -820.629330536046,
           -769.7599576357035,
           -718.89058473539,
           -668.0212118350474,
           -617.1518389347049,
           -566.2824660343623,
           -515.4130931340197,
           -464.54372023370627,
           -413.6743473333637,
           -362.80497443302113,
           -311.93560153267856,
           -261.0662286323651,
           -210.1968557320225,
           -159.32748283167993,
           -108.45810993133736,
           -57.588737031023896,
           -6.719364130681328,
           44.15000876966124,
           95.01938167000381,
           145.88875457034638,
           196.75812747065984,
           247.6275003710024,
           298.49687327134495,
           349.3662461716875,
           400.235619072001,
           451.10499197234356,
           501.9743648726861,
           552.8437377730287
          ],
          [
           -1480.5692008796814,
           -1429.6998279793388,
           -1378.8304550790253,
           -1327.9610821786828,
           -1277.0917092783402,
           -1226.2223363779976,
           -1175.352963477655,
           -1124.4835905773416,
           -1073.614217676999,
           -1022.7448447766565,
           -971.8754718763139,
           -921.0060989760004,
           -870.1367260756579,
           -819.2673531753153,
           -768.3979802749727,
           -717.5286073746593,
           -666.6592344743167,
           -615.7898615739741,
           -564.9204886736316,
           -514.051115773289,
           -463.1817428729755,
           -412.31236997263295,
           -361.4429970722904,
           -310.5736241719478,
           -259.70425127163435,
           -208.83487837129178,
           -157.9655054709492,
           -107.09613257060664,
           -56.22675967029318,
           -5.357386769950612,
           45.51198613039196,
           96.38135903073453,
           147.2507319310771,
           198.12010483139056,
           248.98947773173313,
           299.8588506320757,
           350.72822353241827,
           401.59759643273173,
           452.4669693330743,
           503.3363422334169,
           554.2057151337594
          ],
          [
           -1479.2072235189507,
           -1428.3378506186082,
           -1377.4684777182947,
           -1326.5991048179521,
           -1275.7297319176096,
           -1224.860359017267,
           -1173.9909861169244,
           -1123.121613216611,
           -1072.2522403162684,
           -1021.3828674159257,
           -970.5134945155831,
           -919.6441216152697,
           -868.7747487149271,
           -817.9053758145845,
           -767.036002914242,
           -716.1666300139285,
           -665.2972571135859,
           -614.4278842132434,
           -563.5585113129008,
           -512.6891384125582,
           -461.8197655122448,
           -410.95039261190226,
           -360.0810197115597,
           -309.2116468112171,
           -258.34227391090366,
           -207.47290101056106,
           -156.6035281102185,
           -105.73415520987592,
           -54.864782309562464,
           -3.9954094092198957,
           46.87396349112267,
           97.74333639146525,
           148.61270929180782,
           199.48208219212128,
           250.35145509246385,
           301.2208279928064,
           352.09020089314896,
           402.9595737934624,
           453.828946693805,
           504.69831959414756,
           555.5676924944902
          ],
          [
           -1477.8452461582199,
           -1426.9758732578773,
           -1376.1065003575638,
           -1325.2371274572213,
           -1274.3677545568787,
           -1223.4983816565361,
           -1172.6290087561936,
           -1121.75963585588,
           -1070.8902629555375,
           -1020.0208900551951,
           -969.1515171548525,
           -918.282144254539,
           -867.4127713541965,
           -816.5433984538539,
           -765.6740255535113,
           -714.8046526531979,
           -663.9352797528553,
           -613.0659068525127,
           -562.1965339521702,
           -511.32716105182755,
           -460.4577881515141,
           -409.5884152511715,
           -358.71904235082894,
           -307.8496694504864,
           -256.9802965501729,
           -206.11092364983034,
           -155.24155074948777,
           -104.37217784914522,
           -53.50280494883175,
           -2.6334320484891798,
           48.235940851853385,
           99.10531375219595,
           149.97468665253854,
           200.844059552852,
           251.71343245319457,
           302.58280535353714,
           353.4521782538797,
           404.3215511541932,
           455.19092405453574,
           506.0602969548783,
           556.9296698552208
          ],
          [
           -1476.4832687974892,
           -1425.6138958971467,
           -1374.7445229968332,
           -1323.8751500964906,
           -1273.005777196148,
           -1222.1364042958055,
           -1171.267031395463,
           -1120.3976584951495,
           -1069.528285594807,
           -1018.6589126944643,
           -967.7895397941218,
           -916.9201668938083,
           -866.0507939934657,
           -815.1814210931232,
           -764.3120481927806,
           -713.4426752924671,
           -662.5733023921246,
           -611.703929491782,
           -560.8345565914394,
           -509.96518369109685,
           -459.0958107907834,
           -408.2264378904408,
           -357.35706499009825,
           -306.4876920897557,
           -255.6183191894422,
           -204.74894628909962,
           -153.87957338875705,
           -103.0102004884145,
           -52.14082758810103,
           -1.2714546877584603,
           49.597918212584105,
           100.46729111292667,
           151.33666401326926,
           202.20603691358272,
           253.0754098139253,
           303.94478271426783,
           354.8141556146104,
           405.68352851492386,
           456.55290141526643,
           507.422274315609,
           558.2916472159516
          ],
          [
           -1475.1212914367586,
           -1424.251918536416,
           -1373.3825456361026,
           -1322.51317273576,
           -1271.6437998354174,
           -1220.7744269350749,
           -1169.9050540347323,
           -1119.0356811344188,
           -1068.1663082340763,
           -1017.2969353337336,
           -966.427562433391,
           -915.5581895330776,
           -864.688816632735,
           -813.8194437323924,
           -762.9500708320498,
           -712.0806979317364,
           -661.2113250313938,
           -610.3419521310512,
           -559.4725792307087,
           -508.6032063303661,
           -457.73383343005264,
           -406.8644605297101,
           -355.9950876293675,
           -305.12571472902493,
           -254.25634182871147,
           -203.3869689283689,
           -152.51759602802633,
           -101.64822312768378,
           -50.77885022737031,
           0.09052267297225569,
           50.959895573314824,
           101.8292684736574,
           152.69864137399998,
           203.56801427431344,
           254.437387174656,
           305.3067600749986,
           356.17613297534115,
           407.0455058756546,
           457.9148787759972,
           508.78425167633975,
           559.6536245766823
          ],
          [
           -1473.7593140760277,
           -1422.8899411756852,
           -1372.0205682753717,
           -1321.1511953750291,
           -1270.2818224746866,
           -1219.412449574344,
           -1168.5430766740014,
           -1117.673703773688,
           -1066.8043308733454,
           -1015.9349579730028,
           -965.0655850726603,
           -914.1962121723468,
           -863.3268392720042,
           -812.4574663716617,
           -761.5880934713191,
           -710.7187205710056,
           -659.8493476706631,
           -608.9799747703205,
           -558.1106018699779,
           -507.2412289696354,
           -456.37185606932195,
           -405.5024831689794,
           -354.6331102686368,
           -303.76373736829424,
           -252.89436446798078,
           -202.0249915676382,
           -151.15561866729564,
           -100.28624576695306,
           -49.416872866639594,
           1.4525000337029716,
           52.321872934045544,
           103.19124583438811,
           154.06061873473067,
           204.92999163504413,
           255.7993645353867,
           306.66873743572927,
           357.53811033607184,
           408.4074832363853,
           459.2768561367279,
           510.14622903707044,
           561.0156019374131
          ],
          [
           -1472.3973367152971,
           -1421.5279638149545,
           -1370.658590914641,
           -1319.7892180142985,
           -1268.919845113956,
           -1218.0504722136134,
           -1167.1810993132708,
           -1116.3117264129573,
           -1065.4423535126148,
           -1014.5729806122722,
           -963.7036077119296,
           -912.8342348116162,
           -861.9648619112736,
           -811.095489010931,
           -760.2261161105885,
           -709.356743210275,
           -658.4873703099324,
           -607.6179974095899,
           -556.7486245092473,
           -505.87925160890467,
           -455.0098787085912,
           -404.14050580824863,
           -353.27113290790606,
           -302.4017600075635,
           -251.53238710725006,
           -200.6630142069075,
           -149.79364130656492,
           -98.92426840622235,
           -48.05489550590888,
           2.8144773944336876,
           53.683850294776256,
           104.55322319511882,
           155.4225960954614,
           206.29196899577485,
           257.16134189611745,
           308.03071479646,
           358.9000876968026,
           409.76946059711605,
           460.6388334974586,
           511.5082063978012,
           562.3775792981437
          ],
          [
           -1471.0353593545663,
           -1420.1659864542237,
           -1369.2966135539102,
           -1318.4272406535677,
           -1267.557867753225,
           -1216.6884948528825,
           -1165.81912195254,
           -1114.9497490522265,
           -1064.080376151884,
           -1013.2110032515415,
           -962.3416303511989,
           -911.4722574508854,
           -860.6028845505429,
           -809.7335116502003,
           -758.8641387498577,
           -707.9947658495443,
           -657.1253929492017,
           -606.2560200488591,
           -555.3866471485165,
           -504.517274248174,
           -453.6479013478605,
           -402.77852844751794,
           -351.9091555471754,
           -301.0397826468328,
           -250.17040974651934,
           -199.30103684617677,
           -148.4316639458342,
           -97.56229104549163,
           -46.69291814517817,
           4.176454755164404,
           55.04582765550697,
           105.91520055584954,
           156.7845734561921,
           207.65394635650557,
           258.52331925684814,
           309.3926921571907,
           360.2620650575333,
           411.13143795784674,
           462.0008108581893,
           512.8701837585319,
           563.7395566588744
          ],
          [
           -1469.6733819938356,
           -1418.804009093493,
           -1367.9346361931796,
           -1317.065263292837,
           -1266.1958903924944,
           -1215.3265174921519,
           -1164.4571445918093,
           -1113.5877716914958,
           -1062.7183987911533,
           -1011.8490258908107,
           -960.9796529904681,
           -910.1102800901547,
           -859.2409071898121,
           -808.3715342894695,
           -757.502161389127,
           -706.6327884888135,
           -655.7634155884709,
           -604.8940426881284,
           -554.0246697877858,
           -503.1552968874432,
           -452.28592398712976,
           -401.4165510867872,
           -350.5471781864446,
           -299.67780528610206,
           -248.80843238578862,
           -197.93905948544605,
           -147.06968658510348,
           -96.20031368476091,
           -45.33094078444745,
           5.538432115895123,
           56.40780501623769,
           107.27717791658026,
           158.14655081692283,
           209.0159237172363,
           259.8852966175789,
           310.75466951792146,
           361.624042418264,
           412.4934153185775,
           463.36278821892006,
           514.2321611192626,
           565.1015340196052
          ],
          [
           -1468.311404633105,
           -1417.4420317327624,
           -1366.572658832449,
           -1315.7032859321064,
           -1264.8339130317638,
           -1213.9645401314212,
           -1163.0951672310787,
           -1112.2257943307652,
           -1061.3564214304226,
           -1010.4870485300801,
           -959.6176756297375,
           -908.748302729424,
           -857.8789298290815,
           -807.0095569287389,
           -756.1401840283963,
           -705.2708111280829,
           -654.4014382277403,
           -603.5320653273977,
           -552.6626924270552,
           -501.79331952671254,
           -450.9239466263991,
           -400.0545737260565,
           -349.18520082571393,
           -298.31582792537137,
           -247.4464550250579,
           -196.57708212471533,
           -145.70770922437276,
           -94.8383363240302,
           -43.96896342371673,
           6.900409476625839,
           57.76978237696841,
           108.63915527731098,
           159.50852817765355,
           210.377901077967,
           261.2472739783096,
           312.11664687865215,
           362.9860197789947,
           413.8553926793082,
           464.72476557965075,
           515.5941384799933,
           566.4635113803358
          ],
          [
           -1466.9494272723741,
           -1416.0800543720316,
           -1365.210681471718,
           -1314.3413085713755,
           -1263.471935671033,
           -1212.6025627706904,
           -1161.7331898703478,
           -1110.8638169700343,
           -1059.9944440696918,
           -1009.1250711693493,
           -958.2556982690068,
           -907.3863253686933,
           -856.5169524683507,
           -805.6475795680082,
           -754.7782066676656,
           -703.9088337673521,
           -653.0394608670096,
           -602.170087966667,
           -551.3007150663244,
           -500.43134216598185,
           -449.5619692656684,
           -398.6925963653258,
           -347.82322346498324,
           -296.9538505646407,
           -246.08447766432718,
           -195.2151047639846,
           -144.34573186364204,
           -93.47635896329948,
           -42.60698606298602,
           8.262386837356551,
           59.13175973769912,
           110.0011326380417,
           160.87050553838426,
           211.73987843869773,
           262.60925133904027,
           313.47862423938284,
           364.3479971397254,
           415.2173700400389,
           466.08674294038144,
           516.956115840724,
           567.8254887410666
          ],
          [
           -1465.5874499116435,
           -1414.718077011301,
           -1363.8487041109875,
           -1312.979331210645,
           -1262.1099583103023,
           -1211.2405854099597,
           -1160.3712125096172,
           -1109.5018396093037,
           -1058.6324667089611,
           -1007.7630938086186,
           -956.893720908276,
           -906.0243480079625,
           -855.15497510762,
           -804.2856022072774,
           -753.4162293069348,
           -702.5468564066214,
           -651.6774835062788,
           -600.8081106059362,
           -549.9387377055937,
           -499.0693648052511,
           -448.19999190493763,
           -397.33061900459506,
           -346.4612461042525,
           -295.5918732039099,
           -244.72250030359646,
           -193.8531274032539,
           -142.98375450291132,
           -92.11438160256876,
           -41.2450087022553,
           9.624364198087271,
           60.49373709842984,
           111.36310999877242,
           162.23248289911498,
           213.10185579942845,
           263.971228699771,
           314.8406016001136,
           365.70997450045616,
           416.5793474007696,
           467.4487203011122,
           518.3180932014548,
           569.1874661017973
          ],
          [
           -1464.2254725509129,
           -1413.3560996505703,
           -1362.4867267502568,
           -1311.6173538499143,
           -1260.7479809495717,
           -1209.8786080492291,
           -1159.0092351488865,
           -1108.139862248573,
           -1057.2704893482305,
           -1006.4011164478878,
           -955.5317435475453,
           -904.6623706472318,
           -853.7929977468892,
           -802.9236248465467,
           -752.0542519462041,
           -701.1848790458906,
           -650.315506145548,
           -599.4461332452055,
           -548.5767603448629,
           -497.7073874445204,
           -446.83801454420694,
           -395.9686416438644,
           -345.0992687435218,
           -294.22989584317924,
           -243.36052294286574,
           -192.49115004252317,
           -141.6217771421806,
           -90.75240424183805,
           -39.883031341524585,
           10.986341558817987,
           61.85571445916055,
           112.72508735950312,
           163.5944602598457,
           214.46383316015917,
           265.3332060605017,
           316.2025789608443,
           367.07195186118685,
           417.9413247615003,
           468.8106976618429,
           519.6800705621855,
           570.5494434625281
          ],
          [
           -1462.863495190182,
           -1411.9941222898394,
           -1361.124749389526,
           -1310.2553764891834,
           -1259.3860035888408,
           -1208.5166306884983,
           -1157.6472577881557,
           -1106.7778848878422,
           -1055.9085119874997,
           -1005.0391390871572,
           -954.1697661868146,
           -903.3003932865012,
           -852.4310203861586,
           -801.561647485816,
           -750.6922745854735,
           -699.82290168516,
           -648.9535287848174,
           -598.0841558844749,
           -547.2147829841323,
           -496.34541008378966,
           -445.4760371834762,
           -394.6066642831336,
           -343.73729138279106,
           -292.8679184824485,
           -241.99854558213502,
           -191.12917268179245,
           -140.25979978144989,
           -89.39042688110733,
           -38.521053980793866,
           12.348318919548703,
           63.21769181989127,
           114.08706472023384,
           164.95643762057642,
           215.8258105208899,
           266.69518342123246,
           317.564556321575,
           368.4339292219176,
           419.30330212223106,
           470.1726750225736,
           521.0420479229161,
           571.9114208232587
          ],
          [
           -1461.5015178294514,
           -1410.6321449291088,
           -1359.7627720287953,
           -1308.8933991284528,
           -1258.0240262281102,
           -1207.1546533277676,
           -1156.285280427425,
           -1105.4159075271116,
           -1054.546534626769,
           -1003.6771617264264,
           -952.8077888260839,
           -901.9384159257704,
           -851.0690430254278,
           -800.1996701250853,
           -749.3302972247427,
           -698.4609243244292,
           -647.5915514240867,
           -596.7221785237441,
           -545.8528056234015,
           -494.98343272305897,
           -444.1140598227455,
           -393.24468692240293,
           -342.37531402206037,
           -291.5059411217178,
           -240.63656822140433,
           -189.76719532106176,
           -138.8978224207192,
           -88.02844952037661,
           -37.159076620063146,
           13.710296280279422,
           64.57966918062199,
           115.44904208096456,
           166.31841498130711,
           217.18778788162058,
           268.05716078196315,
           318.9265336823057,
           369.7959065826483,
           420.66527948296175,
           471.5346523833043,
           522.4040252836469,
           573.2733981839895
          ],
          [
           -1460.1395404687207,
           -1409.2701675683782,
           -1358.4007946680647,
           -1307.5314217677221,
           -1256.6620488673796,
           -1205.792675967037,
           -1154.9233030666944,
           -1104.053930166381,
           -1053.1845572660384,
           -1002.3151843656957,
           -951.4458114653531,
           -900.5764385650397,
           -849.7070656646971,
           -798.8376927643545,
           -747.968319864012,
           -697.0989469636985,
           -646.2295740633559,
           -595.3602011630134,
           -544.4908282626708,
           -493.6214553623282,
           -442.75208246201476,
           -391.8827095616722,
           -341.0133366613296,
           -290.14396376098705,
           -239.2745908606736,
           -188.40521796033104,
           -137.53584505998847,
           -86.6664721596459,
           -35.797099259332434,
           15.072273641010135,
           65.9416465413527,
           116.81101944169527,
           167.68039234203783,
           218.5497652423513,
           269.4191381426939,
           320.28851104303646,
           371.15788394337903,
           422.0272568436925,
           472.89662974403507,
           523.7660026443776,
           574.6353755447202
          ],
          [
           -1458.7775631079899,
           -1407.9081902076473,
           -1357.0388173073338,
           -1306.1694444069913,
           -1255.3000715066487,
           -1204.4306986063061,
           -1153.5613257059636,
           -1102.69195280565,
           -1051.8225799053075,
           -1000.953207004965,
           -950.0838341046224,
           -899.2144612043089,
           -848.3450883039663,
           -797.4757154036238,
           -746.6063425032812,
           -695.7369696029677,
           -644.8675967026252,
           -593.9982238022826,
           -543.12885090194,
           -492.25947800159753,
           -441.39010510128406,
           -390.5207322009415,
           -339.6513593005989,
           -288.78198640025636,
           -237.9126134999429,
           -187.04324059960032,
           -136.17386769925776,
           -85.30449479891519,
           -34.435121898601714,
           16.434251001740854,
           67.30362390208342,
           118.17299680242598,
           169.04236970276855,
           219.91174260308202,
           270.7811155034246,
           321.65048840376716,
           372.5198613041097,
           423.3892342044232,
           474.25860710476576,
           525.1279800051084,
           575.997352905451
          ],
          [
           -1457.4155857472592,
           -1406.5462128469167,
           -1355.6768399466032,
           -1304.8074670462606,
           -1253.938094145918,
           -1203.0687212455755,
           -1152.199348345233,
           -1101.3299754449195,
           -1050.460602544577,
           -999.5912296442343,
           -948.7218567438917,
           -897.8524838435783,
           -846.9831109432357,
           -796.1137380428931,
           -745.2443651425506,
           -694.3749922422371,
           -643.5056193418945,
           -592.636246441552,
           -541.7668735412094,
           -490.8975006408668,
           -440.0281277405533,
           -389.15875484021075,
           -338.2893819398682,
           -287.4200090395256,
           -236.55063613921217,
           -185.6812632388696,
           -134.81189033852704,
           -83.94251743818447,
           -33.073144537870995,
           17.796228362471574,
           68.66560126281414,
           119.5349741631567,
           170.40434706349927,
           221.27371996381274,
           272.14309286415534,
           323.0124657644979,
           373.8818386648405,
           424.75121156515394,
           475.6205844654965,
           526.489957365839,
           577.3593302661816
          ],
          [
           -1456.0536083865286,
           -1405.184235486186,
           -1354.3148625858726,
           -1303.44548968553,
           -1252.5761167851874,
           -1201.7067438848449,
           -1150.8373709845023,
           -1099.9679980841888,
           -1049.0986251838463,
           -998.2292522835036,
           -947.359879383161,
           -896.4905064828475,
           -845.621133582505,
           -794.7517606821624,
           -743.8823877818198,
           -693.0130148815064,
           -642.1436419811638,
           -591.2742690808212,
           -540.4048961804787,
           -489.5355232801361,
           -438.6661503798226,
           -387.79677747948006,
           -336.9274045791375,
           -286.0580316787949,
           -235.18865877848145,
           -184.31928587813888,
           -133.44991297779632,
           -82.58054007745375,
           -31.711167177140283,
           19.158205723202286,
           70.02757862354485,
           120.89695152388742,
           171.76632442423,
           222.63569732454346,
           273.505070224886,
           324.3744431252286,
           375.24381602557116,
           426.11318892588463,
           476.9825618262272,
           527.8519347265698,
           578.7213076269123
          ],
          [
           -1454.6916310257977,
           -1403.8222581254552,
           -1352.9528852251417,
           -1302.0835123247991,
           -1251.2141394244566,
           -1200.344766524114,
           -1149.4753936237714,
           -1098.606020723458,
           -1047.7366478231154,
           -996.8672749227728,
           -945.9979020224303,
           -895.1285291221168,
           -844.2591562217742,
           -793.3897833214317,
           -742.5204104210891,
           -691.6510375207756,
           -640.781664620433,
           -589.9122917200905,
           -539.0429188197479,
           -488.17354591940534,
           -437.3041730190919,
           -386.4348001187493,
           -335.56542721840674,
           -284.69605431806417,
           -233.82668141775073,
           -182.95730851740817,
           -132.0879356170656,
           -81.21856271672303,
           -30.349189816409563,
           20.520183083933006,
           71.38955598427557,
           122.25892888461814,
           173.1283017849607,
           223.99767468527418,
           274.8670475856168,
           325.73642048595934,
           376.6057933863019,
           427.4751662866154,
           478.34453918695795,
           529.2139120873005,
           580.0832849876431
          ],
          [
           -1453.329653665067,
           -1402.4602807647245,
           -1351.590907864411,
           -1300.7215349640685,
           -1249.852162063726,
           -1198.9827891633834,
           -1148.1134162630408,
           -1097.2440433627273,
           -1046.3746704623848,
           -995.5052975620422,
           -944.6359246616996,
           -893.7665517613862,
           -842.8971788610436,
           -792.027805960701,
           -741.1584330603584,
           -690.289060160045,
           -639.4196872597024,
           -588.5503143593598,
           -537.6809414590173,
           -486.81156855867465,
           -435.9421956583612,
           -385.0728227580186,
           -334.20344985767605,
           -283.3340769573335,
           -232.46470405702001,
           -181.59533115667745,
           -130.72595825633488,
           -79.85658535599231,
           -28.98721245567885,
           21.882160444663718,
           72.7515333450063,
           123.62090624534886,
           174.49027914569143,
           225.3596520460049,
           276.22902494634747,
           327.09839784669003,
           377.9677707470326,
           428.83714364734607,
           479.70651654768864,
           530.5758894480311,
           581.4452623483737
          ],
          [
           -1451.9676763043362,
           -1401.0983034039937,
           -1350.2289305036802,
           -1299.3595576033376,
           -1248.490184702995,
           -1197.6208118026525,
           -1146.75143890231,
           -1095.8820660019965,
           -1045.012693101654,
           -994.1433202013114,
           -943.2739473009689,
           -892.4045744006554,
           -841.5352015003128,
           -790.6658285999703,
           -739.7964556996277,
           -688.9270827993142,
           -638.0577098989717,
           -587.1883369986291,
           -536.3189640982865,
           -485.44959119794396,
           -434.5802182976305,
           -383.7108453972879,
           -332.84147249694536,
           -281.9720995966028,
           -231.1027266962893,
           -180.23335379594673,
           -129.36398089560416,
           -78.49460799526159,
           -27.62523509494813,
           23.244137805394438,
           74.11351070573701,
           124.98288360607958,
           175.85225650642215,
           226.72162940673562,
           277.59100230707816,
           328.4603752074207,
           379.3297481077633,
           430.19912100807676,
           481.0684939084193,
           531.9378668087619,
           582.8072397091045
          ],
          [
           -1450.6056989436056,
           -1399.736326043263,
           -1348.8669531429496,
           -1297.997580242607,
           -1247.1282073422644,
           -1196.2588344419219,
           -1145.3894615415793,
           -1094.5200886412658,
           -1043.6507157409233,
           -992.7813428405807,
           -941.9119699402381,
           -891.0425970399247,
           -840.1732241395821,
           -789.3038512392395,
           -738.434478338897,
           -687.5651054385835,
           -636.6957325382409,
           -585.8263596378983,
           -534.9569867375558,
           -484.0876138372132,
           -433.21824093689975,
           -382.3488680365572,
           -331.4794951362146,
           -280.61012223587204,
           -229.74074933555858,
           -178.871376435216,
           -128.00200353487344,
           -77.13263063453087,
           -26.26325773421741,
           24.606115166125157,
           75.47548806646773,
           126.3448609668103,
           177.21423386715287,
           228.08360676746634,
           278.9529796678089,
           329.8223525681515,
           380.69172546849404,
           431.5610983688075,
           482.4304712691501,
           533.2998441694926,
           584.1692170698352
          ],
          [
           -1449.243721582875,
           -1398.3743486825324,
           -1347.504975782219,
           -1296.6356028818764,
           -1245.7662299815338,
           -1194.8968570811912,
           -1144.0274841808487,
           -1093.1581112805352,
           -1042.2887383801926,
           -991.41936547985,
           -940.5499925795074,
           -889.6806196791939,
           -838.8112467788513,
           -787.9418738785088,
           -737.0725009781662,
           -686.2031280778527,
           -635.3337551775102,
           -584.4643822771676,
           -533.595009376825,
           -482.7256364764825,
           -431.85626357616906,
           -380.9868906758265,
           -330.1175177754839,
           -279.24814487514135,
           -228.37877197482788,
           -177.50939907448532,
           -126.64002617414273,
           -75.77065327380016,
           -24.9012803734867,
           25.96809252685587,
           76.83746542719844,
           127.706838327541,
           178.57621122788356,
           229.44558412819703,
           280.3149570285396,
           331.18432992888216,
           382.05370282922473,
           432.9230757295382,
           483.79244862988077,
           534.6618215302234,
           585.531194430566
          ],
          [
           -1447.881744222144,
           -1397.0123713218015,
           -1346.142998421488,
           -1295.2736255211455,
           -1244.404252620803,
           -1193.5348797204604,
           -1142.6655068201178,
           -1091.7961339198043,
           -1040.9267610194618,
           -990.0573881191193,
           -939.1880152187767,
           -888.3186423184633,
           -837.4492694181207,
           -786.5798965177781,
           -735.7105236174356,
           -684.8411507171221,
           -633.9717778167795,
           -583.102404916437,
           -532.2330320160944,
           -481.3636591157518,
           -430.4942862154383,
           -379.62491331509574,
           -328.75554041475317,
           -277.8861675144106,
           -227.01679461409714,
           -176.14742171375457,
           -125.27804881341201,
           -74.40867591306944,
           -23.53930301275598,
           27.33006988758659,
           78.19944278792916,
           129.06881568827174,
           179.9381885886143,
           230.80756148892777,
           281.67693438927034,
           332.5463072896129,
           383.4156801899555,
           434.28505309026895,
           485.1544259906115,
           536.023798890954,
           586.8931717912966
          ],
          [
           -1446.5197668614135,
           -1395.650393961071,
           -1344.7810210607574,
           -1293.9116481604149,
           -1243.0422752600723,
           -1192.1729023597297,
           -1141.3035294593872,
           -1090.4341565590737,
           -1039.5647836587311,
           -988.6954107583886,
           -937.826037858046,
           -886.9566649577325,
           -836.08729205739,
           -785.2179191570474,
           -734.3485462567048,
           -683.4791733563914,
           -632.6098004560488,
           -581.7404275557062,
           -530.8710546553637,
           -480.0016817550211,
           -429.1323088547076,
           -378.26293595436505,
           -327.3935630540225,
           -276.5241901536799,
           -225.65481725336645,
           -174.78544435302388,
           -123.91607145268131,
           -73.04669855233874,
           -22.177325652025267,
           28.6920472483173,
           79.56142014865986,
           130.43079304900243,
           181.300165949345,
           232.16953884965847,
           283.03891175000103,
           333.9082846503436,
           384.7776575506862,
           435.64703045099964,
           486.5164033513422,
           537.3857762516848,
           588.2551491520273
          ],
          [
           -1445.1577895006828,
           -1394.2884166003403,
           -1343.4190437000268,
           -1292.5496707996842,
           -1241.6802978993417,
           -1190.810924998999,
           -1139.9415520986565,
           -1089.072179198343,
           -1038.2028062980005,
           -987.3334333976578,
           -936.4640604973152,
           -885.5946875970018,
           -834.7253146966592,
           -783.8559417963166,
           -732.9865688959741,
           -682.1171959956606,
           -631.247823095318,
           -580.3784501949755,
           -529.5090772946329,
           -478.63970439429033,
           -427.77033149397687,
           -376.9009585936343,
           -326.03158569329173,
           -275.16221279294916,
           -224.29283989263573,
           -173.42346699229316,
           -122.55409409195059,
           -71.68472119160802,
           -20.815348291294548,
           30.05402460904802,
           80.92339750939058,
           131.79277040973315,
           182.66214331007572,
           233.53151621038919,
           284.4008891107318,
           335.27026201107435,
           386.1396349114169,
           437.0090078117304,
           487.87838071207295,
           538.7477536124155,
           589.6171265127581
          ],
          [
           -1443.795812139952,
           -1392.9264392396094,
           -1342.057066339296,
           -1291.1876934389534,
           -1240.3183205386108,
           -1189.4489476382682,
           -1138.5795747379257,
           -1087.7102018376122,
           -1036.8408289372696,
           -985.9714560369271,
           -935.1020831365845,
           -884.232710236271,
           -833.3633373359285,
           -782.4939644355859,
           -731.6245915352433,
           -680.7552186349299,
           -629.8858457345873,
           -579.0164728342447,
           -528.1470999339022,
           -477.27772703355964,
           -426.4083541332462,
           -375.5389812329036,
           -324.66960833256104,
           -273.80023543221847,
           -222.930862531905,
           -172.06148963156244,
           -121.19211673121987,
           -70.3227438308773,
           -19.45337093056383,
           31.41600196977874,
           82.2853748701213,
           133.15474777046387,
           184.02412067080644,
           234.8934935711199,
           285.7628664714625,
           336.63223937180504,
           387.5016122721476,
           438.3709851724611,
           489.24035807280364,
           540.1097309731463,
           590.9791038734888
          ],
          [
           -1442.4338347792213,
           -1391.5644618788788,
           -1340.6950889785653,
           -1289.8257160782227,
           -1238.9563431778802,
           -1188.0869702775376,
           -1137.217597377195,
           -1086.3482244768816,
           -1035.478851576539,
           -984.6094786761964,
           -933.7401057758539,
           -882.8707328755404,
           -832.0013599751978,
           -781.1319870748553,
           -730.2626141745127,
           -679.3932412741992,
           -628.5238683738567,
           -577.6544954735141,
           -526.7851225731715,
           -475.91574967282895,
           -425.0463767725155,
           -374.1770038721729,
           -323.30763097183035,
           -272.4382580714878,
           -221.5688851711743,
           -170.69951227083172,
           -119.83013937048915,
           -68.96076647014658,
           -18.091393569833116,
           32.77797933050945,
           83.64735223085202,
           134.5167251311946,
           185.38609803153716,
           236.25547093185062,
           287.12484383219316,
           337.99421673253573,
           388.8635896328783,
           439.73296253319177,
           490.60233543353434,
           541.4717083338769,
           592.3410812342195
          ],
          [
           -1441.0718574184907,
           -1390.2024845181481,
           -1339.3331116178347,
           -1288.463738717492,
           -1237.5943658171495,
           -1186.724992916807,
           -1135.8556200164644,
           -1084.986247116151,
           -1034.1168742158084,
           -983.2475013154657,
           -932.3781284151231,
           -881.5087555148096,
           -830.6393826144671,
           -779.7700097141245,
           -728.900636813782,
           -678.0312639134685,
           -627.1618910131259,
           -576.2925181127833,
           -525.4231452124408,
           -474.5537723120982,
           -423.68439941178474,
           -372.81502651144217,
           -321.9456536110996,
           -271.07628071075703,
           -220.20690781044357,
           -169.337534910101,
           -118.46816200975843,
           -67.59878910941586,
           -16.729416209102396,
           34.13995669124017,
           85.00932959158274,
           135.8787024919253,
           186.74807539226788,
           237.61744829258134,
           288.4868211929239,
           339.3561940932665,
           390.22556699360905,
           441.0949398939225,
           491.9643127942651,
           542.8336856946077,
           593.7030585949502
          ],
          [
           -1439.7098800577598,
           -1388.8405071574173,
           -1337.9711342571038,
           -1287.1017613567612,
           -1236.2323884564187,
           -1185.363015556076,
           -1134.4936426557335,
           -1083.62426975542,
           -1032.7548968550775,
           -981.8855239547349,
           -931.0161510543924,
           -880.1467781540789,
           -829.2774052537363,
           -778.4080323533938,
           -727.5386594530512,
           -676.6692865527377,
           -625.7999136523952,
           -574.9305407520526,
           -524.06116785171,
           -473.19179495136746,
           -422.322422051054,
           -371.4530491507114,
           -320.58367625036885,
           -269.7143033500263,
           -218.84493044971285,
           -167.97555754937028,
           -117.10618464902771,
           -66.23681174868514,
           -15.367438848371677,
           35.50193405197089,
           86.37130695231346,
           137.24067985265603,
           188.1100527529986,
           238.97942565331206,
           289.84879855365466,
           340.71817145399723,
           391.5875443543398,
           442.45691725465326,
           493.32629015499583,
           544.1956630553384,
           595.065035955681
          ],
          [
           -1438.3479026970292,
           -1387.4785297966866,
           -1336.6091568963732,
           -1285.7397839960306,
           -1234.870411095688,
           -1184.0010381953455,
           -1133.131665295003,
           -1082.2622923946894,
           -1031.3929194943469,
           -980.5235465940043,
           -929.6541736936617,
           -878.7848007933483,
           -827.9154278930057,
           -777.0460549926631,
           -726.1766820923206,
           -675.3073091920071,
           -624.4379362916645,
           -573.568563391322,
           -522.6991904909794,
           -471.82981759063676,
           -420.9604446903233,
           -370.09107178998073,
           -319.22169888963816,
           -268.3523259892956,
           -217.48295308898213,
           -166.61358018863956,
           -115.744207288297,
           -64.87483438795444,
           -14.005461487640972,
           36.8639114127016,
           87.73328431304417,
           138.60265721338675,
           189.47203011372932,
           240.34140301404278,
           291.21077591438535,
           342.0801488147279,
           392.9495217150705,
           443.81889461538395,
           494.6882675157265,
           545.557640416069,
           596.4270133164116
          ],
          [
           -1436.9859253362984,
           -1386.1165524359558,
           -1335.2471795356423,
           -1284.3778066352997,
           -1233.5084337349572,
           -1182.6390608346146,
           -1131.769687934272,
           -1080.9003150339586,
           -1030.030942133616,
           -979.1615692332736,
           -928.292196332931,
           -877.4228234326175,
           -826.553450532275,
           -775.6840776319324,
           -724.8147047315898,
           -673.9453318312763,
           -623.0759589309338,
           -572.2065860305912,
           -521.3372131302486,
           -470.4678402299061,
           -419.5984673295926,
           -368.72909442925004,
           -317.85972152890747,
           -266.9903486285649,
           -216.12097572825144,
           -165.25160282790887,
           -114.38222992756629,
           -63.51285702722372,
           -12.643484126910252,
           38.22588877343232,
           89.09526167377489,
           139.96463457411744,
           190.83400747446,
           241.70338037477347,
           292.57275327511604,
           343.4421261754586,
           394.3114990758012,
           445.18087197611464,
           496.0502448764572,
           546.9196177767998,
           597.7889906771424
          ],
          [
           -1435.6239479755677,
           -1384.7545750752251,
           -1333.8852021749117,
           -1283.0158292745691,
           -1232.1464563742265,
           -1181.277083473884,
           -1130.4077105735414,
           -1079.538337673228,
           -1028.6689647728854,
           -977.7995918725428,
           -926.9302189722002,
           -876.0608460718868,
           -825.1914731715442,
           -774.3221002712016,
           -723.4527273708591,
           -672.5833544705456,
           -621.713981570203,
           -570.8446086698605,
           -519.9752357695179,
           -469.1058628691753,
           -418.23648996886186,
           -367.3671170685193,
           -316.4977441681767,
           -265.62837126783415,
           -214.7589983675207,
           -163.88962546717812,
           -113.02025256683557,
           -62.150879666493,
           -11.281506766179533,
           39.587866134163036,
           90.4572390345056,
           141.3266119348482,
           192.19598483519076,
           243.06535773550422,
           293.9347306358468,
           344.80410353618936,
           395.6734764365319,
           446.5428493368454,
           497.41222223718796,
           548.2815951375305,
           599.1509680378731
          ],
          [
           -1434.261970614837,
           -1383.3925977144945,
           -1332.523224814181,
           -1281.6538519138385,
           -1230.784479013496,
           -1179.9151061131533,
           -1129.0457332128108,
           -1078.1763603124973,
           -1027.3069874121547,
           -976.4376145118121,
           -925.5682416114695,
           -874.698868711156,
           -823.8294958108135,
           -772.9601229104709,
           -722.0907500101283,
           -671.2213771098149,
           -620.3520042094723,
           -569.4826313091297,
           -518.6132584087871,
           -467.74388550844463,
           -416.87451260813117,
           -366.0051397077886,
           -315.13576680744603,
           -264.26639390710346,
           -213.39702100679,
           -162.52764810644743,
           -111.65827520610486,
           -60.788902305762285,
           -9.91952940544882,
           40.94984349489375,
           91.81921639523631,
           142.68858929557888,
           193.55796219592145,
           244.4273350962349,
           295.2967079965775,
           346.16608089692005,
           397.0354537972626,
           447.9048266975761,
           498.77419959791865,
           549.6435724982613,
           600.5129453986038
          ],
          [
           -1432.8999932541062,
           -1382.0306203537637,
           -1331.1612474534502,
           -1280.2918745531076,
           -1229.422501652765,
           -1178.5531287524225,
           -1127.68375585208,
           -1076.8143829517664,
           -1025.9450100514239,
           -975.0756371510814,
           -924.2062642507389,
           -873.3368913504254,
           -822.4675184500828,
           -771.5981455497403,
           -720.7287726493977,
           -669.8593997490842,
           -618.9900268487416,
           -568.1206539483991,
           -517.2512810480565,
           -466.3819081477139,
           -415.5125352474004,
           -364.64316234705785,
           -313.7737894467153,
           -262.9044165463727,
           -212.03504364605928,
           -161.1656707457167,
           -110.29629784537414,
           -59.426924945031566,
           -8.5575520447181,
           42.31182085562447,
           93.18119375596703,
           144.0505666563096,
           194.91993955665217,
           245.78931245696563,
           296.65868535730823,
           347.5280582576508,
           398.39743115799337,
           449.26680405830683,
           500.1361769586494,
           551.0055498589919,
           601.8749227593345
          ],
          [
           -1431.5380158933756,
           -1380.668642993033,
           -1329.7992700927196,
           -1278.929897192377,
           -1228.0605242920344,
           -1177.1911513916918,
           -1126.3217784913493,
           -1075.4524055910358,
           -1024.5830326906932,
           -973.7136597903507,
           -922.8442868900081,
           -871.9749139896946,
           -821.1055410893521,
           -770.2361681890095,
           -719.3667952886669,
           -668.4974223883535,
           -617.6280494880109,
           -566.7586765876683,
           -515.8893036873258,
           -465.0199307869832,
           -414.15055788666973,
           -363.28118498632716,
           -312.4118120859846,
           -261.542439185642,
           -210.67306628532856,
           -159.803693384986,
           -108.93432048464342,
           -58.06494758430085,
           -7.195574683987388,
           43.67379821635518,
           94.54317111669775,
           145.41254401704032,
           196.2819169173829,
           247.15128981769635,
           298.0206627180389,
           348.8900356183815,
           399.75940851872406,
           450.6287814190375,
           501.4981543193801,
           552.3675272197227,
           603.2369001200652
          ],
          [
           -1430.176038532645,
           -1379.3066656323024,
           -1328.437292731989,
           -1277.5679198316463,
           -1226.6985469313038,
           -1175.8291740309612,
           -1124.9598011306186,
           -1074.0904282303052,
           -1023.2210553299625,
           -972.3516824296199,
           -921.4823095292774,
           -870.6129366289639,
           -819.7435637286213,
           -768.8741908282788,
           -718.0048179279362,
           -667.1354450276227,
           -616.2660721272802,
           -565.3966992269376,
           -514.527326326595,
           -463.65795342625245,
           -412.788580525939,
           -361.9192076255964,
           -311.04983472525385,
           -260.1804618249113,
           -209.31108892459784,
           -158.44171602425527,
           -107.5723431239127,
           -56.702970223570134,
           -5.833597323256669,
           45.0357755770859,
           95.90514847742847,
           146.77452137777104,
           197.6438942781136,
           248.51326717842707,
           299.38264007876967,
           350.25201297911224,
           401.1213858794548,
           451.99075877976827,
           502.86013168011084,
           553.7295045804534,
           604.598877480796
          ],
          [
           -1428.814061171914,
           -1377.9446882715715,
           -1327.075315371258,
           -1276.2059424709155,
           -1225.336569570573,
           -1174.4671966702304,
           -1123.5978237698878,
           -1072.7284508695743,
           -1021.8590779692317,
           -970.9897050688892,
           -920.1203321685466,
           -869.2509592682331,
           -818.3815863678906,
           -767.512213467548,
           -716.6428405672054,
           -665.773467666892,
           -614.9040947665494,
           -564.0347218662068,
           -513.1653489658643,
           -462.29597606552176,
           -411.4266031652083,
           -360.5572302648657,
           -309.68785736452315,
           -258.8184844641806,
           -207.94911156386712,
           -157.07973866352455,
           -106.21036576318198,
           -55.340992862839414,
           -4.471619962525949,
           46.39775293781662,
           97.26712583815919,
           148.13649873850176,
           199.00587163884433,
           249.8752445391578,
           300.74461743950036,
           351.6139903398429,
           402.4833632401855,
           453.35273614049896,
           504.22210904084153,
           555.0914819411842,
           605.9608548415267
          ],
          [
           -1427.4520838111835,
           -1376.582710910841,
           -1325.7133380105274,
           -1274.8439651101849,
           -1223.9745922098423,
           -1173.1052193094997,
           -1122.2358464091571,
           -1071.3664735088437,
           -1020.4971006085011,
           -969.6277277081585,
           -918.758354807816,
           -867.8889819075025,
           -817.0196090071599,
           -766.1502361068174,
           -715.2808632064748,
           -664.4114903061613,
           -613.5421174058188,
           -562.6727445054762,
           -511.80337160513363,
           -460.93399870479107,
           -410.0646258044776,
           -359.19525290413503,
           -308.32588000379246,
           -257.4565071034499,
           -206.5871342031364,
           -155.71776130279383,
           -104.84838840245126,
           -53.979015502108695,
           -3.1096426017952297,
           47.75973029854734,
           98.62910319888991,
           149.49847609923248,
           200.36784899957505,
           251.2372218998885,
           302.10659480023105,
           352.9759677005736,
           403.8453406009162,
           454.71471350122965,
           505.5840864015722,
           556.4534593019148,
           607.3228322022574
          ],
          [
           -1426.0901064504528,
           -1375.2207335501103,
           -1324.3513606497968,
           -1273.4819877494542,
           -1222.6126148491117,
           -1171.743241948769,
           -1120.8738690484265,
           -1070.004496148113,
           -1019.1351232477704,
           -968.2657503474278,
           -917.3963774470852,
           -866.5270045467718,
           -815.6576316464292,
           -764.7882587460866,
           -713.9188858457441,
           -663.0495129454306,
           -612.180140045088,
           -561.3107671447455,
           -510.4413942444029,
           -459.5720213440603,
           -408.70264844374685,
           -357.8332755434043,
           -306.9639026430617,
           -256.09452974271915,
           -205.22515684240568,
           -154.3557839420631,
           -103.48641104172056,
           -52.61703814137799,
           -1.7476652410645244,
           49.121707659278044,
           99.99108055962061,
           150.8604534599632,
           201.72982636030576,
           252.59919926061923,
           303.4685721609618,
           354.33794506130437,
           405.20731796164694,
           456.0766908619604,
           506.94606376230297,
           557.8154366626455,
           608.6848095629881
          ],
          [
           -1424.728129089722,
           -1373.8587561893794,
           -1322.989383289066,
           -1272.1200103887234,
           -1221.2506374883808,
           -1170.3812645880382,
           -1119.5118916876957,
           -1068.6425187873822,
           -1017.7731458870396,
           -966.903772986697,
           -916.0344000863545,
           -865.165027186041,
           -814.2956542856984,
           -763.4262813853559,
           -712.5569084850133,
           -661.6875355846998,
           -610.8181626843573,
           -559.9487897840147,
           -509.0794168836722,
           -458.2100439833296,
           -407.34067108301616,
           -356.4712981826736,
           -305.601925282331,
           -254.73255238198846,
           -203.863179481675,
           -152.99380658133242,
           -102.12443368098984,
           -51.25506078064727,
           -0.38568788033380486,
           50.483685020008764,
           101.35305792035133,
           152.2224308206939,
           203.09180372103646,
           253.96117662134992,
           304.8305495216925,
           355.69992242203506,
           406.5692953223776,
           457.4386682226911,
           508.30804112303366,
           559.1774140233763,
           610.0467869237189
          ],
          [
           -1423.3661517289913,
           -1372.4967788286488,
           -1321.6274059283353,
           -1270.7580330279927,
           -1219.8886601276502,
           -1169.0192872273076,
           -1118.149914326965,
           -1067.2805414266516,
           -1016.411168526309,
           -965.5417956259664,
           -914.6724227256238,
           -863.8030498253104,
           -812.9336769249678,
           -762.0643040246252,
           -711.1949311242827,
           -660.3255582239692,
           -609.4561853236266,
           -558.5868124232841,
           -507.71743952294145,
           -456.8480666225989,
           -405.9786937222854,
           -355.10932082194284,
           -304.2399479216003,
           -253.3705750212577,
           -202.50120212094424,
           -151.63182922060167,
           -100.76245632025912,
           -49.89308341991655,
           0.9762894803969147,
           51.84566238073948,
           102.71503528108205,
           153.58440818142464,
           204.4537810817672,
           255.32315398208067,
           306.19252688242324,
           357.0618997827658,
           407.9312726831084,
           458.80064558342184,
           509.6700184837644,
           560.5393913841069,
           611.4087642844495
          ],
          [
           -1422.0041743682605,
           -1371.134801467918,
           -1320.2654285676044,
           -1269.3960556672619,
           -1218.5266827669193,
           -1167.6573098665767,
           -1116.7879369662342,
           -1065.9185640659207,
           -1015.0491911655782,
           -964.1798182652357,
           -913.3104453648931,
           -862.4410724645796,
           -811.5716995642371,
           -760.7023266638945,
           -709.8329537635519,
           -658.9635808632385,
           -608.0942079628959,
           -557.2248350625533,
           -506.35546216221076,
           -455.4860892618682,
           -404.6167163615547,
           -353.74734346121215,
           -302.8779705608696,
           -252.00859766052702,
           -201.13922476021355,
           -150.26985185987098,
           -99.4004789595284,
           -48.53110605918583,
           2.338266841127634,
           53.2076397414702,
           104.07701264181277,
           154.94638554215533,
           205.8157584424979,
           256.68513134281136,
           307.55450424315393,
           358.4238771434965,
           409.29325004383907,
           460.16262294415253,
           511.0319958444951,
           561.9013687448377,
           612.7707416451802
          ],
          [
           -1420.6421970075298,
           -1369.7728241071873,
           -1318.9034512068738,
           -1268.0340783065312,
           -1217.1647054061887,
           -1166.295332505846,
           -1115.4259596055035,
           -1064.55658670519,
           -1013.6872138048475,
           -962.8178409045049,
           -911.9484680041624,
           -861.0790951038489,
           -810.2097222035063,
           -759.3403493031637,
           -708.4709764028212,
           -657.6016035025077,
           -606.7322306021651,
           -555.8628577018226,
           -504.99348480148,
           -454.12411190113744,
           -403.254739000824,
           -352.3853661004814,
           -301.51599320013884,
           -250.64662029979627,
           -199.7772473994828,
           -148.90787449914023,
           -98.03850159879768,
           -47.16912869845511,
           3.7002442018583537,
           54.56961710220092,
           105.43899000254349,
           156.30836290288607,
           207.17773580322864,
           258.0471087035421,
           308.9164816038847,
           359.78585450422725,
           410.6552274045698,
           461.5246003048833,
           512.3939732052258,
           563.2633461055684,
           614.132719005911
          ],
          [
           -1419.2802196467992,
           -1368.4108467464566,
           -1317.5414738461432,
           -1266.6721009458006,
           -1215.802728045458,
           -1164.9333551451155,
           -1114.063982244773,
           -1063.1946093444594,
           -1012.3252364441167,
           -961.4558635437742,
           -910.5864906434316,
           -859.7171177431181,
           -808.8477448427756,
           -757.978371942433,
           -707.1089990420904,
           -656.239626141777,
           -605.3702532414344,
           -554.5008803410918,
           -503.6315074407493,
           -452.76213454040675,
           -401.8927616400933,
           -351.0233887397507,
           -300.15401583940815,
           -249.28464293906558,
           -198.4152700387521,
           -147.54589713840954,
           -96.67652423806696,
           -45.80715133772439,
           5.062221562589073,
           55.93159446293164,
           106.80096736327421,
           157.67034026361677,
           208.53971316395933,
           259.4090860642728,
           310.27845896461537,
           361.14783186495794,
           412.0172047653005,
           462.88657766561397,
           513.7559505659566,
           564.6253234662992,
           615.4946963666417
          ],
          [
           -1417.9182422860683,
           -1367.0488693857258,
           -1316.1794964854123,
           -1265.3101235850697,
           -1214.4407506847272,
           -1163.5713777843846,
           -1112.702004884042,
           -1061.8326319837286,
           -1010.9632590833861,
           -960.0938861830435,
           -909.224513282701,
           -858.3551403823875,
           -807.4857674820449,
           -756.6163945817024,
           -705.7470216813598,
           -654.8776487810463,
           -604.0082758807038,
           -553.1389029803612,
           -502.2695300800186,
           -451.40015717967606,
           -400.5307842793626,
           -349.66141137902,
           -298.79203847867745,
           -247.92266557833486,
           -197.0532926780214,
           -146.18391977767882,
           -95.31454687733626,
           -44.445173976993686,
           6.4241989233197785,
           57.29357182366235,
           108.16294472400492,
           159.03231762434748,
           209.90169052469005,
           260.7710634250035,
           311.64043632534606,
           362.5098092256886,
           413.3791821260312,
           464.24855502634466,
           515.1179279266872,
           565.9873008270298,
           616.8566737273724
          ],
          [
           -1416.5562649253377,
           -1365.6868920249951,
           -1314.8175191246817,
           -1263.948146224339,
           -1213.0787733239965,
           -1162.209400423654,
           -1111.3400275233114,
           -1060.470654622998,
           -1009.6012817226554,
           -958.7319088223128,
           -907.8625359219702,
           -856.9931630216568,
           -806.1237901213142,
           -755.2544172209716,
           -704.385044320629,
           -653.5156714203156,
           -602.646298519973,
           -551.7769256196304,
           -500.9075527192879,
           -450.0381798189453,
           -399.16880691863184,
           -348.2994340182893,
           -297.4300611179467,
           -246.56068821760414,
           -195.69131531729067,
           -144.8219424169481,
           -93.95256951660554,
           -43.08319661626297,
           7.786176284050498,
           58.65554918439307,
           109.52492208473564,
           160.3942949850782,
           211.26366788542077,
           262.13304078573424,
           313.0024136860768,
           363.8717865864194,
           414.74115948676194,
           465.6105323870754,
           516.479905287418,
           567.3492781877605,
           618.2186510881031
          ],
          [
           -1415.194287564607,
           -1364.3249146642645,
           -1313.455541763951,
           -1262.5861688636085,
           -1211.716795963266,
           -1160.8474230629233,
           -1109.9780501625808,
           -1059.1086772622673,
           -1008.2393043619246,
           -957.369931461582,
           -906.5005585612395,
           -855.631185660926,
           -804.7618127605834,
           -753.8924398602409,
           -703.0230669598983,
           -652.1536940595848,
           -601.2843211592423,
           -550.4149482588997,
           -499.54557535855713,
           -448.67620245821456,
           -397.8068295579011,
           -346.9374566575585,
           -296.06808375721596,
           -245.19871085687342,
           -194.32933795655995,
           -143.45996505621738,
           -92.59059215587482,
           -41.72121925553225,
           9.148153644781218,
           60.017526545123786,
           110.88689944546636,
           161.75627234580892,
           212.6256452461515,
           263.495018146465,
           314.36439104680755,
           365.2337639471501,
           416.1031368474927,
           466.97250974780616,
           517.8418826481487,
           568.7112555484913,
           619.5806284488339
          ],
          [
           -1413.8323102038762,
           -1362.9629373035336,
           -1312.0935644032202,
           -1261.2241915028776,
           -1210.354818602535,
           -1159.4854457021925,
           -1108.61607280185,
           -1057.7466999015364,
           -1006.8773270011939,
           -956.0079541008513,
           -905.1385812005087,
           -854.2692083001953,
           -803.3998353998527,
           -752.5304624995101,
           -701.6610895991676,
           -650.7917166988541,
           -599.9223437985115,
           -549.052970898169,
           -498.18359799782644,
           -447.31422509748387,
           -396.4448521971704,
           -345.57547929682784,
           -294.70610639648527,
           -243.8367334961427,
           -192.96736059582923,
           -142.09798769548667,
           -91.2286147951441,
           -40.35924189480153,
           10.510131005511937,
           61.379503905854506,
           112.24887680619707,
           163.11824970653964,
           213.9876226068822,
           264.8569955071957,
           315.72636840753825,
           366.5957413078808,
           417.4651142082234,
           468.33448710853685,
           519.2038600088795,
           570.073232909222,
           620.9426058095646
          ],
          [
           -1412.4703328431456,
           -1361.600959942803,
           -1310.7315870424895,
           -1259.862214142147,
           -1208.9928412418044,
           -1158.1234683414618,
           -1107.2540954411193,
           -1056.3847225408058,
           -1005.5153496404632,
           -954.6459767401207,
           -903.7766038397781,
           -852.9072309394646,
           -802.037858039122,
           -751.1684851387795,
           -700.2991122384369,
           -649.4297393381235,
           -598.5603664377809,
           -547.6909935374383,
           -496.82162063709575,
           -445.9522477367532,
           -395.0828748364397,
           -344.21350193609715,
           -293.3441290357546,
           -242.47475613541198,
           -191.60538323509851,
           -140.73601033475595,
           -89.86663743441338,
           -38.99726453407081,
           11.872108366242657,
           62.741481266585225,
           113.6108541669278,
           164.48022706727036,
           215.34959996761293,
           266.21897286792637,
           317.08834576826894,
           367.9577186686115,
           418.8270915689541,
           469.69646446926754,
           520.5658373696101,
           571.4352102699527,
           622.3045831702952
          ],
          [
           -1411.108355482415,
           -1360.2389825820724,
           -1309.369609681759,
           -1258.5002367814163,
           -1207.6308638810738,
           -1156.7614909807312,
           -1105.8921180803886,
           -1055.0227451800752,
           -1004.1533722797325,
           -953.2839993793899,
           -902.4146264790473,
           -851.5452535787339,
           -800.6758806783913,
           -749.8065077780487,
           -698.9371348777062,
           -648.0677619773927,
           -597.1983890770501,
           -546.3290161767076,
           -495.459643276365,
           -444.59027037602243,
           -393.72089747570897,
           -342.8515245753664,
           -291.98215167502383,
           -241.11277877468126,
           -190.2434058743678,
           -139.37403297402523,
           -88.50466007368267,
           -37.6352871733401,
           13.234085726973362,
           64.10345862731593,
           114.9728315276585,
           165.84220442800108,
           216.71157732834365,
           267.5809502286571,
           318.4503231289997,
           369.31969602934225,
           420.1890689296848,
           471.0584418299983,
           521.9278147303409,
           572.7971876306834,
           623.666560531026
          ],
          [
           -1409.746378121684,
           -1358.8770052213415,
           -1308.007632321028,
           -1257.1382594206855,
           -1206.268886520343,
           -1155.3995136200003,
           -1104.5301407196578,
           -1053.6607678193443,
           -1002.7913949190017,
           -951.9220220186592,
           -901.0526491183166,
           -850.1832762180031,
           -799.3139033176606,
           -748.444530417318,
           -697.5751575169754,
           -646.705784616662,
           -595.8364117163194,
           -544.9670388159768,
           -494.0976659156343,
           -443.22829301529174,
           -392.3589201149783,
           -341.4895472146357,
           -290.62017431429314,
           -239.75080141395057,
           -188.8814285136371,
           -138.01205561329454,
           -87.14268271295195,
           -36.273309812609384,
           14.596063087704081,
           65.46543598804665,
           116.33480888838922,
           167.20418178873177,
           218.07355468907434,
           268.9429275893878,
           319.8123004897304,
           370.68167339007294,
           421.5510462904155,
           472.420419190729,
           523.2897920910716,
           574.1591649914142,
           625.0285378917567
          ],
          [
           -1408.3844007609534,
           -1357.5150278606109,
           -1306.6456549602974,
           -1255.7762820599548,
           -1204.9069091596123,
           -1154.0375362592697,
           -1103.1681633589271,
           -1052.2987904586137,
           -1001.4294175582711,
           -950.5600446579285,
           -899.690671757586,
           -848.8212988572725,
           -797.9519259569299,
           -747.0825530565874,
           -696.2131801562448,
           -645.3438072559313,
           -594.4744343555888,
           -543.6050614552462,
           -492.73568855490356,
           -441.866315654561,
           -390.9969427542475,
           -340.12756985390496,
           -289.2581969535624,
           -238.38882405321982,
           -187.51945115290636,
           -136.6500782525638,
           -85.78070535222123,
           -34.911332451878664,
           15.9580404484348,
           66.82741334877737,
           117.69678624911994,
           168.56615914946252,
           219.4355320498051,
           270.30490495011856,
           321.1742778504611,
           372.0436507508037,
           422.91302365114626,
           473.7823965514597,
           524.6517694518022,
           575.5211423521448,
           626.3905152524874
          ],
          [
           -1407.0224234002226,
           -1356.15305049988,
           -1305.2836775995665,
           -1254.414304699224,
           -1203.5449317988814,
           -1152.6755588985388,
           -1101.8061859981963,
           -1050.9368130978828,
           -1000.0674401975403,
           -949.1980672971978,
           -898.3286943968552,
           -847.4593214965417,
           -796.5899485961992,
           -745.7205756958566,
           -694.851202795514,
           -643.9818298952006,
           -593.112456994858,
           -542.2430840945154,
           -491.37371119417287,
           -440.5043382938303,
           -389.63496539351684,
           -338.76559249317427,
           -287.8962195928317,
           -237.02684669248913,
           -186.15747379217567,
           -135.2881008918331,
           -84.41872799149051,
           -33.549355091147945,
           17.32001780916552,
           68.18939070950809,
           119.05876360985066,
           169.9281365101932,
           220.79750941053578,
           271.66688231084925,
           322.5362552111918,
           373.4056281115344,
           424.27500101187695,
           475.1443739121904,
           526.013746812533,
           576.8831197128756,
           627.7524926132181
          ],
          [
           -1405.660446039492,
           -1354.7910731391494,
           -1303.921700238836,
           -1253.0523273384933,
           -1202.1829544381508,
           -1151.3135815378082,
           -1100.4442086374656,
           -1049.5748357371522,
           -998.7054628368096,
           -947.836089936467,
           -896.9667170361245,
           -846.097344135811,
           -795.2279712354684,
           -744.3585983351259,
           -693.4892254347833,
           -642.6198525344698,
           -591.7504796341273,
           -540.8811067337847,
           -490.0117338334421,
           -439.14236093309955,
           -388.2729880327861,
           -337.4036151324435,
           -286.53424223210095,
           -235.66486933175838,
           -184.79549643144492,
           -133.92612353110235,
           -83.0567506307598,
           -32.187377730417225,
           18.68199516989624,
           69.55136807023881,
           120.42074097058138,
           171.29011387092396,
           222.15948677126653,
           273.02885967158,
           323.89823257192256,
           374.76760547226513,
           425.6369783726077,
           476.50635127292117,
           527.3757241732637,
           578.2450970736063,
           629.1144699739489
          ],
          [
           -1404.2984686787613,
           -1353.4290957784187,
           -1302.5597228781053,
           -1251.6903499777627,
           -1200.8209770774201,
           -1149.9516041770776,
           -1099.082231276735,
           -1048.2128583764215,
           -997.343485476079,
           -946.4741125757364,
           -895.6047396753938,
           -844.7353667750804,
           -793.8659938747378,
           -742.9966209743952,
           -692.1272480740527,
           -641.2578751737392,
           -590.3885022733966,
           -539.519129373054,
           -488.64975647271143,
           -437.78038357236886,
           -386.9110106720554,
           -336.04163777171283,
           -285.17226487137026,
           -234.3028919710277,
           -183.43351907071423,
           -132.56414617037166,
           -81.69477327002909,
           -30.82540036968652,
           20.043972530626945,
           70.91334543096951,
           121.78271833131208,
           172.65209123165465,
           223.52146413199722,
           274.3908370323107,
           325.26020993265325,
           376.1295828329958,
           426.9989557333384,
           477.86832863365186,
           528.7377015339944,
           579.6070744343369,
           630.4764473346795
          ],
          [
           -1402.9364913180304,
           -1352.0671184176879,
           -1301.1977455173744,
           -1250.3283726170318,
           -1199.4589997166893,
           -1148.5896268163467,
           -1097.7202539160041,
           -1046.8508810156907,
           -995.9815081153482,
           -945.1121352150057,
           -894.2427623146631,
           -843.3733894143496,
           -792.504016514007,
           -741.6346436136645,
           -690.7652707133219,
           -639.8958978130084,
           -589.0265249126659,
           -538.1571520123233,
           -487.28777911198074,
           -436.41840621163817,
           -385.5490333113247,
           -334.67966041098214,
           -283.81028751063957,
           -232.94091461029697,
           -182.0715417099835,
           -131.20216880964094,
           -80.33279590929837,
           -29.4634230089558,
           21.405949891357665,
           72.27532279170023,
           123.1446956920428,
           174.01406859238537,
           224.88344149272794,
           275.7528143930414,
           326.62218729338394,
           377.4915601937265,
           428.3609330940691,
           479.23030599438255,
           530.0996788947251,
           580.9690517950677,
           631.8384246954103
          ],
          [
           -1401.5745139572998,
           -1350.7051410569572,
           -1299.8357681566438,
           -1248.9663952563012,
           -1198.0970223559586,
           -1147.227649455616,
           -1096.3582765552735,
           -1045.48890365496,
           -994.6195307546175,
           -943.7501578542749,
           -892.8807849539323,
           -842.0114120536189,
           -791.1420391532763,
           -740.2726662529337,
           -689.4032933525912,
           -638.5339204522777,
           -587.6645475519351,
           -536.7951746515926,
           -485.92580175125,
           -435.0564288509074,
           -384.18705595059396,
           -333.3176830502514,
           -282.4483101499088,
           -231.57893724956625,
           -180.7095643492528,
           -129.84019144891022,
           -78.97081854856765,
           -28.10144564822508,
           22.767927252088384,
           73.63730015243095,
           124.50667305277352,
           175.3760459531161,
           226.24541885345866,
           277.1147917537721,
           327.9841646541147,
           378.85353755445726,
           429.72291045479983,
           480.5922833551133,
           531.4616562554559,
           582.3310291557984,
           633.200402056141
          ],
          [
           -1400.2125365965692,
           -1349.3431636962266,
           -1298.4737907959131,
           -1247.6044178955706,
           -1196.735044995228,
           -1145.8656720948854,
           -1094.9962991945429,
           -1044.1269262942294,
           -993.2575533938867,
           -942.3881804935442,
           -891.5188075932016,
           -840.6494346928881,
           -789.7800617925456,
           -738.910688892203,
           -688.0413159918604,
           -637.171943091547,
           -586.3025701912044,
           -535.4331972908618,
           -484.56382439051924,
           -433.6944514901767,
           -382.8250785898632,
           -331.95570568952064,
           -281.0863327891781,
           -230.21695988883553,
           -179.34758698852207,
           -128.4782140881795,
           -77.60884118783693,
           -26.73946828749436,
           24.129904612819104,
           74.99927751316167,
           125.86865041350424,
           176.7380233138468,
           227.60739621418938,
           278.4767691145029,
           329.34614201484544,
           380.215514915188,
           431.0848878155306,
           481.95426071584404,
           532.8236336161866,
           583.6930065165292,
           634.5623794168717
          ],
          [
           -1398.8505592358383,
           -1347.9811863354957,
           -1297.1118134351823,
           -1246.2424405348397,
           -1195.3730676344971,
           -1144.5036947341546,
           -1093.634321833812,
           -1042.7649489334985,
           -991.895576033156,
           -941.0262031328134,
           -890.1568302324708,
           -839.2874573321574,
           -788.4180844318148,
           -737.5487115314722,
           -686.6793386311297,
           -635.8099657308162,
           -584.9405928304736,
           -534.0712199301311,
           -483.20184702978855,
           -432.332474129446,
           -381.4631012291325,
           -330.59372832878995,
           -279.7243554284474,
           -228.8549825281048,
           -177.98560962779135,
           -127.11623672744878,
           -76.24686382710621,
           -25.37749092676364,
           25.491881973549823,
           76.36125487389239,
           127.23062777423496,
           178.10000067457753,
           228.9693735749201,
           279.83874647523356,
           330.70811937557613,
           381.5774922759187,
           432.44686517626127,
           483.31623807657473,
           534.1856109769174,
           585.0549838772599,
           635.9243567776025
          ],
          [
           -1397.4885818751077,
           -1346.6192089747651,
           -1295.7498360744517,
           -1244.880463174109,
           -1194.0110902737665,
           -1143.141717373424,
           -1092.2723444730814,
           -1041.402971572768,
           -990.5335986724253,
           -939.6642257720828,
           -888.7948528717402,
           -837.9254799714267,
           -787.0561070710842,
           -736.1867341707416,
           -685.317361270399,
           -634.4479883700856,
           -583.578615469743,
           -532.7092425694004,
           -481.83986966905786,
           -430.9704967687153,
           -380.1011238684018,
           -329.23175096805926,
           -278.3623780677167,
           -227.49300516737412,
           -176.62363226706066,
           -125.75425936671807,
           -74.8848864663755,
           -24.015513566032936,
           26.85385933428053,
           77.7232322346231,
           128.59260513496565,
           179.46197803530822,
           230.3313509356508,
           281.20072383596425,
           332.0700967363068,
           382.9394696366494,
           433.80884253699196,
           484.6782154373054,
           535.547588337648,
           586.4169612379906,
           637.2863341383331
          ],
          [
           -1396.126604514377,
           -1345.2572316140345,
           -1294.387858713721,
           -1243.5184858133784,
           -1192.6491129130359,
           -1141.7797400126933,
           -1090.9103671123507,
           -1040.0409942120373,
           -989.1716213116946,
           -938.302248411352,
           -887.4328755110095,
           -836.563502610696,
           -785.6941297103534,
           -734.8247568100109,
           -683.9553839096683,
           -633.0860110093548,
           -582.2166381090123,
           -531.3472652086697,
           -480.4778923083271,
           -429.60851940798455,
           -378.7391465076711,
           -327.8697736073285,
           -277.00040070698594,
           -226.13102780664337,
           -175.2616549063299,
           -124.39228200598735,
           -73.52290910564479,
           -22.653536205302217,
           28.215836695011248,
           79.08520959535382,
           129.9545824956964,
           180.82395539603897,
           231.69332829638154,
           282.562701196695,
           333.43207409703757,
           384.30144699738014,
           435.1708198977227,
           486.0401927980362,
           536.9095656983787,
           587.7789385987213,
           638.6483114990639
          ],
          [
           -1394.7646271536462,
           -1343.8952542533036,
           -1293.0258813529902,
           -1242.1565084526476,
           -1191.287135552305,
           -1140.4177626519624,
           -1089.5483897516199,
           -1038.6790168513064,
           -987.8096439509638,
           -936.9402710506213,
           -886.0708981502787,
           -835.2015252499652,
           -784.3321523496227,
           -733.4627794492801,
           -682.5934065489375,
           -631.7240336486241,
           -580.8546607482815,
           -529.9852878479389,
           -479.1159149475964,
           -428.24654204725385,
           -377.3771691469404,
           -326.5077962465978,
           -275.63842334625525,
           -224.76905044591268,
           -173.89967754559922,
           -123.03030464525663,
           -72.16093174491407,
           -21.291558844571497,
           29.577814055741968,
           80.44718695608454,
           131.3165598564271,
           182.18593275676966,
           233.05530565711223,
           283.9246785574257,
           334.79405145776826,
           385.66342435811083,
           436.5327972584534,
           487.40217015876686,
           538.2715430591095,
           589.1409159594521,
           640.0102888597946
          ],
          [
           -1393.4026497929156,
           -1342.533276892573,
           -1291.6639039922595,
           -1240.794531091917,
           -1189.9251581915744,
           -1139.0557852912318,
           -1088.1864123908892,
           -1037.3170394905758,
           -986.4476665902332,
           -935.5782936898906,
           -884.7089207895481,
           -833.8395478892346,
           -782.970174988892,
           -732.1008020885495,
           -681.2314291882069,
           -630.3620562878934,
           -579.4926833875509,
           -528.6233104872083,
           -477.7539375868657,
           -426.8845646865231,
           -376.01519178620964,
           -325.1458188858671,
           -274.2764459855245,
           -223.40707308518193,
           -172.53770018486847,
           -121.66832728452592,
           -70.79895438418335,
           -19.929581483840778,
           30.939791416472687,
           81.80916431681526,
           132.67853721715784,
           183.5479101175004,
           234.41728301784298,
           285.28665591815644,
           336.156028818499,
           387.0254017188416,
           437.89477461918415,
           488.7641475194976,
           539.6335204198401,
           590.5028933201827,
           641.3722662205253
          ],
          [
           -1392.0406724321847,
           -1341.1712995318421,
           -1290.3019266315287,
           -1239.432553731186,
           -1188.5631808308435,
           -1137.693807930501,
           -1086.8244350301584,
           -1035.955062129845,
           -985.0856892295025,
           -934.2163163291599,
           -883.3469434288173,
           -832.4775705285039,
           -781.6081976281613,
           -730.7388247278187,
           -679.8694518274762,
           -629.0000789271627,
           -578.1307060268201,
           -527.2613331264776,
           -476.391960226135,
           -425.5225873257924,
           -374.65321442547895,
           -323.7838415251364,
           -272.9144686247938,
           -222.04509572445124,
           -171.17572282413778,
           -120.3063499237952,
           -69.43697702345263,
           -18.56760412311006,
           32.30176877720341,
           83.17114167754598,
           134.04051457788853,
           184.9098874782311,
           235.77926037857367,
           286.64863327888713,
           337.5180061792297,
           388.38737907957227,
           439.25675197991484,
           490.1261248802283,
           540.9954977805709,
           591.8648706809134,
           642.734243581256
          ],
          [
           -1390.678695071454,
           -1339.8093221711115,
           -1288.939949270798,
           -1238.0705763704555,
           -1187.201203470113,
           -1136.3318305697703,
           -1085.4624576694277,
           -1034.5930847691143,
           -983.7237118687717,
           -932.8543389684291,
           -881.9849660680866,
           -831.1155931677731,
           -780.2462202674305,
           -729.376847367088,
           -678.5074744667454,
           -627.6381015664319,
           -576.7687286660894,
           -525.8993557657468,
           -475.02998286540424,
           -424.16060996506167,
           -373.2912370647482,
           -322.42186416440563,
           -271.55249126406306,
           -220.6831183637205,
           -169.81374546340703,
           -118.94437256306448,
           -68.07499966272191,
           -17.20562676237934,
           33.663746137934126,
           84.5331190382767,
           135.40249193861928,
           186.27186483896185,
           237.14123773930442,
           288.0106106396179,
           338.87998353996045,
           389.749356440303,
           440.6187293406456,
           491.48810224095905,
           542.3574751413016,
           593.2268480416442,
           644.0962209419868
          ],
          [
           -1389.3167177107234,
           -1338.4473448103809,
           -1287.5779719100674,
           -1236.7085990097248,
           -1185.8392261093823,
           -1134.9698532090397,
           -1084.1004803086971,
           -1033.2311074083837,
           -982.3617345080411,
           -931.4923616076985,
           -880.622988707356,
           -829.7536158070425,
           -778.8842429066999,
           -728.0148700063573,
           -677.1454971060148,
           -626.2761242057013,
           -575.4067513053587,
           -524.5373784050162,
           -473.66800550467354,
           -422.798632604331,
           -371.9292597040175,
           -321.05988680367494,
           -270.1905139033324,
           -219.3211410029898,
           -168.45176810267634,
           -117.58239520233377,
           -66.7130223019912,
           -15.843649401648634,
           35.02572349866483,
           85.8950963990074,
           136.76446929934997,
           187.63384219969254,
           238.5032151000351,
           289.37258800034857,
           340.24196090069114,
           391.1113338010337,
           441.9807067013763,
           492.85007960168974,
           543.7194525020323,
           594.5888254023748,
           645.4581983027174
          ],
          [
           -1387.9547403499926,
           -1337.08536744965,
           -1286.2159945493365,
           -1235.346621648994,
           -1184.4772487486514,
           -1133.6078758483088,
           -1082.7385029479663,
           -1031.8691300476528,
           -980.9997571473103,
           -930.1303842469678,
           -879.2610113466252,
           -828.3916384463117,
           -777.5222655459692,
           -726.6528926456266,
           -675.783519745284,
           -624.9141468449706,
           -574.044773944628,
           -523.1754010442854,
           -472.30602814394285,
           -421.4366552436003,
           -370.5672823432868,
           -319.69790944294425,
           -268.8285365426017,
           -217.95916364225909,
           -167.08979074194562,
           -116.22041784160305,
           -65.35104494126048,
           -14.481672040917914,
           36.38770085939555,
           87.25707375973812,
           138.1264466600807,
           188.99581956042326,
           239.86519246076583,
           290.73456536107926,
           341.60393826142183,
           392.4733111617644,
           443.34268406210697,
           494.21205696242043,
           545.081429862763,
           595.9508027631056,
           646.8201756634481
          ],
          [
           -1386.592762989262,
           -1335.7233900889194,
           -1284.854017188606,
           -1233.9846442882633,
           -1183.1152713879208,
           -1132.2458984875782,
           -1081.3765255872356,
           -1030.5071526869222,
           -979.6377797865796,
           -928.768406886237,
           -877.8990339858944,
           -827.029661085581,
           -776.1602881852384,
           -725.2909152848958,
           -674.4215423845533,
           -623.5521694842398,
           -572.6827965838972,
           -521.8134236835547,
           -470.9440507832121,
           -420.07467788286954,
           -369.2053049825561,
           -318.3359320822135,
           -267.46655918187093,
           -216.59718628152837,
           -165.7278133812149,
           -114.85844048087233,
           -63.98906758052976,
           -13.119694680187195,
           37.74967822012627,
           88.61905112046884,
           139.4884240208114,
           190.35779692115398,
           241.22716982149655,
           292.09654272181,
           342.9659156221526,
           393.83528852249515,
           444.7046614228377,
           495.5740343231512,
           546.4434072234938,
           597.3127801238363,
           648.1821530241789
          ],
          [
           -1385.2307856285313,
           -1334.3614127281887,
           -1283.4920398278753,
           -1232.6226669275327,
           -1181.7532940271901,
           -1130.8839211268476,
           -1080.014548226505,
           -1029.1451753261915,
           -978.2758024258488,
           -927.4064295255063,
           -876.5370566251637,
           -825.6676837248502,
           -774.7983108245077,
           -723.9289379241651,
           -673.0595650238225,
           -622.1901921235091,
           -571.3208192231665,
           -520.4514463228239,
           -469.58207342248136,
           -418.7127005221388,
           -367.8433276218253,
           -316.97395472148276,
           -266.1045818211402,
           -215.23520892079765,
           -164.36583602048418,
           -113.49646312014161,
           -62.627090219799044,
           -11.757717319456475,
           39.11165558085699,
           89.98102848119956,
           140.85040138154213,
           191.7197742818847,
           242.58914718222726,
           293.45852008254076,
           344.3278929828833,
           395.1972658832259,
           446.06663878356846,
           496.93601168388193,
           547.8053845842245,
           598.6747574845671,
           649.5441303849096
          ],
          [
           -1383.8688082678004,
           -1332.9994353674579,
           -1282.1300624671444,
           -1231.2606895668018,
           -1180.3913166664593,
           -1129.5219437661167,
           -1078.6525708657741,
           -1027.7831979654607,
           -976.9138250651181,
           -926.0444521647755,
           -875.175079264433,
           -824.3057063641195,
           -773.4363334637769,
           -722.5669605634343,
           -671.6975876630918,
           -620.8282147627783,
           -569.9588418624357,
           -519.0894689620932,
           -468.22009606175067,
           -417.3507231614081,
           -366.48135026109463,
           -315.61197736075206,
           -264.7426044604095,
           -213.87323156006693,
           -163.00385865975346,
           -112.1344857594109,
           -61.265112859068324,
           -10.395739958725756,
           40.47363294158771,
           91.34300584193028,
           142.21237874227285,
           193.08175164261542,
           243.95112454295798,
           294.82049744327145,
           345.689870343614,
           396.5592432439566,
           447.42861614429916,
           498.2979890446126,
           549.1673619449552,
           600.0367348452978,
           650.9061077456404
          ],
          [
           -1382.5068309070698,
           -1331.6374580067272,
           -1280.7680851064138,
           -1229.8987122060712,
           -1179.0293393057286,
           -1128.159966405386,
           -1077.2905935050435,
           -1026.42122060473,
           -975.5518477043875,
           -924.6824748040449,
           -873.8131019037023,
           -822.9437290033889,
           -772.0743561030463,
           -721.2049832027037,
           -670.3356103023611,
           -619.4662374020477,
           -568.5968645017051,
           -517.7274916013625,
           -466.85811870102,
           -415.9887458006774,
           -365.11937290036394,
           -314.2500000000214,
           -263.3806270996788,
           -212.5112541993362,
           -161.64188129902274,
           -110.77250839868017,
           -59.903135498337605,
           -9.033762597995036,
           41.83561030231843,
           92.704983202661,
           143.57435610300357,
           194.44372900334614,
           245.3131019036887,
           296.18247480400214,
           347.0518477043447,
           397.9212206046873,
           448.79059350502985,
           499.6599664053433,
           550.5293393056859,
           601.3987122060284,
           652.268085106371
          ]
         ]
        }
       ],
       "layout": {
        "scene": {
         "xaxis": {
          "title": {
           "text": "X Label"
          }
         },
         "yaxis": {
          "title": {
           "text": "Y Label"
          }
         },
         "zaxis": {
          "title": {
           "text": "Z Label"
          }
         }
        },
        "template": {
         "data": {
          "bar": [
           {
            "error_x": {
             "color": "#2a3f5f"
            },
            "error_y": {
             "color": "#2a3f5f"
            },
            "marker": {
             "line": {
              "color": "#E5ECF6",
              "width": 0.5
             },
             "pattern": {
              "fillmode": "overlay",
              "size": 10,
              "solidity": 0.2
             }
            },
            "type": "bar"
           }
          ],
          "barpolar": [
           {
            "marker": {
             "line": {
              "color": "#E5ECF6",
              "width": 0.5
             },
             "pattern": {
              "fillmode": "overlay",
              "size": 10,
              "solidity": 0.2
             }
            },
            "type": "barpolar"
           }
          ],
          "carpet": [
           {
            "aaxis": {
             "endlinecolor": "#2a3f5f",
             "gridcolor": "white",
             "linecolor": "white",
             "minorgridcolor": "white",
             "startlinecolor": "#2a3f5f"
            },
            "baxis": {
             "endlinecolor": "#2a3f5f",
             "gridcolor": "white",
             "linecolor": "white",
             "minorgridcolor": "white",
             "startlinecolor": "#2a3f5f"
            },
            "type": "carpet"
           }
          ],
          "choropleth": [
           {
            "colorbar": {
             "outlinewidth": 0,
             "ticks": ""
            },
            "type": "choropleth"
           }
          ],
          "contour": [
           {
            "colorbar": {
             "outlinewidth": 0,
             "ticks": ""
            },
            "colorscale": [
             [
              0,
              "#0d0887"
             ],
             [
              0.1111111111111111,
              "#46039f"
             ],
             [
              0.2222222222222222,
              "#7201a8"
             ],
             [
              0.3333333333333333,
              "#9c179e"
             ],
             [
              0.4444444444444444,
              "#bd3786"
             ],
             [
              0.5555555555555556,
              "#d8576b"
             ],
             [
              0.6666666666666666,
              "#ed7953"
             ],
             [
              0.7777777777777778,
              "#fb9f3a"
             ],
             [
              0.8888888888888888,
              "#fdca26"
             ],
             [
              1,
              "#f0f921"
             ]
            ],
            "type": "contour"
           }
          ],
          "contourcarpet": [
           {
            "colorbar": {
             "outlinewidth": 0,
             "ticks": ""
            },
            "type": "contourcarpet"
           }
          ],
          "heatmap": [
           {
            "colorbar": {
             "outlinewidth": 0,
             "ticks": ""
            },
            "colorscale": [
             [
              0,
              "#0d0887"
             ],
             [
              0.1111111111111111,
              "#46039f"
             ],
             [
              0.2222222222222222,
              "#7201a8"
             ],
             [
              0.3333333333333333,
              "#9c179e"
             ],
             [
              0.4444444444444444,
              "#bd3786"
             ],
             [
              0.5555555555555556,
              "#d8576b"
             ],
             [
              0.6666666666666666,
              "#ed7953"
             ],
             [
              0.7777777777777778,
              "#fb9f3a"
             ],
             [
              0.8888888888888888,
              "#fdca26"
             ],
             [
              1,
              "#f0f921"
             ]
            ],
            "type": "heatmap"
           }
          ],
          "heatmapgl": [
           {
            "colorbar": {
             "outlinewidth": 0,
             "ticks": ""
            },
            "colorscale": [
             [
              0,
              "#0d0887"
             ],
             [
              0.1111111111111111,
              "#46039f"
             ],
             [
              0.2222222222222222,
              "#7201a8"
             ],
             [
              0.3333333333333333,
              "#9c179e"
             ],
             [
              0.4444444444444444,
              "#bd3786"
             ],
             [
              0.5555555555555556,
              "#d8576b"
             ],
             [
              0.6666666666666666,
              "#ed7953"
             ],
             [
              0.7777777777777778,
              "#fb9f3a"
             ],
             [
              0.8888888888888888,
              "#fdca26"
             ],
             [
              1,
              "#f0f921"
             ]
            ],
            "type": "heatmapgl"
           }
          ],
          "histogram": [
           {
            "marker": {
             "pattern": {
              "fillmode": "overlay",
              "size": 10,
              "solidity": 0.2
             }
            },
            "type": "histogram"
           }
          ],
          "histogram2d": [
           {
            "colorbar": {
             "outlinewidth": 0,
             "ticks": ""
            },
            "colorscale": [
             [
              0,
              "#0d0887"
             ],
             [
              0.1111111111111111,
              "#46039f"
             ],
             [
              0.2222222222222222,
              "#7201a8"
             ],
             [
              0.3333333333333333,
              "#9c179e"
             ],
             [
              0.4444444444444444,
              "#bd3786"
             ],
             [
              0.5555555555555556,
              "#d8576b"
             ],
             [
              0.6666666666666666,
              "#ed7953"
             ],
             [
              0.7777777777777778,
              "#fb9f3a"
             ],
             [
              0.8888888888888888,
              "#fdca26"
             ],
             [
              1,
              "#f0f921"
             ]
            ],
            "type": "histogram2d"
           }
          ],
          "histogram2dcontour": [
           {
            "colorbar": {
             "outlinewidth": 0,
             "ticks": ""
            },
            "colorscale": [
             [
              0,
              "#0d0887"
             ],
             [
              0.1111111111111111,
              "#46039f"
             ],
             [
              0.2222222222222222,
              "#7201a8"
             ],
             [
              0.3333333333333333,
              "#9c179e"
             ],
             [
              0.4444444444444444,
              "#bd3786"
             ],
             [
              0.5555555555555556,
              "#d8576b"
             ],
             [
              0.6666666666666666,
              "#ed7953"
             ],
             [
              0.7777777777777778,
              "#fb9f3a"
             ],
             [
              0.8888888888888888,
              "#fdca26"
             ],
             [
              1,
              "#f0f921"
             ]
            ],
            "type": "histogram2dcontour"
           }
          ],
          "mesh3d": [
           {
            "colorbar": {
             "outlinewidth": 0,
             "ticks": ""
            },
            "type": "mesh3d"
           }
          ],
          "parcoords": [
           {
            "line": {
             "colorbar": {
              "outlinewidth": 0,
              "ticks": ""
             }
            },
            "type": "parcoords"
           }
          ],
          "pie": [
           {
            "automargin": true,
            "type": "pie"
           }
          ],
          "scatter": [
           {
            "fillpattern": {
             "fillmode": "overlay",
             "size": 10,
             "solidity": 0.2
            },
            "type": "scatter"
           }
          ],
          "scatter3d": [
           {
            "line": {
             "colorbar": {
              "outlinewidth": 0,
              "ticks": ""
             }
            },
            "marker": {
             "colorbar": {
              "outlinewidth": 0,
              "ticks": ""
             }
            },
            "type": "scatter3d"
           }
          ],
          "scattercarpet": [
           {
            "marker": {
             "colorbar": {
              "outlinewidth": 0,
              "ticks": ""
             }
            },
            "type": "scattercarpet"
           }
          ],
          "scattergeo": [
           {
            "marker": {
             "colorbar": {
              "outlinewidth": 0,
              "ticks": ""
             }
            },
            "type": "scattergeo"
           }
          ],
          "scattergl": [
           {
            "marker": {
             "colorbar": {
              "outlinewidth": 0,
              "ticks": ""
             }
            },
            "type": "scattergl"
           }
          ],
          "scattermapbox": [
           {
            "marker": {
             "colorbar": {
              "outlinewidth": 0,
              "ticks": ""
             }
            },
            "type": "scattermapbox"
           }
          ],
          "scatterpolar": [
           {
            "marker": {
             "colorbar": {
              "outlinewidth": 0,
              "ticks": ""
             }
            },
            "type": "scatterpolar"
           }
          ],
          "scatterpolargl": [
           {
            "marker": {
             "colorbar": {
              "outlinewidth": 0,
              "ticks": ""
             }
            },
            "type": "scatterpolargl"
           }
          ],
          "scatterternary": [
           {
            "marker": {
             "colorbar": {
              "outlinewidth": 0,
              "ticks": ""
             }
            },
            "type": "scatterternary"
           }
          ],
          "surface": [
           {
            "colorbar": {
             "outlinewidth": 0,
             "ticks": ""
            },
            "colorscale": [
             [
              0,
              "#0d0887"
             ],
             [
              0.1111111111111111,
              "#46039f"
             ],
             [
              0.2222222222222222,
              "#7201a8"
             ],
             [
              0.3333333333333333,
              "#9c179e"
             ],
             [
              0.4444444444444444,
              "#bd3786"
             ],
             [
              0.5555555555555556,
              "#d8576b"
             ],
             [
              0.6666666666666666,
              "#ed7953"
             ],
             [
              0.7777777777777778,
              "#fb9f3a"
             ],
             [
              0.8888888888888888,
              "#fdca26"
             ],
             [
              1,
              "#f0f921"
             ]
            ],
            "type": "surface"
           }
          ],
          "table": [
           {
            "cells": {
             "fill": {
              "color": "#EBF0F8"
             },
             "line": {
              "color": "white"
             }
            },
            "header": {
             "fill": {
              "color": "#C8D4E3"
             },
             "line": {
              "color": "white"
             }
            },
            "type": "table"
           }
          ]
         },
         "layout": {
          "annotationdefaults": {
           "arrowcolor": "#2a3f5f",
           "arrowhead": 0,
           "arrowwidth": 1
          },
          "autotypenumbers": "strict",
          "coloraxis": {
           "colorbar": {
            "outlinewidth": 0,
            "ticks": ""
           }
          },
          "colorscale": {
           "diverging": [
            [
             0,
             "#8e0152"
            ],
            [
             0.1,
             "#c51b7d"
            ],
            [
             0.2,
             "#de77ae"
            ],
            [
             0.3,
             "#f1b6da"
            ],
            [
             0.4,
             "#fde0ef"
            ],
            [
             0.5,
             "#f7f7f7"
            ],
            [
             0.6,
             "#e6f5d0"
            ],
            [
             0.7,
             "#b8e186"
            ],
            [
             0.8,
             "#7fbc41"
            ],
            [
             0.9,
             "#4d9221"
            ],
            [
             1,
             "#276419"
            ]
           ],
           "sequential": [
            [
             0,
             "#0d0887"
            ],
            [
             0.1111111111111111,
             "#46039f"
            ],
            [
             0.2222222222222222,
             "#7201a8"
            ],
            [
             0.3333333333333333,
             "#9c179e"
            ],
            [
             0.4444444444444444,
             "#bd3786"
            ],
            [
             0.5555555555555556,
             "#d8576b"
            ],
            [
             0.6666666666666666,
             "#ed7953"
            ],
            [
             0.7777777777777778,
             "#fb9f3a"
            ],
            [
             0.8888888888888888,
             "#fdca26"
            ],
            [
             1,
             "#f0f921"
            ]
           ],
           "sequentialminus": [
            [
             0,
             "#0d0887"
            ],
            [
             0.1111111111111111,
             "#46039f"
            ],
            [
             0.2222222222222222,
             "#7201a8"
            ],
            [
             0.3333333333333333,
             "#9c179e"
            ],
            [
             0.4444444444444444,
             "#bd3786"
            ],
            [
             0.5555555555555556,
             "#d8576b"
            ],
            [
             0.6666666666666666,
             "#ed7953"
            ],
            [
             0.7777777777777778,
             "#fb9f3a"
            ],
            [
             0.8888888888888888,
             "#fdca26"
            ],
            [
             1,
             "#f0f921"
            ]
           ]
          },
          "colorway": [
           "#636efa",
           "#EF553B",
           "#00cc96",
           "#ab63fa",
           "#FFA15A",
           "#19d3f3",
           "#FF6692",
           "#B6E880",
           "#FF97FF",
           "#FECB52"
          ],
          "font": {
           "color": "#2a3f5f"
          },
          "geo": {
           "bgcolor": "white",
           "lakecolor": "white",
           "landcolor": "#E5ECF6",
           "showlakes": true,
           "showland": true,
           "subunitcolor": "white"
          },
          "hoverlabel": {
           "align": "left"
          },
          "hovermode": "closest",
          "mapbox": {
           "style": "light"
          },
          "paper_bgcolor": "white",
          "plot_bgcolor": "#E5ECF6",
          "polar": {
           "angularaxis": {
            "gridcolor": "white",
            "linecolor": "white",
            "ticks": ""
           },
           "bgcolor": "#E5ECF6",
           "radialaxis": {
            "gridcolor": "white",
            "linecolor": "white",
            "ticks": ""
           }
          },
          "scene": {
           "xaxis": {
            "backgroundcolor": "#E5ECF6",
            "gridcolor": "white",
            "gridwidth": 2,
            "linecolor": "white",
            "showbackground": true,
            "ticks": "",
            "zerolinecolor": "white"
           },
           "yaxis": {
            "backgroundcolor": "#E5ECF6",
            "gridcolor": "white",
            "gridwidth": 2,
            "linecolor": "white",
            "showbackground": true,
            "ticks": "",
            "zerolinecolor": "white"
           },
           "zaxis": {
            "backgroundcolor": "#E5ECF6",
            "gridcolor": "white",
            "gridwidth": 2,
            "linecolor": "white",
            "showbackground": true,
            "ticks": "",
            "zerolinecolor": "white"
           }
          },
          "shapedefaults": {
           "line": {
            "color": "#2a3f5f"
           }
          },
          "ternary": {
           "aaxis": {
            "gridcolor": "white",
            "linecolor": "white",
            "ticks": ""
           },
           "baxis": {
            "gridcolor": "white",
            "linecolor": "white",
            "ticks": ""
           },
           "bgcolor": "#E5ECF6",
           "caxis": {
            "gridcolor": "white",
            "linecolor": "white",
            "ticks": ""
           }
          },
          "title": {
           "x": 0.05
          },
          "xaxis": {
           "automargin": true,
           "gridcolor": "white",
           "linecolor": "white",
           "ticks": "",
           "title": {
            "standoff": 15
           },
           "zerolinecolor": "white",
           "zerolinewidth": 2
          },
          "yaxis": {
           "automargin": true,
           "gridcolor": "white",
           "linecolor": "white",
           "ticks": "",
           "title": {
            "standoff": 15
           },
           "zerolinecolor": "white",
           "zerolinewidth": 2
          }
         }
        }
       }
      },
      "text/html": [
       "<div>                            <div id=\"719e5c4f-1c35-4d90-b805-3ef13418d6ca\" class=\"plotly-graph-div\" style=\"height:525px; width:100%;\"></div>            <script type=\"text/javascript\">                require([\"plotly\"], function(Plotly) {                    window.PLOTLYENV=window.PLOTLYENV || {};                                    if (document.getElementById(\"719e5c4f-1c35-4d90-b805-3ef13418d6ca\")) {                    Plotly.newPlot(                        \"719e5c4f-1c35-4d90-b805-3ef13418d6ca\",                        [{\"marker\":{\"color\":\"red\",\"opacity\":0.8,\"size\":4},\"mode\":\"markers\",\"x\":[2016,2016,2016,2016,2016,2016,2016,2016,2016,2016,2016,2016,2017,2017,2017,2017,2017,2017,2017,2017,2017,2017,2017,2017,2018,2018,2018,2018,2018,2018],\"y\":[1,2,3,4,5,6,7,8,9,10,11,12,1,2,3,4,5,6,7,8,9,10,11,12,1,2,3,4,5,6],\"z\":[266,146,183,119,180,169,232,225,193,123,337,186,194,150,210,273,191,287,226,304,290,422,265,342,340,440,316,439,401,390],\"type\":\"scatter3d\"},{\"colorscale\":[[0.0,\"#440154\"],[0.1111111111111111,\"#482878\"],[0.2222222222222222,\"#3e4989\"],[0.3333333333333333,\"#31688e\"],[0.4444444444444444,\"#26828e\"],[0.5555555555555556,\"#1f9e89\"],[0.6666666666666666,\"#35b779\"],[0.7777777777777778,\"#6ece58\"],[0.8888888888888888,\"#b5de2b\"],[1.0,\"#fde725\"]],\"showscale\":false,\"x\":[2016,2016,2016,2016,2016,2016,2016,2016,2016,2016,2016,2016,2017,2017,2017,2017,2017,2017,2017,2017,2017,2017,2017,2017,2018,2018,2018,2018,2018,2018],\"y\":[1,2,3,4,5,6,7,8,9,10,11,12,1,2,3,4,5,6,7,8,9,10,11,12,1,2,3,4,5,6],\"z\":[[-1495.5509518477193,-1444.6815789473767,-1393.8122060470632,-1342.9428331467207,-1292.073460246378,-1241.2040873460355,-1190.334714445693,-1139.4653415453795,-1088.595968645037,-1037.7265957446944,-986.8572228443518,-935.9878499440383,-885.1184770436957,-834.2491041433532,-783.3797312430106,-732.5103583426971,-681.6409854423546,-630.771612542012,-579.9022396416694,-529.0328667413269,-478.1634938410134,-427.29412094067084,-376.42474804032827,-325.5553751399857,-274.68600223967223,-223.81662933932967,-172.9472564389871,-122.07788353864453,-71.20851063833106,-20.339137737988494,30.530235162354074,81.39960806269664,132.2689809630392,183.13835386335268,234.00772676369525,284.8770996640378,335.7464725643804,386.61584546469385,437.4852183650364,488.354591265379,539.2239641657216],[-1494.1889744869886,-1443.319601586646,-1392.4502286863326,-1341.58085578599,-1290.7114828856475,-1239.842109985305,-1188.9727370849623,-1138.1033641846489,-1087.2339912843063,-1036.3646183839637,-985.495245483621,-934.6258725833076,-883.756499682965,-832.8871267826224,-782.0177538822799,-731.1483809819664,-680.2790080816238,-629.4096351812813,-578.5402622809387,-527.6708893805961,-476.8015164802827,-425.93214357994015,-375.0627706795976,-324.193397779255,-273.32402487894154,-222.45465197859895,-171.58527907825638,-120.71590617791381,-69.84653327760034,-18.97716037725778,31.89221252308479,82.76158542342736,133.63095832376993,184.5003312240834,235.36970412442597,286.2390770247685,337.1084499251111,387.97782282542454,438.8471957257671,489.7165686261097,540.5859415264523],[-1492.8269971262578,-1441.9576242259152,-1391.0882513256017,-1340.2188784252592,-1289.3495055249166,-1238.480132624574,-1187.6107597242315,-1136.741386823918,-1085.8720139235754,-1035.0026410232329,-984.1332681228904,-933.2638952225769,-882.3945223222344,-831.5251494218918,-780.6557765215492,-729.7864036212358,-678.9170307208932,-628.0476578205506,-577.1782849202081,-526.3089120198655,-475.43953911955197,-424.5701662192094,-373.70079331886683,-322.83142041852426,-271.9620475182108,-221.09267461786823,-170.22330171752566,-119.35392881718309,-68.48455591686962,-17.615183016527062,33.254189883815506,84.12356278415808,134.99293568450065,185.86230858481412,236.73168148515668,287.60105438549925,338.4704272858418,389.3398001861553,440.20917308649786,491.0785459868404,541.9479188871829],[-1491.4650197655271,-1440.5956468651846,-1389.726273964871,-1338.8569010645285,-1287.987528164186,-1237.1181552638434,-1186.2487823635008,-1135.3794094631874,-1084.5100365628448,-1033.6406636625022,-982.7712907621597,-931.9019178618462,-881.0325449615036,-830.163172061161,-779.2937991608185,-728.424426260505,-677.5550533601624,-626.6856804598199,-575.8163075594773,-524.9469346591347,-474.0775617588213,-423.2081888584787,-372.33881595813614,-321.46944305779357,-270.6000701574801,-219.7306972571375,-168.86132435679494,-117.99195145645238,-67.12257855613892,-16.253205655796343,34.616167244546226,85.48554014488879,136.35491304523137,187.22428594554484,238.0936588458874,288.96303174622994,339.8324046465725,390.701777546886,441.57115044722855,492.4405233475711,543.3098962479137],[-1490.1030424047965,-1439.233669504454,-1388.3642966041405,-1337.494923703798,-1286.6255508034553,-1235.7561779031128,-1184.8868050027702,-1134.0174321024567,-1083.1480592021142,-1032.2786863017716,-981.4093134014289,-930.5399405011154,-879.6705676007729,-828.8011947004303,-777.9318218000877,-727.0624488997743,-676.1930759994317,-625.3237030990891,-574.4543301987466,-523.584957298404,-472.7155843980905,-421.84621149774796,-370.9768385974054,-320.1074656970628,-269.23809279674936,-218.3687198964068,-167.49934699606422,-116.62997409572166,-65.7606011954082,-14.891228295065627,35.97814460527694,86.8475175056195,137.7168904059621,188.58626330627555,239.45563620661812,290.3250091069607,341.19438200730326,392.0637549076167,442.9331278079593,493.80250070830186,544.6718736086444],[-1488.7410650440656,-1437.871692143723,-1387.0023192434096,-1336.132946343067,-1285.2635734427245,-1234.394200542382,-1183.5248276420393,-1132.6554547417259,-1081.7860818413833,-1030.9167089410407,-980.0473360406982,-929.1779631403847,-878.3085902400421,-827.4392173396996,-776.569844439357,-725.7004715390435,-674.831098638701,-623.9617257383584,-573.0923528380158,-522.2229799376732,-471.35360703735984,-420.48423413701727,-369.6148612366747,-318.74548833633213,-267.87611543601867,-217.0067425356761,-166.13736963533353,-115.26799673499094,-64.39862383467748,-13.529250934334911,37.34012196600766,88.20949486635023,139.07886776669278,189.94824066700625,240.81761356734881,291.6869864676914,342.55635936803395,393.4257322683474,444.29510516869,495.16447806903255,546.0338509693752],[-1487.379087683335,-1436.5097147829924,-1385.640341882679,-1334.7709689823364,-1283.9015960819938,-1233.0322231816513,-1182.1628502813087,-1131.2934773809952,-1080.4241044806527,-1029.55473158031,-978.6853586799675,-927.815985779654,-876.9466128793115,-826.0772399789689,-775.2078670786264,-724.3384941783129,-673.4691212779703,-622.5997483776277,-571.7303754772852,-520.8610025769426,-469.9916296766291,-419.1222567762865,-368.25288387594395,-317.3835109756014,-266.5141380752879,-215.64476517494538,-164.7753922746028,-113.90601937426023,-63.03664647394676,-12.167273573604195,38.70209932673838,89.57147222708095,140.4408451274235,191.31021802773697,242.17959092807953,293.04896382842213,343.9183367287647,394.78770962907817,445.65708252942073,496.5264554297633,547.3958283301058],[-1486.0171103226041,-1435.1477374222616,-1384.278364521948,-1333.4089916216055,-1282.539618721263,-1231.6702458209204,-1180.8008729205778,-1129.9315000202644,-1079.0621271199218,-1028.1927542195792,-977.3233813192368,-926.4540084189233,-875.5846355185807,-824.7152626182382,-773.8458897178956,-722.9765168175821,-672.1071439172396,-621.237771016897,-570.3683981165544,-519.4990252162119,-468.6296523158984,-417.76027941555583,-366.89090651521326,-316.0215336148707,-265.1521607145572,-214.28278781421466,-163.4134149138721,-112.5440420135295,-61.67466911321605,-10.805296212873477,40.06407668746909,90.93344958781167,141.80282248815422,192.67219538846769,243.54156828881025,294.4109411891528,345.2803140894954,396.14968698980886,447.0190598901514,497.888432790494,548.7578056908366],[-1484.6551329618735,-1433.785760061531,-1382.9163871612175,-1332.047014260875,-1281.1776413605323,-1230.3082684601898,-1179.4388955598472,-1128.5695226595337,-1077.7001497591912,-1026.8307768588486,-975.961403958506,-925.0920310581926,-874.22265815785,-823.3532852575074,-772.4839123571649,-721.6145394568514,-670.7451665565088,-619.8757936561663,-569.0064207558237,-518.1370478554811,-467.26767495516765,-416.3983020548251,-365.5289291544825,-314.65955625413994,-263.7901833538265,-212.92081045348394,-162.05143755314137,-111.1820646527988,-60.31269175248533,-9.443318852142761,41.42605404819981,92.29542694854237,143.16479984888494,194.0341727491984,244.90354564954097,295.77291854988357,346.64229145022614,397.5116643505396,448.3810372508822,499.25041015122474,550.1197830515673],[-1483.2931556011429,-1432.4237827008003,-1381.5544098004868,-1330.6850369001443,-1279.8156639998017,-1228.9462910994591,-1178.0769181991166,-1127.207545298803,-1076.3381723984605,-1025.468799498118,-974.5994265977753,-923.7300536974618,-872.8606807971192,-821.9913078967767,-771.1219349964341,-720.2525620961206,-669.3831891957781,-618.5138162954355,-567.6444433950929,-516.7750704947504,-465.90569759443696,-415.0363246940944,-364.1669517937518,-313.29757889340925,-262.4282059930958,-211.55883309275322,-160.68946019241065,-109.82008729206808,-58.950714391754616,-8.081341491412045,42.78803140893052,93.65740430927309,144.52677720961566,195.39615010992912,246.2655230102717,297.13489591061426,348.00426881095683,398.8736417112703,449.74301461161286,500.61238751195543,551.4817604122981],[-1481.931178240412,-1431.0618053400694,-1380.192432439756,-1329.3230595394134,-1278.4536866390708,-1227.5843137387283,-1176.7149408383857,-1125.8455679380722,-1074.9761950377297,-1024.106822137387,-973.2374492370446,-922.3680763367312,-871.4987034363886,-820.629330536046,-769.7599576357035,-718.89058473539,-668.0212118350474,-617.1518389347049,-566.2824660343623,-515.4130931340197,-464.54372023370627,-413.6743473333637,-362.80497443302113,-311.93560153267856,-261.0662286323651,-210.1968557320225,-159.32748283167993,-108.45810993133736,-57.588737031023896,-6.719364130681328,44.15000876966124,95.01938167000381,145.88875457034638,196.75812747065984,247.6275003710024,298.49687327134495,349.3662461716875,400.235619072001,451.10499197234356,501.9743648726861,552.8437377730287],[-1480.5692008796814,-1429.6998279793388,-1378.8304550790253,-1327.9610821786828,-1277.0917092783402,-1226.2223363779976,-1175.352963477655,-1124.4835905773416,-1073.614217676999,-1022.7448447766565,-971.8754718763139,-921.0060989760004,-870.1367260756579,-819.2673531753153,-768.3979802749727,-717.5286073746593,-666.6592344743167,-615.7898615739741,-564.9204886736316,-514.051115773289,-463.1817428729755,-412.31236997263295,-361.4429970722904,-310.5736241719478,-259.70425127163435,-208.83487837129178,-157.9655054709492,-107.09613257060664,-56.22675967029318,-5.357386769950612,45.51198613039196,96.38135903073453,147.2507319310771,198.12010483139056,248.98947773173313,299.8588506320757,350.72822353241827,401.59759643273173,452.4669693330743,503.3363422334169,554.2057151337594],[-1479.2072235189507,-1428.3378506186082,-1377.4684777182947,-1326.5991048179521,-1275.7297319176096,-1224.860359017267,-1173.9909861169244,-1123.121613216611,-1072.2522403162684,-1021.3828674159257,-970.5134945155831,-919.6441216152697,-868.7747487149271,-817.9053758145845,-767.036002914242,-716.1666300139285,-665.2972571135859,-614.4278842132434,-563.5585113129008,-512.6891384125582,-461.8197655122448,-410.95039261190226,-360.0810197115597,-309.2116468112171,-258.34227391090366,-207.47290101056106,-156.6035281102185,-105.73415520987592,-54.864782309562464,-3.9954094092198957,46.87396349112267,97.74333639146525,148.61270929180782,199.48208219212128,250.35145509246385,301.2208279928064,352.09020089314896,402.9595737934624,453.828946693805,504.69831959414756,555.5676924944902],[-1477.8452461582199,-1426.9758732578773,-1376.1065003575638,-1325.2371274572213,-1274.3677545568787,-1223.4983816565361,-1172.6290087561936,-1121.75963585588,-1070.8902629555375,-1020.0208900551951,-969.1515171548525,-918.282144254539,-867.4127713541965,-816.5433984538539,-765.6740255535113,-714.8046526531979,-663.9352797528553,-613.0659068525127,-562.1965339521702,-511.32716105182755,-460.4577881515141,-409.5884152511715,-358.71904235082894,-307.8496694504864,-256.9802965501729,-206.11092364983034,-155.24155074948777,-104.37217784914522,-53.50280494883175,-2.6334320484891798,48.235940851853385,99.10531375219595,149.97468665253854,200.844059552852,251.71343245319457,302.58280535353714,353.4521782538797,404.3215511541932,455.19092405453574,506.0602969548783,556.9296698552208],[-1476.4832687974892,-1425.6138958971467,-1374.7445229968332,-1323.8751500964906,-1273.005777196148,-1222.1364042958055,-1171.267031395463,-1120.3976584951495,-1069.528285594807,-1018.6589126944643,-967.7895397941218,-916.9201668938083,-866.0507939934657,-815.1814210931232,-764.3120481927806,-713.4426752924671,-662.5733023921246,-611.703929491782,-560.8345565914394,-509.96518369109685,-459.0958107907834,-408.2264378904408,-357.35706499009825,-306.4876920897557,-255.6183191894422,-204.74894628909962,-153.87957338875705,-103.0102004884145,-52.14082758810103,-1.2714546877584603,49.597918212584105,100.46729111292667,151.33666401326926,202.20603691358272,253.0754098139253,303.94478271426783,354.8141556146104,405.68352851492386,456.55290141526643,507.422274315609,558.2916472159516],[-1475.1212914367586,-1424.251918536416,-1373.3825456361026,-1322.51317273576,-1271.6437998354174,-1220.7744269350749,-1169.9050540347323,-1119.0356811344188,-1068.1663082340763,-1017.2969353337336,-966.427562433391,-915.5581895330776,-864.688816632735,-813.8194437323924,-762.9500708320498,-712.0806979317364,-661.2113250313938,-610.3419521310512,-559.4725792307087,-508.6032063303661,-457.73383343005264,-406.8644605297101,-355.9950876293675,-305.12571472902493,-254.25634182871147,-203.3869689283689,-152.51759602802633,-101.64822312768378,-50.77885022737031,0.09052267297225569,50.959895573314824,101.8292684736574,152.69864137399998,203.56801427431344,254.437387174656,305.3067600749986,356.17613297534115,407.0455058756546,457.9148787759972,508.78425167633975,559.6536245766823],[-1473.7593140760277,-1422.8899411756852,-1372.0205682753717,-1321.1511953750291,-1270.2818224746866,-1219.412449574344,-1168.5430766740014,-1117.673703773688,-1066.8043308733454,-1015.9349579730028,-965.0655850726603,-914.1962121723468,-863.3268392720042,-812.4574663716617,-761.5880934713191,-710.7187205710056,-659.8493476706631,-608.9799747703205,-558.1106018699779,-507.2412289696354,-456.37185606932195,-405.5024831689794,-354.6331102686368,-303.76373736829424,-252.89436446798078,-202.0249915676382,-151.15561866729564,-100.28624576695306,-49.416872866639594,1.4525000337029716,52.321872934045544,103.19124583438811,154.06061873473067,204.92999163504413,255.7993645353867,306.66873743572927,357.53811033607184,408.4074832363853,459.2768561367279,510.14622903707044,561.0156019374131],[-1472.3973367152971,-1421.5279638149545,-1370.658590914641,-1319.7892180142985,-1268.919845113956,-1218.0504722136134,-1167.1810993132708,-1116.3117264129573,-1065.4423535126148,-1014.5729806122722,-963.7036077119296,-912.8342348116162,-861.9648619112736,-811.095489010931,-760.2261161105885,-709.356743210275,-658.4873703099324,-607.6179974095899,-556.7486245092473,-505.87925160890467,-455.0098787085912,-404.14050580824863,-353.27113290790606,-302.4017600075635,-251.53238710725006,-200.6630142069075,-149.79364130656492,-98.92426840622235,-48.05489550590888,2.8144773944336876,53.683850294776256,104.55322319511882,155.4225960954614,206.29196899577485,257.16134189611745,308.03071479646,358.9000876968026,409.76946059711605,460.6388334974586,511.5082063978012,562.3775792981437],[-1471.0353593545663,-1420.1659864542237,-1369.2966135539102,-1318.4272406535677,-1267.557867753225,-1216.6884948528825,-1165.81912195254,-1114.9497490522265,-1064.080376151884,-1013.2110032515415,-962.3416303511989,-911.4722574508854,-860.6028845505429,-809.7335116502003,-758.8641387498577,-707.9947658495443,-657.1253929492017,-606.2560200488591,-555.3866471485165,-504.517274248174,-453.6479013478605,-402.77852844751794,-351.9091555471754,-301.0397826468328,-250.17040974651934,-199.30103684617677,-148.4316639458342,-97.56229104549163,-46.69291814517817,4.176454755164404,55.04582765550697,105.91520055584954,156.7845734561921,207.65394635650557,258.52331925684814,309.3926921571907,360.2620650575333,411.13143795784674,462.0008108581893,512.8701837585319,563.7395566588744],[-1469.6733819938356,-1418.804009093493,-1367.9346361931796,-1317.065263292837,-1266.1958903924944,-1215.3265174921519,-1164.4571445918093,-1113.5877716914958,-1062.7183987911533,-1011.8490258908107,-960.9796529904681,-910.1102800901547,-859.2409071898121,-808.3715342894695,-757.502161389127,-706.6327884888135,-655.7634155884709,-604.8940426881284,-554.0246697877858,-503.1552968874432,-452.28592398712976,-401.4165510867872,-350.5471781864446,-299.67780528610206,-248.80843238578862,-197.93905948544605,-147.06968658510348,-96.20031368476091,-45.33094078444745,5.538432115895123,56.40780501623769,107.27717791658026,158.14655081692283,209.0159237172363,259.8852966175789,310.75466951792146,361.624042418264,412.4934153185775,463.36278821892006,514.2321611192626,565.1015340196052],[-1468.311404633105,-1417.4420317327624,-1366.572658832449,-1315.7032859321064,-1264.8339130317638,-1213.9645401314212,-1163.0951672310787,-1112.2257943307652,-1061.3564214304226,-1010.4870485300801,-959.6176756297375,-908.748302729424,-857.8789298290815,-807.0095569287389,-756.1401840283963,-705.2708111280829,-654.4014382277403,-603.5320653273977,-552.6626924270552,-501.79331952671254,-450.9239466263991,-400.0545737260565,-349.18520082571393,-298.31582792537137,-247.4464550250579,-196.57708212471533,-145.70770922437276,-94.8383363240302,-43.96896342371673,6.900409476625839,57.76978237696841,108.63915527731098,159.50852817765355,210.377901077967,261.2472739783096,312.11664687865215,362.9860197789947,413.8553926793082,464.72476557965075,515.5941384799933,566.4635113803358],[-1466.9494272723741,-1416.0800543720316,-1365.210681471718,-1314.3413085713755,-1263.471935671033,-1212.6025627706904,-1161.7331898703478,-1110.8638169700343,-1059.9944440696918,-1009.1250711693493,-958.2556982690068,-907.3863253686933,-856.5169524683507,-805.6475795680082,-754.7782066676656,-703.9088337673521,-653.0394608670096,-602.170087966667,-551.3007150663244,-500.43134216598185,-449.5619692656684,-398.6925963653258,-347.82322346498324,-296.9538505646407,-246.08447766432718,-195.2151047639846,-144.34573186364204,-93.47635896329948,-42.60698606298602,8.262386837356551,59.13175973769912,110.0011326380417,160.87050553838426,211.73987843869773,262.60925133904027,313.47862423938284,364.3479971397254,415.2173700400389,466.08674294038144,516.956115840724,567.8254887410666],[-1465.5874499116435,-1414.718077011301,-1363.8487041109875,-1312.979331210645,-1262.1099583103023,-1211.2405854099597,-1160.3712125096172,-1109.5018396093037,-1058.6324667089611,-1007.7630938086186,-956.893720908276,-906.0243480079625,-855.15497510762,-804.2856022072774,-753.4162293069348,-702.5468564066214,-651.6774835062788,-600.8081106059362,-549.9387377055937,-499.0693648052511,-448.19999190493763,-397.33061900459506,-346.4612461042525,-295.5918732039099,-244.72250030359646,-193.8531274032539,-142.98375450291132,-92.11438160256876,-41.2450087022553,9.624364198087271,60.49373709842984,111.36310999877242,162.23248289911498,213.10185579942845,263.971228699771,314.8406016001136,365.70997450045616,416.5793474007696,467.4487203011122,518.3180932014548,569.1874661017973],[-1464.2254725509129,-1413.3560996505703,-1362.4867267502568,-1311.6173538499143,-1260.7479809495717,-1209.8786080492291,-1159.0092351488865,-1108.139862248573,-1057.2704893482305,-1006.4011164478878,-955.5317435475453,-904.6623706472318,-853.7929977468892,-802.9236248465467,-752.0542519462041,-701.1848790458906,-650.315506145548,-599.4461332452055,-548.5767603448629,-497.7073874445204,-446.83801454420694,-395.9686416438644,-345.0992687435218,-294.22989584317924,-243.36052294286574,-192.49115004252317,-141.6217771421806,-90.75240424183805,-39.883031341524585,10.986341558817987,61.85571445916055,112.72508735950312,163.5944602598457,214.46383316015917,265.3332060605017,316.2025789608443,367.07195186118685,417.9413247615003,468.8106976618429,519.6800705621855,570.5494434625281],[-1462.863495190182,-1411.9941222898394,-1361.124749389526,-1310.2553764891834,-1259.3860035888408,-1208.5166306884983,-1157.6472577881557,-1106.7778848878422,-1055.9085119874997,-1005.0391390871572,-954.1697661868146,-903.3003932865012,-852.4310203861586,-801.561647485816,-750.6922745854735,-699.82290168516,-648.9535287848174,-598.0841558844749,-547.2147829841323,-496.34541008378966,-445.4760371834762,-394.6066642831336,-343.73729138279106,-292.8679184824485,-241.99854558213502,-191.12917268179245,-140.25979978144989,-89.39042688110733,-38.521053980793866,12.348318919548703,63.21769181989127,114.08706472023384,164.95643762057642,215.8258105208899,266.69518342123246,317.564556321575,368.4339292219176,419.30330212223106,470.1726750225736,521.0420479229161,571.9114208232587],[-1461.5015178294514,-1410.6321449291088,-1359.7627720287953,-1308.8933991284528,-1258.0240262281102,-1207.1546533277676,-1156.285280427425,-1105.4159075271116,-1054.546534626769,-1003.6771617264264,-952.8077888260839,-901.9384159257704,-851.0690430254278,-800.1996701250853,-749.3302972247427,-698.4609243244292,-647.5915514240867,-596.7221785237441,-545.8528056234015,-494.98343272305897,-444.1140598227455,-393.24468692240293,-342.37531402206037,-291.5059411217178,-240.63656822140433,-189.76719532106176,-138.8978224207192,-88.02844952037661,-37.159076620063146,13.710296280279422,64.57966918062199,115.44904208096456,166.31841498130711,217.18778788162058,268.05716078196315,318.9265336823057,369.7959065826483,420.66527948296175,471.5346523833043,522.4040252836469,573.2733981839895],[-1460.1395404687207,-1409.2701675683782,-1358.4007946680647,-1307.5314217677221,-1256.6620488673796,-1205.792675967037,-1154.9233030666944,-1104.053930166381,-1053.1845572660384,-1002.3151843656957,-951.4458114653531,-900.5764385650397,-849.7070656646971,-798.8376927643545,-747.968319864012,-697.0989469636985,-646.2295740633559,-595.3602011630134,-544.4908282626708,-493.6214553623282,-442.75208246201476,-391.8827095616722,-341.0133366613296,-290.14396376098705,-239.2745908606736,-188.40521796033104,-137.53584505998847,-86.6664721596459,-35.797099259332434,15.072273641010135,65.9416465413527,116.81101944169527,167.68039234203783,218.5497652423513,269.4191381426939,320.28851104303646,371.15788394337903,422.0272568436925,472.89662974403507,523.7660026443776,574.6353755447202],[-1458.7775631079899,-1407.9081902076473,-1357.0388173073338,-1306.1694444069913,-1255.3000715066487,-1204.4306986063061,-1153.5613257059636,-1102.69195280565,-1051.8225799053075,-1000.953207004965,-950.0838341046224,-899.2144612043089,-848.3450883039663,-797.4757154036238,-746.6063425032812,-695.7369696029677,-644.8675967026252,-593.9982238022826,-543.12885090194,-492.25947800159753,-441.39010510128406,-390.5207322009415,-339.6513593005989,-288.78198640025636,-237.9126134999429,-187.04324059960032,-136.17386769925776,-85.30449479891519,-34.435121898601714,16.434251001740854,67.30362390208342,118.17299680242598,169.04236970276855,219.91174260308202,270.7811155034246,321.65048840376716,372.5198613041097,423.3892342044232,474.25860710476576,525.1279800051084,575.997352905451],[-1457.4155857472592,-1406.5462128469167,-1355.6768399466032,-1304.8074670462606,-1253.938094145918,-1203.0687212455755,-1152.199348345233,-1101.3299754449195,-1050.460602544577,-999.5912296442343,-948.7218567438917,-897.8524838435783,-846.9831109432357,-796.1137380428931,-745.2443651425506,-694.3749922422371,-643.5056193418945,-592.636246441552,-541.7668735412094,-490.8975006408668,-440.0281277405533,-389.15875484021075,-338.2893819398682,-287.4200090395256,-236.55063613921217,-185.6812632388696,-134.81189033852704,-83.94251743818447,-33.073144537870995,17.796228362471574,68.66560126281414,119.5349741631567,170.40434706349927,221.27371996381274,272.14309286415534,323.0124657644979,373.8818386648405,424.75121156515394,475.6205844654965,526.489957365839,577.3593302661816],[-1456.0536083865286,-1405.184235486186,-1354.3148625858726,-1303.44548968553,-1252.5761167851874,-1201.7067438848449,-1150.8373709845023,-1099.9679980841888,-1049.0986251838463,-998.2292522835036,-947.359879383161,-896.4905064828475,-845.621133582505,-794.7517606821624,-743.8823877818198,-693.0130148815064,-642.1436419811638,-591.2742690808212,-540.4048961804787,-489.5355232801361,-438.6661503798226,-387.79677747948006,-336.9274045791375,-286.0580316787949,-235.18865877848145,-184.31928587813888,-133.44991297779632,-82.58054007745375,-31.711167177140283,19.158205723202286,70.02757862354485,120.89695152388742,171.76632442423,222.63569732454346,273.505070224886,324.3744431252286,375.24381602557116,426.11318892588463,476.9825618262272,527.8519347265698,578.7213076269123],[-1454.6916310257977,-1403.8222581254552,-1352.9528852251417,-1302.0835123247991,-1251.2141394244566,-1200.344766524114,-1149.4753936237714,-1098.606020723458,-1047.7366478231154,-996.8672749227728,-945.9979020224303,-895.1285291221168,-844.2591562217742,-793.3897833214317,-742.5204104210891,-691.6510375207756,-640.781664620433,-589.9122917200905,-539.0429188197479,-488.17354591940534,-437.3041730190919,-386.4348001187493,-335.56542721840674,-284.69605431806417,-233.82668141775073,-182.95730851740817,-132.0879356170656,-81.21856271672303,-30.349189816409563,20.520183083933006,71.38955598427557,122.25892888461814,173.1283017849607,223.99767468527418,274.8670475856168,325.73642048595934,376.6057933863019,427.4751662866154,478.34453918695795,529.2139120873005,580.0832849876431],[-1453.329653665067,-1402.4602807647245,-1351.590907864411,-1300.7215349640685,-1249.852162063726,-1198.9827891633834,-1148.1134162630408,-1097.2440433627273,-1046.3746704623848,-995.5052975620422,-944.6359246616996,-893.7665517613862,-842.8971788610436,-792.027805960701,-741.1584330603584,-690.289060160045,-639.4196872597024,-588.5503143593598,-537.6809414590173,-486.81156855867465,-435.9421956583612,-385.0728227580186,-334.20344985767605,-283.3340769573335,-232.46470405702001,-181.59533115667745,-130.72595825633488,-79.85658535599231,-28.98721245567885,21.882160444663718,72.7515333450063,123.62090624534886,174.49027914569143,225.3596520460049,276.22902494634747,327.09839784669003,377.9677707470326,428.83714364734607,479.70651654768864,530.5758894480311,581.4452623483737],[-1451.9676763043362,-1401.0983034039937,-1350.2289305036802,-1299.3595576033376,-1248.490184702995,-1197.6208118026525,-1146.75143890231,-1095.8820660019965,-1045.012693101654,-994.1433202013114,-943.2739473009689,-892.4045744006554,-841.5352015003128,-790.6658285999703,-739.7964556996277,-688.9270827993142,-638.0577098989717,-587.1883369986291,-536.3189640982865,-485.44959119794396,-434.5802182976305,-383.7108453972879,-332.84147249694536,-281.9720995966028,-231.1027266962893,-180.23335379594673,-129.36398089560416,-78.49460799526159,-27.62523509494813,23.244137805394438,74.11351070573701,124.98288360607958,175.85225650642215,226.72162940673562,277.59100230707816,328.4603752074207,379.3297481077633,430.19912100807676,481.0684939084193,531.9378668087619,582.8072397091045],[-1450.6056989436056,-1399.736326043263,-1348.8669531429496,-1297.997580242607,-1247.1282073422644,-1196.2588344419219,-1145.3894615415793,-1094.5200886412658,-1043.6507157409233,-992.7813428405807,-941.9119699402381,-891.0425970399247,-840.1732241395821,-789.3038512392395,-738.434478338897,-687.5651054385835,-636.6957325382409,-585.8263596378983,-534.9569867375558,-484.0876138372132,-433.21824093689975,-382.3488680365572,-331.4794951362146,-280.61012223587204,-229.74074933555858,-178.871376435216,-128.00200353487344,-77.13263063453087,-26.26325773421741,24.606115166125157,75.47548806646773,126.3448609668103,177.21423386715287,228.08360676746634,278.9529796678089,329.8223525681515,380.69172546849404,431.5610983688075,482.4304712691501,533.2998441694926,584.1692170698352],[-1449.243721582875,-1398.3743486825324,-1347.504975782219,-1296.6356028818764,-1245.7662299815338,-1194.8968570811912,-1144.0274841808487,-1093.1581112805352,-1042.2887383801926,-991.41936547985,-940.5499925795074,-889.6806196791939,-838.8112467788513,-787.9418738785088,-737.0725009781662,-686.2031280778527,-635.3337551775102,-584.4643822771676,-533.595009376825,-482.7256364764825,-431.85626357616906,-380.9868906758265,-330.1175177754839,-279.24814487514135,-228.37877197482788,-177.50939907448532,-126.64002617414273,-75.77065327380016,-24.9012803734867,25.96809252685587,76.83746542719844,127.706838327541,178.57621122788356,229.44558412819703,280.3149570285396,331.18432992888216,382.05370282922473,432.9230757295382,483.79244862988077,534.6618215302234,585.531194430566],[-1447.881744222144,-1397.0123713218015,-1346.142998421488,-1295.2736255211455,-1244.404252620803,-1193.5348797204604,-1142.6655068201178,-1091.7961339198043,-1040.9267610194618,-990.0573881191193,-939.1880152187767,-888.3186423184633,-837.4492694181207,-786.5798965177781,-735.7105236174356,-684.8411507171221,-633.9717778167795,-583.102404916437,-532.2330320160944,-481.3636591157518,-430.4942862154383,-379.62491331509574,-328.75554041475317,-277.8861675144106,-227.01679461409714,-176.14742171375457,-125.27804881341201,-74.40867591306944,-23.53930301275598,27.33006988758659,78.19944278792916,129.06881568827174,179.9381885886143,230.80756148892777,281.67693438927034,332.5463072896129,383.4156801899555,434.28505309026895,485.1544259906115,536.023798890954,586.8931717912966],[-1446.5197668614135,-1395.650393961071,-1344.7810210607574,-1293.9116481604149,-1243.0422752600723,-1192.1729023597297,-1141.3035294593872,-1090.4341565590737,-1039.5647836587311,-988.6954107583886,-937.826037858046,-886.9566649577325,-836.08729205739,-785.2179191570474,-734.3485462567048,-683.4791733563914,-632.6098004560488,-581.7404275557062,-530.8710546553637,-480.0016817550211,-429.1323088547076,-378.26293595436505,-327.3935630540225,-276.5241901536799,-225.65481725336645,-174.78544435302388,-123.91607145268131,-73.04669855233874,-22.177325652025267,28.6920472483173,79.56142014865986,130.43079304900243,181.300165949345,232.16953884965847,283.03891175000103,333.9082846503436,384.7776575506862,435.64703045099964,486.5164033513422,537.3857762516848,588.2551491520273],[-1445.1577895006828,-1394.2884166003403,-1343.4190437000268,-1292.5496707996842,-1241.6802978993417,-1190.810924998999,-1139.9415520986565,-1089.072179198343,-1038.2028062980005,-987.3334333976578,-936.4640604973152,-885.5946875970018,-834.7253146966592,-783.8559417963166,-732.9865688959741,-682.1171959956606,-631.247823095318,-580.3784501949755,-529.5090772946329,-478.63970439429033,-427.77033149397687,-376.9009585936343,-326.03158569329173,-275.16221279294916,-224.29283989263573,-173.42346699229316,-122.55409409195059,-71.68472119160802,-20.815348291294548,30.05402460904802,80.92339750939058,131.79277040973315,182.66214331007572,233.53151621038919,284.4008891107318,335.27026201107435,386.1396349114169,437.0090078117304,487.87838071207295,538.7477536124155,589.6171265127581],[-1443.795812139952,-1392.9264392396094,-1342.057066339296,-1291.1876934389534,-1240.3183205386108,-1189.4489476382682,-1138.5795747379257,-1087.7102018376122,-1036.8408289372696,-985.9714560369271,-935.1020831365845,-884.232710236271,-833.3633373359285,-782.4939644355859,-731.6245915352433,-680.7552186349299,-629.8858457345873,-579.0164728342447,-528.1470999339022,-477.27772703355964,-426.4083541332462,-375.5389812329036,-324.66960833256104,-273.80023543221847,-222.930862531905,-172.06148963156244,-121.19211673121987,-70.3227438308773,-19.45337093056383,31.41600196977874,82.2853748701213,133.15474777046387,184.02412067080644,234.8934935711199,285.7628664714625,336.63223937180504,387.5016122721476,438.3709851724611,489.24035807280364,540.1097309731463,590.9791038734888],[-1442.4338347792213,-1391.5644618788788,-1340.6950889785653,-1289.8257160782227,-1238.9563431778802,-1188.0869702775376,-1137.217597377195,-1086.3482244768816,-1035.478851576539,-984.6094786761964,-933.7401057758539,-882.8707328755404,-832.0013599751978,-781.1319870748553,-730.2626141745127,-679.3932412741992,-628.5238683738567,-577.6544954735141,-526.7851225731715,-475.91574967282895,-425.0463767725155,-374.1770038721729,-323.30763097183035,-272.4382580714878,-221.5688851711743,-170.69951227083172,-119.83013937048915,-68.96076647014658,-18.091393569833116,32.77797933050945,83.64735223085202,134.5167251311946,185.38609803153716,236.25547093185062,287.12484383219316,337.99421673253573,388.8635896328783,439.73296253319177,490.60233543353434,541.4717083338769,592.3410812342195],[-1441.0718574184907,-1390.2024845181481,-1339.3331116178347,-1288.463738717492,-1237.5943658171495,-1186.724992916807,-1135.8556200164644,-1084.986247116151,-1034.1168742158084,-983.2475013154657,-932.3781284151231,-881.5087555148096,-830.6393826144671,-779.7700097141245,-728.900636813782,-678.0312639134685,-627.1618910131259,-576.2925181127833,-525.4231452124408,-474.5537723120982,-423.68439941178474,-372.81502651144217,-321.9456536110996,-271.07628071075703,-220.20690781044357,-169.337534910101,-118.46816200975843,-67.59878910941586,-16.729416209102396,34.13995669124017,85.00932959158274,135.8787024919253,186.74807539226788,237.61744829258134,288.4868211929239,339.3561940932665,390.22556699360905,441.0949398939225,491.9643127942651,542.8336856946077,593.7030585949502],[-1439.7098800577598,-1388.8405071574173,-1337.9711342571038,-1287.1017613567612,-1236.2323884564187,-1185.363015556076,-1134.4936426557335,-1083.62426975542,-1032.7548968550775,-981.8855239547349,-931.0161510543924,-880.1467781540789,-829.2774052537363,-778.4080323533938,-727.5386594530512,-676.6692865527377,-625.7999136523952,-574.9305407520526,-524.06116785171,-473.19179495136746,-422.322422051054,-371.4530491507114,-320.58367625036885,-269.7143033500263,-218.84493044971285,-167.97555754937028,-117.10618464902771,-66.23681174868514,-15.367438848371677,35.50193405197089,86.37130695231346,137.24067985265603,188.1100527529986,238.97942565331206,289.84879855365466,340.71817145399723,391.5875443543398,442.45691725465326,493.32629015499583,544.1956630553384,595.065035955681],[-1438.3479026970292,-1387.4785297966866,-1336.6091568963732,-1285.7397839960306,-1234.870411095688,-1184.0010381953455,-1133.131665295003,-1082.2622923946894,-1031.3929194943469,-980.5235465940043,-929.6541736936617,-878.7848007933483,-827.9154278930057,-777.0460549926631,-726.1766820923206,-675.3073091920071,-624.4379362916645,-573.568563391322,-522.6991904909794,-471.82981759063676,-420.9604446903233,-370.09107178998073,-319.22169888963816,-268.3523259892956,-217.48295308898213,-166.61358018863956,-115.744207288297,-64.87483438795444,-14.005461487640972,36.8639114127016,87.73328431304417,138.60265721338675,189.47203011372932,240.34140301404278,291.21077591438535,342.0801488147279,392.9495217150705,443.81889461538395,494.6882675157265,545.557640416069,596.4270133164116],[-1436.9859253362984,-1386.1165524359558,-1335.2471795356423,-1284.3778066352997,-1233.5084337349572,-1182.6390608346146,-1131.769687934272,-1080.9003150339586,-1030.030942133616,-979.1615692332736,-928.292196332931,-877.4228234326175,-826.553450532275,-775.6840776319324,-724.8147047315898,-673.9453318312763,-623.0759589309338,-572.2065860305912,-521.3372131302486,-470.4678402299061,-419.5984673295926,-368.72909442925004,-317.85972152890747,-266.9903486285649,-216.12097572825144,-165.25160282790887,-114.38222992756629,-63.51285702722372,-12.643484126910252,38.22588877343232,89.09526167377489,139.96463457411744,190.83400747446,241.70338037477347,292.57275327511604,343.4421261754586,394.3114990758012,445.18087197611464,496.0502448764572,546.9196177767998,597.7889906771424],[-1435.6239479755677,-1384.7545750752251,-1333.8852021749117,-1283.0158292745691,-1232.1464563742265,-1181.277083473884,-1130.4077105735414,-1079.538337673228,-1028.6689647728854,-977.7995918725428,-926.9302189722002,-876.0608460718868,-825.1914731715442,-774.3221002712016,-723.4527273708591,-672.5833544705456,-621.713981570203,-570.8446086698605,-519.9752357695179,-469.1058628691753,-418.23648996886186,-367.3671170685193,-316.4977441681767,-265.62837126783415,-214.7589983675207,-163.88962546717812,-113.02025256683557,-62.150879666493,-11.281506766179533,39.587866134163036,90.4572390345056,141.3266119348482,192.19598483519076,243.06535773550422,293.9347306358468,344.80410353618936,395.6734764365319,446.5428493368454,497.41222223718796,548.2815951375305,599.1509680378731],[-1434.261970614837,-1383.3925977144945,-1332.523224814181,-1281.6538519138385,-1230.784479013496,-1179.9151061131533,-1129.0457332128108,-1078.1763603124973,-1027.3069874121547,-976.4376145118121,-925.5682416114695,-874.698868711156,-823.8294958108135,-772.9601229104709,-722.0907500101283,-671.2213771098149,-620.3520042094723,-569.4826313091297,-518.6132584087871,-467.74388550844463,-416.87451260813117,-366.0051397077886,-315.13576680744603,-264.26639390710346,-213.39702100679,-162.52764810644743,-111.65827520610486,-60.788902305762285,-9.91952940544882,40.94984349489375,91.81921639523631,142.68858929557888,193.55796219592145,244.4273350962349,295.2967079965775,346.16608089692005,397.0354537972626,447.9048266975761,498.77419959791865,549.6435724982613,600.5129453986038],[-1432.8999932541062,-1382.0306203537637,-1331.1612474534502,-1280.2918745531076,-1229.422501652765,-1178.5531287524225,-1127.68375585208,-1076.8143829517664,-1025.9450100514239,-975.0756371510814,-924.2062642507389,-873.3368913504254,-822.4675184500828,-771.5981455497403,-720.7287726493977,-669.8593997490842,-618.9900268487416,-568.1206539483991,-517.2512810480565,-466.3819081477139,-415.5125352474004,-364.64316234705785,-313.7737894467153,-262.9044165463727,-212.03504364605928,-161.1656707457167,-110.29629784537414,-59.426924945031566,-8.5575520447181,42.31182085562447,93.18119375596703,144.0505666563096,194.91993955665217,245.78931245696563,296.65868535730823,347.5280582576508,398.39743115799337,449.26680405830683,500.1361769586494,551.0055498589919,601.8749227593345],[-1431.5380158933756,-1380.668642993033,-1329.7992700927196,-1278.929897192377,-1228.0605242920344,-1177.1911513916918,-1126.3217784913493,-1075.4524055910358,-1024.5830326906932,-973.7136597903507,-922.8442868900081,-871.9749139896946,-821.1055410893521,-770.2361681890095,-719.3667952886669,-668.4974223883535,-617.6280494880109,-566.7586765876683,-515.8893036873258,-465.0199307869832,-414.15055788666973,-363.28118498632716,-312.4118120859846,-261.542439185642,-210.67306628532856,-159.803693384986,-108.93432048464342,-58.06494758430085,-7.195574683987388,43.67379821635518,94.54317111669775,145.41254401704032,196.2819169173829,247.15128981769635,298.0206627180389,348.8900356183815,399.75940851872406,450.6287814190375,501.4981543193801,552.3675272197227,603.2369001200652],[-1430.176038532645,-1379.3066656323024,-1328.437292731989,-1277.5679198316463,-1226.6985469313038,-1175.8291740309612,-1124.9598011306186,-1074.0904282303052,-1023.2210553299625,-972.3516824296199,-921.4823095292774,-870.6129366289639,-819.7435637286213,-768.8741908282788,-718.0048179279362,-667.1354450276227,-616.2660721272802,-565.3966992269376,-514.527326326595,-463.65795342625245,-412.788580525939,-361.9192076255964,-311.04983472525385,-260.1804618249113,-209.31108892459784,-158.44171602425527,-107.5723431239127,-56.702970223570134,-5.833597323256669,45.0357755770859,95.90514847742847,146.77452137777104,197.6438942781136,248.51326717842707,299.38264007876967,350.25201297911224,401.1213858794548,451.99075877976827,502.86013168011084,553.7295045804534,604.598877480796],[-1428.814061171914,-1377.9446882715715,-1327.075315371258,-1276.2059424709155,-1225.336569570573,-1174.4671966702304,-1123.5978237698878,-1072.7284508695743,-1021.8590779692317,-970.9897050688892,-920.1203321685466,-869.2509592682331,-818.3815863678906,-767.512213467548,-716.6428405672054,-665.773467666892,-614.9040947665494,-564.0347218662068,-513.1653489658643,-462.29597606552176,-411.4266031652083,-360.5572302648657,-309.68785736452315,-258.8184844641806,-207.94911156386712,-157.07973866352455,-106.21036576318198,-55.340992862839414,-4.471619962525949,46.39775293781662,97.26712583815919,148.13649873850176,199.00587163884433,249.8752445391578,300.74461743950036,351.6139903398429,402.4833632401855,453.35273614049896,504.22210904084153,555.0914819411842,605.9608548415267],[-1427.4520838111835,-1376.582710910841,-1325.7133380105274,-1274.8439651101849,-1223.9745922098423,-1173.1052193094997,-1122.2358464091571,-1071.3664735088437,-1020.4971006085011,-969.6277277081585,-918.758354807816,-867.8889819075025,-817.0196090071599,-766.1502361068174,-715.2808632064748,-664.4114903061613,-613.5421174058188,-562.6727445054762,-511.80337160513363,-460.93399870479107,-410.0646258044776,-359.19525290413503,-308.32588000379246,-257.4565071034499,-206.5871342031364,-155.71776130279383,-104.84838840245126,-53.979015502108695,-3.1096426017952297,47.75973029854734,98.62910319888991,149.49847609923248,200.36784899957505,251.2372218998885,302.10659480023105,352.9759677005736,403.8453406009162,454.71471350122965,505.5840864015722,556.4534593019148,607.3228322022574],[-1426.0901064504528,-1375.2207335501103,-1324.3513606497968,-1273.4819877494542,-1222.6126148491117,-1171.743241948769,-1120.8738690484265,-1070.004496148113,-1019.1351232477704,-968.2657503474278,-917.3963774470852,-866.5270045467718,-815.6576316464292,-764.7882587460866,-713.9188858457441,-663.0495129454306,-612.180140045088,-561.3107671447455,-510.4413942444029,-459.5720213440603,-408.70264844374685,-357.8332755434043,-306.9639026430617,-256.09452974271915,-205.22515684240568,-154.3557839420631,-103.48641104172056,-52.61703814137799,-1.7476652410645244,49.121707659278044,99.99108055962061,150.8604534599632,201.72982636030576,252.59919926061923,303.4685721609618,354.33794506130437,405.20731796164694,456.0766908619604,506.94606376230297,557.8154366626455,608.6848095629881],[-1424.728129089722,-1373.8587561893794,-1322.989383289066,-1272.1200103887234,-1221.2506374883808,-1170.3812645880382,-1119.5118916876957,-1068.6425187873822,-1017.7731458870396,-966.903772986697,-916.0344000863545,-865.165027186041,-814.2956542856984,-763.4262813853559,-712.5569084850133,-661.6875355846998,-610.8181626843573,-559.9487897840147,-509.0794168836722,-458.2100439833296,-407.34067108301616,-356.4712981826736,-305.601925282331,-254.73255238198846,-203.863179481675,-152.99380658133242,-102.12443368098984,-51.25506078064727,-0.38568788033380486,50.483685020008764,101.35305792035133,152.2224308206939,203.09180372103646,253.96117662134992,304.8305495216925,355.69992242203506,406.5692953223776,457.4386682226911,508.30804112303366,559.1774140233763,610.0467869237189],[-1423.3661517289913,-1372.4967788286488,-1321.6274059283353,-1270.7580330279927,-1219.8886601276502,-1169.0192872273076,-1118.149914326965,-1067.2805414266516,-1016.411168526309,-965.5417956259664,-914.6724227256238,-863.8030498253104,-812.9336769249678,-762.0643040246252,-711.1949311242827,-660.3255582239692,-609.4561853236266,-558.5868124232841,-507.71743952294145,-456.8480666225989,-405.9786937222854,-355.10932082194284,-304.2399479216003,-253.3705750212577,-202.50120212094424,-151.63182922060167,-100.76245632025912,-49.89308341991655,0.9762894803969147,51.84566238073948,102.71503528108205,153.58440818142464,204.4537810817672,255.32315398208067,306.19252688242324,357.0618997827658,407.9312726831084,458.80064558342184,509.6700184837644,560.5393913841069,611.4087642844495],[-1422.0041743682605,-1371.134801467918,-1320.2654285676044,-1269.3960556672619,-1218.5266827669193,-1167.6573098665767,-1116.7879369662342,-1065.9185640659207,-1015.0491911655782,-964.1798182652357,-913.3104453648931,-862.4410724645796,-811.5716995642371,-760.7023266638945,-709.8329537635519,-658.9635808632385,-608.0942079628959,-557.2248350625533,-506.35546216221076,-455.4860892618682,-404.6167163615547,-353.74734346121215,-302.8779705608696,-252.00859766052702,-201.13922476021355,-150.26985185987098,-99.4004789595284,-48.53110605918583,2.338266841127634,53.2076397414702,104.07701264181277,154.94638554215533,205.8157584424979,256.68513134281136,307.55450424315393,358.4238771434965,409.29325004383907,460.16262294415253,511.0319958444951,561.9013687448377,612.7707416451802],[-1420.6421970075298,-1369.7728241071873,-1318.9034512068738,-1268.0340783065312,-1217.1647054061887,-1166.295332505846,-1115.4259596055035,-1064.55658670519,-1013.6872138048475,-962.8178409045049,-911.9484680041624,-861.0790951038489,-810.2097222035063,-759.3403493031637,-708.4709764028212,-657.6016035025077,-606.7322306021651,-555.8628577018226,-504.99348480148,-454.12411190113744,-403.254739000824,-352.3853661004814,-301.51599320013884,-250.64662029979627,-199.7772473994828,-148.90787449914023,-98.03850159879768,-47.16912869845511,3.7002442018583537,54.56961710220092,105.43899000254349,156.30836290288607,207.17773580322864,258.0471087035421,308.9164816038847,359.78585450422725,410.6552274045698,461.5246003048833,512.3939732052258,563.2633461055684,614.132719005911],[-1419.2802196467992,-1368.4108467464566,-1317.5414738461432,-1266.6721009458006,-1215.802728045458,-1164.9333551451155,-1114.063982244773,-1063.1946093444594,-1012.3252364441167,-961.4558635437742,-910.5864906434316,-859.7171177431181,-808.8477448427756,-757.978371942433,-707.1089990420904,-656.239626141777,-605.3702532414344,-554.5008803410918,-503.6315074407493,-452.76213454040675,-401.8927616400933,-351.0233887397507,-300.15401583940815,-249.28464293906558,-198.4152700387521,-147.54589713840954,-96.67652423806696,-45.80715133772439,5.062221562589073,55.93159446293164,106.80096736327421,157.67034026361677,208.53971316395933,259.4090860642728,310.27845896461537,361.14783186495794,412.0172047653005,462.88657766561397,513.7559505659566,564.6253234662992,615.4946963666417],[-1417.9182422860683,-1367.0488693857258,-1316.1794964854123,-1265.3101235850697,-1214.4407506847272,-1163.5713777843846,-1112.702004884042,-1061.8326319837286,-1010.9632590833861,-960.0938861830435,-909.224513282701,-858.3551403823875,-807.4857674820449,-756.6163945817024,-705.7470216813598,-654.8776487810463,-604.0082758807038,-553.1389029803612,-502.2695300800186,-451.40015717967606,-400.5307842793626,-349.66141137902,-298.79203847867745,-247.92266557833486,-197.0532926780214,-146.18391977767882,-95.31454687733626,-44.445173976993686,6.4241989233197785,57.29357182366235,108.16294472400492,159.03231762434748,209.90169052469005,260.7710634250035,311.64043632534606,362.5098092256886,413.3791821260312,464.24855502634466,515.1179279266872,565.9873008270298,616.8566737273724],[-1416.5562649253377,-1365.6868920249951,-1314.8175191246817,-1263.948146224339,-1213.0787733239965,-1162.209400423654,-1111.3400275233114,-1060.470654622998,-1009.6012817226554,-958.7319088223128,-907.8625359219702,-856.9931630216568,-806.1237901213142,-755.2544172209716,-704.385044320629,-653.5156714203156,-602.646298519973,-551.7769256196304,-500.9075527192879,-450.0381798189453,-399.16880691863184,-348.2994340182893,-297.4300611179467,-246.56068821760414,-195.69131531729067,-144.8219424169481,-93.95256951660554,-43.08319661626297,7.786176284050498,58.65554918439307,109.52492208473564,160.3942949850782,211.26366788542077,262.13304078573424,313.0024136860768,363.8717865864194,414.74115948676194,465.6105323870754,516.479905287418,567.3492781877605,618.2186510881031],[-1415.194287564607,-1364.3249146642645,-1313.455541763951,-1262.5861688636085,-1211.716795963266,-1160.8474230629233,-1109.9780501625808,-1059.1086772622673,-1008.2393043619246,-957.369931461582,-906.5005585612395,-855.631185660926,-804.7618127605834,-753.8924398602409,-703.0230669598983,-652.1536940595848,-601.2843211592423,-550.4149482588997,-499.54557535855713,-448.67620245821456,-397.8068295579011,-346.9374566575585,-296.06808375721596,-245.19871085687342,-194.32933795655995,-143.45996505621738,-92.59059215587482,-41.72121925553225,9.148153644781218,60.017526545123786,110.88689944546636,161.75627234580892,212.6256452461515,263.495018146465,314.36439104680755,365.2337639471501,416.1031368474927,466.97250974780616,517.8418826481487,568.7112555484913,619.5806284488339],[-1413.8323102038762,-1362.9629373035336,-1312.0935644032202,-1261.2241915028776,-1210.354818602535,-1159.4854457021925,-1108.61607280185,-1057.7466999015364,-1006.8773270011939,-956.0079541008513,-905.1385812005087,-854.2692083001953,-803.3998353998527,-752.5304624995101,-701.6610895991676,-650.7917166988541,-599.9223437985115,-549.052970898169,-498.18359799782644,-447.31422509748387,-396.4448521971704,-345.57547929682784,-294.70610639648527,-243.8367334961427,-192.96736059582923,-142.09798769548667,-91.2286147951441,-40.35924189480153,10.510131005511937,61.379503905854506,112.24887680619707,163.11824970653964,213.9876226068822,264.8569955071957,315.72636840753825,366.5957413078808,417.4651142082234,468.33448710853685,519.2038600088795,570.073232909222,620.9426058095646],[-1412.4703328431456,-1361.600959942803,-1310.7315870424895,-1259.862214142147,-1208.9928412418044,-1158.1234683414618,-1107.2540954411193,-1056.3847225408058,-1005.5153496404632,-954.6459767401207,-903.7766038397781,-852.9072309394646,-802.037858039122,-751.1684851387795,-700.2991122384369,-649.4297393381235,-598.5603664377809,-547.6909935374383,-496.82162063709575,-445.9522477367532,-395.0828748364397,-344.21350193609715,-293.3441290357546,-242.47475613541198,-191.60538323509851,-140.73601033475595,-89.86663743441338,-38.99726453407081,11.872108366242657,62.741481266585225,113.6108541669278,164.48022706727036,215.34959996761293,266.21897286792637,317.08834576826894,367.9577186686115,418.8270915689541,469.69646446926754,520.5658373696101,571.4352102699527,622.3045831702952],[-1411.108355482415,-1360.2389825820724,-1309.369609681759,-1258.5002367814163,-1207.6308638810738,-1156.7614909807312,-1105.8921180803886,-1055.0227451800752,-1004.1533722797325,-953.2839993793899,-902.4146264790473,-851.5452535787339,-800.6758806783913,-749.8065077780487,-698.9371348777062,-648.0677619773927,-597.1983890770501,-546.3290161767076,-495.459643276365,-444.59027037602243,-393.72089747570897,-342.8515245753664,-291.98215167502383,-241.11277877468126,-190.2434058743678,-139.37403297402523,-88.50466007368267,-37.6352871733401,13.234085726973362,64.10345862731593,114.9728315276585,165.84220442800108,216.71157732834365,267.5809502286571,318.4503231289997,369.31969602934225,420.1890689296848,471.0584418299983,521.9278147303409,572.7971876306834,623.666560531026],[-1409.746378121684,-1358.8770052213415,-1308.007632321028,-1257.1382594206855,-1206.268886520343,-1155.3995136200003,-1104.5301407196578,-1053.6607678193443,-1002.7913949190017,-951.9220220186592,-901.0526491183166,-850.1832762180031,-799.3139033176606,-748.444530417318,-697.5751575169754,-646.705784616662,-595.8364117163194,-544.9670388159768,-494.0976659156343,-443.22829301529174,-392.3589201149783,-341.4895472146357,-290.62017431429314,-239.75080141395057,-188.8814285136371,-138.01205561329454,-87.14268271295195,-36.273309812609384,14.596063087704081,65.46543598804665,116.33480888838922,167.20418178873177,218.07355468907434,268.9429275893878,319.8123004897304,370.68167339007294,421.5510462904155,472.420419190729,523.2897920910716,574.1591649914142,625.0285378917567],[-1408.3844007609534,-1357.5150278606109,-1306.6456549602974,-1255.7762820599548,-1204.9069091596123,-1154.0375362592697,-1103.1681633589271,-1052.2987904586137,-1001.4294175582711,-950.5600446579285,-899.690671757586,-848.8212988572725,-797.9519259569299,-747.0825530565874,-696.2131801562448,-645.3438072559313,-594.4744343555888,-543.6050614552462,-492.73568855490356,-441.866315654561,-390.9969427542475,-340.12756985390496,-289.2581969535624,-238.38882405321982,-187.51945115290636,-136.6500782525638,-85.78070535222123,-34.911332451878664,15.9580404484348,66.82741334877737,117.69678624911994,168.56615914946252,219.4355320498051,270.30490495011856,321.1742778504611,372.0436507508037,422.91302365114626,473.7823965514597,524.6517694518022,575.5211423521448,626.3905152524874],[-1407.0224234002226,-1356.15305049988,-1305.2836775995665,-1254.414304699224,-1203.5449317988814,-1152.6755588985388,-1101.8061859981963,-1050.9368130978828,-1000.0674401975403,-949.1980672971978,-898.3286943968552,-847.4593214965417,-796.5899485961992,-745.7205756958566,-694.851202795514,-643.9818298952006,-593.112456994858,-542.2430840945154,-491.37371119417287,-440.5043382938303,-389.63496539351684,-338.76559249317427,-287.8962195928317,-237.02684669248913,-186.15747379217567,-135.2881008918331,-84.41872799149051,-33.549355091147945,17.32001780916552,68.18939070950809,119.05876360985066,169.9281365101932,220.79750941053578,271.66688231084925,322.5362552111918,373.4056281115344,424.27500101187695,475.1443739121904,526.013746812533,576.8831197128756,627.7524926132181],[-1405.660446039492,-1354.7910731391494,-1303.921700238836,-1253.0523273384933,-1202.1829544381508,-1151.3135815378082,-1100.4442086374656,-1049.5748357371522,-998.7054628368096,-947.836089936467,-896.9667170361245,-846.097344135811,-795.2279712354684,-744.3585983351259,-693.4892254347833,-642.6198525344698,-591.7504796341273,-540.8811067337847,-490.0117338334421,-439.14236093309955,-388.2729880327861,-337.4036151324435,-286.53424223210095,-235.66486933175838,-184.79549643144492,-133.92612353110235,-83.0567506307598,-32.187377730417225,18.68199516989624,69.55136807023881,120.42074097058138,171.29011387092396,222.15948677126653,273.02885967158,323.89823257192256,374.76760547226513,425.6369783726077,476.50635127292117,527.3757241732637,578.2450970736063,629.1144699739489],[-1404.2984686787613,-1353.4290957784187,-1302.5597228781053,-1251.6903499777627,-1200.8209770774201,-1149.9516041770776,-1099.082231276735,-1048.2128583764215,-997.343485476079,-946.4741125757364,-895.6047396753938,-844.7353667750804,-793.8659938747378,-742.9966209743952,-692.1272480740527,-641.2578751737392,-590.3885022733966,-539.519129373054,-488.64975647271143,-437.78038357236886,-386.9110106720554,-336.04163777171283,-285.17226487137026,-234.3028919710277,-183.43351907071423,-132.56414617037166,-81.69477327002909,-30.82540036968652,20.043972530626945,70.91334543096951,121.78271833131208,172.65209123165465,223.52146413199722,274.3908370323107,325.26020993265325,376.1295828329958,426.9989557333384,477.86832863365186,528.7377015339944,579.6070744343369,630.4764473346795],[-1402.9364913180304,-1352.0671184176879,-1301.1977455173744,-1250.3283726170318,-1199.4589997166893,-1148.5896268163467,-1097.7202539160041,-1046.8508810156907,-995.9815081153482,-945.1121352150057,-894.2427623146631,-843.3733894143496,-792.504016514007,-741.6346436136645,-690.7652707133219,-639.8958978130084,-589.0265249126659,-538.1571520123233,-487.28777911198074,-436.41840621163817,-385.5490333113247,-334.67966041098214,-283.81028751063957,-232.94091461029697,-182.0715417099835,-131.20216880964094,-80.33279590929837,-29.4634230089558,21.405949891357665,72.27532279170023,123.1446956920428,174.01406859238537,224.88344149272794,275.7528143930414,326.62218729338394,377.4915601937265,428.3609330940691,479.23030599438255,530.0996788947251,580.9690517950677,631.8384246954103],[-1401.5745139572998,-1350.7051410569572,-1299.8357681566438,-1248.9663952563012,-1198.0970223559586,-1147.227649455616,-1096.3582765552735,-1045.48890365496,-994.6195307546175,-943.7501578542749,-892.8807849539323,-842.0114120536189,-791.1420391532763,-740.2726662529337,-689.4032933525912,-638.5339204522777,-587.6645475519351,-536.7951746515926,-485.92580175125,-435.0564288509074,-384.18705595059396,-333.3176830502514,-282.4483101499088,-231.57893724956625,-180.7095643492528,-129.84019144891022,-78.97081854856765,-28.10144564822508,22.767927252088384,73.63730015243095,124.50667305277352,175.3760459531161,226.24541885345866,277.1147917537721,327.9841646541147,378.85353755445726,429.72291045479983,480.5922833551133,531.4616562554559,582.3310291557984,633.200402056141],[-1400.2125365965692,-1349.3431636962266,-1298.4737907959131,-1247.6044178955706,-1196.735044995228,-1145.8656720948854,-1094.9962991945429,-1044.1269262942294,-993.2575533938867,-942.3881804935442,-891.5188075932016,-840.6494346928881,-789.7800617925456,-738.910688892203,-688.0413159918604,-637.171943091547,-586.3025701912044,-535.4331972908618,-484.56382439051924,-433.6944514901767,-382.8250785898632,-331.95570568952064,-281.0863327891781,-230.21695988883553,-179.34758698852207,-128.4782140881795,-77.60884118783693,-26.73946828749436,24.129904612819104,74.99927751316167,125.86865041350424,176.7380233138468,227.60739621418938,278.4767691145029,329.34614201484544,380.215514915188,431.0848878155306,481.95426071584404,532.8236336161866,583.6930065165292,634.5623794168717],[-1398.8505592358383,-1347.9811863354957,-1297.1118134351823,-1246.2424405348397,-1195.3730676344971,-1144.5036947341546,-1093.634321833812,-1042.7649489334985,-991.895576033156,-941.0262031328134,-890.1568302324708,-839.2874573321574,-788.4180844318148,-737.5487115314722,-686.6793386311297,-635.8099657308162,-584.9405928304736,-534.0712199301311,-483.20184702978855,-432.332474129446,-381.4631012291325,-330.59372832878995,-279.7243554284474,-228.8549825281048,-177.98560962779135,-127.11623672744878,-76.24686382710621,-25.37749092676364,25.491881973549823,76.36125487389239,127.23062777423496,178.10000067457753,228.9693735749201,279.83874647523356,330.70811937557613,381.5774922759187,432.44686517626127,483.31623807657473,534.1856109769174,585.0549838772599,635.9243567776025],[-1397.4885818751077,-1346.6192089747651,-1295.7498360744517,-1244.880463174109,-1194.0110902737665,-1143.141717373424,-1092.2723444730814,-1041.402971572768,-990.5335986724253,-939.6642257720828,-888.7948528717402,-837.9254799714267,-787.0561070710842,-736.1867341707416,-685.317361270399,-634.4479883700856,-583.578615469743,-532.7092425694004,-481.83986966905786,-430.9704967687153,-380.1011238684018,-329.23175096805926,-278.3623780677167,-227.49300516737412,-176.62363226706066,-125.75425936671807,-74.8848864663755,-24.015513566032936,26.85385933428053,77.7232322346231,128.59260513496565,179.46197803530822,230.3313509356508,281.20072383596425,332.0700967363068,382.9394696366494,433.80884253699196,484.6782154373054,535.547588337648,586.4169612379906,637.2863341383331],[-1396.126604514377,-1345.2572316140345,-1294.387858713721,-1243.5184858133784,-1192.6491129130359,-1141.7797400126933,-1090.9103671123507,-1040.0409942120373,-989.1716213116946,-938.302248411352,-887.4328755110095,-836.563502610696,-785.6941297103534,-734.8247568100109,-683.9553839096683,-633.0860110093548,-582.2166381090123,-531.3472652086697,-480.4778923083271,-429.60851940798455,-378.7391465076711,-327.8697736073285,-277.00040070698594,-226.13102780664337,-175.2616549063299,-124.39228200598735,-73.52290910564479,-22.653536205302217,28.215836695011248,79.08520959535382,129.9545824956964,180.82395539603897,231.69332829638154,282.562701196695,333.43207409703757,384.30144699738014,435.1708198977227,486.0401927980362,536.9095656983787,587.7789385987213,638.6483114990639],[-1394.7646271536462,-1343.8952542533036,-1293.0258813529902,-1242.1565084526476,-1191.287135552305,-1140.4177626519624,-1089.5483897516199,-1038.6790168513064,-987.8096439509638,-936.9402710506213,-886.0708981502787,-835.2015252499652,-784.3321523496227,-733.4627794492801,-682.5934065489375,-631.7240336486241,-580.8546607482815,-529.9852878479389,-479.1159149475964,-428.24654204725385,-377.3771691469404,-326.5077962465978,-275.63842334625525,-224.76905044591268,-173.89967754559922,-123.03030464525663,-72.16093174491407,-21.291558844571497,29.577814055741968,80.44718695608454,131.3165598564271,182.18593275676966,233.05530565711223,283.9246785574257,334.79405145776826,385.66342435811083,436.5327972584534,487.40217015876686,538.2715430591095,589.1409159594521,640.0102888597946],[-1393.4026497929156,-1342.533276892573,-1291.6639039922595,-1240.794531091917,-1189.9251581915744,-1139.0557852912318,-1088.1864123908892,-1037.3170394905758,-986.4476665902332,-935.5782936898906,-884.7089207895481,-833.8395478892346,-782.970174988892,-732.1008020885495,-681.2314291882069,-630.3620562878934,-579.4926833875509,-528.6233104872083,-477.7539375868657,-426.8845646865231,-376.01519178620964,-325.1458188858671,-274.2764459855245,-223.40707308518193,-172.53770018486847,-121.66832728452592,-70.79895438418335,-19.929581483840778,30.939791416472687,81.80916431681526,132.67853721715784,183.5479101175004,234.41728301784298,285.28665591815644,336.156028818499,387.0254017188416,437.89477461918415,488.7641475194976,539.6335204198401,590.5028933201827,641.3722662205253],[-1392.0406724321847,-1341.1712995318421,-1290.3019266315287,-1239.432553731186,-1188.5631808308435,-1137.693807930501,-1086.8244350301584,-1035.955062129845,-985.0856892295025,-934.2163163291599,-883.3469434288173,-832.4775705285039,-781.6081976281613,-730.7388247278187,-679.8694518274762,-629.0000789271627,-578.1307060268201,-527.2613331264776,-476.391960226135,-425.5225873257924,-374.65321442547895,-323.7838415251364,-272.9144686247938,-222.04509572445124,-171.17572282413778,-120.3063499237952,-69.43697702345263,-18.56760412311006,32.30176877720341,83.17114167754598,134.04051457788853,184.9098874782311,235.77926037857367,286.64863327888713,337.5180061792297,388.38737907957227,439.25675197991484,490.1261248802283,540.9954977805709,591.8648706809134,642.734243581256],[-1390.678695071454,-1339.8093221711115,-1288.939949270798,-1238.0705763704555,-1187.201203470113,-1136.3318305697703,-1085.4624576694277,-1034.5930847691143,-983.7237118687717,-932.8543389684291,-881.9849660680866,-831.1155931677731,-780.2462202674305,-729.376847367088,-678.5074744667454,-627.6381015664319,-576.7687286660894,-525.8993557657468,-475.02998286540424,-424.16060996506167,-373.2912370647482,-322.42186416440563,-271.55249126406306,-220.6831183637205,-169.81374546340703,-118.94437256306448,-68.07499966272191,-17.20562676237934,33.663746137934126,84.5331190382767,135.40249193861928,186.27186483896185,237.14123773930442,288.0106106396179,338.87998353996045,389.749356440303,440.6187293406456,491.48810224095905,542.3574751413016,593.2268480416442,644.0962209419868],[-1389.3167177107234,-1338.4473448103809,-1287.5779719100674,-1236.7085990097248,-1185.8392261093823,-1134.9698532090397,-1084.1004803086971,-1033.2311074083837,-982.3617345080411,-931.4923616076985,-880.622988707356,-829.7536158070425,-778.8842429066999,-728.0148700063573,-677.1454971060148,-626.2761242057013,-575.4067513053587,-524.5373784050162,-473.66800550467354,-422.798632604331,-371.9292597040175,-321.05988680367494,-270.1905139033324,-219.3211410029898,-168.45176810267634,-117.58239520233377,-66.7130223019912,-15.843649401648634,35.02572349866483,85.8950963990074,136.76446929934997,187.63384219969254,238.5032151000351,289.37258800034857,340.24196090069114,391.1113338010337,441.9807067013763,492.85007960168974,543.7194525020323,594.5888254023748,645.4581983027174],[-1387.9547403499926,-1337.08536744965,-1286.2159945493365,-1235.346621648994,-1184.4772487486514,-1133.6078758483088,-1082.7385029479663,-1031.8691300476528,-980.9997571473103,-930.1303842469678,-879.2610113466252,-828.3916384463117,-777.5222655459692,-726.6528926456266,-675.783519745284,-624.9141468449706,-574.044773944628,-523.1754010442854,-472.30602814394285,-421.4366552436003,-370.5672823432868,-319.69790944294425,-268.8285365426017,-217.95916364225909,-167.08979074194562,-116.22041784160305,-65.35104494126048,-14.481672040917914,36.38770085939555,87.25707375973812,138.1264466600807,188.99581956042326,239.86519246076583,290.73456536107926,341.60393826142183,392.4733111617644,443.34268406210697,494.21205696242043,545.081429862763,595.9508027631056,646.8201756634481],[-1386.592762989262,-1335.7233900889194,-1284.854017188606,-1233.9846442882633,-1183.1152713879208,-1132.2458984875782,-1081.3765255872356,-1030.5071526869222,-979.6377797865796,-928.768406886237,-877.8990339858944,-827.029661085581,-776.1602881852384,-725.2909152848958,-674.4215423845533,-623.5521694842398,-572.6827965838972,-521.8134236835547,-470.9440507832121,-420.07467788286954,-369.2053049825561,-318.3359320822135,-267.46655918187093,-216.59718628152837,-165.7278133812149,-114.85844048087233,-63.98906758052976,-13.119694680187195,37.74967822012627,88.61905112046884,139.4884240208114,190.35779692115398,241.22716982149655,292.09654272181,342.9659156221526,393.83528852249515,444.7046614228377,495.5740343231512,546.4434072234938,597.3127801238363,648.1821530241789],[-1385.2307856285313,-1334.3614127281887,-1283.4920398278753,-1232.6226669275327,-1181.7532940271901,-1130.8839211268476,-1080.014548226505,-1029.1451753261915,-978.2758024258488,-927.4064295255063,-876.5370566251637,-825.6676837248502,-774.7983108245077,-723.9289379241651,-673.0595650238225,-622.1901921235091,-571.3208192231665,-520.4514463228239,-469.58207342248136,-418.7127005221388,-367.8433276218253,-316.97395472148276,-266.1045818211402,-215.23520892079765,-164.36583602048418,-113.49646312014161,-62.627090219799044,-11.757717319456475,39.11165558085699,89.98102848119956,140.85040138154213,191.7197742818847,242.58914718222726,293.45852008254076,344.3278929828833,395.1972658832259,446.06663878356846,496.93601168388193,547.8053845842245,598.6747574845671,649.5441303849096],[-1383.8688082678004,-1332.9994353674579,-1282.1300624671444,-1231.2606895668018,-1180.3913166664593,-1129.5219437661167,-1078.6525708657741,-1027.7831979654607,-976.9138250651181,-926.0444521647755,-875.175079264433,-824.3057063641195,-773.4363334637769,-722.5669605634343,-671.6975876630918,-620.8282147627783,-569.9588418624357,-519.0894689620932,-468.22009606175067,-417.3507231614081,-366.48135026109463,-315.61197736075206,-264.7426044604095,-213.87323156006693,-163.00385865975346,-112.1344857594109,-61.265112859068324,-10.395739958725756,40.47363294158771,91.34300584193028,142.21237874227285,193.08175164261542,243.95112454295798,294.82049744327145,345.689870343614,396.5592432439566,447.42861614429916,498.2979890446126,549.1673619449552,600.0367348452978,650.9061077456404],[-1382.5068309070698,-1331.6374580067272,-1280.7680851064138,-1229.8987122060712,-1179.0293393057286,-1128.159966405386,-1077.2905935050435,-1026.42122060473,-975.5518477043875,-924.6824748040449,-873.8131019037023,-822.9437290033889,-772.0743561030463,-721.2049832027037,-670.3356103023611,-619.4662374020477,-568.5968645017051,-517.7274916013625,-466.85811870102,-415.9887458006774,-365.11937290036394,-314.2500000000214,-263.3806270996788,-212.5112541993362,-161.64188129902274,-110.77250839868017,-59.903135498337605,-9.033762597995036,41.83561030231843,92.704983202661,143.57435610300357,194.44372900334614,245.3131019036887,296.18247480400214,347.0518477043447,397.9212206046873,448.79059350502985,499.6599664053433,550.5293393056859,601.3987122060284,652.268085106371]],\"type\":\"surface\"}],                        {\"template\":{\"data\":{\"histogram2dcontour\":[{\"type\":\"histogram2dcontour\",\"colorbar\":{\"outlinewidth\":0,\"ticks\":\"\"},\"colorscale\":[[0.0,\"#0d0887\"],[0.1111111111111111,\"#46039f\"],[0.2222222222222222,\"#7201a8\"],[0.3333333333333333,\"#9c179e\"],[0.4444444444444444,\"#bd3786\"],[0.5555555555555556,\"#d8576b\"],[0.6666666666666666,\"#ed7953\"],[0.7777777777777778,\"#fb9f3a\"],[0.8888888888888888,\"#fdca26\"],[1.0,\"#f0f921\"]]}],\"choropleth\":[{\"type\":\"choropleth\",\"colorbar\":{\"outlinewidth\":0,\"ticks\":\"\"}}],\"histogram2d\":[{\"type\":\"histogram2d\",\"colorbar\":{\"outlinewidth\":0,\"ticks\":\"\"},\"colorscale\":[[0.0,\"#0d0887\"],[0.1111111111111111,\"#46039f\"],[0.2222222222222222,\"#7201a8\"],[0.3333333333333333,\"#9c179e\"],[0.4444444444444444,\"#bd3786\"],[0.5555555555555556,\"#d8576b\"],[0.6666666666666666,\"#ed7953\"],[0.7777777777777778,\"#fb9f3a\"],[0.8888888888888888,\"#fdca26\"],[1.0,\"#f0f921\"]]}],\"heatmap\":[{\"type\":\"heatmap\",\"colorbar\":{\"outlinewidth\":0,\"ticks\":\"\"},\"colorscale\":[[0.0,\"#0d0887\"],[0.1111111111111111,\"#46039f\"],[0.2222222222222222,\"#7201a8\"],[0.3333333333333333,\"#9c179e\"],[0.4444444444444444,\"#bd3786\"],[0.5555555555555556,\"#d8576b\"],[0.6666666666666666,\"#ed7953\"],[0.7777777777777778,\"#fb9f3a\"],[0.8888888888888888,\"#fdca26\"],[1.0,\"#f0f921\"]]}],\"heatmapgl\":[{\"type\":\"heatmapgl\",\"colorbar\":{\"outlinewidth\":0,\"ticks\":\"\"},\"colorscale\":[[0.0,\"#0d0887\"],[0.1111111111111111,\"#46039f\"],[0.2222222222222222,\"#7201a8\"],[0.3333333333333333,\"#9c179e\"],[0.4444444444444444,\"#bd3786\"],[0.5555555555555556,\"#d8576b\"],[0.6666666666666666,\"#ed7953\"],[0.7777777777777778,\"#fb9f3a\"],[0.8888888888888888,\"#fdca26\"],[1.0,\"#f0f921\"]]}],\"contourcarpet\":[{\"type\":\"contourcarpet\",\"colorbar\":{\"outlinewidth\":0,\"ticks\":\"\"}}],\"contour\":[{\"type\":\"contour\",\"colorbar\":{\"outlinewidth\":0,\"ticks\":\"\"},\"colorscale\":[[0.0,\"#0d0887\"],[0.1111111111111111,\"#46039f\"],[0.2222222222222222,\"#7201a8\"],[0.3333333333333333,\"#9c179e\"],[0.4444444444444444,\"#bd3786\"],[0.5555555555555556,\"#d8576b\"],[0.6666666666666666,\"#ed7953\"],[0.7777777777777778,\"#fb9f3a\"],[0.8888888888888888,\"#fdca26\"],[1.0,\"#f0f921\"]]}],\"surface\":[{\"type\":\"surface\",\"colorbar\":{\"outlinewidth\":0,\"ticks\":\"\"},\"colorscale\":[[0.0,\"#0d0887\"],[0.1111111111111111,\"#46039f\"],[0.2222222222222222,\"#7201a8\"],[0.3333333333333333,\"#9c179e\"],[0.4444444444444444,\"#bd3786\"],[0.5555555555555556,\"#d8576b\"],[0.6666666666666666,\"#ed7953\"],[0.7777777777777778,\"#fb9f3a\"],[0.8888888888888888,\"#fdca26\"],[1.0,\"#f0f921\"]]}],\"mesh3d\":[{\"type\":\"mesh3d\",\"colorbar\":{\"outlinewidth\":0,\"ticks\":\"\"}}],\"scatter\":[{\"fillpattern\":{\"fillmode\":\"overlay\",\"size\":10,\"solidity\":0.2},\"type\":\"scatter\"}],\"parcoords\":[{\"type\":\"parcoords\",\"line\":{\"colorbar\":{\"outlinewidth\":0,\"ticks\":\"\"}}}],\"scatterpolargl\":[{\"type\":\"scatterpolargl\",\"marker\":{\"colorbar\":{\"outlinewidth\":0,\"ticks\":\"\"}}}],\"bar\":[{\"error_x\":{\"color\":\"#2a3f5f\"},\"error_y\":{\"color\":\"#2a3f5f\"},\"marker\":{\"line\":{\"color\":\"#E5ECF6\",\"width\":0.5},\"pattern\":{\"fillmode\":\"overlay\",\"size\":10,\"solidity\":0.2}},\"type\":\"bar\"}],\"scattergeo\":[{\"type\":\"scattergeo\",\"marker\":{\"colorbar\":{\"outlinewidth\":0,\"ticks\":\"\"}}}],\"scatterpolar\":[{\"type\":\"scatterpolar\",\"marker\":{\"colorbar\":{\"outlinewidth\":0,\"ticks\":\"\"}}}],\"histogram\":[{\"marker\":{\"pattern\":{\"fillmode\":\"overlay\",\"size\":10,\"solidity\":0.2}},\"type\":\"histogram\"}],\"scattergl\":[{\"type\":\"scattergl\",\"marker\":{\"colorbar\":{\"outlinewidth\":0,\"ticks\":\"\"}}}],\"scatter3d\":[{\"type\":\"scatter3d\",\"line\":{\"colorbar\":{\"outlinewidth\":0,\"ticks\":\"\"}},\"marker\":{\"colorbar\":{\"outlinewidth\":0,\"ticks\":\"\"}}}],\"scattermapbox\":[{\"type\":\"scattermapbox\",\"marker\":{\"colorbar\":{\"outlinewidth\":0,\"ticks\":\"\"}}}],\"scatterternary\":[{\"type\":\"scatterternary\",\"marker\":{\"colorbar\":{\"outlinewidth\":0,\"ticks\":\"\"}}}],\"scattercarpet\":[{\"type\":\"scattercarpet\",\"marker\":{\"colorbar\":{\"outlinewidth\":0,\"ticks\":\"\"}}}],\"carpet\":[{\"aaxis\":{\"endlinecolor\":\"#2a3f5f\",\"gridcolor\":\"white\",\"linecolor\":\"white\",\"minorgridcolor\":\"white\",\"startlinecolor\":\"#2a3f5f\"},\"baxis\":{\"endlinecolor\":\"#2a3f5f\",\"gridcolor\":\"white\",\"linecolor\":\"white\",\"minorgridcolor\":\"white\",\"startlinecolor\":\"#2a3f5f\"},\"type\":\"carpet\"}],\"table\":[{\"cells\":{\"fill\":{\"color\":\"#EBF0F8\"},\"line\":{\"color\":\"white\"}},\"header\":{\"fill\":{\"color\":\"#C8D4E3\"},\"line\":{\"color\":\"white\"}},\"type\":\"table\"}],\"barpolar\":[{\"marker\":{\"line\":{\"color\":\"#E5ECF6\",\"width\":0.5},\"pattern\":{\"fillmode\":\"overlay\",\"size\":10,\"solidity\":0.2}},\"type\":\"barpolar\"}],\"pie\":[{\"automargin\":true,\"type\":\"pie\"}]},\"layout\":{\"autotypenumbers\":\"strict\",\"colorway\":[\"#636efa\",\"#EF553B\",\"#00cc96\",\"#ab63fa\",\"#FFA15A\",\"#19d3f3\",\"#FF6692\",\"#B6E880\",\"#FF97FF\",\"#FECB52\"],\"font\":{\"color\":\"#2a3f5f\"},\"hovermode\":\"closest\",\"hoverlabel\":{\"align\":\"left\"},\"paper_bgcolor\":\"white\",\"plot_bgcolor\":\"#E5ECF6\",\"polar\":{\"bgcolor\":\"#E5ECF6\",\"angularaxis\":{\"gridcolor\":\"white\",\"linecolor\":\"white\",\"ticks\":\"\"},\"radialaxis\":{\"gridcolor\":\"white\",\"linecolor\":\"white\",\"ticks\":\"\"}},\"ternary\":{\"bgcolor\":\"#E5ECF6\",\"aaxis\":{\"gridcolor\":\"white\",\"linecolor\":\"white\",\"ticks\":\"\"},\"baxis\":{\"gridcolor\":\"white\",\"linecolor\":\"white\",\"ticks\":\"\"},\"caxis\":{\"gridcolor\":\"white\",\"linecolor\":\"white\",\"ticks\":\"\"}},\"coloraxis\":{\"colorbar\":{\"outlinewidth\":0,\"ticks\":\"\"}},\"colorscale\":{\"sequential\":[[0.0,\"#0d0887\"],[0.1111111111111111,\"#46039f\"],[0.2222222222222222,\"#7201a8\"],[0.3333333333333333,\"#9c179e\"],[0.4444444444444444,\"#bd3786\"],[0.5555555555555556,\"#d8576b\"],[0.6666666666666666,\"#ed7953\"],[0.7777777777777778,\"#fb9f3a\"],[0.8888888888888888,\"#fdca26\"],[1.0,\"#f0f921\"]],\"sequentialminus\":[[0.0,\"#0d0887\"],[0.1111111111111111,\"#46039f\"],[0.2222222222222222,\"#7201a8\"],[0.3333333333333333,\"#9c179e\"],[0.4444444444444444,\"#bd3786\"],[0.5555555555555556,\"#d8576b\"],[0.6666666666666666,\"#ed7953\"],[0.7777777777777778,\"#fb9f3a\"],[0.8888888888888888,\"#fdca26\"],[1.0,\"#f0f921\"]],\"diverging\":[[0,\"#8e0152\"],[0.1,\"#c51b7d\"],[0.2,\"#de77ae\"],[0.3,\"#f1b6da\"],[0.4,\"#fde0ef\"],[0.5,\"#f7f7f7\"],[0.6,\"#e6f5d0\"],[0.7,\"#b8e186\"],[0.8,\"#7fbc41\"],[0.9,\"#4d9221\"],[1,\"#276419\"]]},\"xaxis\":{\"gridcolor\":\"white\",\"linecolor\":\"white\",\"ticks\":\"\",\"title\":{\"standoff\":15},\"zerolinecolor\":\"white\",\"automargin\":true,\"zerolinewidth\":2},\"yaxis\":{\"gridcolor\":\"white\",\"linecolor\":\"white\",\"ticks\":\"\",\"title\":{\"standoff\":15},\"zerolinecolor\":\"white\",\"automargin\":true,\"zerolinewidth\":2},\"scene\":{\"xaxis\":{\"backgroundcolor\":\"#E5ECF6\",\"gridcolor\":\"white\",\"linecolor\":\"white\",\"showbackground\":true,\"ticks\":\"\",\"zerolinecolor\":\"white\",\"gridwidth\":2},\"yaxis\":{\"backgroundcolor\":\"#E5ECF6\",\"gridcolor\":\"white\",\"linecolor\":\"white\",\"showbackground\":true,\"ticks\":\"\",\"zerolinecolor\":\"white\",\"gridwidth\":2},\"zaxis\":{\"backgroundcolor\":\"#E5ECF6\",\"gridcolor\":\"white\",\"linecolor\":\"white\",\"showbackground\":true,\"ticks\":\"\",\"zerolinecolor\":\"white\",\"gridwidth\":2}},\"shapedefaults\":{\"line\":{\"color\":\"#2a3f5f\"}},\"annotationdefaults\":{\"arrowcolor\":\"#2a3f5f\",\"arrowhead\":0,\"arrowwidth\":1},\"geo\":{\"bgcolor\":\"white\",\"landcolor\":\"#E5ECF6\",\"subunitcolor\":\"white\",\"showland\":true,\"showlakes\":true,\"lakecolor\":\"white\"},\"title\":{\"x\":0.05},\"mapbox\":{\"style\":\"light\"}}},\"scene\":{\"xaxis\":{\"title\":{\"text\":\"X Label\"}},\"yaxis\":{\"title\":{\"text\":\"Y Label\"}},\"zaxis\":{\"title\":{\"text\":\"Z Label\"}}}},                        {\"responsive\": true}                    ).then(function(){\n",
       "                            \n",
       "var gd = document.getElementById('719e5c4f-1c35-4d90-b805-3ef13418d6ca');\n",
       "var x = new MutationObserver(function (mutations, observer) {{\n",
       "        var display = window.getComputedStyle(gd).display;\n",
       "        if (!display || display === 'none') {{\n",
       "            console.log([gd, 'removed!']);\n",
       "            Plotly.purge(gd);\n",
       "            observer.disconnect();\n",
       "        }}\n",
       "}});\n",
       "\n",
       "// Listen for the removal of the full notebook cells\n",
       "var notebookContainer = gd.closest('#notebook-container');\n",
       "if (notebookContainer) {{\n",
       "    x.observe(notebookContainer, {childList: true});\n",
       "}}\n",
       "\n",
       "// Listen for the clearing of the current output cell\n",
       "var outputEl = gd.closest('.output');\n",
       "if (outputEl) {{\n",
       "    x.observe(outputEl, {childList: true});\n",
       "}}\n",
       "\n",
       "                        })                };                });            </script>        </div>"
      ]
     },
     "metadata": {},
     "output_type": "display_data"
    }
   ],
   "source": [
    "plot3D(X, Y, W3d)"
   ]
  },
  {
   "cell_type": "markdown",
   "metadata": {},
   "source": [
    "## sales forecast using regression - month extrapolation"
   ]
  },
  {
   "cell_type": "code",
   "execution_count": 250,
   "metadata": {},
   "outputs": [],
   "source": [
    "X_train = time2int(train)\n",
    "X_train[12:24, 1] += 12\n",
    "X_train[24:, 1] += 12"
   ]
  },
  {
   "cell_type": "code",
   "execution_count": 251,
   "metadata": {},
   "outputs": [],
   "source": [
    "w, l = gradientDescent(X_train[:,1].reshape((-1, 1)), Y, 0.00001, 200)"
   ]
  },
  {
   "cell_type": "code",
   "execution_count": 252,
   "metadata": {},
   "outputs": [
    {
     "data": {
      "text/plain": [
       "[<matplotlib.lines.Line2D at 0x1fd2e747370>]"
      ]
     },
     "execution_count": 252,
     "metadata": {},
     "output_type": "execute_result"
    },
    {
     "data": {
      "image/png": "[encoded data removed]",
      "text/plain": [
       "<Figure size 432x288 with 1 Axes>"
      ]
     },
     "metadata": {
      "needs_background": "light"
     },
     "output_type": "display_data"
    }
   ],
   "source": [
    "plt.plot(l)"
   ]
  },
  {
   "cell_type": "code",
   "execution_count": 253,
   "metadata": {},
   "outputs": [
    {
     "data": {
      "image/png": "[encoded data removed]",
      "text/plain": [
       "<Figure size 432x288 with 1 Axes>"
      ]
     },
     "metadata": {
      "needs_background": "light"
     },
     "output_type": "display_data"
    }
   ],
   "source": [
    "plt.scatter(X_train[:,1], Y)\n",
    "plt.plot(X_train[:,1], hypothesis(Xn, w))\n",
    "plt.show()"
   ]
  },
  {
   "cell_type": "markdown",
   "metadata": {},
   "source": [
    "#### using sklearn"
   ]
  },
  {
   "cell_type": "code",
   "execution_count": 255,
   "metadata": {},
   "outputs": [],
   "source": [
    "reg2d = LinearRegression()"
   ]
  },
  {
   "cell_type": "code",
   "execution_count": 262,
   "metadata": {},
   "outputs": [
    {
     "data": {
      "text/plain": [
       "LinearRegression()"
      ]
     },
     "execution_count": 262,
     "metadata": {},
     "output_type": "execute_result"
    }
   ],
   "source": [
    "reg2d.fit(X_train[:,1].reshape((-1,1)), Y)"
   ]
  },
  {
   "cell_type": "code",
   "execution_count": 268,
   "metadata": {},
   "outputs": [
    {
     "data": {
      "image/png": "[encoded data removed]",
      "text/plain": [
       "<Figure size 432x288 with 1 Axes>"
      ]
     },
     "metadata": {
      "needs_background": "light"
     },
     "output_type": "display_data"
    }
   ],
   "source": [
    "plt.scatter(X_train[:,1], Y)\n",
    "plt.plot(X_train[:,1], hypothesis(Xn, np.vstack((reg2d.intercept_, reg2d.coef_))))\n",
    "plt.show()"
   ]
  },
  {
   "cell_type": "markdown",
   "metadata": {},
   "source": [
    "## sales forecast using multi-layer perceptron"
   ]
  },
  {
   "cell_type": "code",
   "execution_count": null,
   "metadata": {},
   "outputs": [],
   "source": [
    "# convert month from object datatype to datatime datatype\n",
    "df_dataset.Month = pd.to_datetime(df_dataset.Month, format=\"%Y-%m\")"
   ]
  },
  {
   "cell_type": "code",
   "execution_count": 270,
   "metadata": {},
   "outputs": [
    {
     "name": "stdout",
     "output_type": "stream",
     "text": [
      "<class 'pandas.core.frame.DataFrame'>\n",
      "RangeIndex: 30 entries, 0 to 29\n",
      "Data columns (total 2 columns):\n",
      " #   Column  Non-Null Count  Dtype \n",
      "---  ------  --------------  ----- \n",
      " 0   Month   30 non-null     object\n",
      " 1   Sales   30 non-null     int64 \n",
      "dtypes: int64(1), object(1)\n",
      "memory usage: 608.0+ bytes\n"
     ]
    }
   ],
   "source": []
  },
  {
   "cell_type": "code",
   "execution_count": null,
   "metadata": {},
   "outputs": [],
   "source": [
    "\"\"\"lag is a feature engineering concept to predict target values of future (t+x time) \n",
    "using values of present (t) time with a certain lag (x)\"\"\"\n",
    "\n",
    "## https://datascience.stackexchange.com/a/72481"
   ]
  },
  {
   "cell_type": "code",
   "execution_count": null,
   "metadata": {},
   "outputs": [],
   "source": [
    "# predicting futures sales using Lag\n",
    "\n",
    "## used the code on Kaggle\n",
    "def generate_lag(df, n):\n",
    "    X, y = [], []\n",
    "    for i in range(len(df) - n):\n",
    "        X.append(df[i:i+n])\n",
    "        y.append(df[n+i])\n",
    "    \n",
    "    return np.array(X), np.array(y), np.array(y[-n:]).reshape(1,n)"
   ]
  },
  {
   "cell_type": "code",
   "execution_count": null,
   "metadata": {},
   "outputs": [],
   "source": [
    "# X, y, last_batch_values = generate_lag(df_train.Sales.values, 12)"
   ]
  },
  {
   "cell_type": "code",
   "execution_count": 32,
   "metadata": {},
   "outputs": [],
   "source": [
    "from sklearn.linear_model import LinearRegression"
   ]
  },
  {
   "cell_type": "code",
   "execution_count": 34,
   "metadata": {},
   "outputs": [],
   "source": [
    "lr = LinearRegression()"
   ]
  },
  {
   "cell_type": "code",
   "execution_count": 98,
   "metadata": {},
   "outputs": [],
   "source": [
    "lr.fit(X, Y)"
   ]
  },
  {
   "cell_type": "code",
   "execution_count": 36,
   "metadata": {},
   "outputs": [
    {
     "data": {
      "text/plain": [
       "array([-204973.04255319])"
      ]
     },
     "execution_count": 36,
     "metadata": {},
     "output_type": "execute_result"
    }
   ],
   "source": [
    "lr.intercept_"
   ]
  },
  {
   "cell_type": "code",
   "execution_count": 37,
   "metadata": {},
   "outputs": [],
   "source": [
    "x = np.linspace(100, 450, 2)\n",
    "y = np.linspace(100, 450, 200)\n",
    "A, B = np.meshgrid(x, y)\n",
    "C = np.vstack(((A, B)))\n"
   ]
  },
  {
   "cell_type": "code",
   "execution_count": 38,
   "metadata": {},
   "outputs": [
    {
     "data": {
      "text/plain": [
       "(400, 2)"
      ]
     },
     "execution_count": 38,
     "metadata": {},
     "output_type": "execute_result"
    }
   ],
   "source": [
    "C.shape"
   ]
  },
  {
   "cell_type": "code",
   "execution_count": 45,
   "metadata": {},
   "outputs": [],
   "source": [
    "Y_ = lr.predict(X)"
   ]
  },
  {
   "cell_type": "code",
   "execution_count": 46,
   "metadata": {},
   "outputs": [
    {
     "data": {
      "text/plain": [
       "array([[140.34356103],\n",
       "       [148.4181411 ],\n",
       "       [156.49272116],\n",
       "       [164.56730123],\n",
       "       [172.6418813 ],\n",
       "       [180.71646137],\n",
       "       [188.79104143],\n",
       "       [196.8656215 ],\n",
       "       [204.94020157],\n",
       "       [213.01478163],\n",
       "       [221.0893617 ],\n",
       "       [229.16394177],\n",
       "       [242.08230683],\n",
       "       [250.1568869 ],\n",
       "       [258.23146697],\n",
       "       [266.30604703],\n",
       "       [274.3806271 ],\n",
       "       [282.45520717],\n",
       "       [290.52978723],\n",
       "       [298.6043673 ],\n",
       "       [306.67894737],\n",
       "       [314.75352744],\n",
       "       [322.8281075 ],\n",
       "       [330.90268757],\n",
       "       [343.82105263],\n",
       "       [351.8956327 ],\n",
       "       [359.97021277],\n",
       "       [368.04479283],\n",
       "       [376.1193729 ],\n",
       "       [384.19395297]])"
      ]
     },
     "execution_count": 46,
     "metadata": {},
     "output_type": "execute_result"
    }
   ],
   "source": [
    "Y_"
   ]
  },
  {
   "cell_type": "code",
   "execution_count": 47,
   "metadata": {
    "scrolled": false
   },
   "outputs": [
    {
     "data": {
      "application/vnd.plotly.v1+json": {
       "config": {
        "plotlyServerURL": "https://plot.ly"
       },
       "data": [
        {
         "hovertemplate": "x=%{x}<br>y=%{y}<br>z=%{z}<extra></extra>",
         "legendgroup": "",
         "marker": {
          "color": "#636efa",
          "symbol": "circle"
         },
         "mode": "markers",
         "name": "",
         "scene": "scene",
         "showlegend": false,
         "type": "scatter3d",
         "x": [
          2016,
          2016,
          2016,
          2016,
          2016,
          2016,
          2016,
          2016,
          2016,
          2016,
          2016,
          2016,
          2017,
          2017,
          2017,
          2017,
          2017,
          2017,
          2017,
          2017,
          2017,
          2017,
          2017,
          2017,
          2018,
          2018,
          2018,
          2018,
          2018,
          2018
         ],
         "y": [
          1,
          2,
          3,
          4,
          5,
          6,
          7,
          8,
          9,
          10,
          11,
          12,
          1,
          2,
          3,
          4,
          5,
          6,
          7,
          8,
          9,
          10,
          11,
          12,
          1,
          2,
          3,
          4,
          5,
          6
         ],
         "z": [
          140.34356103022583,
          148.41814109741244,
          156.49272116459906,
          164.56730123178568,
          172.6418812989723,
          180.716461366188,
          188.79104143337463,
          196.86562150056125,
          204.94020156774786,
          213.01478163493448,
          221.0893617021211,
          229.1639417693077,
          242.08230683088186,
          250.15688689806848,
          258.2314669652551,
          266.3060470324417,
          274.3806270996283,
          282.45520716684405,
          290.52978723403066,
          298.6043673012173,
          306.6789473684039,
          314.7535274355905,
          322.82810750277713,
          330.90268756996375,
          343.821052631567,
          351.8956326987536,
          359.97021276594023,
          368.04479283312685,
          376.11937290031346,
          384.1939529675292
         ]
        }
       ],
       "layout": {
        "legend": {
         "tracegroupgap": 0
        },
        "margin": {
         "t": 60
        },
        "scene": {
         "domain": {
          "x": [
           0,
           1
          ],
          "y": [
           0,
           1
          ]
         },
         "xaxis": {
          "title": {
           "text": "x"
          }
         },
         "yaxis": {
          "title": {
           "text": "y"
          }
         },
         "zaxis": {
          "title": {
           "text": "z"
          }
         }
        },
        "template": {
         "data": {
          "bar": [
           {
            "error_x": {
             "color": "#2a3f5f"
            },
            "error_y": {
             "color": "#2a3f5f"
            },
            "marker": {
             "line": {
              "color": "#E5ECF6",
              "width": 0.5
             },
             "pattern": {
              "fillmode": "overlay",
              "size": 10,
              "solidity": 0.2
             }
            },
            "type": "bar"
           }
          ],
          "barpolar": [
           {
            "marker": {
             "line": {
              "color": "#E5ECF6",
              "width": 0.5
             },
             "pattern": {
              "fillmode": "overlay",
              "size": 10,
              "solidity": 0.2
             }
            },
            "type": "barpolar"
           }
          ],
          "carpet": [
           {
            "aaxis": {
             "endlinecolor": "#2a3f5f",
             "gridcolor": "white",
             "linecolor": "white",
             "minorgridcolor": "white",
             "startlinecolor": "#2a3f5f"
            },
            "baxis": {
             "endlinecolor": "#2a3f5f",
             "gridcolor": "white",
             "linecolor": "white",
             "minorgridcolor": "white",
             "startlinecolor": "#2a3f5f"
            },
            "type": "carpet"
           }
          ],
          "choropleth": [
           {
            "colorbar": {
             "outlinewidth": 0,
             "ticks": ""
            },
            "type": "choropleth"
           }
          ],
          "contour": [
           {
            "colorbar": {
             "outlinewidth": 0,
             "ticks": ""
            },
            "colorscale": [
             [
              0,
              "#0d0887"
             ],
             [
              0.1111111111111111,
              "#46039f"
             ],
             [
              0.2222222222222222,
              "#7201a8"
             ],
             [
              0.3333333333333333,
              "#9c179e"
             ],
             [
              0.4444444444444444,
              "#bd3786"
             ],
             [
              0.5555555555555556,
              "#d8576b"
             ],
             [
              0.6666666666666666,
              "#ed7953"
             ],
             [
              0.7777777777777778,
              "#fb9f3a"
             ],
             [
              0.8888888888888888,
              "#fdca26"
             ],
             [
              1,
              "#f0f921"
             ]
            ],
            "type": "contour"
           }
          ],
          "contourcarpet": [
           {
            "colorbar": {
             "outlinewidth": 0,
             "ticks": ""
            },
            "type": "contourcarpet"
           }
          ],
          "heatmap": [
           {
            "colorbar": {
             "outlinewidth": 0,
             "ticks": ""
            },
            "colorscale": [
             [
              0,
              "#0d0887"
             ],
             [
              0.1111111111111111,
              "#46039f"
             ],
             [
              0.2222222222222222,
              "#7201a8"
             ],
             [
              0.3333333333333333,
              "#9c179e"
             ],
             [
              0.4444444444444444,
              "#bd3786"
             ],
             [
              0.5555555555555556,
              "#d8576b"
             ],
             [
              0.6666666666666666,
              "#ed7953"
             ],
             [
              0.7777777777777778,
              "#fb9f3a"
             ],
             [
              0.8888888888888888,
              "#fdca26"
             ],
             [
              1,
              "#f0f921"
             ]
            ],
            "type": "heatmap"
           }
          ],
          "heatmapgl": [
           {
            "colorbar": {
             "outlinewidth": 0,
             "ticks": ""
            },
            "colorscale": [
             [
              0,
              "#0d0887"
             ],
             [
              0.1111111111111111,
              "#46039f"
             ],
             [
              0.2222222222222222,
              "#7201a8"
             ],
             [
              0.3333333333333333,
              "#9c179e"
             ],
             [
              0.4444444444444444,
              "#bd3786"
             ],
             [
              0.5555555555555556,
              "#d8576b"
             ],
             [
              0.6666666666666666,
              "#ed7953"
             ],
             [
              0.7777777777777778,
              "#fb9f3a"
             ],
             [
              0.8888888888888888,
              "#fdca26"
             ],
             [
              1,
              "#f0f921"
             ]
            ],
            "type": "heatmapgl"
           }
          ],
          "histogram": [
           {
            "marker": {
             "pattern": {
              "fillmode": "overlay",
              "size": 10,
              "solidity": 0.2
             }
            },
            "type": "histogram"
           }
          ],
          "histogram2d": [
           {
            "colorbar": {
             "outlinewidth": 0,
             "ticks": ""
            },
            "colorscale": [
             [
              0,
              "#0d0887"
             ],
             [
              0.1111111111111111,
              "#46039f"
             ],
             [
              0.2222222222222222,
              "#7201a8"
             ],
             [
              0.3333333333333333,
              "#9c179e"
             ],
             [
              0.4444444444444444,
              "#bd3786"
             ],
             [
              0.5555555555555556,
              "#d8576b"
             ],
             [
              0.6666666666666666,
              "#ed7953"
             ],
             [
              0.7777777777777778,
              "#fb9f3a"
             ],
             [
              0.8888888888888888,
              "#fdca26"
             ],
             [
              1,
              "#f0f921"
             ]
            ],
            "type": "histogram2d"
           }
          ],
          "histogram2dcontour": [
           {
            "colorbar": {
             "outlinewidth": 0,
             "ticks": ""
            },
            "colorscale": [
             [
              0,
              "#0d0887"
             ],
             [
              0.1111111111111111,
              "#46039f"
             ],
             [
              0.2222222222222222,
              "#7201a8"
             ],
             [
              0.3333333333333333,
              "#9c179e"
             ],
             [
              0.4444444444444444,
              "#bd3786"
             ],
             [
              0.5555555555555556,
              "#d8576b"
             ],
             [
              0.6666666666666666,
              "#ed7953"
             ],
             [
              0.7777777777777778,
              "#fb9f3a"
             ],
             [
              0.8888888888888888,
              "#fdca26"
             ],
             [
              1,
              "#f0f921"
             ]
            ],
            "type": "histogram2dcontour"
           }
          ],
          "mesh3d": [
           {
            "colorbar": {
             "outlinewidth": 0,
             "ticks": ""
            },
            "type": "mesh3d"
           }
          ],
          "parcoords": [
           {
            "line": {
             "colorbar": {
              "outlinewidth": 0,
              "ticks": ""
             }
            },
            "type": "parcoords"
           }
          ],
          "pie": [
           {
            "automargin": true,
            "type": "pie"
           }
          ],
          "scatter": [
           {
            "fillpattern": {
             "fillmode": "overlay",
             "size": 10,
             "solidity": 0.2
            },
            "type": "scatter"
           }
          ],
          "scatter3d": [
           {
            "line": {
             "colorbar": {
              "outlinewidth": 0,
              "ticks": ""
             }
            },
            "marker": {
             "colorbar": {
              "outlinewidth": 0,
              "ticks": ""
             }
            },
            "type": "scatter3d"
           }
          ],
          "scattercarpet": [
           {
            "marker": {
             "colorbar": {
              "outlinewidth": 0,
              "ticks": ""
             }
            },
            "type": "scattercarpet"
           }
          ],
          "scattergeo": [
           {
            "marker": {
             "colorbar": {
              "outlinewidth": 0,
              "ticks": ""
             }
            },
            "type": "scattergeo"
           }
          ],
          "scattergl": [
           {
            "marker": {
             "colorbar": {
              "outlinewidth": 0,
              "ticks": ""
             }
            },
            "type": "scattergl"
           }
          ],
          "scattermapbox": [
           {
            "marker": {
             "colorbar": {
              "outlinewidth": 0,
              "ticks": ""
             }
            },
            "type": "scattermapbox"
           }
          ],
          "scatterpolar": [
           {
            "marker": {
             "colorbar": {
              "outlinewidth": 0,
              "ticks": ""
             }
            },
            "type": "scatterpolar"
           }
          ],
          "scatterpolargl": [
           {
            "marker": {
             "colorbar": {
              "outlinewidth": 0,
              "ticks": ""
             }
            },
            "type": "scatterpolargl"
           }
          ],
          "scatterternary": [
           {
            "marker": {
             "colorbar": {
              "outlinewidth": 0,
              "ticks": ""
             }
            },
            "type": "scatterternary"
           }
          ],
          "surface": [
           {
            "colorbar": {
             "outlinewidth": 0,
             "ticks": ""
            },
            "colorscale": [
             [
              0,
              "#0d0887"
             ],
             [
              0.1111111111111111,
              "#46039f"
             ],
             [
              0.2222222222222222,
              "#7201a8"
             ],
             [
              0.3333333333333333,
              "#9c179e"
             ],
             [
              0.4444444444444444,
              "#bd3786"
             ],
             [
              0.5555555555555556,
              "#d8576b"
             ],
             [
              0.6666666666666666,
              "#ed7953"
             ],
             [
              0.7777777777777778,
              "#fb9f3a"
             ],
             [
              0.8888888888888888,
              "#fdca26"
             ],
             [
              1,
              "#f0f921"
             ]
            ],
            "type": "surface"
           }
          ],
          "table": [
           {
            "cells": {
             "fill": {
              "color": "#EBF0F8"
             },
             "line": {
              "color": "white"
             }
            },
            "header": {
             "fill": {
              "color": "#C8D4E3"
             },
             "line": {
              "color": "white"
             }
            },
            "type": "table"
           }
          ]
         },
         "layout": {
          "annotationdefaults": {
           "arrowcolor": "#2a3f5f",
           "arrowhead": 0,
           "arrowwidth": 1
          },
          "autotypenumbers": "strict",
          "coloraxis": {
           "colorbar": {
            "outlinewidth": 0,
            "ticks": ""
           }
          },
          "colorscale": {
           "diverging": [
            [
             0,
             "#8e0152"
            ],
            [
             0.1,
             "#c51b7d"
            ],
            [
             0.2,
             "#de77ae"
            ],
            [
             0.3,
             "#f1b6da"
            ],
            [
             0.4,
             "#fde0ef"
            ],
            [
             0.5,
             "#f7f7f7"
            ],
            [
             0.6,
             "#e6f5d0"
            ],
            [
             0.7,
             "#b8e186"
            ],
            [
             0.8,
             "#7fbc41"
            ],
            [
             0.9,
             "#4d9221"
            ],
            [
             1,
             "#276419"
            ]
           ],
           "sequential": [
            [
             0,
             "#0d0887"
            ],
            [
             0.1111111111111111,
             "#46039f"
            ],
            [
             0.2222222222222222,
             "#7201a8"
            ],
            [
             0.3333333333333333,
             "#9c179e"
            ],
            [
             0.4444444444444444,
             "#bd3786"
            ],
            [
             0.5555555555555556,
             "#d8576b"
            ],
            [
             0.6666666666666666,
             "#ed7953"
            ],
            [
             0.7777777777777778,
             "#fb9f3a"
            ],
            [
             0.8888888888888888,
             "#fdca26"
            ],
            [
             1,
             "#f0f921"
            ]
           ],
           "sequentialminus": [
            [
             0,
             "#0d0887"
            ],
            [
             0.1111111111111111,
             "#46039f"
            ],
            [
             0.2222222222222222,
             "#7201a8"
            ],
            [
             0.3333333333333333,
             "#9c179e"
            ],
            [
             0.4444444444444444,
             "#bd3786"
            ],
            [
             0.5555555555555556,
             "#d8576b"
            ],
            [
             0.6666666666666666,
             "#ed7953"
            ],
            [
             0.7777777777777778,
             "#fb9f3a"
            ],
            [
             0.8888888888888888,
             "#fdca26"
            ],
            [
             1,
             "#f0f921"
            ]
           ]
          },
          "colorway": [
           "#636efa",
           "#EF553B",
           "#00cc96",
           "#ab63fa",
           "#FFA15A",
           "#19d3f3",
           "#FF6692",
           "#B6E880",
           "#FF97FF",
           "#FECB52"
          ],
          "font": {
           "color": "#2a3f5f"
          },
          "geo": {
           "bgcolor": "white",
           "lakecolor": "white",
           "landcolor": "#E5ECF6",
           "showlakes": true,
           "showland": true,
           "subunitcolor": "white"
          },
          "hoverlabel": {
           "align": "left"
          },
          "hovermode": "closest",
          "mapbox": {
           "style": "light"
          },
          "paper_bgcolor": "white",
          "plot_bgcolor": "#E5ECF6",
          "polar": {
           "angularaxis": {
            "gridcolor": "white",
            "linecolor": "white",
            "ticks": ""
           },
           "bgcolor": "#E5ECF6",
           "radialaxis": {
            "gridcolor": "white",
            "linecolor": "white",
            "ticks": ""
           }
          },
          "scene": {
           "xaxis": {
            "backgroundcolor": "#E5ECF6",
            "gridcolor": "white",
            "gridwidth": 2,
            "linecolor": "white",
            "showbackground": true,
            "ticks": "",
            "zerolinecolor": "white"
           },
           "yaxis": {
            "backgroundcolor": "#E5ECF6",
            "gridcolor": "white",
            "gridwidth": 2,
            "linecolor": "white",
            "showbackground": true,
            "ticks": "",
            "zerolinecolor": "white"
           },
           "zaxis": {
            "backgroundcolor": "#E5ECF6",
            "gridcolor": "white",
            "gridwidth": 2,
            "linecolor": "white",
            "showbackground": true,
            "ticks": "",
            "zerolinecolor": "white"
           }
          },
          "shapedefaults": {
           "line": {
            "color": "#2a3f5f"
           }
          },
          "ternary": {
           "aaxis": {
            "gridcolor": "white",
            "linecolor": "white",
            "ticks": ""
           },
           "baxis": {
            "gridcolor": "white",
            "linecolor": "white",
            "ticks": ""
           },
           "bgcolor": "#E5ECF6",
           "caxis": {
            "gridcolor": "white",
            "linecolor": "white",
            "ticks": ""
           }
          },
          "title": {
           "x": 0.05
          },
          "xaxis": {
           "automargin": true,
           "gridcolor": "white",
           "linecolor": "white",
           "ticks": "",
           "title": {
            "standoff": 15
           },
           "zerolinecolor": "white",
           "zerolinewidth": 2
          },
          "yaxis": {
           "automargin": true,
           "gridcolor": "white",
           "linecolor": "white",
           "ticks": "",
           "title": {
            "standoff": 15
           },
           "zerolinecolor": "white",
           "zerolinewidth": 2
          }
         }
        }
       }
      },
      "text/html": [
       "<div>                            <div id=\"7c14650e-837c-42c2-9243-12af401319cd\" class=\"plotly-graph-div\" style=\"height:525px; width:100%;\"></div>            <script type=\"text/javascript\">                require([\"plotly\"], function(Plotly) {                    window.PLOTLYENV=window.PLOTLYENV || {};                                    if (document.getElementById(\"7c14650e-837c-42c2-9243-12af401319cd\")) {                    Plotly.newPlot(                        \"7c14650e-837c-42c2-9243-12af401319cd\",                        [{\"hovertemplate\":\"x=%{x}<br>y=%{y}<br>z=%{z}<extra></extra>\",\"legendgroup\":\"\",\"marker\":{\"color\":\"#636efa\",\"symbol\":\"circle\"},\"mode\":\"markers\",\"name\":\"\",\"scene\":\"scene\",\"showlegend\":false,\"x\":[2016,2016,2016,2016,2016,2016,2016,2016,2016,2016,2016,2016,2017,2017,2017,2017,2017,2017,2017,2017,2017,2017,2017,2017,2018,2018,2018,2018,2018,2018],\"y\":[1,2,3,4,5,6,7,8,9,10,11,12,1,2,3,4,5,6,7,8,9,10,11,12,1,2,3,4,5,6],\"z\":[140.34356103022583,148.41814109741244,156.49272116459906,164.56730123178568,172.6418812989723,180.716461366188,188.79104143337463,196.86562150056125,204.94020156774786,213.01478163493448,221.0893617021211,229.1639417693077,242.08230683088186,250.15688689806848,258.2314669652551,266.3060470324417,274.3806270996283,282.45520716684405,290.52978723403066,298.6043673012173,306.6789473684039,314.7535274355905,322.82810750277713,330.90268756996375,343.821052631567,351.8956326987536,359.97021276594023,368.04479283312685,376.11937290031346,384.1939529675292],\"type\":\"scatter3d\"}],                        {\"template\":{\"data\":{\"histogram2dcontour\":[{\"type\":\"histogram2dcontour\",\"colorbar\":{\"outlinewidth\":0,\"ticks\":\"\"},\"colorscale\":[[0.0,\"#0d0887\"],[0.1111111111111111,\"#46039f\"],[0.2222222222222222,\"#7201a8\"],[0.3333333333333333,\"#9c179e\"],[0.4444444444444444,\"#bd3786\"],[0.5555555555555556,\"#d8576b\"],[0.6666666666666666,\"#ed7953\"],[0.7777777777777778,\"#fb9f3a\"],[0.8888888888888888,\"#fdca26\"],[1.0,\"#f0f921\"]]}],\"choropleth\":[{\"type\":\"choropleth\",\"colorbar\":{\"outlinewidth\":0,\"ticks\":\"\"}}],\"histogram2d\":[{\"type\":\"histogram2d\",\"colorbar\":{\"outlinewidth\":0,\"ticks\":\"\"},\"colorscale\":[[0.0,\"#0d0887\"],[0.1111111111111111,\"#46039f\"],[0.2222222222222222,\"#7201a8\"],[0.3333333333333333,\"#9c179e\"],[0.4444444444444444,\"#bd3786\"],[0.5555555555555556,\"#d8576b\"],[0.6666666666666666,\"#ed7953\"],[0.7777777777777778,\"#fb9f3a\"],[0.8888888888888888,\"#fdca26\"],[1.0,\"#f0f921\"]]}],\"heatmap\":[{\"type\":\"heatmap\",\"colorbar\":{\"outlinewidth\":0,\"ticks\":\"\"},\"colorscale\":[[0.0,\"#0d0887\"],[0.1111111111111111,\"#46039f\"],[0.2222222222222222,\"#7201a8\"],[0.3333333333333333,\"#9c179e\"],[0.4444444444444444,\"#bd3786\"],[0.5555555555555556,\"#d8576b\"],[0.6666666666666666,\"#ed7953\"],[0.7777777777777778,\"#fb9f3a\"],[0.8888888888888888,\"#fdca26\"],[1.0,\"#f0f921\"]]}],\"heatmapgl\":[{\"type\":\"heatmapgl\",\"colorbar\":{\"outlinewidth\":0,\"ticks\":\"\"},\"colorscale\":[[0.0,\"#0d0887\"],[0.1111111111111111,\"#46039f\"],[0.2222222222222222,\"#7201a8\"],[0.3333333333333333,\"#9c179e\"],[0.4444444444444444,\"#bd3786\"],[0.5555555555555556,\"#d8576b\"],[0.6666666666666666,\"#ed7953\"],[0.7777777777777778,\"#fb9f3a\"],[0.8888888888888888,\"#fdca26\"],[1.0,\"#f0f921\"]]}],\"contourcarpet\":[{\"type\":\"contourcarpet\",\"colorbar\":{\"outlinewidth\":0,\"ticks\":\"\"}}],\"contour\":[{\"type\":\"contour\",\"colorbar\":{\"outlinewidth\":0,\"ticks\":\"\"},\"colorscale\":[[0.0,\"#0d0887\"],[0.1111111111111111,\"#46039f\"],[0.2222222222222222,\"#7201a8\"],[0.3333333333333333,\"#9c179e\"],[0.4444444444444444,\"#bd3786\"],[0.5555555555555556,\"#d8576b\"],[0.6666666666666666,\"#ed7953\"],[0.7777777777777778,\"#fb9f3a\"],[0.8888888888888888,\"#fdca26\"],[1.0,\"#f0f921\"]]}],\"surface\":[{\"type\":\"surface\",\"colorbar\":{\"outlinewidth\":0,\"ticks\":\"\"},\"colorscale\":[[0.0,\"#0d0887\"],[0.1111111111111111,\"#46039f\"],[0.2222222222222222,\"#7201a8\"],[0.3333333333333333,\"#9c179e\"],[0.4444444444444444,\"#bd3786\"],[0.5555555555555556,\"#d8576b\"],[0.6666666666666666,\"#ed7953\"],[0.7777777777777778,\"#fb9f3a\"],[0.8888888888888888,\"#fdca26\"],[1.0,\"#f0f921\"]]}],\"mesh3d\":[{\"type\":\"mesh3d\",\"colorbar\":{\"outlinewidth\":0,\"ticks\":\"\"}}],\"scatter\":[{\"fillpattern\":{\"fillmode\":\"overlay\",\"size\":10,\"solidity\":0.2},\"type\":\"scatter\"}],\"parcoords\":[{\"type\":\"parcoords\",\"line\":{\"colorbar\":{\"outlinewidth\":0,\"ticks\":\"\"}}}],\"scatterpolargl\":[{\"type\":\"scatterpolargl\",\"marker\":{\"colorbar\":{\"outlinewidth\":0,\"ticks\":\"\"}}}],\"bar\":[{\"error_x\":{\"color\":\"#2a3f5f\"},\"error_y\":{\"color\":\"#2a3f5f\"},\"marker\":{\"line\":{\"color\":\"#E5ECF6\",\"width\":0.5},\"pattern\":{\"fillmode\":\"overlay\",\"size\":10,\"solidity\":0.2}},\"type\":\"bar\"}],\"scattergeo\":[{\"type\":\"scattergeo\",\"marker\":{\"colorbar\":{\"outlinewidth\":0,\"ticks\":\"\"}}}],\"scatterpolar\":[{\"type\":\"scatterpolar\",\"marker\":{\"colorbar\":{\"outlinewidth\":0,\"ticks\":\"\"}}}],\"histogram\":[{\"marker\":{\"pattern\":{\"fillmode\":\"overlay\",\"size\":10,\"solidity\":0.2}},\"type\":\"histogram\"}],\"scattergl\":[{\"type\":\"scattergl\",\"marker\":{\"colorbar\":{\"outlinewidth\":0,\"ticks\":\"\"}}}],\"scatter3d\":[{\"type\":\"scatter3d\",\"line\":{\"colorbar\":{\"outlinewidth\":0,\"ticks\":\"\"}},\"marker\":{\"colorbar\":{\"outlinewidth\":0,\"ticks\":\"\"}}}],\"scattermapbox\":[{\"type\":\"scattermapbox\",\"marker\":{\"colorbar\":{\"outlinewidth\":0,\"ticks\":\"\"}}}],\"scatterternary\":[{\"type\":\"scatterternary\",\"marker\":{\"colorbar\":{\"outlinewidth\":0,\"ticks\":\"\"}}}],\"scattercarpet\":[{\"type\":\"scattercarpet\",\"marker\":{\"colorbar\":{\"outlinewidth\":0,\"ticks\":\"\"}}}],\"carpet\":[{\"aaxis\":{\"endlinecolor\":\"#2a3f5f\",\"gridcolor\":\"white\",\"linecolor\":\"white\",\"minorgridcolor\":\"white\",\"startlinecolor\":\"#2a3f5f\"},\"baxis\":{\"endlinecolor\":\"#2a3f5f\",\"gridcolor\":\"white\",\"linecolor\":\"white\",\"minorgridcolor\":\"white\",\"startlinecolor\":\"#2a3f5f\"},\"type\":\"carpet\"}],\"table\":[{\"cells\":{\"fill\":{\"color\":\"#EBF0F8\"},\"line\":{\"color\":\"white\"}},\"header\":{\"fill\":{\"color\":\"#C8D4E3\"},\"line\":{\"color\":\"white\"}},\"type\":\"table\"}],\"barpolar\":[{\"marker\":{\"line\":{\"color\":\"#E5ECF6\",\"width\":0.5},\"pattern\":{\"fillmode\":\"overlay\",\"size\":10,\"solidity\":0.2}},\"type\":\"barpolar\"}],\"pie\":[{\"automargin\":true,\"type\":\"pie\"}]},\"layout\":{\"autotypenumbers\":\"strict\",\"colorway\":[\"#636efa\",\"#EF553B\",\"#00cc96\",\"#ab63fa\",\"#FFA15A\",\"#19d3f3\",\"#FF6692\",\"#B6E880\",\"#FF97FF\",\"#FECB52\"],\"font\":{\"color\":\"#2a3f5f\"},\"hovermode\":\"closest\",\"hoverlabel\":{\"align\":\"left\"},\"paper_bgcolor\":\"white\",\"plot_bgcolor\":\"#E5ECF6\",\"polar\":{\"bgcolor\":\"#E5ECF6\",\"angularaxis\":{\"gridcolor\":\"white\",\"linecolor\":\"white\",\"ticks\":\"\"},\"radialaxis\":{\"gridcolor\":\"white\",\"linecolor\":\"white\",\"ticks\":\"\"}},\"ternary\":{\"bgcolor\":\"#E5ECF6\",\"aaxis\":{\"gridcolor\":\"white\",\"linecolor\":\"white\",\"ticks\":\"\"},\"baxis\":{\"gridcolor\":\"white\",\"linecolor\":\"white\",\"ticks\":\"\"},\"caxis\":{\"gridcolor\":\"white\",\"linecolor\":\"white\",\"ticks\":\"\"}},\"coloraxis\":{\"colorbar\":{\"outlinewidth\":0,\"ticks\":\"\"}},\"colorscale\":{\"sequential\":[[0.0,\"#0d0887\"],[0.1111111111111111,\"#46039f\"],[0.2222222222222222,\"#7201a8\"],[0.3333333333333333,\"#9c179e\"],[0.4444444444444444,\"#bd3786\"],[0.5555555555555556,\"#d8576b\"],[0.6666666666666666,\"#ed7953\"],[0.7777777777777778,\"#fb9f3a\"],[0.8888888888888888,\"#fdca26\"],[1.0,\"#f0f921\"]],\"sequentialminus\":[[0.0,\"#0d0887\"],[0.1111111111111111,\"#46039f\"],[0.2222222222222222,\"#7201a8\"],[0.3333333333333333,\"#9c179e\"],[0.4444444444444444,\"#bd3786\"],[0.5555555555555556,\"#d8576b\"],[0.6666666666666666,\"#ed7953\"],[0.7777777777777778,\"#fb9f3a\"],[0.8888888888888888,\"#fdca26\"],[1.0,\"#f0f921\"]],\"diverging\":[[0,\"#8e0152\"],[0.1,\"#c51b7d\"],[0.2,\"#de77ae\"],[0.3,\"#f1b6da\"],[0.4,\"#fde0ef\"],[0.5,\"#f7f7f7\"],[0.6,\"#e6f5d0\"],[0.7,\"#b8e186\"],[0.8,\"#7fbc41\"],[0.9,\"#4d9221\"],[1,\"#276419\"]]},\"xaxis\":{\"gridcolor\":\"white\",\"linecolor\":\"white\",\"ticks\":\"\",\"title\":{\"standoff\":15},\"zerolinecolor\":\"white\",\"automargin\":true,\"zerolinewidth\":2},\"yaxis\":{\"gridcolor\":\"white\",\"linecolor\":\"white\",\"ticks\":\"\",\"title\":{\"standoff\":15},\"zerolinecolor\":\"white\",\"automargin\":true,\"zerolinewidth\":2},\"scene\":{\"xaxis\":{\"backgroundcolor\":\"#E5ECF6\",\"gridcolor\":\"white\",\"linecolor\":\"white\",\"showbackground\":true,\"ticks\":\"\",\"zerolinecolor\":\"white\",\"gridwidth\":2},\"yaxis\":{\"backgroundcolor\":\"#E5ECF6\",\"gridcolor\":\"white\",\"linecolor\":\"white\",\"showbackground\":true,\"ticks\":\"\",\"zerolinecolor\":\"white\",\"gridwidth\":2},\"zaxis\":{\"backgroundcolor\":\"#E5ECF6\",\"gridcolor\":\"white\",\"linecolor\":\"white\",\"showbackground\":true,\"ticks\":\"\",\"zerolinecolor\":\"white\",\"gridwidth\":2}},\"shapedefaults\":{\"line\":{\"color\":\"#2a3f5f\"}},\"annotationdefaults\":{\"arrowcolor\":\"#2a3f5f\",\"arrowhead\":0,\"arrowwidth\":1},\"geo\":{\"bgcolor\":\"white\",\"landcolor\":\"#E5ECF6\",\"subunitcolor\":\"white\",\"showland\":true,\"showlakes\":true,\"lakecolor\":\"white\"},\"title\":{\"x\":0.05},\"mapbox\":{\"style\":\"light\"}}},\"scene\":{\"domain\":{\"x\":[0.0,1.0],\"y\":[0.0,1.0]},\"xaxis\":{\"title\":{\"text\":\"x\"}},\"yaxis\":{\"title\":{\"text\":\"y\"}},\"zaxis\":{\"title\":{\"text\":\"z\"}}},\"legend\":{\"tracegroupgap\":0},\"margin\":{\"t\":60}},                        {\"responsive\": true}                    ).then(function(){\n",
       "                            \n",
       "var gd = document.getElementById('7c14650e-837c-42c2-9243-12af401319cd');\n",
       "var x = new MutationObserver(function (mutations, observer) {{\n",
       "        var display = window.getComputedStyle(gd).display;\n",
       "        if (!display || display === 'none') {{\n",
       "            console.log([gd, 'removed!']);\n",
       "            Plotly.purge(gd);\n",
       "            observer.disconnect();\n",
       "        }}\n",
       "}});\n",
       "\n",
       "// Listen for the removal of the full notebook cells\n",
       "var notebookContainer = gd.closest('#notebook-container');\n",
       "if (notebookContainer) {{\n",
       "    x.observe(notebookContainer, {childList: true});\n",
       "}}\n",
       "\n",
       "// Listen for the clearing of the current output cell\n",
       "var outputEl = gd.closest('.output');\n",
       "if (outputEl) {{\n",
       "    x.observe(outputEl, {childList: true});\n",
       "}}\n",
       "\n",
       "                        })                };                });            </script>        </div>"
      ]
     },
     "metadata": {},
     "output_type": "display_data"
    }
   ],
   "source": [
    "px.scatter_3d(x=list(X[:,0]), y=list(X[:, 1]), z=list(Y_[:,0]))"
   ]
  },
  {
   "cell_type": "code",
   "execution_count": null,
   "metadata": {},
   "outputs": [],
   "source": [
    "# We can not feed time series data into machine learning model "
   ]
  },
  {
   "cell_type": "code",
   "execution_count": 276,
   "metadata": {},
   "outputs": [],
   "source": [
    "class MLP:\n",
    "    # I am building a 3 layer (2 hidden + 1 output layer) neural network\n",
    "    def __init__(self):\n",
    "        ## we need to initalize weights and biases of each layer \n",
    "        model = {}\n",
    "        \n",
    "        model['W1'] = np.random.rand(input_neurons, hidden_neurons[0])\n",
    "        model['b1'] = np.zeros((1, hidden_neurons[0]))\n",
    "        \n",
    "        model['W2'] = np.random.rand(hidden_neurons[0], hidden_neurons[1])\n",
    "        model['b2'] = np.zeros((1, hidden_neurons[1]))\n",
    "        \n",
    "        model['W3'] = np.random()"
   ]
  },
  {
   "cell_type": "markdown",
   "metadata": {},
   "source": [
    "#### time series analysis - car sales forecast"
   ]
  },
  {
   "cell_type": "code",
   "execution_count": 277,
   "metadata": {},
   "outputs": [],
   "source": [
    "from statsmodels.graphics.tsaplots import plot_acf, plot_pacf"
   ]
  },
  {
   "cell_type": "code",
   "execution_count": null,
   "metadata": {},
   "outputs": [],
   "source": [
    "from pandas.plotting import register_matplotlib_converters\n",
    "register_matplotlib_converters()"
   ]
  },
  {
   "cell_type": "code",
   "execution_count": 282,
   "metadata": {},
   "outputs": [
    {
     "name": "stdout",
     "output_type": "stream",
     "text": [
      "<class 'pandas.core.frame.DataFrame'>\n",
      "RangeIndex: 36 entries, 0 to 35\n",
      "Data columns (total 2 columns):\n",
      " #   Column  Non-Null Count  Dtype         \n",
      "---  ------  --------------  -----         \n",
      " 0   Month   36 non-null     datetime64[ns]\n",
      " 1   Sales   36 non-null     int64         \n",
      "dtypes: datetime64[ns](1), int64(1)\n",
      "memory usage: 704.0 bytes\n"
     ]
    }
   ],
   "source": [
    "df_dataset.info()"
   ]
  },
  {
   "cell_type": "code",
   "execution_count": 284,
   "metadata": {},
   "outputs": [
    {
     "data": {
      "image/png": "[encoded data removed]",
      "text/plain": [
       "<Figure size 720x432 with 1 Axes>"
      ]
     },
     "metadata": {
      "needs_background": "light"
     },
     "output_type": "display_data"
    }
   ],
   "source": [
    "plt.figure(figsize=(10, 6))\n",
    "plt.plot(df_dataset.Month, df_dataset.Sales)\n",
    "plt.show()"
   ]
  },
  {
   "cell_type": "code",
   "execution_count": 287,
   "metadata": {},
   "outputs": [
    {
     "data": {
      "image/png": "[encoded data removed]",
      "text/plain": [
       "<Figure size 432x288 with 1 Axes>"
      ]
     },
     "metadata": {
      "needs_background": "light"
     },
     "output_type": "display_data"
    }
   ],
   "source": [
    "acf_plot = plot_acf(df_dataset.Sales, lags=30)"
   ]
  },
  {
   "cell_type": "markdown",
   "metadata": {},
   "source": [
    "###### since the autocorrelation does not show decalying behaviour (decreasing value of correlation over lag), \n",
    "###### we are likely not dealing with Auto Regressive process"
   ]
  },
  {
   "cell_type": "code",
   "execution_count": 295,
   "metadata": {},
   "outputs": [
    {
     "data": {
      "image/png": "[encoded data removed]",
      "text/plain": [
       "<Figure size 432x288 with 1 Axes>"
      ]
     },
     "metadata": {
      "needs_background": "light"
     },
     "output_type": "display_data"
    }
   ],
   "source": [
    "# let plot pacf for more confidence\n",
    "pacf_plot = plot_pacf(df_dataset.Sales, lags = 16)"
   ]
  },
  {
   "cell_type": "markdown",
   "metadata": {},
   "source": [
    "###### based on pacf , we can (and should) start with auto-regressive model with lags 1, 2, 12, 15, 16 (those correlation are high)"
   ]
  },
  {
   "cell_type": "code",
   "execution_count": 300,
   "metadata": {},
   "outputs": [
    {
     "data": {
      "text/plain": [
       "0     266\n",
       "1     146\n",
       "2     183\n",
       "3     119\n",
       "4     180\n",
       "5     169\n",
       "6     232\n",
       "7     225\n",
       "8     193\n",
       "9     123\n",
       "10    337\n",
       "11    186\n",
       "12    194\n",
       "13    150\n",
       "14    210\n",
       "15    273\n",
       "16    191\n",
       "17    287\n",
       "18    226\n",
       "19    304\n",
       "20    290\n",
       "21    422\n",
       "22    265\n",
       "23    342\n",
       "24    340\n",
       "25    440\n",
       "26    316\n",
       "27    439\n",
       "28    401\n",
       "29    390\n",
       "30    490\n",
       "31    408\n",
       "32    490\n",
       "33    420\n",
       "34    520\n",
       "Name: Sales, dtype: int64"
      ]
     },
     "execution_count": 300,
     "metadata": {},
     "output_type": "execute_result"
    }
   ],
   "source": [
    "df_dataset.Sales[:-1]"
   ]
  },
  {
   "cell_type": "code",
   "execution_count": null,
   "metadata": {},
   "outputs": [],
   "source": [
    "    "
   ]
  }
 ],
 "metadata": {
  "kernelspec": {
   "display_name": "Python 3",
   "language": "python",
   "name": "python3"
  },
  "language_info": {
   "codemirror_mode": {
    "name": "ipython",
    "version": 3
   },
   "file_extension": ".py",
   "mimetype": "text/x-python",
   "name": "python",
   "nbconvert_exporter": "python",
   "pygments_lexer": "ipython3",
   "version": "3.8.5"
  }
 },
 "nbformat": 4,
 "nbformat_minor": 4
}
