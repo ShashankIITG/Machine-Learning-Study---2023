{
 "cells": [
  {
   "cell_type": "code",
   "execution_count": 3,
   "metadata": {},
   "outputs": [],
   "source": [
    "import numpy as np\n",
    "import pandas as pd\n",
    "import matplotlib.pyplot as plt\n",
    "import time\n",
    "from sklearn.datasets import make_regression"
   ]
  },
  {
   "cell_type": "code",
   "execution_count": 4,
   "metadata": {},
   "outputs": [],
   "source": [
    "X, Y = make_regression(n_samples=10000, n_features=20, n_informative=20, noise=10, random_state=1)"
   ]
  },
  {
   "cell_type": "code",
   "execution_count": 5,
   "metadata": {},
   "outputs": [],
   "source": [
    "## Since mean is not 0 and std is not 1 we need to normalize the data\n",
    "u = np.mean(X, axis = 0)\n",
    "std = np.std(X, axis = 0)\n",
    "\n",
    "X = (X-u)/std"
   ]
  },
  {
   "cell_type": "code",
   "execution_count": 6,
   "metadata": {},
   "outputs": [],
   "source": [
    "## adding X0 for theta0 to the X array\n",
    "X0 = np.ones((X.shape[0], 1))\n",
    "X = np.hstack((X0, X))"
   ]
  },
  {
   "cell_type": "code",
   "execution_count": 7,
   "metadata": {},
   "outputs": [],
   "source": [
    "def hypothesis(X, theta):\n",
    "    return np.dot(X, theta)"
   ]
  },
  {
   "cell_type": "code",
   "execution_count": 8,
   "metadata": {},
   "outputs": [],
   "source": [
    "def error(X, Y, theta):\n",
    "    e = 0.0\n",
    "    m = X.shape[0]\n",
    "    Y_ = hypothesis(X, theta)\n",
    "    e = np.sum((Y - Y_)**2)\n",
    "    \n",
    "    return e/m"
   ]
  },
  {
   "cell_type": "code",
   "execution_count": 9,
   "metadata": {},
   "outputs": [],
   "source": [
    "def gradient(X, Y, theta):\n",
    "    m = X.shape[0]\n",
    "    Y_ = hypothesis(X, theta)\n",
    "    grad = np.dot(X.T, (Y_ - Y))\n",
    "    \n",
    "    return grad/m"
   ]
  },
  {
   "cell_type": "code",
   "execution_count": 37,
   "metadata": {},
   "outputs": [],
   "source": [
    "def gradientDescent(X, Y, learning_rate = 0.1, max_epochs = 300):\n",
    "    m = X.shape[0]\n",
    "    n = X.shape[1]\n",
    "    \n",
    "    theta = np.zeros((n,))\n",
    "    theta_list = []\n",
    "    error_list = []\n",
    "    \n",
    "    for i in range(max_epochs):\n",
    "        grad = gradient(X, Y, theta)\n",
    "        theta = theta - (learning_rate*grad)\n",
    "        theta_list.append(theta)\n",
    "        \n",
    "        e = error(X, Y, theta)\n",
    "        error_list.append(e)\n",
    "        \n",
    "    return theta_list, error_list"
   ]
  },
  {
   "cell_type": "code",
   "execution_count": null,
   "metadata": {},
   "outputs": [],
   "source": [
    "def batchGradientDescent(X, Y, batch_size = 200, learning_rate = 0.01, max_epochs = 100):\n",
    "    m = X.shape[0]\n",
    "    n = X.shape[1]\n",
    "    \n",
    "    theta = np.zeros((n,))\n",
    "    theta_list = []\n",
    "    error_list = []\n",
    "    \n",
    "    ## stacking X and Y to shuffle the data \n",
    "    data = np.hstack((X, Y.reshape(-1,1)))\n",
    "    \n",
    "    for i in range(max_epochs):\n",
    "        np.random.shuffle(data)\n",
    "        total_batches = m//batch_size\n",
    "        \n",
    "        for j in range()\n",
    "            grad = gradient(X, Y, theta)\n",
    "            theta = theta - (learning_rate*grad)\n",
    "            theta_list.append(theta)\n",
    "\n",
    "            e = error(X, Y, theta)\n",
    "            error_list.append(e)\n",
    "        \n",
    "    return theta_list, error_list"
   ]
  },
  {
   "cell_type": "code",
   "execution_count": 55,
   "metadata": {},
   "outputs": [],
   "source": [
    "theta_list, error_list = gradientDescent(X, Y, max_epochs = 1000)"
   ]
  },
  {
   "cell_type": "code",
   "execution_count": 56,
   "metadata": {},
   "outputs": [
    {
     "data": {
      "image/png": "[encoded data removed]",
      "text/plain": [
       "<Figure size 576x396 with 1 Axes>"
      ]
     },
     "metadata": {},
     "output_type": "display_data"
    }
   ],
   "source": [
    "plt.style.use(\"seaborn\")\n",
    "plt.plot(error_list)\n",
    "plt.show()"
   ]
  },
  {
   "cell_type": "code",
   "execution_count": 57,
   "metadata": {},
   "outputs": [],
   "source": [
    "Y_ = hypothesis(X, theta_list[999])"
   ]
  },
  {
   "cell_type": "code",
   "execution_count": 58,
   "metadata": {},
   "outputs": [],
   "source": [
    "def r2_score(Y_, Y):\n",
    "    num = np.sum((Y_ - Y)**2)\n",
    "    denomi = np.sum((Y.mean() - Y)**2)\n",
    "    \n",
    "    score = 1 - num/denomi\n",
    "    \n",
    "    return score*100"
   ]
  },
  {
   "cell_type": "code",
   "execution_count": 59,
   "metadata": {},
   "outputs": [
    {
     "data": {
      "text/plain": [
       "74.06426389943455"
      ]
     },
     "execution_count": 59,
     "metadata": {},
     "output_type": "execute_result"
    }
   ],
   "source": [
    "r2_score(Y_, Y)"
   ]
  },
  {
   "cell_type": "code",
   "execution_count": null,
   "metadata": {},
   "outputs": [],
   "source": []
  }
 ],
 "metadata": {
  "kernelspec": {
   "display_name": "Python 3",
   "language": "python",
   "name": "python3"
  },
  "language_info": {
   "codemirror_mode": {
    "name": "ipython",
    "version": 3
   },
   "file_extension": ".py",
   "mimetype": "text/x-python",
   "name": "python",
   "nbconvert_exporter": "python",
   "pygments_lexer": "ipython3",
   "version": "3.8.5"
  }
 },
 "nbformat": 4,
 "nbformat_minor": 4
}
