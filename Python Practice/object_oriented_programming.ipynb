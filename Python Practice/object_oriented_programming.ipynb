{
 "cells": [
  {
   "cell_type": "markdown",
   "metadata": {},
   "source": [
    "# OOP\n",
    "- generality to specificity"
   ]
  },
  {
   "cell_type": "markdown",
   "metadata": {},
   "source": [
    "### Object"
   ]
  },
  {
   "cell_type": "code",
   "execution_count": 1,
   "metadata": {},
   "outputs": [],
   "source": [
    "# python built-in class can also use object literal for initializing variable\n",
    "L = [1, 2, 3]"
   ]
  },
  {
   "cell_type": "code",
   "execution_count": 3,
   "metadata": {},
   "outputs": [
    {
     "name": "stdout",
     "output_type": "stream",
     "text": [
      "<class 'list'>\n"
     ]
    }
   ],
   "source": [
    "print(type(L))"
   ]
  },
  {
   "cell_type": "markdown",
   "metadata": {},
   "source": [
    "### Class\n",
    "- python have various buit-in classes like list, tupple, int, str"
   ]
  },
  {
   "cell_type": "markdown",
   "metadata": {},
   "source": [
    " - constructor - a method that automatically execute when create an object of class\n",
    " - constructor is one of a \"magic method\" or \"dunder method\" in python\n",
    " - constructor can be used to define configuration related to task of application, examples:\n",
    "\n",
    "     - connecting to internet\n",
    "     - accessing gps"
   ]
  },
  {
   "cell_type": "markdown",
   "metadata": {},
   "source": [
    "- in oop, class has data and function. only object of class can access it.\n",
    "- method can't directly use other methods of the class\n",
    "\n",
    "for this reasons, we use self before every data and function/method of class"
   ]
  },
  {
   "cell_type": "code",
   "execution_count": 93,
   "metadata": {},
   "outputs": [],
   "source": [
    "# a class that handle fraction datatype\n",
    "class Fraction:\n",
    "    # In python, all variable of the class are initialized inside __init__ method\n",
    "    def __init__(self, num, deno): # constructor in python\n",
    "        ## __num and __deno indicates private variable/attributes\n",
    "        self.__num = num\n",
    "        self.__deno = deno\n",
    "        \n",
    "    def __str__(self):\n",
    "        #return \"%d/%d\", self.__num %self.__deno\n",
    "        return \"{}/{}\".format(self.__num, self.__deno)\n",
    "    \n",
    "    def simplify(self, num, deno):\n",
    "        if num < deno: short = num\n",
    "        else: short = deno\n",
    "        \n",
    "        if short <= 1:\n",
    "            return num, deno\n",
    "        \n",
    "        for i in range(2, short):\n",
    "            if num % i == 0 and deno % i == 0:\n",
    "                num = num / i\n",
    "                deno = deno / i\n",
    "                \n",
    "        return int(num), int(deno)\n",
    "    \n",
    "    def __add__(self, other): # x + y -> x is self, y is other\n",
    "        temp_num = self.__num * other.__deno + self.__deno * other.__num\n",
    "        temp_deno = self.__deno * other.__deno\n",
    "        \n",
    "        print(\"default fraction: {}/{}\".format(temp_num, temp_deno))\n",
    "        \n",
    "        temp_num, temp_deno = self.simplify(temp_num, temp_deno)\n",
    "        \n",
    "        return \"{}/{}\".format(temp_num, temp_deno)\n",
    "    \n",
    "    def __sub__(self, other):\n",
    "        temp_num = self.__num * other.__deno - self.__deno * other.__num\n",
    "        temp_deno = self.__deno * other.__deno\n",
    "        \n",
    "        print(\"default fraction: {}/{}\".format(temp_num, temp_deno))\n",
    "        \n",
    "        temp_num, temp_deno = self.simplify(temp_num, temp_deno)\n",
    "        \n",
    "        return \"{}/{}\".format(temp_num, temp_deno)\n",
    "    \n",
    "    def __mul__(self, other):\n",
    "        temp_num = self.__num * other.__num\n",
    "        temp_deno = self.__deno * other.__deno\n",
    "        \n",
    "        print(\"default fraction: {}/{}\".format(temp_num, temp_deno))\n",
    "        \n",
    "        temp_num, temp_deno = self.simplify(temp_num, temp_deno)\n",
    "        \n",
    "        return \"{}/{}\".format(temp_num, temp_deno)\n",
    "    \n",
    "    def __truediv__(self, other):\n",
    "        temp_num = self.__num * other.__deno\n",
    "        temp_deno = self.__deno * other.__num\n",
    "        \n",
    "        print(\"default fraction: {}/{}\".format(temp_num, temp_deno))\n",
    "        \n",
    "        temp_num, temp_deno = self.simplify(temp_num, temp_deno)\n",
    "        \n",
    "        return \"{}/{}\".format(temp_num, temp_deno)"
   ]
  },
  {
   "cell_type": "code",
   "execution_count": 94,
   "metadata": {},
   "outputs": [],
   "source": [
    "f = Fraction(2, 3)"
   ]
  },
  {
   "cell_type": "code",
   "execution_count": 95,
   "metadata": {},
   "outputs": [
    {
     "name": "stdout",
     "output_type": "stream",
     "text": [
      "2/3\n"
     ]
    }
   ],
   "source": [
    "print(f)"
   ]
  },
  {
   "cell_type": "code",
   "execution_count": 96,
   "metadata": {},
   "outputs": [
    {
     "name": "stdout",
     "output_type": "stream",
     "text": [
      "default fraction: 29/28\n",
      "29/28\n"
     ]
    }
   ],
   "source": [
    "a = Fraction(2, 7)\n",
    "b = Fraction(3, 4)\n",
    "print(a + b)"
   ]
  },
  {
   "cell_type": "code",
   "execution_count": 101,
   "metadata": {},
   "outputs": [
    {
     "name": "stdout",
     "output_type": "stream",
     "text": [
      "default fraction: 38/24\n",
      "19/12\n",
      "default fraction: -2/24\n",
      "-2/24\n",
      "default fraction: 15/24\n",
      "5/8\n",
      "default fraction: 18/20\n",
      "9/10\n"
     ]
    }
   ],
   "source": [
    "a = Fraction(3, 4)\n",
    "b = Fraction(5, 6)\n",
    "\n",
    "print(a + b)\n",
    "print(a - b)\n",
    "print(a * b)\n",
    "print(a / b)"
   ]
  },
  {
   "cell_type": "markdown",
   "metadata": {},
   "source": [
    "### Encapsulation\n",
    "- syntax: __variablename (instance variable)\n",
    "- private: python prevent/hide attribute to be used outside class\n",
    "- get & set: getter (get function) and setter (set function) to read and write attribute outside class. \n",
    "- add functionality into getter and setter to prevent unwanted changes/access"
   ]
  },
  {
   "cell_type": "code",
   "execution_count": 104,
   "metadata": {},
   "outputs": [
    {
     "name": "stdout",
     "output_type": "stream",
     "text": [
      "2/3\n"
     ]
    }
   ],
   "source": [
    "print(f)"
   ]
  },
  {
   "cell_type": "code",
   "execution_count": 102,
   "metadata": {
    "scrolled": true
   },
   "outputs": [
    {
     "ename": "AttributeError",
     "evalue": "'Fraction' object has no attribute '__num'",
     "output_type": "error",
     "traceback": [
      "\u001b[1;31m---------------------------------------------------------------------------\u001b[0m",
      "\u001b[1;31mAttributeError\u001b[0m                            Traceback (most recent call last)",
      "\u001b[1;32m<ipython-input-102-4f3683af11be>\u001b[0m in \u001b[0;36m<module>\u001b[1;34m\u001b[0m\n\u001b[1;32m----> 1\u001b[1;33m \u001b[0mf\u001b[0m\u001b[1;33m.\u001b[0m\u001b[0m__num\u001b[0m\u001b[1;33m\u001b[0m\u001b[1;33m\u001b[0m\u001b[0m\n\u001b[0m",
      "\u001b[1;31mAttributeError\u001b[0m: 'Fraction' object has no attribute '__num'"
     ]
    }
   ],
   "source": [
    "f.__num"
   ]
  },
  {
   "cell_type": "code",
   "execution_count": 103,
   "metadata": {},
   "outputs": [
    {
     "data": {
      "text/plain": [
       "2"
      ]
     },
     "execution_count": 103,
     "metadata": {},
     "output_type": "execute_result"
    }
   ],
   "source": [
    "f._Fraction__num"
   ]
  },
  {
   "cell_type": "markdown",
   "metadata": {},
   "source": [
    "### Objects\n",
    "- object of class are mutable\n",
    "- passed by reference in function\n",
    "- if object is mutable, value of original object can change when passed as reference"
   ]
  },
  {
   "cell_type": "code",
   "execution_count": 105,
   "metadata": {},
   "outputs": [],
   "source": [
    "def change(t1):\n",
    "    print(id(t1))\n",
    "    t1 = t1 + (5, 6)\n",
    "    print(\"updated tupple id \", id(t1))"
   ]
  },
  {
   "cell_type": "code",
   "execution_count": 107,
   "metadata": {},
   "outputs": [
    {
     "name": "stdout",
     "output_type": "stream",
     "text": [
      "1800388340528\n",
      "1800388340528\n",
      "updated tupple id  1800395088608\n"
     ]
    }
   ],
   "source": [
    "tpl = (1, 2, 3, 4)\n",
    "print(id(tpl))\n",
    "\n",
    "change(tpl)"
   ]
  },
  {
   "cell_type": "markdown",
   "metadata": {},
   "source": [
    "### Static/class variable\n",
    "- class variable, is a variable whose value is same for all object in a class\n",
    "- In python, class variable are kept above constructor method "
   ]
  },
  {
   "cell_type": "code",
   "execution_count": 141,
   "metadata": {},
   "outputs": [],
   "source": [
    "class EnrollUser:\n",
    "    # static/class variable\n",
    "    total_user = 0\n",
    "    \n",
    "    def __init__(self, name='username'):\n",
    "        self.name = name\n",
    "        \n",
    "        EnrollUser.total_user += 1        "
   ]
  },
  {
   "cell_type": "code",
   "execution_count": 142,
   "metadata": {},
   "outputs": [
    {
     "data": {
      "text/plain": [
       "1"
      ]
     },
     "execution_count": 142,
     "metadata": {},
     "output_type": "execute_result"
    }
   ],
   "source": [
    "a = EnrollUser()\n",
    "a.total_user"
   ]
  },
  {
   "cell_type": "code",
   "execution_count": 143,
   "metadata": {},
   "outputs": [
    {
     "data": {
      "text/plain": [
       "2"
      ]
     },
     "execution_count": 143,
     "metadata": {},
     "output_type": "execute_result"
    }
   ],
   "source": [
    "b = EnrollUser()\n",
    "b.total_user"
   ]
  },
  {
   "cell_type": "code",
   "execution_count": 144,
   "metadata": {},
   "outputs": [
    {
     "data": {
      "text/plain": [
       "3"
      ]
     },
     "execution_count": 144,
     "metadata": {},
     "output_type": "execute_result"
    }
   ],
   "source": [
    "c = EnrollUser()\n",
    "c.total_user"
   ]
  },
  {
   "cell_type": "code",
   "execution_count": 145,
   "metadata": {},
   "outputs": [
    {
     "data": {
      "text/plain": [
       "3"
      ]
     },
     "execution_count": 145,
     "metadata": {},
     "output_type": "execute_result"
    }
   ],
   "source": [
    "EnrollUser.total_user"
   ]
  },
  {
   "cell_type": "code",
   "execution_count": 228,
   "metadata": {},
   "outputs": [],
   "source": [
    "class AddUser:\n",
    "    # static/class variable\n",
    "    __total_user = 0\n",
    "    \n",
    "    def __init__(self, name='username'):\n",
    "        self.name = name\n",
    "        \n",
    "        AddUser.__total_user += 1 # this method is also not working with private class variable\n",
    "        \n",
    "    @staticmethod # indicate that method for which self object is not required\n",
    "    def get_total_user():\n",
    "        return AddUser.__total_user\n",
    "    \n",
    "    @staticmethod\n",
    "    def set_total_user(counts):\n",
    "        if type(counts) is (int or float):\n",
    "            AddUser.__total_user = int(counts)\n",
    "        else:\n",
    "            return \"invalid update: use int/float\""
   ]
  },
  {
   "cell_type": "code",
   "execution_count": 229,
   "metadata": {},
   "outputs": [
    {
     "data": {
      "text/plain": [
       "1"
      ]
     },
     "execution_count": 229,
     "metadata": {},
     "output_type": "execute_result"
    }
   ],
   "source": [
    "a = AddUser('Kat')\n",
    "a._AddUser__total_user"
   ]
  },
  {
   "cell_type": "code",
   "execution_count": 230,
   "metadata": {},
   "outputs": [
    {
     "data": {
      "text/plain": [
       "2"
      ]
     },
     "execution_count": 230,
     "metadata": {},
     "output_type": "execute_result"
    }
   ],
   "source": [
    "b = AddUser()\n",
    "b._AddUser__total_user"
   ]
  },
  {
   "cell_type": "code",
   "execution_count": 231,
   "metadata": {},
   "outputs": [
    {
     "ename": "AttributeError",
     "evalue": "type object 'AddUser' has no attribute '__total_user'",
     "output_type": "error",
     "traceback": [
      "\u001b[1;31m---------------------------------------------------------------------------\u001b[0m",
      "\u001b[1;31mAttributeError\u001b[0m                            Traceback (most recent call last)",
      "\u001b[1;32m<ipython-input-231-4f95bb23e504>\u001b[0m in \u001b[0;36m<module>\u001b[1;34m\u001b[0m\n\u001b[0;32m      1\u001b[0m \u001b[0mc\u001b[0m \u001b[1;33m=\u001b[0m \u001b[0mAddUser\u001b[0m\u001b[1;33m(\u001b[0m\u001b[1;34m'Kat'\u001b[0m\u001b[1;33m)\u001b[0m\u001b[1;33m\u001b[0m\u001b[1;33m\u001b[0m\u001b[0m\n\u001b[1;32m----> 2\u001b[1;33m \u001b[0mAddUser\u001b[0m\u001b[1;33m.\u001b[0m\u001b[0m__total_user\u001b[0m\u001b[1;33m\u001b[0m\u001b[1;33m\u001b[0m\u001b[0m\n\u001b[0m",
      "\u001b[1;31mAttributeError\u001b[0m: type object 'AddUser' has no attribute '__total_user'"
     ]
    }
   ],
   "source": [
    "c = AddUser('Kat')\n",
    "AddUser.__total_user"
   ]
  },
  {
   "cell_type": "code",
   "execution_count": 232,
   "metadata": {},
   "outputs": [
    {
     "data": {
      "text/plain": [
       "3"
      ]
     },
     "execution_count": 232,
     "metadata": {},
     "output_type": "execute_result"
    }
   ],
   "source": [
    "AddUser._AddUser__total_user"
   ]
  },
  {
   "cell_type": "code",
   "execution_count": 233,
   "metadata": {},
   "outputs": [
    {
     "data": {
      "text/plain": [
       "4"
      ]
     },
     "execution_count": 233,
     "metadata": {},
     "output_type": "execute_result"
    }
   ],
   "source": [
    "d = AddUser('Kat')\n",
    "AddUser._AddUser__total_user"
   ]
  },
  {
   "cell_type": "code",
   "execution_count": 234,
   "metadata": {},
   "outputs": [
    {
     "data": {
      "text/plain": [
       "5"
      ]
     },
     "execution_count": 234,
     "metadata": {},
     "output_type": "execute_result"
    }
   ],
   "source": [
    "e = AddUser()\n",
    "AddUser.get_total_user()"
   ]
  },
  {
   "cell_type": "code",
   "execution_count": 235,
   "metadata": {},
   "outputs": [],
   "source": [
    "AddUser.set_total_user(0)"
   ]
  },
  {
   "cell_type": "code",
   "execution_count": 236,
   "metadata": {},
   "outputs": [
    {
     "data": {
      "text/plain": [
       "0"
      ]
     },
     "execution_count": 236,
     "metadata": {},
     "output_type": "execute_result"
    }
   ],
   "source": [
    "AddUser._AddUser__total_user"
   ]
  },
  {
   "cell_type": "code",
   "execution_count": 237,
   "metadata": {},
   "outputs": [
    {
     "data": {
      "text/plain": [
       "0"
      ]
     },
     "execution_count": 237,
     "metadata": {},
     "output_type": "execute_result"
    }
   ],
   "source": [
    "AddUser.get_total_user()"
   ]
  },
  {
   "cell_type": "code",
   "execution_count": 238,
   "metadata": {},
   "outputs": [
    {
     "data": {
      "text/plain": [
       "'invalid update: use int/float'"
      ]
     },
     "execution_count": 238,
     "metadata": {},
     "output_type": "execute_result"
    }
   ],
   "source": [
    "AddUser.set_total_user(\"oa\")"
   ]
  },
  {
   "cell_type": "markdown",
   "metadata": {},
   "source": [
    "### Aggregation"
   ]
  },
  {
   "cell_type": "code",
   "execution_count": 286,
   "metadata": {},
   "outputs": [],
   "source": [
    "class Users:\n",
    "    def __init__(self, address=None, name=\"customer\", age=18):\n",
    "        self.username = name\n",
    "        self.age = age\n",
    "        self.address = address\n",
    "        \n",
    "    def __str__(self):\n",
    "        return \"{}, {}, {}\".format(self.username, self.age, self.address)"
   ]
  },
  {
   "cell_type": "code",
   "execution_count": 287,
   "metadata": {},
   "outputs": [],
   "source": [
    "u = Users('none')"
   ]
  },
  {
   "cell_type": "code",
   "execution_count": 288,
   "metadata": {},
   "outputs": [
    {
     "data": {
      "text/plain": [
       "'none'"
      ]
     },
     "execution_count": 288,
     "metadata": {},
     "output_type": "execute_result"
    }
   ],
   "source": [
    "u.address"
   ]
  },
  {
   "cell_type": "code",
   "execution_count": 289,
   "metadata": {},
   "outputs": [],
   "source": [
    "class Address:\n",
    "    def __init__(self, city='bhopal', state='MP'):\n",
    "        self.city = city\n",
    "        self.state = state\n",
    "        \n",
    "    def __str__(self):\n",
    "        return \"{}, {}\".format(self.city, self.state)"
   ]
  },
  {
   "cell_type": "code",
   "execution_count": 290,
   "metadata": {},
   "outputs": [],
   "source": [
    "aggregated_user = Users(Address(), \"try_aggregate\", 20)"
   ]
  },
  {
   "cell_type": "code",
   "execution_count": 291,
   "metadata": {},
   "outputs": [
    {
     "name": "stdout",
     "output_type": "stream",
     "text": [
      "try_aggregate 20 bhopal MP\n"
     ]
    }
   ],
   "source": [
    "print(aggregated_user.username, aggregated_user.age, aggregated_user.address.city, aggregated_user.address.state)"
   ]
  },
  {
   "cell_type": "code",
   "execution_count": 292,
   "metadata": {},
   "outputs": [
    {
     "name": "stdout",
     "output_type": "stream",
     "text": [
      "try_aggregate, 20, bhopal, MP\n"
     ]
    }
   ],
   "source": [
    "print(aggregated_user)"
   ]
  },
  {
   "cell_type": "markdown",
   "metadata": {},
   "source": [
    "### Inheritance\n",
    "- invoke parent class constructor, only when child class has no constructor\n",
    "- parent class private variable are also hidden to child class"
   ]
  },
  {
   "cell_type": "markdown",
   "metadata": {},
   "source": [
    "##### super()\n",
    "- can be used to access parent constructor and method\n",
    "- can't access parent attribute\n",
    "- works when used inside class e.g., `supper().__init__()`\n",
    "- doesn't work outside class e.g., `c.super().__init__()`, where c is an object of child class"
   ]
  },
  {
   "cell_type": "code",
   "execution_count": 313,
   "metadata": {},
   "outputs": [],
   "source": [
    "class InheritUser(Address):\n",
    "    def __init__(self, name='customer', age=25):\n",
    "        self.username = name\n",
    "        self.age = age\n",
    "        pass"
   ]
  },
  {
   "cell_type": "code",
   "execution_count": 318,
   "metadata": {},
   "outputs": [],
   "source": [
    "au = InheritUser()"
   ]
  },
  {
   "cell_type": "code",
   "execution_count": 319,
   "metadata": {},
   "outputs": [
    {
     "data": {
      "text/plain": [
       "'customer'"
      ]
     },
     "execution_count": 319,
     "metadata": {},
     "output_type": "execute_result"
    }
   ],
   "source": [
    "au.username"
   ]
  },
  {
   "cell_type": "code",
   "execution_count": 320,
   "metadata": {},
   "outputs": [
    {
     "ename": "AttributeError",
     "evalue": "'InheritUser' object has no attribute 'city'",
     "output_type": "error",
     "traceback": [
      "\u001b[1;31m---------------------------------------------------------------------------\u001b[0m",
      "\u001b[1;31mAttributeError\u001b[0m                            Traceback (most recent call last)",
      "\u001b[1;32m<ipython-input-320-d62055c5ff6a>\u001b[0m in \u001b[0;36m<module>\u001b[1;34m\u001b[0m\n\u001b[1;32m----> 1\u001b[1;33m \u001b[0mau\u001b[0m\u001b[1;33m.\u001b[0m\u001b[0mcity\u001b[0m\u001b[1;33m\u001b[0m\u001b[1;33m\u001b[0m\u001b[0m\n\u001b[0m",
      "\u001b[1;31mAttributeError\u001b[0m: 'InheritUser' object has no attribute 'city'"
     ]
    }
   ],
   "source": [
    "au.city"
   ]
  },
  {
   "cell_type": "code",
   "execution_count": 321,
   "metadata": {},
   "outputs": [],
   "source": [
    "class AdderUser(Address):\n",
    "    pass"
   ]
  },
  {
   "cell_type": "code",
   "execution_count": 322,
   "metadata": {},
   "outputs": [],
   "source": [
    "aa = AdderUser()"
   ]
  },
  {
   "cell_type": "code",
   "execution_count": 323,
   "metadata": {},
   "outputs": [
    {
     "data": {
      "text/plain": [
       "'bhopal'"
      ]
     },
     "execution_count": 323,
     "metadata": {},
     "output_type": "execute_result"
    }
   ],
   "source": [
    "aa.city"
   ]
  },
  {
   "cell_type": "code",
   "execution_count": 324,
   "metadata": {},
   "outputs": [
    {
     "data": {
      "text/plain": [
       "'MP'"
      ]
     },
     "execution_count": 324,
     "metadata": {},
     "output_type": "execute_result"
    }
   ],
   "source": [
    "aa.state"
   ]
  },
  {
   "cell_type": "code",
   "execution_count": 328,
   "metadata": {},
   "outputs": [],
   "source": [
    "class Parent:\n",
    "    def __init__(self):\n",
    "        self.__hidden = 0\n",
    "        self.name = 'parent'\n",
    "    \n",
    "class Child(Parent):\n",
    "    pass"
   ]
  },
  {
   "cell_type": "code",
   "execution_count": 329,
   "metadata": {},
   "outputs": [],
   "source": [
    "c = Child()"
   ]
  },
  {
   "cell_type": "code",
   "execution_count": 331,
   "metadata": {},
   "outputs": [
    {
     "data": {
      "text/plain": [
       "'parent'"
      ]
     },
     "execution_count": 331,
     "metadata": {},
     "output_type": "execute_result"
    }
   ],
   "source": [
    "c.name"
   ]
  },
  {
   "cell_type": "code",
   "execution_count": 334,
   "metadata": {},
   "outputs": [
    {
     "ename": "AttributeError",
     "evalue": "'Child' object has no attribute '__hidden'",
     "output_type": "error",
     "traceback": [
      "\u001b[1;31m---------------------------------------------------------------------------\u001b[0m",
      "\u001b[1;31mAttributeError\u001b[0m                            Traceback (most recent call last)",
      "\u001b[1;32m<ipython-input-334-a64f83eb31e5>\u001b[0m in \u001b[0;36m<module>\u001b[1;34m\u001b[0m\n\u001b[1;32m----> 1\u001b[1;33m \u001b[0mc\u001b[0m\u001b[1;33m.\u001b[0m\u001b[0m__hidden\u001b[0m\u001b[1;33m\u001b[0m\u001b[1;33m\u001b[0m\u001b[0m\n\u001b[0m",
      "\u001b[1;31mAttributeError\u001b[0m: 'Child' object has no attribute '__hidden'"
     ]
    }
   ],
   "source": [
    "c.__hidden"
   ]
  },
  {
   "cell_type": "code",
   "execution_count": 333,
   "metadata": {},
   "outputs": [
    {
     "data": {
      "text/plain": [
       "0"
      ]
     },
     "execution_count": 333,
     "metadata": {},
     "output_type": "execute_result"
    }
   ],
   "source": [
    "c._Parent__hidden"
   ]
  },
  {
   "cell_type": "code",
   "execution_count": 335,
   "metadata": {},
   "outputs": [],
   "source": [
    "p = Parent()"
   ]
  },
  {
   "cell_type": "code",
   "execution_count": 336,
   "metadata": {},
   "outputs": [
    {
     "data": {
      "text/plain": [
       "0"
      ]
     },
     "execution_count": 336,
     "metadata": {},
     "output_type": "execute_result"
    }
   ],
   "source": [
    "p._Parent__hidden"
   ]
  },
  {
   "cell_type": "code",
   "execution_count": 337,
   "metadata": {},
   "outputs": [],
   "source": [
    "class InheritUser(Address):\n",
    "    def __init__(self, name='customer', age=25):\n",
    "        self.username = name\n",
    "        self.age = age\n",
    "        super().__init__() # run parent (address) class constructor"
   ]
  },
  {
   "cell_type": "code",
   "execution_count": 338,
   "metadata": {},
   "outputs": [],
   "source": [
    "c = InheritUser()"
   ]
  },
  {
   "cell_type": "code",
   "execution_count": 339,
   "metadata": {},
   "outputs": [
    {
     "data": {
      "text/plain": [
       "'bhopal'"
      ]
     },
     "execution_count": 339,
     "metadata": {},
     "output_type": "execute_result"
    }
   ],
   "source": [
    "c.city"
   ]
  },
  {
   "cell_type": "markdown",
   "metadata": {},
   "source": [
    "### Exercise"
   ]
  },
  {
   "cell_type": "code",
   "execution_count": 340,
   "metadata": {},
   "outputs": [],
   "source": [
    "class A:\n",
    "    def m1(self):\n",
    "        return 20\n",
    "    \n",
    "class B(A):\n",
    "    def m1(self):\n",
    "        val = super().m1() + 30\n",
    "        return val\n",
    "    \n",
    "class C(B):\n",
    "    def m1(self):\n",
    "        val = self.m1() + 20\n",
    "        return val"
   ]
  },
  {
   "cell_type": "code",
   "execution_count": 341,
   "metadata": {},
   "outputs": [],
   "source": [
    "obj = C()"
   ]
  },
  {
   "cell_type": "code",
   "execution_count": 342,
   "metadata": {},
   "outputs": [
    {
     "ename": "RecursionError",
     "evalue": "maximum recursion depth exceeded",
     "output_type": "error",
     "traceback": [
      "\u001b[1;31m---------------------------------------------------------------------------\u001b[0m",
      "\u001b[1;31mRecursionError\u001b[0m                            Traceback (most recent call last)",
      "\u001b[1;32m<ipython-input-342-c870b36dca10>\u001b[0m in \u001b[0;36m<module>\u001b[1;34m\u001b[0m\n\u001b[1;32m----> 1\u001b[1;33m \u001b[0mprint\u001b[0m\u001b[1;33m(\u001b[0m\u001b[0mobj\u001b[0m\u001b[1;33m.\u001b[0m\u001b[0mm1\u001b[0m\u001b[1;33m(\u001b[0m\u001b[1;33m)\u001b[0m\u001b[1;33m)\u001b[0m\u001b[1;33m\u001b[0m\u001b[1;33m\u001b[0m\u001b[0m\n\u001b[0m",
      "\u001b[1;32m<ipython-input-340-72b3ffab5635>\u001b[0m in \u001b[0;36mm1\u001b[1;34m(self)\u001b[0m\n\u001b[0;32m     10\u001b[0m \u001b[1;32mclass\u001b[0m \u001b[0mC\u001b[0m\u001b[1;33m(\u001b[0m\u001b[0mB\u001b[0m\u001b[1;33m)\u001b[0m\u001b[1;33m:\u001b[0m\u001b[1;33m\u001b[0m\u001b[1;33m\u001b[0m\u001b[0m\n\u001b[0;32m     11\u001b[0m     \u001b[1;32mdef\u001b[0m \u001b[0mm1\u001b[0m\u001b[1;33m(\u001b[0m\u001b[0mself\u001b[0m\u001b[1;33m)\u001b[0m\u001b[1;33m:\u001b[0m\u001b[1;33m\u001b[0m\u001b[1;33m\u001b[0m\u001b[0m\n\u001b[1;32m---> 12\u001b[1;33m         \u001b[0mval\u001b[0m \u001b[1;33m=\u001b[0m \u001b[0mself\u001b[0m\u001b[1;33m.\u001b[0m\u001b[0mm1\u001b[0m\u001b[1;33m(\u001b[0m\u001b[1;33m)\u001b[0m \u001b[1;33m+\u001b[0m \u001b[1;36m20\u001b[0m\u001b[1;33m\u001b[0m\u001b[1;33m\u001b[0m\u001b[0m\n\u001b[0m\u001b[0;32m     13\u001b[0m         \u001b[1;32mreturn\u001b[0m \u001b[0mval\u001b[0m\u001b[1;33m\u001b[0m\u001b[1;33m\u001b[0m\u001b[0m\n",
      "... last 1 frames repeated, from the frame below ...\n",
      "\u001b[1;32m<ipython-input-340-72b3ffab5635>\u001b[0m in \u001b[0;36mm1\u001b[1;34m(self)\u001b[0m\n\u001b[0;32m     10\u001b[0m \u001b[1;32mclass\u001b[0m \u001b[0mC\u001b[0m\u001b[1;33m(\u001b[0m\u001b[0mB\u001b[0m\u001b[1;33m)\u001b[0m\u001b[1;33m:\u001b[0m\u001b[1;33m\u001b[0m\u001b[1;33m\u001b[0m\u001b[0m\n\u001b[0;32m     11\u001b[0m     \u001b[1;32mdef\u001b[0m \u001b[0mm1\u001b[0m\u001b[1;33m(\u001b[0m\u001b[0mself\u001b[0m\u001b[1;33m)\u001b[0m\u001b[1;33m:\u001b[0m\u001b[1;33m\u001b[0m\u001b[1;33m\u001b[0m\u001b[0m\n\u001b[1;32m---> 12\u001b[1;33m         \u001b[0mval\u001b[0m \u001b[1;33m=\u001b[0m \u001b[0mself\u001b[0m\u001b[1;33m.\u001b[0m\u001b[0mm1\u001b[0m\u001b[1;33m(\u001b[0m\u001b[1;33m)\u001b[0m \u001b[1;33m+\u001b[0m \u001b[1;36m20\u001b[0m\u001b[1;33m\u001b[0m\u001b[1;33m\u001b[0m\u001b[0m\n\u001b[0m\u001b[0;32m     13\u001b[0m         \u001b[1;32mreturn\u001b[0m \u001b[0mval\u001b[0m\u001b[1;33m\u001b[0m\u001b[1;33m\u001b[0m\u001b[0m\n",
      "\u001b[1;31mRecursionError\u001b[0m: maximum recursion depth exceeded"
     ]
    }
   ],
   "source": [
    "print(obj.m1())"
   ]
  },
  {
   "cell_type": "code",
   "execution_count": 343,
   "metadata": {},
   "outputs": [],
   "source": [
    "# constructor is executed everytime a class instance is obtained/created\n",
    "class Try:\n",
    "    def __init__(self):\n",
    "        print(\"hello\")"
   ]
  },
  {
   "cell_type": "code",
   "execution_count": 344,
   "metadata": {},
   "outputs": [
    {
     "name": "stdout",
     "output_type": "stream",
     "text": [
      "hello\n"
     ]
    },
    {
     "data": {
      "text/plain": [
       "<__main__.Try at 0x1a32fb67700>"
      ]
     },
     "execution_count": 344,
     "metadata": {},
     "output_type": "execute_result"
    }
   ],
   "source": [
    "Try()"
   ]
  },
  {
   "cell_type": "code",
   "execution_count": null,
   "metadata": {},
   "outputs": [],
   "source": []
  }
 ],
 "metadata": {
  "kernelspec": {
   "display_name": "Python 3",
   "language": "python",
   "name": "python3"
  },
  "language_info": {
   "codemirror_mode": {
    "name": "ipython",
    "version": 3
   },
   "file_extension": ".py",
   "mimetype": "text/x-python",
   "name": "python",
   "nbconvert_exporter": "python",
   "pygments_lexer": "ipython3",
   "version": "3.8.5"
  }
 },
 "nbformat": 4,
 "nbformat_minor": 4
}
