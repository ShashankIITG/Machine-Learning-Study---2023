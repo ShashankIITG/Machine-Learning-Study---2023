{
 "cells": [
  {
   "cell_type": "markdown",
   "id": "3c198acb",
   "metadata": {},
   "source": [
    "# Decorator: \n",
    "\n",
    "When two function would suppose to exactly the same code snippet, we can we decorator concept to avoid having 2 functions written individually.\n",
    "\n",
    "It is used to modify a function, without changing the code of the function."
   ]
  },
  {
   "cell_type": "code",
   "execution_count": 2,
   "id": "ef3b49a6",
   "metadata": {},
   "outputs": [],
   "source": [
    "users = {\n",
    "    \"pratik\": \"hero\",\n",
    "    \"trapti\": \"birth\"\n",
    "}"
   ]
  },
  {
   "cell_type": "code",
   "execution_count": 3,
   "id": "ef07ed8d",
   "metadata": {},
   "outputs": [],
   "source": [
    "def show(username, password):\n",
    "    if username in users and users[username] == password:\n",
    "        print(\"sucess\")\n",
    "    else: print(\"fail\")\n",
    "        \n",
    "def add(username, password, a, b):\n",
    "    if username in users and users[username] == password:\n",
    "        print(a+b)\n",
    "    else: print(\"service access denied\")"
   ]
  },
  {
   "cell_type": "code",
   "execution_count": 4,
   "id": "0c588a92",
   "metadata": {},
   "outputs": [
    {
     "name": "stdout",
     "output_type": "stream",
     "text": [
      "sucess\n"
     ]
    }
   ],
   "source": [
    "show(\"pratik\", \"hero\")"
   ]
  },
  {
   "cell_type": "code",
   "execution_count": 6,
   "id": "fd886533",
   "metadata": {},
   "outputs": [
    {
     "name": "stdout",
     "output_type": "stream",
     "text": [
      "7\n"
     ]
    }
   ],
   "source": [
    "add(\"trapti\", \"birth\", 2, 5)"
   ]
  },
  {
   "cell_type": "code",
   "execution_count": 7,
   "id": "7801de35",
   "metadata": {},
   "outputs": [
    {
     "name": "stdout",
     "output_type": "stream",
     "text": [
      "service access denied\n"
     ]
    }
   ],
   "source": [
    "add('shubh', \"hero\", 2, 9)"
   ]
  },
  {
   "cell_type": "markdown",
   "id": "937d91f7",
   "metadata": {},
   "source": [
    "add() and show() have some code snipet that does exactly the same thing (same logic). So we can change one of the function to insert additional functionality without "
   ]
  },
  {
   "cell_type": "markdown",
   "id": "491849a9",
   "metadata": {},
   "source": [
    "## Lets create authenticating add function"
   ]
  },
  {
   "cell_type": "code",
   "execution_count": null,
   "id": "7424e52d",
   "metadata": {},
   "outputs": [],
   "source": [
    "def auth_add(func)"
   ]
  }
 ],
 "metadata": {
  "kernelspec": {
   "display_name": "Python 3 (ipykernel)",
   "language": "python",
   "name": "python3"
  },
  "language_info": {
   "codemirror_mode": {
    "name": "ipython",
    "version": 3
   },
   "file_extension": ".py",
   "mimetype": "text/x-python",
   "name": "python",
   "nbconvert_exporter": "python",
   "pygments_lexer": "ipython3",
   "version": "3.9.12"
  }
 },
 "nbformat": 4,
 "nbformat_minor": 5
}
