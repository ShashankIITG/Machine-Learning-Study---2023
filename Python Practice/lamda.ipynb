{
 "cells": [
  {
   "cell_type": "code",
   "execution_count": 1,
   "id": "e1a588eb",
   "metadata": {},
   "outputs": [],
   "source": [
    "sorted?"
   ]
  },
  {
   "cell_type": "code",
   "execution_count": 2,
   "id": "f1a93e9b",
   "metadata": {},
   "outputs": [],
   "source": [
    "marks = [(\"jatin\", 5), (\"ram\", 10), (\"suresh\", 2), (\"raju\", 0)]"
   ]
  },
  {
   "cell_type": "code",
   "execution_count": 5,
   "id": "d8877f8f",
   "metadata": {},
   "outputs": [
    {
     "name": "stdout",
     "output_type": "stream",
     "text": [
      "[('jatin', 5), ('raju', 0), ('ram', 10), ('suresh', 2)]\n"
     ]
    }
   ],
   "source": [
    "name_sort = sorted(marks)\n",
    "print(name_sort)"
   ]
  },
  {
   "cell_type": "code",
   "execution_count": 24,
   "id": "2fb13f78",
   "metadata": {},
   "outputs": [
    {
     "name": "stdout",
     "output_type": "stream",
     "text": [
      "[('raju', 0), ('suresh', 2), ('jatin', 5), ('ram', 10)]\n"
     ]
    }
   ],
   "source": [
    "rank = sorted(marks, key = lambda marks : marks[1])\n",
    "print(rank)"
   ]
  },
  {
   "cell_type": "code",
   "execution_count": 22,
   "id": "d369ee29",
   "metadata": {},
   "outputs": [],
   "source": [
    "del(rank)"
   ]
  },
  {
   "cell_type": "code",
   "execution_count": 25,
   "id": "bfd776b7",
   "metadata": {},
   "outputs": [
    {
     "data": {
      "text/plain": [
       "[('raju', 0), ('suresh', 2), ('jatin', 5), ('ram', 10)]"
      ]
     },
     "execution_count": 25,
     "metadata": {},
     "output_type": "execute_result"
    }
   ],
   "source": [
    "rank"
   ]
  }
 ],
 "metadata": {
  "kernelspec": {
   "display_name": "Python 3 (ipykernel)",
   "language": "python",
   "name": "python3"
  },
  "language_info": {
   "codemirror_mode": {
    "name": "ipython",
    "version": 3
   },
   "file_extension": ".py",
   "mimetype": "text/x-python",
   "name": "python",
   "nbconvert_exporter": "python",
   "pygments_lexer": "ipython3",
   "version": "3.9.12"
  }
 },
 "nbformat": 4,
 "nbformat_minor": 5
}
