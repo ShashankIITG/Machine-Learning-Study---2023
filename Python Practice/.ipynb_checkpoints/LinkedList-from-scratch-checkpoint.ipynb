{
 "cells": [
  {
   "cell_type": "code",
   "execution_count": 1,
   "metadata": {},
   "outputs": [],
   "source": [
    "# create a node class for link-list nodes\n",
    "class Node:\n",
    "    def __init__(self, value):\n",
    "        self.value = value\n",
    "        self.next = None"
   ]
  },
  {
   "cell_type": "code",
   "execution_count": 2,
   "metadata": {},
   "outputs": [],
   "source": [
    "# manually created linked list\n",
    "a = Node(10)\n",
    "b = Node(20)\n",
    "c = Node(30)\n",
    "\n",
    "# python by default use assignment by reference\n",
    "a.next = b\n",
    "b.next = c"
   ]
  },
  {
   "cell_type": "code",
   "execution_count": 5,
   "metadata": {},
   "outputs": [
    {
     "name": "stdout",
     "output_type": "stream",
     "text": [
      "10 20 30\n",
      "<__main__.Node object at 0x00000215B9D763A0> <__main__.Node object at 0x00000215B9D76970> <__main__.Node object at 0x00000215B9D76A00>\n",
      "<__main__.Node object at 0x00000215B9D76970> <__main__.Node object at 0x00000215B9D76A00> None\n"
     ]
    }
   ],
   "source": [
    "print(a.value, b.value, c.value)\n",
    "print(a, b, c)\n",
    "print(a.next, b.next, c.next)"
   ]
  },
  {
   "cell_type": "code",
   "execution_count": 296,
   "metadata": {},
   "outputs": [],
   "source": [
    "class LinkedList:\n",
    "    # constructor\n",
    "    def __init__(self):\n",
    "        self.head = None # stores the reference of first node\n",
    "        self.l = 0 # no of nodes in link list\n",
    "    \n",
    "    def __len__(self):\n",
    "        return self.l\n",
    "    \n",
    "    def insert_head(self, value):\n",
    "        # create a new node\n",
    "        new_node = Node(value)\n",
    "        # create connection with former first node of link-list\n",
    "        new_node.next = self.head\n",
    "        # assign newly created node as head of the link-list\n",
    "        self.head = new_node\n",
    "        # update len of link-list\n",
    "        self.l += 1\n",
    "        \n",
    "    def __str__(self):\n",
    "        curr = self.head\n",
    "        \n",
    "        result = ''\n",
    "        while curr != None:\n",
    "            result = result + str(curr.value) + '->'\n",
    "            curr = curr.next            \n",
    "        return result[:-2]\n",
    "    \n",
    "    def insert_tail(self, value):\n",
    "        \"\"\"\n",
    "        func desc; Insert at a node at last of the link-list aka append\n",
    "        value; value of the node to be appended at last of the link-list\n",
    "        \"\"\"\n",
    "            \n",
    "        new_node = Node(value)\n",
    "        if self.head == None:\n",
    "            self.head = new_node \n",
    "            self.l += 1\n",
    "            return\n",
    "            \n",
    "        # reach last node\n",
    "        curr = self.head\n",
    "        while curr.next != None:\n",
    "            curr = curr.next\n",
    "        \n",
    "        # connect new_node at last node\n",
    "        curr.next = new_node\n",
    "        self.l += 1\n",
    "        \n",
    "    def insert_after(self, after, value):\n",
    "        new_node = Node(value)\n",
    "        \n",
    "        curr = self.head\n",
    "        while curr != None:\n",
    "            if curr.value == after:\n",
    "                new_node.next = curr.next\n",
    "                curr.next = new_node\n",
    "                self.l += 1\n",
    "                return    \n",
    "            curr = curr.next\n",
    "        \n",
    "        # when the after-value is not in link-list\n",
    "        return 'item not-found'\n",
    "    \n",
    "    def clear(self):\n",
    "        self.head = None\n",
    "        self.l = 0\n",
    "        \n",
    "    def delete_head(self):\n",
    "        if self.head == None: return 'Empty link list'\n",
    "        \n",
    "        self.head = self.head.next\n",
    "        self.l -= 1\n",
    "        \n",
    "    def delete_tail(self):\n",
    "        # pop function\n",
    "        curr = self.head\n",
    "        \n",
    "        if curr == None:\n",
    "            return 'Empty list'\n",
    "        \n",
    "        if curr.next == None:\n",
    "            curr = None\n",
    "            self.l -= 1\n",
    "            return\n",
    "            \n",
    "        while curr.next.next != None:\n",
    "            curr = curr.next\n",
    "            \n",
    "        curr.next = None\n",
    "        self.l -= 1\n",
    "        \n",
    "    def delete_value(self, value):\n",
    "        curr = self.head\n",
    "        \n",
    "        if curr == None:\n",
    "            return 'Empty list'\n",
    "        elif curr.value == value:\n",
    "            self.head = curr.next\n",
    "            self.l -= 1\n",
    "            return\n",
    "            \n",
    "        while curr.next != None:\n",
    "            if curr.next.value == value:\n",
    "                break\n",
    "            curr = curr.next\n",
    "        \n",
    "        # loop over without going inside if condition\n",
    "        if curr.next == None:\n",
    "            return 'value not found'\n",
    "        elif curr.next.next == None:\n",
    "            curr.next = None\n",
    "            self.l -= 1\n",
    "            return\n",
    "        else:\n",
    "            curr.next = curr.next.next\n",
    "            self.l -= 1\n",
    "            \n",
    "    def search(self, value):\n",
    "        if self.head == None:\n",
    "            return 'Empty list'\n",
    "        curr = self.head\n",
    "        \n",
    "        for i in range(self.l):\n",
    "            if curr.value == value:\n",
    "                return i\n",
    "            curr = curr.next\n",
    "        # if value not found in list\n",
    "        return 'value not found'\n",
    "    \n",
    "    def __getitem__(self, index):\n",
    "        curr = self.head\n",
    "        if curr == None:\n",
    "            return 'Empty list'\n",
    "        elif index >= self.l:\n",
    "            return 'index out of range'\n",
    "        \n",
    "        for i in range(index):\n",
    "            curr = curr.next\n",
    "        \n",
    "        return curr.value\n",
    "    \n",
    "    def replace_max(self, value):\n",
    "        curr = self.head\n",
    "        \n",
    "        if curr is None:\n",
    "            return 'Empty List'\n",
    "        elif curr.next is None:\n",
    "            curr.value = value\n",
    "        \n",
    "        max_value = curr.value\n",
    "        max_poss = None\n",
    "        \n",
    "        while curr.next != None:\n",
    "            if curr.next.value > max_value:\n",
    "                max_value = curr.next.value\n",
    "                max_poss = curr.next\n",
    "            curr = curr.next\n",
    "            \n",
    "        max_poss.value = value\n",
    "        \n",
    "    def sum_odd_nodes(self):\n",
    "        curr = self.head\n",
    "        total = 0\n",
    "        \n",
    "        if curr is None:\n",
    "            return 'Empty List'\n",
    "        elif curr.next is None:\n",
    "            return 'no odd node'\n",
    "        \n",
    "        while curr != None:\n",
    "            if curr.next == None:\n",
    "                return total\n",
    "            total += curr.next.value\n",
    "            curr = curr.next.next\n",
    "            \n",
    "        return total"
   ]
  },
  {
   "cell_type": "code",
   "execution_count": 324,
   "metadata": {},
   "outputs": [],
   "source": [
    "LL = LinkedList()"
   ]
  },
  {
   "cell_type": "code",
   "execution_count": 325,
   "metadata": {},
   "outputs": [
    {
     "data": {
      "text/plain": [
       "'Empty List'"
      ]
     },
     "execution_count": 325,
     "metadata": {},
     "output_type": "execute_result"
    }
   ],
   "source": [
    "LL.sum_odd_nodes()"
   ]
  },
  {
   "cell_type": "code",
   "execution_count": 326,
   "metadata": {},
   "outputs": [
    {
     "data": {
      "text/plain": [
       "'Empty List'"
      ]
     },
     "execution_count": 326,
     "metadata": {},
     "output_type": "execute_result"
    }
   ],
   "source": [
    "LL.replace_max(4)"
   ]
  },
  {
   "cell_type": "code",
   "execution_count": 327,
   "metadata": {},
   "outputs": [
    {
     "name": "stdout",
     "output_type": "stream",
     "text": [
      "None 0\n"
     ]
    }
   ],
   "source": [
    "print(LL.head, LL.l)"
   ]
  },
  {
   "cell_type": "code",
   "execution_count": 328,
   "metadata": {},
   "outputs": [
    {
     "name": "stdout",
     "output_type": "stream",
     "text": [
      "0\n"
     ]
    }
   ],
   "source": [
    "print(len(LL))"
   ]
  },
  {
   "cell_type": "code",
   "execution_count": 329,
   "metadata": {},
   "outputs": [],
   "source": [
    "LL.insert_head(10)\n",
    "LL.insert_head(5)\n",
    "LL.insert_head(0)"
   ]
  },
  {
   "cell_type": "code",
   "execution_count": 330,
   "metadata": {},
   "outputs": [
    {
     "name": "stdout",
     "output_type": "stream",
     "text": [
      "<__main__.Node object at 0x00000215B9C94520> 0\n"
     ]
    }
   ],
   "source": [
    "print(LL.head, LL.head.value)"
   ]
  },
  {
   "cell_type": "code",
   "execution_count": 331,
   "metadata": {},
   "outputs": [
    {
     "data": {
      "text/plain": [
       "3"
      ]
     },
     "execution_count": 331,
     "metadata": {},
     "output_type": "execute_result"
    }
   ],
   "source": [
    "len(LL)"
   ]
  },
  {
   "cell_type": "code",
   "execution_count": 332,
   "metadata": {},
   "outputs": [
    {
     "name": "stdout",
     "output_type": "stream",
     "text": [
      "0->5->10\n"
     ]
    }
   ],
   "source": [
    "print(LL)"
   ]
  },
  {
   "cell_type": "code",
   "execution_count": 333,
   "metadata": {},
   "outputs": [],
   "source": [
    "LL.insert_tail(20)"
   ]
  },
  {
   "cell_type": "code",
   "execution_count": 334,
   "metadata": {},
   "outputs": [
    {
     "name": "stdout",
     "output_type": "stream",
     "text": [
      "0->5->10->20\n"
     ]
    }
   ],
   "source": [
    "print(LL)"
   ]
  },
  {
   "cell_type": "code",
   "execution_count": 308,
   "metadata": {},
   "outputs": [
    {
     "data": {
      "text/plain": [
       "25"
      ]
     },
     "execution_count": 308,
     "metadata": {},
     "output_type": "execute_result"
    }
   ],
   "source": [
    "LL.sum_odd_nodes()"
   ]
  },
  {
   "cell_type": "code",
   "execution_count": 335,
   "metadata": {},
   "outputs": [],
   "source": [
    "LL.insert_after(10, 15)"
   ]
  },
  {
   "cell_type": "code",
   "execution_count": 336,
   "metadata": {},
   "outputs": [
    {
     "name": "stdout",
     "output_type": "stream",
     "text": [
      "0->5->10->15->20\n"
     ]
    }
   ],
   "source": [
    "print(LL)"
   ]
  },
  {
   "cell_type": "code",
   "execution_count": 311,
   "metadata": {},
   "outputs": [
    {
     "data": {
      "text/plain": [
       "20"
      ]
     },
     "execution_count": 311,
     "metadata": {},
     "output_type": "execute_result"
    }
   ],
   "source": [
    "LL.sum_odd_nodes()"
   ]
  },
  {
   "cell_type": "code",
   "execution_count": 259,
   "metadata": {},
   "outputs": [
    {
     "data": {
      "text/plain": [
       "2"
      ]
     },
     "execution_count": 259,
     "metadata": {},
     "output_type": "execute_result"
    }
   ],
   "source": [
    "LL.search(10)"
   ]
  },
  {
   "cell_type": "code",
   "execution_count": 260,
   "metadata": {},
   "outputs": [
    {
     "data": {
      "text/plain": [
       "0"
      ]
     },
     "execution_count": 260,
     "metadata": {},
     "output_type": "execute_result"
    }
   ],
   "source": [
    "LL.search(0)"
   ]
  },
  {
   "cell_type": "code",
   "execution_count": 261,
   "metadata": {},
   "outputs": [
    {
     "data": {
      "text/plain": [
       "'value not found'"
      ]
     },
     "execution_count": 261,
     "metadata": {},
     "output_type": "execute_result"
    }
   ],
   "source": [
    "LL.search(30)"
   ]
  },
  {
   "cell_type": "code",
   "execution_count": 262,
   "metadata": {},
   "outputs": [],
   "source": [
    "LL.replace_max(25)"
   ]
  },
  {
   "cell_type": "code",
   "execution_count": 263,
   "metadata": {},
   "outputs": [
    {
     "name": "stdout",
     "output_type": "stream",
     "text": [
      "0->5->10->15->25\n"
     ]
    }
   ],
   "source": [
    "print(LL)"
   ]
  },
  {
   "cell_type": "code",
   "execution_count": 266,
   "metadata": {},
   "outputs": [],
   "source": [
    "LL.insert_after(5, 30)"
   ]
  },
  {
   "cell_type": "code",
   "execution_count": 267,
   "metadata": {},
   "outputs": [
    {
     "name": "stdout",
     "output_type": "stream",
     "text": [
      "0->5->30->10->15->25\n"
     ]
    }
   ],
   "source": [
    "print(LL)"
   ]
  },
  {
   "cell_type": "code",
   "execution_count": 268,
   "metadata": {},
   "outputs": [],
   "source": [
    "LL.replace_max(7)"
   ]
  },
  {
   "cell_type": "code",
   "execution_count": 269,
   "metadata": {},
   "outputs": [
    {
     "name": "stdout",
     "output_type": "stream",
     "text": [
      "0->5->7->10->15->25\n"
     ]
    }
   ],
   "source": [
    "print(LL)"
   ]
  },
  {
   "cell_type": "code",
   "execution_count": 265,
   "metadata": {},
   "outputs": [
    {
     "data": {
      "text/plain": [
       "'index out of range'"
      ]
     },
     "execution_count": 265,
     "metadata": {},
     "output_type": "execute_result"
    }
   ],
   "source": [
    "LL[10]"
   ]
  },
  {
   "cell_type": "code",
   "execution_count": 115,
   "metadata": {},
   "outputs": [],
   "source": [
    "LL.delete_value(0)"
   ]
  },
  {
   "cell_type": "code",
   "execution_count": 116,
   "metadata": {},
   "outputs": [
    {
     "name": "stdout",
     "output_type": "stream",
     "text": [
      "5->10->15->20\n"
     ]
    }
   ],
   "source": [
    "print(LL)"
   ]
  },
  {
   "cell_type": "code",
   "execution_count": 117,
   "metadata": {},
   "outputs": [],
   "source": [
    "LL.delete_value(20)"
   ]
  },
  {
   "cell_type": "code",
   "execution_count": 118,
   "metadata": {},
   "outputs": [
    {
     "name": "stdout",
     "output_type": "stream",
     "text": [
      "5->10->15\n"
     ]
    }
   ],
   "source": [
    "print(LL)"
   ]
  },
  {
   "cell_type": "code",
   "execution_count": 119,
   "metadata": {},
   "outputs": [
    {
     "name": "stdout",
     "output_type": "stream",
     "text": [
      "5->15\n"
     ]
    }
   ],
   "source": [
    "LL.delete_value(10)\n",
    "print(LL)"
   ]
  },
  {
   "cell_type": "code",
   "execution_count": 120,
   "metadata": {},
   "outputs": [],
   "source": [
    "LL.delete_tail()"
   ]
  },
  {
   "cell_type": "code",
   "execution_count": 121,
   "metadata": {},
   "outputs": [
    {
     "name": "stdout",
     "output_type": "stream",
     "text": [
      "5\n"
     ]
    }
   ],
   "source": [
    "print(LL)"
   ]
  },
  {
   "cell_type": "code",
   "execution_count": 122,
   "metadata": {},
   "outputs": [],
   "source": [
    "LL.delete_head()"
   ]
  },
  {
   "cell_type": "code",
   "execution_count": 123,
   "metadata": {},
   "outputs": [
    {
     "name": "stdout",
     "output_type": "stream",
     "text": [
      "\n"
     ]
    }
   ],
   "source": [
    "print(LL)"
   ]
  },
  {
   "cell_type": "code",
   "execution_count": 124,
   "metadata": {},
   "outputs": [
    {
     "data": {
      "text/plain": [
       "'Empty list'"
      ]
     },
     "execution_count": 124,
     "metadata": {},
     "output_type": "execute_result"
    }
   ],
   "source": [
    "LL.search(10)"
   ]
  },
  {
   "cell_type": "code",
   "execution_count": 368,
   "metadata": {},
   "outputs": [
    {
     "name": "stdout",
     "output_type": "stream",
     "text": [
      "15->10->5->0\n"
     ]
    }
   ],
   "source": [
    "print(LL)"
   ]
  },
  {
   "cell_type": "code",
   "execution_count": 367,
   "metadata": {},
   "outputs": [],
   "source": [
    "LL.insert_tail(15)\n",
    "LL.insert_tail(10)\n",
    "LL.insert_tail(5)\n",
    "LL.insert_tail(0)"
   ]
  },
  {
   "cell_type": "code",
   "execution_count": 355,
   "metadata": {},
   "outputs": [],
   "source": [
    "def reverse_list(link_list):\n",
    "    prev_node = None\n",
    "    curr_node = link_list.head\n",
    "    \n",
    "    while curr_node != None:\n",
    "        # updating node address\n",
    "        next_node = curr_node.next\n",
    "        curr_node.next = prev_node\n",
    "        \n",
    "        # updating pointers\n",
    "        prev_node = curr_node\n",
    "        curr_node = next_node\n",
    "        \n",
    "    link_list.head = prev_node"
   ]
  },
  {
   "cell_type": "code",
   "execution_count": 369,
   "metadata": {},
   "outputs": [],
   "source": [
    "reverse_list(LL)"
   ]
  },
  {
   "cell_type": "code",
   "execution_count": 370,
   "metadata": {},
   "outputs": [
    {
     "name": "stdout",
     "output_type": "stream",
     "text": [
      "0->5->10->15\n"
     ]
    }
   ],
   "source": [
    "print(LL)"
   ]
  },
  {
   "cell_type": "code",
   "execution_count": 338,
   "metadata": {},
   "outputs": [
    {
     "data": {
      "text/plain": [
       "<__main__.Node at 0x215b9c94520>"
      ]
     },
     "execution_count": 338,
     "metadata": {},
     "output_type": "execute_result"
    }
   ],
   "source": [
    "LL.head"
   ]
  },
  {
   "cell_type": "code",
   "execution_count": 371,
   "metadata": {},
   "outputs": [],
   "source": [
    "def convert_to_sent(link_list):\n",
    "    curr = link_list.head\n",
    "    \n",
    "    while curr != None:\n",
    "        if curr.value == '*' or curr.value == '/':\n",
    "            curr.value = ' '\n",
    "            if curr.next.value == '*' or curr.next.value == '/':\n",
    "                curr.next.next.value = curr.next.next.value.upper()\n",
    "                curr.next = curr.next.next\n",
    "                \n",
    "        curr = curr.next"
   ]
  },
  {
   "cell_type": "code",
   "execution_count": 372,
   "metadata": {},
   "outputs": [],
   "source": [
    "word_list = LinkedList()"
   ]
  },
  {
   "cell_type": "code",
   "execution_count": 373,
   "metadata": {},
   "outputs": [],
   "source": [
    "word_list.insert_tail('T')\n",
    "word_list.insert_tail('h')\n",
    "word_list.insert_tail('e')\n",
    "word_list.insert_tail('*')\n",
    "word_list.insert_tail('/')\n",
    "word_list.insert_tail('s')\n",
    "word_list.insert_tail('k')\n",
    "word_list.insert_tail('y')\n",
    "word_list.insert_tail('*')\n",
    "word_list.insert_tail('i')\n",
    "word_list.insert_tail('s')\n",
    "word_list.insert_tail('*')\n",
    "word_list.insert_tail('*')\n",
    "word_list.insert_tail('b')\n",
    "word_list.insert_tail('l')\n",
    "word_list.insert_tail('u')\n",
    "word_list.insert_tail('e')"
   ]
  },
  {
   "cell_type": "code",
   "execution_count": 374,
   "metadata": {},
   "outputs": [
    {
     "name": "stdout",
     "output_type": "stream",
     "text": [
      "T->h->e->*->/->s->k->y->*->i->s->*->*->b->l->u->e\n"
     ]
    }
   ],
   "source": [
    "print(word_list)"
   ]
  },
  {
   "cell_type": "code",
   "execution_count": 375,
   "metadata": {},
   "outputs": [],
   "source": [
    "convert_to_sent(word_list)"
   ]
  },
  {
   "cell_type": "code",
   "execution_count": 377,
   "metadata": {},
   "outputs": [
    {
     "name": "stdout",
     "output_type": "stream",
     "text": [
      "T->h->e-> ->S->k->y-> ->i->s-> ->B->l->u->e\n"
     ]
    }
   ],
   "source": [
    "print(word_list)"
   ]
  },
  {
   "cell_type": "code",
   "execution_count": null,
   "metadata": {},
   "outputs": [],
   "source": []
  }
 ],
 "metadata": {
  "kernelspec": {
   "display_name": "Python 3",
   "language": "python",
   "name": "python3"
  },
  "language_info": {
   "codemirror_mode": {
    "name": "ipython",
    "version": 3
   },
   "file_extension": ".py",
   "mimetype": "text/x-python",
   "name": "python",
   "nbconvert_exporter": "python",
   "pygments_lexer": "ipython3",
   "version": "3.8.5"
  }
 },
 "nbformat": 4,
 "nbformat_minor": 4
}
