{
 "cells": [
  {
   "cell_type": "markdown",
   "metadata": {},
   "source": [
    "# Generate Parentheses"
   ]
  },
  {
   "cell_type": "code",
   "execution_count": 1,
   "metadata": {},
   "outputs": [],
   "source": [
    "# print all the possible pair of 'n' balanced parentheses"
   ]
  },
  {
   "cell_type": "code",
   "execution_count": 40,
   "metadata": {},
   "outputs": [],
   "source": [
    "def parentheses(n):\n",
    "    o, c = n, n\n",
    "    l = []\n",
    "    solve(o, c, '', l)\n",
    "    return l\n",
    "    \n",
    "def solve(o, c, op, l):\n",
    "    \n",
    "    if (o == c == 0):\n",
    "        print(op, \"f\")\n",
    "        l.append(op)\n",
    "    if (o > 0):\n",
    "        op += '('\n",
    "        o -= 1\n",
    "        print(op, \"o\")\n",
    "        solve(o, c, op, l)\n",
    "    if (c > o):\n",
    "        op += ')'\n",
    "        c -= 1\n",
    "        print(op, \"c\")\n",
    "        solve(o, c, op, l)\n",
    "    pass"
   ]
  },
  {
   "cell_type": "code",
   "execution_count": 41,
   "metadata": {},
   "outputs": [
    {
     "name": "stdout",
     "output_type": "stream",
     "text": [
      "( o\n",
      "(( o\n",
      "(() c\n",
      "(()) c\n",
      "(()) f\n",
      "(() c\n",
      "(()) c\n",
      "(()) f\n",
      "() c\n",
      "()( o\n",
      "()() c\n",
      "()() f\n",
      "()() c\n",
      "()() f\n"
     ]
    },
    {
     "data": {
      "text/plain": [
       "['(())', '(())', '()()', '()()']"
      ]
     },
     "execution_count": 41,
     "metadata": {},
     "output_type": "execute_result"
    }
   ],
   "source": [
    "parentheses(2)"
   ]
  },
  {
   "cell_type": "code",
   "execution_count": 29,
   "metadata": {},
   "outputs": [
    {
     "name": "stdout",
     "output_type": "stream",
     "text": [
      "( o\n",
      "(( o\n",
      "(() c\n",
      "(()) c\n",
      "(()) f\n",
      "(() c\n",
      "(()) c\n",
      "(()) f\n",
      "() c\n",
      "()( o\n",
      "()() c\n",
      "()() f\n",
      "()() c\n",
      "()() f\n"
     ]
    }
   ],
   "source": [
    "solve(2, 2, '', [])"
   ]
  },
  {
   "cell_type": "markdown",
   "metadata": {},
   "source": [
    "# Simple Input"
   ]
  },
  {
   "cell_type": "code",
   "execution_count": 42,
   "metadata": {},
   "outputs": [],
   "source": [
    "# Given a list of numbers, stop processing input after the cumulative sum of all the input becomes negative"
   ]
  },
  {
   "cell_type": "code",
   "execution_count": 99,
   "metadata": {},
   "outputs": [
    {
     "name": "stdout",
     "output_type": "stream",
     "text": [
      "12 10 88 90 2 7 -100\n"
     ]
    }
   ],
   "source": [
    "s, i = 0, 0\n",
    "inputs = input()\n",
    "inputL = inputs.split(' ')"
   ]
  },
  {
   "cell_type": "code",
   "execution_count": 100,
   "metadata": {},
   "outputs": [],
   "source": [
    "inputL = [int(i) for i in inputL]"
   ]
  },
  {
   "cell_type": "code",
   "execution_count": 101,
   "metadata": {},
   "outputs": [
    {
     "name": "stdout",
     "output_type": "stream",
     "text": [
      "12\n",
      "10\n",
      "88\n",
      "90\n",
      "2\n",
      "7\n",
      "-100\n"
     ]
    }
   ],
   "source": [
    "s += inputL[i]\n",
    "while s >= 0 and i < len(inputL):\n",
    "    print(inputL[i])\n",
    "    i += 1\n",
    "    try:\n",
    "        s += inputL[i]\n",
    "    except: \n",
    "        pass"
   ]
  },
  {
   "cell_type": "markdown",
   "metadata": {},
   "source": [
    "# Pattern Numbers and Stars"
   ]
  },
  {
   "cell_type": "code",
   "execution_count": 102,
   "metadata": {},
   "outputs": [],
   "source": [
    "# print pattern numbers and stars for the input 'n'"
   ]
  },
  {
   "cell_type": "code",
   "execution_count": 139,
   "metadata": {},
   "outputs": [],
   "source": [
    "def pattern(n):\n",
    "    for i in range (n):\n",
    "        for j in range (1, n-i+1):\n",
    "            print(j, end=\"\")\n",
    "        for k in range (2*i-1):\n",
    "            print(\"*\", end=\"\")\n",
    "        print(\"\")"
   ]
  },
  {
   "cell_type": "code",
   "execution_count": 141,
   "metadata": {
    "scrolled": true
   },
   "outputs": [
    {
     "name": "stdout",
     "output_type": "stream",
     "text": [
      "12345\n",
      "1234*\n",
      "123***\n",
      "12*****\n",
      "1*******\n"
     ]
    }
   ],
   "source": [
    "pattern(5)"
   ]
  },
  {
   "cell_type": "markdown",
   "metadata": {},
   "source": [
    "# Increasing Decreasing Sequence"
   ]
  },
  {
   "cell_type": "code",
   "execution_count": 143,
   "metadata": {},
   "outputs": [],
   "source": [
    "# print true if first sequence is strictly decreasing and second sequence is strictly increasing"
   ]
  },
  {
   "cell_type": "code",
   "execution_count": 150,
   "metadata": {},
   "outputs": [],
   "source": [
    "def seqCheck(s):\n",
    "    left, right = 0, len(s)-1\n",
    "    while(s[left] > s[left+1]):\n",
    "        left += 1\n",
    "    while(s[right] > s[right-1]):\n",
    "        right -= 1\n",
    "    print (left, right)\n",
    "    if abs(left-right) < 2:\n",
    "        return True\n",
    "    else:\n",
    "        return False"
   ]
  },
  {
   "cell_type": "code",
   "execution_count": 154,
   "metadata": {},
   "outputs": [
    {
     "name": "stdout",
     "output_type": "stream",
     "text": [
      "1 1\n"
     ]
    },
    {
     "data": {
      "text/plain": [
       "True"
      ]
     },
     "execution_count": 154,
     "metadata": {},
     "output_type": "execute_result"
    }
   ],
   "source": [
    "seqCheck([5, 1, 2, 3, 4, 5])"
   ]
  },
  {
   "cell_type": "markdown",
   "metadata": {},
   "source": [
    "# Check Prime"
   ]
  },
  {
   "cell_type": "code",
   "execution_count": 155,
   "metadata": {},
   "outputs": [],
   "source": [
    "from math import sqrt"
   ]
  },
  {
   "cell_type": "code",
   "execution_count": 160,
   "metadata": {},
   "outputs": [],
   "source": [
    "def checkPrime(n):\n",
    "    for i in range(2, int(sqrt(n))+1):\n",
    "        if (n % i == 0):\n",
    "            return False\n",
    "    return True"
   ]
  },
  {
   "cell_type": "code",
   "execution_count": 165,
   "metadata": {},
   "outputs": [
    {
     "data": {
      "text/plain": [
       "True"
      ]
     },
     "execution_count": 165,
     "metadata": {},
     "output_type": "execute_result"
    }
   ],
   "source": [
    "checkPrime(107)"
   ]
  },
  {
   "cell_type": "markdown",
   "metadata": {},
   "source": [
    "# Prime Number Generator"
   ]
  },
  {
   "cell_type": "code",
   "execution_count": 166,
   "metadata": {},
   "outputs": [],
   "source": [
    "from math import sqrt"
   ]
  },
  {
   "cell_type": "code",
   "execution_count": 167,
   "metadata": {},
   "outputs": [],
   "source": [
    "def primeGen(x, y):\n",
    "    prime = []\n",
    "    if (x % 2 == 0):\n",
    "        x += 1\n",
    "    for n in range(x, y+1, 2):\n",
    "        isprime = True\n",
    "        for i in range(2, int(sqrt(n))+1):\n",
    "            if (n % i == 0):\n",
    "                isprime = False\n",
    "                break\n",
    "        if isprime:\n",
    "            prime.append(n)\n",
    "    return prime"
   ]
  },
  {
   "cell_type": "code",
   "execution_count": 168,
   "metadata": {},
   "outputs": [
    {
     "data": {
      "text/plain": [
       "[1, 3, 5, 7, 9]"
      ]
     },
     "execution_count": 168,
     "metadata": {},
     "output_type": "execute_result"
    }
   ],
   "source": [
    "primeGen(1, 10)"
   ]
  },
  {
   "cell_type": "code",
   "execution_count": 169,
   "metadata": {},
   "outputs": [
    {
     "data": {
      "text/plain": [
       "[3,\n",
       " 5,\n",
       " 7,\n",
       " 9,\n",
       " 11,\n",
       " 13,\n",
       " 15,\n",
       " 17,\n",
       " 19,\n",
       " 21,\n",
       " 23,\n",
       " 25,\n",
       " 27,\n",
       " 29,\n",
       " 31,\n",
       " 33,\n",
       " 35,\n",
       " 37,\n",
       " 39,\n",
       " 41,\n",
       " 43,\n",
       " 45,\n",
       " 47,\n",
       " 49,\n",
       " 51,\n",
       " 53,\n",
       " 55,\n",
       " 57,\n",
       " 59,\n",
       " 61,\n",
       " 63,\n",
       " 65,\n",
       " 67,\n",
       " 69,\n",
       " 71,\n",
       " 73,\n",
       " 75,\n",
       " 77,\n",
       " 79,\n",
       " 81,\n",
       " 83,\n",
       " 85,\n",
       " 87,\n",
       " 89,\n",
       " 91,\n",
       " 93,\n",
       " 95,\n",
       " 97,\n",
       " 99]"
      ]
     },
     "execution_count": 169,
     "metadata": {},
     "output_type": "execute_result"
    }
   ],
   "source": [
    "primeGen(2, 100)"
   ]
  },
  {
   "cell_type": "code",
   "execution_count": null,
   "metadata": {},
   "outputs": [],
   "source": []
  }
 ],
 "metadata": {
  "kernelspec": {
   "display_name": "Python 3",
   "language": "python",
   "name": "python3"
  },
  "language_info": {
   "codemirror_mode": {
    "name": "ipython",
    "version": 3
   },
   "file_extension": ".py",
   "mimetype": "text/x-python",
   "name": "python",
   "nbconvert_exporter": "python",
   "pygments_lexer": "ipython3",
   "version": "3.8.5"
  }
 },
 "nbformat": 4,
 "nbformat_minor": 4
}
