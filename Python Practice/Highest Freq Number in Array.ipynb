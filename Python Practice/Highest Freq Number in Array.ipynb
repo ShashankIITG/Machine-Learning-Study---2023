{
 "cells": [
  {
   "cell_type": "code",
   "execution_count": 9,
   "id": "5e562a6e",
   "metadata": {},
   "outputs": [
    {
     "name": "stdout",
     "output_type": "stream",
     "text": [
      "[3 5 7 8 6 7 4 6 2 3 7 7 4 5 1]\n",
      "7\n"
     ]
    }
   ],
   "source": [
    "import numpy as np\n",
    "\n",
    "def frequency():\n",
    "    matrix = np.random.randint(1, 9, 15)\n",
    "    print(matrix)\n",
    "    a = np.unique(matrix, return_counts=True)\n",
    "    inx = np.argmax(a[1])\n",
    "    fq = (a[0][inx])\n",
    "    print(fq)\n",
    "    return\n",
    "\n",
    "frequency()"
   ]
  },
  {
   "cell_type": "code",
   "execution_count": null,
   "id": "fd6f9fe6",
   "metadata": {},
   "outputs": [],
   "source": []
  }
 ],
 "metadata": {
  "kernelspec": {
   "display_name": "Python 3 (ipykernel)",
   "language": "python",
   "name": "python3"
  },
  "language_info": {
   "codemirror_mode": {
    "name": "ipython",
    "version": 3
   },
   "file_extension": ".py",
   "mimetype": "text/x-python",
   "name": "python",
   "nbconvert_exporter": "python",
   "pygments_lexer": "ipython3",
   "version": "3.9.12"
  }
 },
 "nbformat": 4,
 "nbformat_minor": 5
}
