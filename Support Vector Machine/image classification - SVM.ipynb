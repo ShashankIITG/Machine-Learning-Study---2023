{
 "cells": [
  {
   "cell_type": "code",
   "execution_count": 1,
   "id": "d1f202c1",
   "metadata": {},
   "outputs": [],
   "source": [
    "import numpy as np\n",
    "import os\n",
    "from pathlib import Path\n",
    "\n",
    "import cv2"
   ]
  },
  {
   "cell_type": "code",
   "execution_count": 2,
   "id": "4100d655",
   "metadata": {},
   "outputs": [],
   "source": [
    "p = Path(\"../Dataset/images/\")\n",
    "\n",
    "dirs = p.glob(\"*\")\n",
    "\n",
    "# initalize dataset\n",
    "image_data = []\n",
    "label = []\n",
    "label_dict = {\"cat\": 0, \"dog\": 1, \"horse\": 2, \"human\": 3}\n",
    "\n",
    "for folder in dirs:\n",
    "    # we get cat...dogs folder location\n",
    "    image_type = str(folder).split(\"\\\\\")[-1][:-1]\n",
    "    image_dir = folder.glob(\"*.jpg\")\n",
    "    \n",
    "    for image_loc in image_dir:\n",
    "        image = cv2.imread(str(image_loc))\n",
    "        image = cv2.resize(image, (32, 32))\n",
    "        image = cv2.cvtColor(image, cv2.COLOR_BGR2RGB)\n",
    "        \n",
    "        image_data.append(image)\n",
    "        label.append(label_dict[image_type])"
   ]
  },
  {
   "cell_type": "code",
   "execution_count": 3,
   "id": "fb1f5502",
   "metadata": {},
   "outputs": [
    {
     "name": "stdout",
     "output_type": "stream",
     "text": [
      "808 808\n"
     ]
    }
   ],
   "source": [
    "print(len(image_data), len(label))"
   ]
  },
  {
   "cell_type": "code",
   "execution_count": 4,
   "id": "6a24bded",
   "metadata": {},
   "outputs": [],
   "source": [
    "image_data = np.array(image_data)\n",
    "label = np.array(label)"
   ]
  },
  {
   "cell_type": "code",
   "execution_count": 5,
   "id": "c7d42702",
   "metadata": {},
   "outputs": [
    {
     "data": {
      "text/plain": [
       "(808, 32, 32, 3)"
      ]
     },
     "execution_count": 5,
     "metadata": {},
     "output_type": "execute_result"
    }
   ],
   "source": [
    "image_data.shape"
   ]
  },
  {
   "cell_type": "markdown",
   "id": "21b300e7",
   "metadata": {},
   "source": [
    "## Visualise data"
   ]
  },
  {
   "cell_type": "code",
   "execution_count": 6,
   "id": "2b28cab2",
   "metadata": {},
   "outputs": [],
   "source": [
    "import matplotlib.pyplot as plt\n",
    "%matplotlib widget"
   ]
  },
  {
   "cell_type": "code",
   "execution_count": 7,
   "id": "813d7b72",
   "metadata": {},
   "outputs": [],
   "source": [
    "def drawing(img, label):\n",
    "    plt.figure(figsize=(3,3))\n",
    "    plt.imshow(img)\n",
    "    plt.title(label)\n",
    "    plt.axis(\"off\")\n",
    "    plt.show()"
   ]
  },
  {
   "cell_type": "code",
   "execution_count": 8,
   "id": "6fcdde90",
   "metadata": {},
   "outputs": [],
   "source": [
    "%matplotlib inline"
   ]
  },
  {
   "cell_type": "markdown",
   "id": "ff101bc9",
   "metadata": {},
   "source": [
    "## shuffle the data"
   ]
  },
  {
   "cell_type": "code",
   "execution_count": 9,
   "id": "41240d29",
   "metadata": {},
   "outputs": [],
   "source": [
    "import random"
   ]
  },
  {
   "cell_type": "code",
   "execution_count": 10,
   "id": "ca5d3a42",
   "metadata": {},
   "outputs": [],
   "source": [
    "img_label = list(zip(image_data, label))"
   ]
  },
  {
   "cell_type": "code",
   "execution_count": 11,
   "id": "ca7997c7",
   "metadata": {},
   "outputs": [],
   "source": [
    "random.shuffle(img_label)"
   ]
  },
  {
   "cell_type": "code",
   "execution_count": 12,
   "id": "0070e433",
   "metadata": {},
   "outputs": [],
   "source": [
    "# unzip\n",
    "image_data[:], label[:] = zip(*img_label)"
   ]
  },
  {
   "cell_type": "code",
   "execution_count": 13,
   "id": "d159a766",
   "metadata": {},
   "outputs": [
    {
     "data": {
      "image/png": "[encoded data removed]",
      "text/plain": [
       "<Figure size 300x300 with 1 Axes>"
      ]
     },
     "metadata": {},
     "output_type": "display_data"
    }
   ],
   "source": [
    "drawing(image_data[2], label[2])"
   ]
  },
  {
   "cell_type": "markdown",
   "id": "1338b6fa",
   "metadata": {},
   "source": [
    "## SVM implementation from scratch"
   ]
  },
  {
   "cell_type": "code",
   "execution_count": 28,
   "id": "a64989ea",
   "metadata": {},
   "outputs": [],
   "source": [
    "class SVM:\n",
    "    def __init__(self, c=1.0):\n",
    "        self.c = c\n",
    "        self.weight = 0\n",
    "        self.bias = 0\n",
    "        \n",
    "    def loss(X, Y, W, b, c):\n",
    "        t = Y * (np.dot(X, W) + b)\n",
    "        l = np.dot(W.T, W) + c * (np.sum(np.maximum(0, 1-t)))\n",
    "        \n",
    "        return l\n",
    "    \n",
    "    def fit(self, X, Y, batch_size = 60, learning_rate = 0.05, max_epochs = 200):\n",
    "        Y = Y.reshape((-1, 1))\n",
    "        \n",
    "        no_of_samples = Y.shape[0]\n",
    "        no_of_batch = int(no_of_samples/batch_size)\n",
    "        no_of_features = X.shape[1]\n",
    "        \n",
    "        W = np.zeros((no_of_features, 1))\n",
    "        b = 0\n",
    "        \n",
    "        for i in range(max_epochs):\n",
    "            for batch_no in range(no_of_batch):\n",
    "                X_batch = X[batch_no*batch_size: (batch_no+1)*batch_size]\n",
    "                Y_batch = Y[batch_no*batch_size: (batch_no+1)*batch_size]\n",
    "                \n",
    "                t = Y_batch * (np.dot(X_batch, W) + b)\n",
    "                \n",
    "                decision = np.zeros(Y_batch.shape)\n",
    "                decision[t<1] = -1\n",
    "                \n",
    "                tXY = np.sum(decision*X_batch*Y_batch, axis=0)\n",
    "                tXY = tXY.reshape((-1, 1))\n",
    "                \n",
    "                gradW = 0.5 * W + self.c  * np.dot(X_batch.T, (decision*Y_batch))\n",
    "                gradb = self.c * np.dot(decision.T, Y_batch)\n",
    "                \n",
    "                W = W - learning_rate * gradW\n",
    "                b = b - learning_rate * gradb\n",
    "                \n",
    "                print(i, batch_no, end=\"\\r\")\n",
    "                \n",
    "        self.weight = W\n",
    "        self.bias = b"
   ]
  },
  {
   "cell_type": "markdown",
   "id": "0246b6b4",
   "metadata": {},
   "source": [
    "## data conversion for one-for-one classification"
   ]
  },
  {
   "cell_type": "code",
   "execution_count": 15,
   "id": "49f81c72",
   "metadata": {},
   "outputs": [],
   "source": [
    "m = image_data.shape[0]\n",
    "X = image_data.reshape((m, -1))"
   ]
  },
  {
   "cell_type": "code",
   "execution_count": 16,
   "id": "d1c32ebd",
   "metadata": {},
   "outputs": [],
   "source": [
    "def typeWiseData(X, Y):\n",
    "    data = {}\n",
    "    types = len(np.unique(Y))\n",
    "    \n",
    "    for i in range(types):\n",
    "        data[i] = []\n",
    "        \n",
    "    for i in range(X.shape[0]):\n",
    "        data[Y[i]].append(X[i])\n",
    "        \n",
    "    for k in data.keys():\n",
    "        data[k] = np.array(data[k])\n",
    "        \n",
    "    return data"
   ]
  },
  {
   "cell_type": "code",
   "execution_count": 17,
   "id": "7951072c",
   "metadata": {},
   "outputs": [],
   "source": [
    "data = typeWiseData(X, label)"
   ]
  },
  {
   "cell_type": "code",
   "execution_count": 18,
   "id": "62e99d75",
   "metadata": {},
   "outputs": [
    {
     "name": "stdout",
     "output_type": "stream",
     "text": [
      "(202, 3072) (202, 3072) (202, 3072) (202, 3072)\n"
     ]
    }
   ],
   "source": [
    "print(data[0].shape, data[1].shape, data[2].shape, data[3].shape)"
   ]
  },
  {
   "cell_type": "code",
   "execution_count": 19,
   "id": "d7988af7",
   "metadata": {},
   "outputs": [],
   "source": [
    "def dataPair(d1, d2):\n",
    "    l1, l2 = d1.shape[0], d2.shape[0]\n",
    "    \n",
    "    samples = l1+l2\n",
    "    features = d1.shape[1]\n",
    "    \n",
    "    data_pair = np.zeros((samples, features))\n",
    "    data_pair[:l1, :] = d1\n",
    "    data_pair[l1:, :] =d2\n",
    "    \n",
    "    data_labels = np.ones((samples, 1))\n",
    "    data_labels[:l1] = -1\n",
    "    \n",
    "    return data_pair, data_labels"
   ]
  },
  {
   "cell_type": "markdown",
   "id": "587962ff",
   "metadata": {},
   "source": [
    "## Training NC2 SVM's"
   ]
  },
  {
   "cell_type": "code",
   "execution_count": 29,
   "id": "3d63d05a",
   "metadata": {},
   "outputs": [],
   "source": [
    "svc = SVM()"
   ]
  },
  {
   "cell_type": "code",
   "execution_count": 30,
   "id": "312d8078",
   "metadata": {},
   "outputs": [
    {
     "name": "stdout",
     "output_type": "stream",
     "text": [
      "199 5\r"
     ]
    },
    {
     "ename": "TypeError",
     "evalue": "cannot unpack non-iterable NoneType object",
     "output_type": "error",
     "traceback": [
      "\u001b[1;31m---------------------------------------------------------------------------\u001b[0m",
      "\u001b[1;31mTypeError\u001b[0m                                 Traceback (most recent call last)",
      "Cell \u001b[1;32mIn[30], line 8\u001b[0m\n\u001b[0;32m      6\u001b[0m \u001b[38;5;28;01mfor\u001b[39;00m j \u001b[38;5;129;01min\u001b[39;00m \u001b[38;5;28mrange\u001b[39m(i\u001b[38;5;241m+\u001b[39m\u001b[38;5;241m1\u001b[39m, types):\n\u001b[0;32m      7\u001b[0m     xpair, ypair \u001b[38;5;241m=\u001b[39m dataPair(data[i], data[j])\n\u001b[1;32m----> 8\u001b[0m     weights, bias, loss \u001b[38;5;241m=\u001b[39m svc\u001b[38;5;241m.\u001b[39mfit(xpair, ypair)\n\u001b[0;32m      9\u001b[0m     svm_classifier[i][j] \u001b[38;5;241m=\u001b[39m (weights, bias)\n",
      "\u001b[1;31mTypeError\u001b[0m: cannot unpack non-iterable NoneType object"
     ]
    }
   ],
   "source": [
    "types = len(np.unique(label))\n",
    "\n",
    "svm_classifier = {}\n",
    "for i in range(types):\n",
    "    svm_classifier[i] = {}\n",
    "    for j in range(i+1, types):\n",
    "        xpair, ypair = dataPair(data[i], data[j])\n",
    "        weights, bias, loss = svc.fit(xpair, ypair)\n",
    "        svm_classifier[i][j] = (weights, bias)"
   ]
  },
  {
   "cell_type": "code",
   "execution_count": null,
   "id": "6b128027",
   "metadata": {},
   "outputs": [],
   "source": []
  },
  {
   "cell_type": "code",
   "execution_count": null,
   "id": "0c658a11",
   "metadata": {},
   "outputs": [],
   "source": []
  }
 ],
 "metadata": {
  "kernelspec": {
   "display_name": "Python 3 (ipykernel)",
   "language": "python",
   "name": "python3"
  },
  "language_info": {
   "codemirror_mode": {
    "name": "ipython",
    "version": 3
   },
   "file_extension": ".py",
   "mimetype": "text/x-python",
   "name": "python",
   "nbconvert_exporter": "python",
   "pygments_lexer": "ipython3",
   "version": "3.9.15"
  }
 },
 "nbformat": 4,
 "nbformat_minor": 5
}
