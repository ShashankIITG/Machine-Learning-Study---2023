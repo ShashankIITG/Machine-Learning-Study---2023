{
 "cells": [
  {
   "cell_type": "code",
   "execution_count": 6,
   "id": "d1f202c1",
   "metadata": {},
   "outputs": [],
   "source": [
    "import numpy as np\n",
    "import os\n",
    "from pathlib import Path\n",
    "\n",
    "import cv2"
   ]
  },
  {
   "cell_type": "code",
   "execution_count": 7,
   "id": "6d581270",
   "metadata": {},
   "outputs": [
    {
     "name": "stdout",
     "output_type": "stream",
     "text": [
      "^C\n"
     ]
    }
   ],
   "source": [
    "!pip install opencv-python"
   ]
  },
  {
   "cell_type": "code",
   "execution_count": 92,
   "id": "4100d655",
   "metadata": {},
   "outputs": [],
   "source": [
    "p = Path(\"../Dataset/images/\")\n",
    "\n",
    "dirs = p.glob(\"*\")\n",
    "\n",
    "# initalize dataset\n",
    "image_data = []\n",
    "label = []\n",
    "label_dict = {\"cat\": 0, \"dog\": 1, \"horse\": 2, \"human\": 3}\n",
    "\n",
    "for folder in dirs:\n",
    "    # we get cat...dogs folder location\n",
    "    image_type = str(folder).split(\"\\\\\")[-1][:-1]\n",
    "    image_dir = folder.glob(\"*.jpg\")\n",
    "    \n",
    "    for image_loc in image_dir:\n",
    "        image = cv2.imread(str(image_loc))\n",
    "        image = cv2.resize(image, (32, 32))\n",
    "        image = cv2.cvtColor(image, cv2.COLOR_BGR2RGB)\n",
    "        \n",
    "        image_data.append(image)\n",
    "        label.append(label_dict[image_type])"
   ]
  },
  {
   "cell_type": "code",
   "execution_count": 93,
   "id": "fb1f5502",
   "metadata": {},
   "outputs": [
    {
     "name": "stdout",
     "output_type": "stream",
     "text": [
      "808 808\n"
     ]
    }
   ],
   "source": [
    "print(len(image_data), len(label))"
   ]
  },
  {
   "cell_type": "code",
   "execution_count": 94,
   "id": "6a24bded",
   "metadata": {},
   "outputs": [],
   "source": [
    "image_data = np.array(image_data)\n",
    "label = np.array(label)"
   ]
  },
  {
   "cell_type": "code",
   "execution_count": 95,
   "id": "c7d42702",
   "metadata": {},
   "outputs": [
    {
     "data": {
      "text/plain": [
       "(808, 32, 32, 3)"
      ]
     },
     "execution_count": 95,
     "metadata": {},
     "output_type": "execute_result"
    }
   ],
   "source": [
    "image_data.shape"
   ]
  },
  {
   "cell_type": "markdown",
   "id": "21b300e7",
   "metadata": {},
   "source": [
    "## Visualise data"
   ]
  },
  {
   "cell_type": "code",
   "execution_count": 43,
   "id": "2b28cab2",
   "metadata": {},
   "outputs": [],
   "source": [
    "import matplotlib.pyplot as plt\n",
    "%matplotlib widget"
   ]
  },
  {
   "cell_type": "code",
   "execution_count": 73,
   "id": "813d7b72",
   "metadata": {},
   "outputs": [],
   "source": [
    "def drawing(img, label):\n",
    "    plt.figure(figsize=(3,3))\n",
    "    plt.imshow(img)\n",
    "    plt.title(label)\n",
    "    plt.axis(\"off\")\n",
    "    plt.show()"
   ]
  },
  {
   "cell_type": "code",
   "execution_count": 46,
   "id": "6fcdde90",
   "metadata": {},
   "outputs": [],
   "source": [
    "%matplotlib inline"
   ]
  },
  {
   "cell_type": "markdown",
   "id": "ff101bc9",
   "metadata": {},
   "source": [
    "## shuffle the data"
   ]
  },
  {
   "cell_type": "code",
   "execution_count": 53,
   "id": "41240d29",
   "metadata": {},
   "outputs": [],
   "source": [
    "import random"
   ]
  },
  {
   "cell_type": "code",
   "execution_count": 96,
   "id": "ca5d3a42",
   "metadata": {},
   "outputs": [],
   "source": [
    "img_label = list(zip(image_data, label))"
   ]
  },
  {
   "cell_type": "code",
   "execution_count": 97,
   "id": "ca7997c7",
   "metadata": {},
   "outputs": [],
   "source": [
    "random.shuffle(img_label)"
   ]
  },
  {
   "cell_type": "code",
   "execution_count": 98,
   "id": "0070e433",
   "metadata": {},
   "outputs": [],
   "source": [
    "# unzip\n",
    "image_data[:], label[:] = zip(*img_label)"
   ]
  },
  {
   "cell_type": "code",
   "execution_count": 101,
   "id": "d159a766",
   "metadata": {},
   "outputs": [
    {
     "data": {
      "image/png": "[encoded data removed]",
      "text/plain": [
       "<Figure size 300x300 with 1 Axes>"
      ]
     },
     "metadata": {},
     "output_type": "display_data"
    }
   ],
   "source": [
    "drawing(image_data[2], label[2])"
   ]
  },
  {
   "cell_type": "markdown",
   "id": "1338b6fa",
   "metadata": {},
   "source": [
    "## SVM implementation from scratch"
   ]
  },
  {
   "cell_type": "code",
   "execution_count": 102,
   "id": "a64989ea",
   "metadata": {},
   "outputs": [],
   "source": [
    "class SVM:\n",
    "    def __init__(self, c=1.0):\n",
    "        self.c = c\n",
    "        self.weight = 0\n",
    "        self.bias = 0\n",
    "        \n",
    "    def loss(X, Y, W, b, c):\n",
    "        t = Y * (np.dot(X, W) + b)\n",
    "        l = np.dot(W.T, W) + c * (np.sum(np.maximum(0, 1-t)))\n",
    "        \n",
    "        return l\n",
    "    \n",
    "    def fit(self, X, Y, batch_size = 50, learning_rate = 0.05, max_epochs = 200):\n",
    "        Y = Y.reshape((-1, 1))\n",
    "        \n",
    "        no_of_samples = Y.shape[0]\n",
    "        no_of_batch = int(no_of_samples/batch_size)\n",
    "        \n",
    "        for i in range(max_epochs):\n",
    "            for batch_no in range(no_of_batch):\n",
    "                X_batch = X[batch_no*batch_size: (batch_no+1)*batch_size]\n",
    "                Y_batch = Y[batch_no*batch_size: (batch_no+1)*batch_size]\n",
    "                \n",
    "                t = Y * (np.dot(X, W) + b)\n",
    "                \n",
    "                decision = np.zeros((batch_size, 1))\n",
    "                decision[t<1] = -1\n",
    "                \n",
    "                gradW = 0.5*W + self.c * decision * np.dot(Y, X)\n",
    "                gradb = self.c * np.dot(decision.T, Y)\n",
    "                \n",
    "                W = W - learning_rate * gradW\n",
    "                b = b - learning_rate * gradb\n",
    "                \n",
    "                print(i, batch_no, \"\\r\")\n",
    "                \n",
    "        self.weight = W\n",
    "        self.bias = b"
   ]
  },
  {
   "cell_type": "code",
   "execution_count": 103,
   "id": "447aea2b",
   "metadata": {},
   "outputs": [],
   "source": [
    "svc = SVM()"
   ]
  },
  {
   "cell_type": "markdown",
   "id": "0246b6b4",
   "metadata": {},
   "source": [
    "## data conversion for one-for-one classification"
   ]
  },
  {
   "cell_type": "code",
   "execution_count": 104,
   "id": "49f81c72",
   "metadata": {},
   "outputs": [],
   "source": [
    "m = image_data.shape[0]\n",
    "X = image_data.reshape((m, -1))"
   ]
  },
  {
   "cell_type": "code",
   "execution_count": null,
   "id": "d1c32ebd",
   "metadata": {},
   "outputs": [],
   "source": [
    "def classWiseData()"
   ]
  }
 ],
 "metadata": {
  "kernelspec": {
   "display_name": "Python 3 (ipykernel)",
   "language": "python",
   "name": "python3"
  },
  "language_info": {
   "codemirror_mode": {
    "name": "ipython",
    "version": 3
   },
   "file_extension": ".py",
   "mimetype": "text/x-python",
   "name": "python",
   "nbconvert_exporter": "python",
   "pygments_lexer": "ipython3",
   "version": "3.9.15"
  }
 },
 "nbformat": 4,
 "nbformat_minor": 5
}
