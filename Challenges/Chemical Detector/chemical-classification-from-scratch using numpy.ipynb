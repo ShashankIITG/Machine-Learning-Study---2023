{
 "cells": [
  {
   "cell_type": "code",
   "execution_count": 165,
   "metadata": {},
   "outputs": [],
   "source": [
    "import pandas as pd\n",
    "import numpy as np\n",
    "\n",
    "import matplotlib.pyplot as plt\n",
    "from sklearn.metrics import confusion_matrix\n",
    "from sklearn.metrics import ConfusionMatrixDisplay"
   ]
  },
  {
   "cell_type": "code",
   "execution_count": 3,
   "metadata": {},
   "outputs": [],
   "source": [
    "X_df = pd.read_csv(\"Training Data/Logistic_X_Train.csv\")\n",
    "Y_df = pd.read_csv(\"Training Data/Logistic_Y_Train.csv\")"
   ]
  },
  {
   "cell_type": "code",
   "execution_count": 4,
   "metadata": {},
   "outputs": [
    {
     "name": "stdout",
     "output_type": "stream",
     "text": [
      "<class 'pandas.core.frame.DataFrame'>\n",
      "RangeIndex: 3000 entries, 0 to 2999\n",
      "Data columns (total 3 columns):\n",
      " #   Column  Non-Null Count  Dtype  \n",
      "---  ------  --------------  -----  \n",
      " 0   f1      3000 non-null   float64\n",
      " 1   f2      3000 non-null   float64\n",
      " 2   f3      3000 non-null   float64\n",
      "dtypes: float64(3)\n",
      "memory usage: 70.4 KB\n"
     ]
    }
   ],
   "source": [
    "X_df.info()"
   ]
  },
  {
   "cell_type": "code",
   "execution_count": 5,
   "metadata": {},
   "outputs": [
    {
     "name": "stdout",
     "output_type": "stream",
     "text": [
      "<class 'pandas.core.frame.DataFrame'>\n",
      "RangeIndex: 3000 entries, 0 to 2999\n",
      "Data columns (total 1 columns):\n",
      " #   Column  Non-Null Count  Dtype\n",
      "---  ------  --------------  -----\n",
      " 0   label   3000 non-null   int64\n",
      "dtypes: int64(1)\n",
      "memory usage: 23.6 KB\n"
     ]
    }
   ],
   "source": [
    "Y_df.info()"
   ]
  },
  {
   "cell_type": "code",
   "execution_count": 6,
   "metadata": {},
   "outputs": [
    {
     "data": {
      "text/html": [
       "<div>\n",
       "<style scoped>\n",
       "    .dataframe tbody tr th:only-of-type {\n",
       "        vertical-align: middle;\n",
       "    }\n",
       "\n",
       "    .dataframe tbody tr th {\n",
       "        vertical-align: top;\n",
       "    }\n",
       "\n",
       "    .dataframe thead th {\n",
       "        text-align: right;\n",
       "    }\n",
       "</style>\n",
       "<table border=\"1\" class=\"dataframe\">\n",
       "  <thead>\n",
       "    <tr style=\"text-align: right;\">\n",
       "      <th></th>\n",
       "      <th>label</th>\n",
       "    </tr>\n",
       "  </thead>\n",
       "  <tbody>\n",
       "    <tr>\n",
       "      <th>0</th>\n",
       "      <td>1</td>\n",
       "    </tr>\n",
       "    <tr>\n",
       "      <th>1</th>\n",
       "      <td>1</td>\n",
       "    </tr>\n",
       "    <tr>\n",
       "      <th>2</th>\n",
       "      <td>1</td>\n",
       "    </tr>\n",
       "    <tr>\n",
       "      <th>3</th>\n",
       "      <td>0</td>\n",
       "    </tr>\n",
       "    <tr>\n",
       "      <th>4</th>\n",
       "      <td>0</td>\n",
       "    </tr>\n",
       "  </tbody>\n",
       "</table>\n",
       "</div>"
      ],
      "text/plain": [
       "   label\n",
       "0      1\n",
       "1      1\n",
       "2      1\n",
       "3      0\n",
       "4      0"
      ]
     },
     "execution_count": 6,
     "metadata": {},
     "output_type": "execute_result"
    }
   ],
   "source": [
    "Y_df.head()"
   ]
  },
  {
   "cell_type": "code",
   "execution_count": 152,
   "metadata": {},
   "outputs": [],
   "source": [
    "# train test split\n",
    "X, Y = X_df.values[:2500], Y_df.values[:2500]\n",
    "Xt, Yt = X_df.values[2500:], Y_df.values[2500:]"
   ]
  },
  {
   "cell_type": "markdown",
   "metadata": {},
   "source": [
    "# Logistic Regression"
   ]
  },
  {
   "cell_type": "code",
   "execution_count": 153,
   "metadata": {},
   "outputs": [],
   "source": [
    "class LogisticRegression:\n",
    "    def __init__(self, X, Y):\n",
    "        \"\"\"\n",
    "        params; X: training independent features\n",
    "        params; Y: training dependent feature/label\n",
    "        \"\"\"\n",
    "        self.X = np.hstack((np.ones((X.shape[0], 1)), X)) # stacking vector of 1 for W0 (bias) to each sample\n",
    "        self.Y = Y\n",
    "        self.W = np.random.randn(self.X.shape[1], 1)\n",
    "        self.loss = []\n",
    "        self.acc = []\n",
    "        self.val_loss = []\n",
    "        self.val_acc = []\n",
    "    \n",
    "    def sigmoid(self, Y):\n",
    "        return 1.0 / (1.0 + np.exp(-Y))\n",
    "        \n",
    "    def predict(self, X):\n",
    "        # this is Y hypothesis\n",
    "        Yhypo = np.matmul(X, self.W)\n",
    "        Yp = self.sigmoid(Yhypo)\n",
    "        return Yp\n",
    "        \n",
    "    def binary_cross_entropy(self, Y, Yp):\n",
    "        l = np.mean(Y*np.log(Yp) + (1-Y)*np.log(1-Yp))\n",
    "        return -1.0 * l\n",
    "    \n",
    "    def accuracy(self, Y, Yp):\n",
    "        \"\"\"\n",
    "        params; Y: actual label with value 0 or 1\n",
    "        params; Yp: predicted prob with value between 0 and 1 for label 1\n",
    "        \"\"\"\n",
    "        Yp_label = np.array(Yp > 0.5)\n",
    "        a = np.mean(Yp_label == Y)\n",
    "        return a\n",
    "    \n",
    "    def gradient(self, X, Y):\n",
    "        Yp = self.predict(X)\n",
    "        return np.matmul(X.T, (Yp-Y))\n",
    "        \n",
    "    def train(self, learning_rate=0.001, epochs=40, batch_size=200, vsplit=0.2):\n",
    "        \"\"\"\n",
    "        func desc; this function trains the model over dataset \n",
    "        \"\"\"\n",
    "        # training and validation split\n",
    "        no_of_samples = self.X.shape[0]\n",
    "        split_idx = int(no_of_samples * (1 - vsplit))\n",
    "        \n",
    "        Xt, Yt = self.X[ : split_idx], self.Y[ : split_idx]\n",
    "        Xv, Yv = self.X[split_idx : ], self.Y[split_idx : ]\n",
    "        \n",
    "        no_of_batches = int(Xt.shape[0]/batch_size)\n",
    "        for i in range(epochs):\n",
    "            # shuffle training data on every epoch to avoid residual samples\n",
    "            train_data = list(zip(Xt, Yt)) # zip can only shuffle list ig\n",
    "            np.random.shuffle(train_data)\n",
    "            Xt_tupple, Yt_tupple = zip(*train_data) # unzip the shuffle train data\n",
    "            Xt, Yt = np.asarray(Xt_tupple), np.asarray(Yt_tupple)\n",
    "            \n",
    "            for j in range(no_of_batches):\n",
    "                \n",
    "                Xt_batch = Xt[j*batch_size: (j+1)*batch_size]\n",
    "                Yt_batch = Yt[j*batch_size: (j+1)*batch_size]\n",
    "                \n",
    "                Ytp_batch = self.predict(Xt_batch)\n",
    "                \n",
    "                self.W = self.W - learning_rate * self.gradient(Xt_batch, Yt_batch)\n",
    "                \n",
    "                self.loss.append(self.binary_cross_entropy(Yt_batch, Ytp_batch))\n",
    "                self.acc.append(self.accuracy(Yt_batch, Ytp_batch))\n",
    "                \n",
    "                Yvp = self.predict(Xv)\n",
    "                self.val_loss.append(self.binary_cross_entropy(Yv, Yvp))\n",
    "                self.val_acc.append(self.accuracy(Yv, Yvp))\n",
    "                \n",
    "                print(\"epoch: {}/{} |acc: {:.3f} |val_acc: {:.3f} |loss: {:.3f} |val_loss: {:.3f}\".format(i, \n",
    "                                                                           j, \n",
    "                                                                           self.acc[len(self.acc)-1],\n",
    "                                                                           self.val_acc[len(self.val_acc)-1],\n",
    "                                                                           self.loss[len(self.loss)-1],\n",
    "                                                                           self.val_loss[len(self.val_loss)-1]\n",
    "                                                                          ))"
   ]
  },
  {
   "cell_type": "code",
   "execution_count": 154,
   "metadata": {},
   "outputs": [],
   "source": [
    "lr = LogisticRegression(X, Y)"
   ]
  },
  {
   "cell_type": "code",
   "execution_count": 155,
   "metadata": {
    "scrolled": true
   },
   "outputs": [
    {
     "name": "stdout",
     "output_type": "stream",
     "text": [
      "epoch: 0/0 |acc: 0.335 |val_acc: 0.390 |loss: 1.040 |val_loss: 0.949\n",
      "epoch: 0/1 |acc: 0.405 |val_acc: 0.462 |loss: 0.936 |val_loss: 0.846\n",
      "epoch: 0/2 |acc: 0.450 |val_acc: 0.534 |loss: 0.836 |val_loss: 0.761\n",
      "epoch: 0/3 |acc: 0.535 |val_acc: 0.596 |loss: 0.787 |val_loss: 0.688\n",
      "epoch: 0/4 |acc: 0.670 |val_acc: 0.648 |loss: 0.624 |val_loss: 0.633\n",
      "epoch: 0/5 |acc: 0.640 |val_acc: 0.696 |loss: 0.619 |val_loss: 0.579\n",
      "epoch: 0/6 |acc: 0.715 |val_acc: 0.740 |loss: 0.551 |val_loss: 0.536\n",
      "epoch: 0/7 |acc: 0.785 |val_acc: 0.758 |loss: 0.485 |val_loss: 0.502\n",
      "epoch: 0/8 |acc: 0.805 |val_acc: 0.784 |loss: 0.441 |val_loss: 0.471\n",
      "epoch: 0/9 |acc: 0.855 |val_acc: 0.794 |loss: 0.389 |val_loss: 0.444\n",
      "epoch: 1/0 |acc: 0.760 |val_acc: 0.810 |loss: 0.467 |val_loss: 0.419\n",
      "epoch: 1/1 |acc: 0.855 |val_acc: 0.822 |loss: 0.390 |val_loss: 0.396\n",
      "epoch: 1/2 |acc: 0.830 |val_acc: 0.836 |loss: 0.395 |val_loss: 0.377\n",
      "epoch: 1/3 |acc: 0.855 |val_acc: 0.844 |loss: 0.341 |val_loss: 0.360\n",
      "epoch: 1/4 |acc: 0.865 |val_acc: 0.860 |loss: 0.324 |val_loss: 0.347\n",
      "epoch: 1/5 |acc: 0.905 |val_acc: 0.866 |loss: 0.277 |val_loss: 0.334\n",
      "epoch: 1/6 |acc: 0.885 |val_acc: 0.876 |loss: 0.308 |val_loss: 0.320\n",
      "epoch: 1/7 |acc: 0.895 |val_acc: 0.882 |loss: 0.289 |val_loss: 0.308\n",
      "epoch: 1/8 |acc: 0.890 |val_acc: 0.892 |loss: 0.306 |val_loss: 0.298\n",
      "epoch: 1/9 |acc: 0.940 |val_acc: 0.900 |loss: 0.247 |val_loss: 0.289\n",
      "epoch: 2/0 |acc: 0.900 |val_acc: 0.906 |loss: 0.287 |val_loss: 0.279\n",
      "epoch: 2/1 |acc: 0.905 |val_acc: 0.910 |loss: 0.274 |val_loss: 0.270\n",
      "epoch: 2/2 |acc: 0.950 |val_acc: 0.910 |loss: 0.208 |val_loss: 0.264\n",
      "epoch: 2/3 |acc: 0.925 |val_acc: 0.910 |loss: 0.252 |val_loss: 0.257\n",
      "epoch: 2/4 |acc: 0.955 |val_acc: 0.916 |loss: 0.217 |val_loss: 0.250\n",
      "epoch: 2/5 |acc: 0.925 |val_acc: 0.916 |loss: 0.229 |val_loss: 0.245\n",
      "epoch: 2/6 |acc: 0.950 |val_acc: 0.916 |loss: 0.203 |val_loss: 0.240\n",
      "epoch: 2/7 |acc: 0.915 |val_acc: 0.926 |loss: 0.271 |val_loss: 0.234\n",
      "epoch: 2/8 |acc: 0.925 |val_acc: 0.928 |loss: 0.251 |val_loss: 0.229\n",
      "epoch: 2/9 |acc: 0.975 |val_acc: 0.934 |loss: 0.164 |val_loss: 0.224\n",
      "epoch: 3/0 |acc: 0.945 |val_acc: 0.934 |loss: 0.181 |val_loss: 0.220\n",
      "epoch: 3/1 |acc: 0.975 |val_acc: 0.940 |loss: 0.178 |val_loss: 0.216\n",
      "epoch: 3/2 |acc: 0.955 |val_acc: 0.940 |loss: 0.164 |val_loss: 0.212\n",
      "epoch: 3/3 |acc: 0.940 |val_acc: 0.942 |loss: 0.197 |val_loss: 0.208\n",
      "epoch: 3/4 |acc: 0.930 |val_acc: 0.946 |loss: 0.221 |val_loss: 0.204\n",
      "epoch: 3/5 |acc: 0.955 |val_acc: 0.946 |loss: 0.183 |val_loss: 0.201\n",
      "epoch: 3/6 |acc: 0.920 |val_acc: 0.946 |loss: 0.208 |val_loss: 0.197\n",
      "epoch: 3/7 |acc: 0.920 |val_acc: 0.946 |loss: 0.198 |val_loss: 0.194\n",
      "epoch: 3/8 |acc: 0.955 |val_acc: 0.946 |loss: 0.173 |val_loss: 0.191\n",
      "epoch: 3/9 |acc: 0.960 |val_acc: 0.948 |loss: 0.193 |val_loss: 0.189\n",
      "epoch: 4/0 |acc: 0.950 |val_acc: 0.948 |loss: 0.182 |val_loss: 0.185\n",
      "epoch: 4/1 |acc: 0.960 |val_acc: 0.948 |loss: 0.164 |val_loss: 0.182\n",
      "epoch: 4/2 |acc: 0.955 |val_acc: 0.952 |loss: 0.172 |val_loss: 0.180\n",
      "epoch: 4/3 |acc: 0.945 |val_acc: 0.956 |loss: 0.179 |val_loss: 0.177\n",
      "epoch: 4/4 |acc: 0.955 |val_acc: 0.956 |loss: 0.161 |val_loss: 0.175\n",
      "epoch: 4/5 |acc: 0.970 |val_acc: 0.956 |loss: 0.139 |val_loss: 0.173\n",
      "epoch: 4/6 |acc: 0.960 |val_acc: 0.956 |loss: 0.147 |val_loss: 0.170\n",
      "epoch: 4/7 |acc: 0.935 |val_acc: 0.956 |loss: 0.179 |val_loss: 0.169\n",
      "epoch: 4/8 |acc: 0.950 |val_acc: 0.956 |loss: 0.186 |val_loss: 0.167\n",
      "epoch: 4/9 |acc: 0.985 |val_acc: 0.956 |loss: 0.114 |val_loss: 0.165\n",
      "epoch: 5/0 |acc: 0.945 |val_acc: 0.956 |loss: 0.169 |val_loss: 0.163\n",
      "epoch: 5/1 |acc: 0.985 |val_acc: 0.956 |loss: 0.117 |val_loss: 0.162\n",
      "epoch: 5/2 |acc: 0.955 |val_acc: 0.956 |loss: 0.146 |val_loss: 0.160\n",
      "epoch: 5/3 |acc: 0.960 |val_acc: 0.956 |loss: 0.147 |val_loss: 0.158\n",
      "epoch: 5/4 |acc: 0.975 |val_acc: 0.958 |loss: 0.118 |val_loss: 0.156\n",
      "epoch: 5/5 |acc: 0.960 |val_acc: 0.958 |loss: 0.161 |val_loss: 0.154\n",
      "epoch: 5/6 |acc: 0.965 |val_acc: 0.958 |loss: 0.147 |val_loss: 0.153\n",
      "epoch: 5/7 |acc: 0.955 |val_acc: 0.958 |loss: 0.133 |val_loss: 0.151\n",
      "epoch: 5/8 |acc: 0.945 |val_acc: 0.962 |loss: 0.165 |val_loss: 0.150\n",
      "epoch: 5/9 |acc: 0.970 |val_acc: 0.962 |loss: 0.135 |val_loss: 0.148\n",
      "epoch: 6/0 |acc: 0.945 |val_acc: 0.962 |loss: 0.163 |val_loss: 0.147\n",
      "epoch: 6/1 |acc: 0.950 |val_acc: 0.962 |loss: 0.130 |val_loss: 0.146\n",
      "epoch: 6/2 |acc: 0.975 |val_acc: 0.962 |loss: 0.108 |val_loss: 0.145\n",
      "epoch: 6/3 |acc: 0.965 |val_acc: 0.964 |loss: 0.145 |val_loss: 0.143\n",
      "epoch: 6/4 |acc: 0.975 |val_acc: 0.964 |loss: 0.144 |val_loss: 0.142\n",
      "epoch: 6/5 |acc: 0.990 |val_acc: 0.964 |loss: 0.092 |val_loss: 0.141\n",
      "epoch: 6/6 |acc: 0.950 |val_acc: 0.964 |loss: 0.159 |val_loss: 0.139\n",
      "epoch: 6/7 |acc: 0.980 |val_acc: 0.964 |loss: 0.100 |val_loss: 0.138\n",
      "epoch: 6/8 |acc: 0.975 |val_acc: 0.964 |loss: 0.115 |val_loss: 0.137\n",
      "epoch: 6/9 |acc: 0.950 |val_acc: 0.964 |loss: 0.149 |val_loss: 0.136\n",
      "epoch: 7/0 |acc: 0.965 |val_acc: 0.964 |loss: 0.137 |val_loss: 0.135\n",
      "epoch: 7/1 |acc: 0.975 |val_acc: 0.964 |loss: 0.111 |val_loss: 0.133\n",
      "epoch: 7/2 |acc: 0.965 |val_acc: 0.964 |loss: 0.138 |val_loss: 0.132\n",
      "epoch: 7/3 |acc: 0.965 |val_acc: 0.966 |loss: 0.106 |val_loss: 0.131\n",
      "epoch: 7/4 |acc: 0.985 |val_acc: 0.966 |loss: 0.086 |val_loss: 0.130\n",
      "epoch: 7/5 |acc: 0.975 |val_acc: 0.968 |loss: 0.114 |val_loss: 0.129\n",
      "epoch: 7/6 |acc: 0.950 |val_acc: 0.970 |loss: 0.151 |val_loss: 0.128\n",
      "epoch: 7/7 |acc: 0.970 |val_acc: 0.970 |loss: 0.117 |val_loss: 0.127\n",
      "epoch: 7/8 |acc: 0.975 |val_acc: 0.970 |loss: 0.121 |val_loss: 0.127\n",
      "epoch: 7/9 |acc: 0.955 |val_acc: 0.970 |loss: 0.122 |val_loss: 0.126\n",
      "epoch: 8/0 |acc: 0.960 |val_acc: 0.972 |loss: 0.145 |val_loss: 0.125\n",
      "epoch: 8/1 |acc: 0.965 |val_acc: 0.972 |loss: 0.098 |val_loss: 0.124\n",
      "epoch: 8/2 |acc: 0.975 |val_acc: 0.972 |loss: 0.105 |val_loss: 0.123\n",
      "epoch: 8/3 |acc: 0.965 |val_acc: 0.972 |loss: 0.132 |val_loss: 0.122\n",
      "epoch: 8/4 |acc: 0.965 |val_acc: 0.972 |loss: 0.107 |val_loss: 0.121\n",
      "epoch: 8/5 |acc: 0.980 |val_acc: 0.972 |loss: 0.094 |val_loss: 0.120\n",
      "epoch: 8/6 |acc: 0.965 |val_acc: 0.972 |loss: 0.115 |val_loss: 0.120\n",
      "epoch: 8/7 |acc: 0.970 |val_acc: 0.974 |loss: 0.097 |val_loss: 0.119\n",
      "epoch: 8/8 |acc: 0.965 |val_acc: 0.974 |loss: 0.124 |val_loss: 0.118\n",
      "epoch: 8/9 |acc: 0.980 |val_acc: 0.974 |loss: 0.102 |val_loss: 0.117\n",
      "epoch: 9/0 |acc: 0.975 |val_acc: 0.974 |loss: 0.115 |val_loss: 0.117\n",
      "epoch: 9/1 |acc: 0.980 |val_acc: 0.974 |loss: 0.090 |val_loss: 0.116\n",
      "epoch: 9/2 |acc: 0.950 |val_acc: 0.974 |loss: 0.141 |val_loss: 0.115\n",
      "epoch: 9/3 |acc: 0.955 |val_acc: 0.974 |loss: 0.122 |val_loss: 0.114\n",
      "epoch: 9/4 |acc: 0.955 |val_acc: 0.974 |loss: 0.125 |val_loss: 0.113\n",
      "epoch: 9/5 |acc: 0.975 |val_acc: 0.974 |loss: 0.114 |val_loss: 0.113\n",
      "epoch: 9/6 |acc: 0.970 |val_acc: 0.974 |loss: 0.102 |val_loss: 0.112\n",
      "epoch: 9/7 |acc: 0.985 |val_acc: 0.974 |loss: 0.070 |val_loss: 0.112\n",
      "epoch: 9/8 |acc: 0.990 |val_acc: 0.974 |loss: 0.080 |val_loss: 0.111\n",
      "epoch: 9/9 |acc: 0.975 |val_acc: 0.974 |loss: 0.093 |val_loss: 0.111\n",
      "epoch: 10/0 |acc: 0.960 |val_acc: 0.974 |loss: 0.100 |val_loss: 0.110\n",
      "epoch: 10/1 |acc: 0.970 |val_acc: 0.974 |loss: 0.100 |val_loss: 0.109\n",
      "epoch: 10/2 |acc: 0.980 |val_acc: 0.974 |loss: 0.102 |val_loss: 0.109\n",
      "epoch: 10/3 |acc: 0.970 |val_acc: 0.974 |loss: 0.119 |val_loss: 0.108\n",
      "epoch: 10/4 |acc: 0.965 |val_acc: 0.974 |loss: 0.118 |val_loss: 0.108\n",
      "epoch: 10/5 |acc: 0.990 |val_acc: 0.974 |loss: 0.065 |val_loss: 0.107\n",
      "epoch: 10/6 |acc: 0.990 |val_acc: 0.974 |loss: 0.071 |val_loss: 0.107\n",
      "epoch: 10/7 |acc: 0.965 |val_acc: 0.974 |loss: 0.108 |val_loss: 0.106\n",
      "epoch: 10/8 |acc: 0.980 |val_acc: 0.974 |loss: 0.097 |val_loss: 0.106\n",
      "epoch: 10/9 |acc: 0.970 |val_acc: 0.974 |loss: 0.114 |val_loss: 0.105\n",
      "epoch: 11/0 |acc: 0.980 |val_acc: 0.974 |loss: 0.101 |val_loss: 0.105\n",
      "epoch: 11/1 |acc: 0.975 |val_acc: 0.974 |loss: 0.091 |val_loss: 0.104\n",
      "epoch: 11/2 |acc: 0.975 |val_acc: 0.974 |loss: 0.121 |val_loss: 0.104\n",
      "epoch: 11/3 |acc: 0.975 |val_acc: 0.976 |loss: 0.100 |val_loss: 0.103\n",
      "epoch: 11/4 |acc: 0.980 |val_acc: 0.978 |loss: 0.078 |val_loss: 0.103\n",
      "epoch: 11/5 |acc: 0.970 |val_acc: 0.978 |loss: 0.103 |val_loss: 0.102\n",
      "epoch: 11/6 |acc: 0.955 |val_acc: 0.978 |loss: 0.120 |val_loss: 0.101\n",
      "epoch: 11/7 |acc: 0.990 |val_acc: 0.978 |loss: 0.055 |val_loss: 0.101\n",
      "epoch: 11/8 |acc: 0.970 |val_acc: 0.978 |loss: 0.091 |val_loss: 0.101\n",
      "epoch: 11/9 |acc: 0.985 |val_acc: 0.978 |loss: 0.084 |val_loss: 0.100\n",
      "epoch: 12/0 |acc: 0.980 |val_acc: 0.978 |loss: 0.077 |val_loss: 0.100\n",
      "epoch: 12/1 |acc: 0.965 |val_acc: 0.978 |loss: 0.104 |val_loss: 0.099\n",
      "epoch: 12/2 |acc: 0.975 |val_acc: 0.978 |loss: 0.083 |val_loss: 0.099\n",
      "epoch: 12/3 |acc: 0.975 |val_acc: 0.978 |loss: 0.112 |val_loss: 0.098\n",
      "epoch: 12/4 |acc: 0.980 |val_acc: 0.978 |loss: 0.076 |val_loss: 0.098\n",
      "epoch: 12/5 |acc: 0.985 |val_acc: 0.978 |loss: 0.075 |val_loss: 0.097\n",
      "epoch: 12/6 |acc: 0.975 |val_acc: 0.982 |loss: 0.096 |val_loss: 0.097\n",
      "epoch: 12/7 |acc: 0.980 |val_acc: 0.982 |loss: 0.082 |val_loss: 0.097\n",
      "epoch: 12/8 |acc: 0.965 |val_acc: 0.982 |loss: 0.130 |val_loss: 0.096\n",
      "epoch: 12/9 |acc: 0.990 |val_acc: 0.982 |loss: 0.069 |val_loss: 0.096\n",
      "epoch: 13/0 |acc: 0.980 |val_acc: 0.982 |loss: 0.083 |val_loss: 0.096\n",
      "epoch: 13/1 |acc: 0.995 |val_acc: 0.982 |loss: 0.063 |val_loss: 0.095\n",
      "epoch: 13/2 |acc: 0.965 |val_acc: 0.982 |loss: 0.095 |val_loss: 0.095\n",
      "epoch: 13/3 |acc: 0.970 |val_acc: 0.982 |loss: 0.096 |val_loss: 0.094\n",
      "epoch: 13/4 |acc: 1.000 |val_acc: 0.982 |loss: 0.056 |val_loss: 0.094\n",
      "epoch: 13/5 |acc: 0.960 |val_acc: 0.982 |loss: 0.121 |val_loss: 0.094\n",
      "epoch: 13/6 |acc: 0.990 |val_acc: 0.982 |loss: 0.058 |val_loss: 0.094\n",
      "epoch: 13/7 |acc: 0.970 |val_acc: 0.982 |loss: 0.083 |val_loss: 0.093\n",
      "epoch: 13/8 |acc: 0.975 |val_acc: 0.982 |loss: 0.094 |val_loss: 0.093\n",
      "epoch: 13/9 |acc: 0.965 |val_acc: 0.982 |loss: 0.119 |val_loss: 0.092\n"
     ]
    },
    {
     "name": "stdout",
     "output_type": "stream",
     "text": [
      "epoch: 14/0 |acc: 0.985 |val_acc: 0.982 |loss: 0.085 |val_loss: 0.092\n",
      "epoch: 14/1 |acc: 0.975 |val_acc: 0.982 |loss: 0.066 |val_loss: 0.092\n",
      "epoch: 14/2 |acc: 0.975 |val_acc: 0.982 |loss: 0.085 |val_loss: 0.091\n",
      "epoch: 14/3 |acc: 0.965 |val_acc: 0.982 |loss: 0.103 |val_loss: 0.091\n",
      "epoch: 14/4 |acc: 0.980 |val_acc: 0.982 |loss: 0.091 |val_loss: 0.091\n",
      "epoch: 14/5 |acc: 0.990 |val_acc: 0.982 |loss: 0.074 |val_loss: 0.090\n",
      "epoch: 14/6 |acc: 0.980 |val_acc: 0.982 |loss: 0.080 |val_loss: 0.090\n",
      "epoch: 14/7 |acc: 0.960 |val_acc: 0.982 |loss: 0.107 |val_loss: 0.090\n",
      "epoch: 14/8 |acc: 0.985 |val_acc: 0.982 |loss: 0.076 |val_loss: 0.089\n",
      "epoch: 14/9 |acc: 0.990 |val_acc: 0.982 |loss: 0.069 |val_loss: 0.089\n",
      "epoch: 15/0 |acc: 0.980 |val_acc: 0.982 |loss: 0.078 |val_loss: 0.089\n",
      "epoch: 15/1 |acc: 0.975 |val_acc: 0.982 |loss: 0.077 |val_loss: 0.088\n",
      "epoch: 15/2 |acc: 0.990 |val_acc: 0.982 |loss: 0.081 |val_loss: 0.088\n",
      "epoch: 15/3 |acc: 0.985 |val_acc: 0.982 |loss: 0.080 |val_loss: 0.088\n",
      "epoch: 15/4 |acc: 0.985 |val_acc: 0.984 |loss: 0.061 |val_loss: 0.088\n",
      "epoch: 15/5 |acc: 0.975 |val_acc: 0.984 |loss: 0.098 |val_loss: 0.087\n",
      "epoch: 15/6 |acc: 0.970 |val_acc: 0.984 |loss: 0.097 |val_loss: 0.087\n",
      "epoch: 15/7 |acc: 0.975 |val_acc: 0.984 |loss: 0.090 |val_loss: 0.087\n",
      "epoch: 15/8 |acc: 0.970 |val_acc: 0.984 |loss: 0.087 |val_loss: 0.086\n",
      "epoch: 15/9 |acc: 0.990 |val_acc: 0.984 |loss: 0.058 |val_loss: 0.086\n",
      "epoch: 16/0 |acc: 0.975 |val_acc: 0.984 |loss: 0.097 |val_loss: 0.086\n",
      "epoch: 16/1 |acc: 0.990 |val_acc: 0.984 |loss: 0.057 |val_loss: 0.086\n",
      "epoch: 16/2 |acc: 0.990 |val_acc: 0.984 |loss: 0.067 |val_loss: 0.085\n",
      "epoch: 16/3 |acc: 0.975 |val_acc: 0.984 |loss: 0.073 |val_loss: 0.085\n",
      "epoch: 16/4 |acc: 0.960 |val_acc: 0.984 |loss: 0.117 |val_loss: 0.085\n",
      "epoch: 16/5 |acc: 0.975 |val_acc: 0.984 |loss: 0.102 |val_loss: 0.085\n",
      "epoch: 16/6 |acc: 0.980 |val_acc: 0.984 |loss: 0.071 |val_loss: 0.084\n",
      "epoch: 16/7 |acc: 0.990 |val_acc: 0.984 |loss: 0.049 |val_loss: 0.084\n",
      "epoch: 16/8 |acc: 0.985 |val_acc: 0.984 |loss: 0.066 |val_loss: 0.084\n",
      "epoch: 16/9 |acc: 0.980 |val_acc: 0.984 |loss: 0.081 |val_loss: 0.084\n",
      "epoch: 17/0 |acc: 0.985 |val_acc: 0.984 |loss: 0.098 |val_loss: 0.083\n",
      "epoch: 17/1 |acc: 0.985 |val_acc: 0.984 |loss: 0.066 |val_loss: 0.083\n",
      "epoch: 17/2 |acc: 0.980 |val_acc: 0.984 |loss: 0.087 |val_loss: 0.083\n",
      "epoch: 17/3 |acc: 0.980 |val_acc: 0.984 |loss: 0.068 |val_loss: 0.083\n",
      "epoch: 17/4 |acc: 0.980 |val_acc: 0.984 |loss: 0.075 |val_loss: 0.082\n",
      "epoch: 17/5 |acc: 0.980 |val_acc: 0.984 |loss: 0.065 |val_loss: 0.082\n",
      "epoch: 17/6 |acc: 0.975 |val_acc: 0.984 |loss: 0.088 |val_loss: 0.082\n",
      "epoch: 17/7 |acc: 0.980 |val_acc: 0.984 |loss: 0.063 |val_loss: 0.082\n",
      "epoch: 17/8 |acc: 0.980 |val_acc: 0.984 |loss: 0.068 |val_loss: 0.082\n",
      "epoch: 17/9 |acc: 0.985 |val_acc: 0.984 |loss: 0.079 |val_loss: 0.081\n",
      "epoch: 18/0 |acc: 0.985 |val_acc: 0.984 |loss: 0.069 |val_loss: 0.081\n",
      "epoch: 18/1 |acc: 0.980 |val_acc: 0.984 |loss: 0.101 |val_loss: 0.081\n",
      "epoch: 18/2 |acc: 0.975 |val_acc: 0.984 |loss: 0.073 |val_loss: 0.081\n",
      "epoch: 18/3 |acc: 0.965 |val_acc: 0.984 |loss: 0.085 |val_loss: 0.080\n",
      "epoch: 18/4 |acc: 0.980 |val_acc: 0.984 |loss: 0.060 |val_loss: 0.080\n",
      "epoch: 18/5 |acc: 0.995 |val_acc: 0.984 |loss: 0.062 |val_loss: 0.080\n",
      "epoch: 18/6 |acc: 0.985 |val_acc: 0.984 |loss: 0.082 |val_loss: 0.080\n",
      "epoch: 18/7 |acc: 0.965 |val_acc: 0.984 |loss: 0.087 |val_loss: 0.080\n",
      "epoch: 18/8 |acc: 0.990 |val_acc: 0.984 |loss: 0.065 |val_loss: 0.079\n",
      "epoch: 18/9 |acc: 0.995 |val_acc: 0.984 |loss: 0.051 |val_loss: 0.079\n",
      "epoch: 19/0 |acc: 0.995 |val_acc: 0.984 |loss: 0.054 |val_loss: 0.079\n",
      "epoch: 19/1 |acc: 0.970 |val_acc: 0.984 |loss: 0.101 |val_loss: 0.079\n",
      "epoch: 19/2 |acc: 0.985 |val_acc: 0.984 |loss: 0.074 |val_loss: 0.079\n",
      "epoch: 19/3 |acc: 0.960 |val_acc: 0.984 |loss: 0.131 |val_loss: 0.078\n",
      "epoch: 19/4 |acc: 0.995 |val_acc: 0.984 |loss: 0.041 |val_loss: 0.078\n",
      "epoch: 19/5 |acc: 0.985 |val_acc: 0.984 |loss: 0.071 |val_loss: 0.078\n",
      "epoch: 19/6 |acc: 0.985 |val_acc: 0.984 |loss: 0.054 |val_loss: 0.078\n",
      "epoch: 19/7 |acc: 0.980 |val_acc: 0.984 |loss: 0.071 |val_loss: 0.078\n",
      "epoch: 19/8 |acc: 0.990 |val_acc: 0.984 |loss: 0.068 |val_loss: 0.077\n",
      "epoch: 19/9 |acc: 0.990 |val_acc: 0.984 |loss: 0.054 |val_loss: 0.077\n",
      "epoch: 20/0 |acc: 0.965 |val_acc: 0.984 |loss: 0.097 |val_loss: 0.077\n",
      "epoch: 20/1 |acc: 0.980 |val_acc: 0.984 |loss: 0.078 |val_loss: 0.077\n",
      "epoch: 20/2 |acc: 0.990 |val_acc: 0.984 |loss: 0.072 |val_loss: 0.077\n",
      "epoch: 20/3 |acc: 0.995 |val_acc: 0.984 |loss: 0.053 |val_loss: 0.077\n",
      "epoch: 20/4 |acc: 0.975 |val_acc: 0.984 |loss: 0.066 |val_loss: 0.077\n",
      "epoch: 20/5 |acc: 0.985 |val_acc: 0.984 |loss: 0.071 |val_loss: 0.076\n",
      "epoch: 20/6 |acc: 0.995 |val_acc: 0.984 |loss: 0.048 |val_loss: 0.076\n",
      "epoch: 20/7 |acc: 0.990 |val_acc: 0.984 |loss: 0.070 |val_loss: 0.076\n",
      "epoch: 20/8 |acc: 0.990 |val_acc: 0.984 |loss: 0.069 |val_loss: 0.076\n",
      "epoch: 20/9 |acc: 0.975 |val_acc: 0.984 |loss: 0.076 |val_loss: 0.076\n",
      "epoch: 21/0 |acc: 0.980 |val_acc: 0.984 |loss: 0.087 |val_loss: 0.075\n",
      "epoch: 21/1 |acc: 0.975 |val_acc: 0.984 |loss: 0.078 |val_loss: 0.075\n",
      "epoch: 21/2 |acc: 0.995 |val_acc: 0.984 |loss: 0.058 |val_loss: 0.075\n",
      "epoch: 21/3 |acc: 0.985 |val_acc: 0.984 |loss: 0.057 |val_loss: 0.075\n",
      "epoch: 21/4 |acc: 0.975 |val_acc: 0.984 |loss: 0.080 |val_loss: 0.075\n",
      "epoch: 21/5 |acc: 0.990 |val_acc: 0.984 |loss: 0.075 |val_loss: 0.075\n",
      "epoch: 21/6 |acc: 0.995 |val_acc: 0.984 |loss: 0.052 |val_loss: 0.075\n",
      "epoch: 21/7 |acc: 0.980 |val_acc: 0.984 |loss: 0.063 |val_loss: 0.074\n",
      "epoch: 21/8 |acc: 0.990 |val_acc: 0.984 |loss: 0.078 |val_loss: 0.074\n",
      "epoch: 21/9 |acc: 0.980 |val_acc: 0.984 |loss: 0.056 |val_loss: 0.074\n",
      "epoch: 22/0 |acc: 0.995 |val_acc: 0.984 |loss: 0.050 |val_loss: 0.074\n",
      "epoch: 22/1 |acc: 0.995 |val_acc: 0.984 |loss: 0.045 |val_loss: 0.074\n",
      "epoch: 22/2 |acc: 0.990 |val_acc: 0.984 |loss: 0.051 |val_loss: 0.074\n",
      "epoch: 22/3 |acc: 0.975 |val_acc: 0.984 |loss: 0.079 |val_loss: 0.074\n",
      "epoch: 22/4 |acc: 0.995 |val_acc: 0.984 |loss: 0.060 |val_loss: 0.074\n",
      "epoch: 22/5 |acc: 0.985 |val_acc: 0.984 |loss: 0.076 |val_loss: 0.073\n",
      "epoch: 22/6 |acc: 0.970 |val_acc: 0.984 |loss: 0.107 |val_loss: 0.073\n",
      "epoch: 22/7 |acc: 0.975 |val_acc: 0.984 |loss: 0.079 |val_loss: 0.073\n",
      "epoch: 22/8 |acc: 0.985 |val_acc: 0.984 |loss: 0.070 |val_loss: 0.073\n",
      "epoch: 22/9 |acc: 0.985 |val_acc: 0.984 |loss: 0.052 |val_loss: 0.073\n",
      "epoch: 23/0 |acc: 0.985 |val_acc: 0.984 |loss: 0.070 |val_loss: 0.073\n",
      "epoch: 23/1 |acc: 0.985 |val_acc: 0.984 |loss: 0.067 |val_loss: 0.072\n",
      "epoch: 23/2 |acc: 0.985 |val_acc: 0.984 |loss: 0.053 |val_loss: 0.072\n",
      "epoch: 23/3 |acc: 0.985 |val_acc: 0.984 |loss: 0.075 |val_loss: 0.072\n",
      "epoch: 23/4 |acc: 0.995 |val_acc: 0.984 |loss: 0.041 |val_loss: 0.072\n",
      "epoch: 23/5 |acc: 0.990 |val_acc: 0.986 |loss: 0.067 |val_loss: 0.072\n",
      "epoch: 23/6 |acc: 0.985 |val_acc: 0.986 |loss: 0.061 |val_loss: 0.072\n",
      "epoch: 23/7 |acc: 0.980 |val_acc: 0.986 |loss: 0.068 |val_loss: 0.072\n",
      "epoch: 23/8 |acc: 0.975 |val_acc: 0.986 |loss: 0.093 |val_loss: 0.071\n",
      "epoch: 23/9 |acc: 0.990 |val_acc: 0.986 |loss: 0.061 |val_loss: 0.071\n",
      "epoch: 24/0 |acc: 0.990 |val_acc: 0.986 |loss: 0.052 |val_loss: 0.071\n",
      "epoch: 24/1 |acc: 0.990 |val_acc: 0.986 |loss: 0.073 |val_loss: 0.071\n",
      "epoch: 24/2 |acc: 0.975 |val_acc: 0.986 |loss: 0.064 |val_loss: 0.071\n",
      "epoch: 24/3 |acc: 0.960 |val_acc: 0.986 |loss: 0.109 |val_loss: 0.071\n",
      "epoch: 24/4 |acc: 0.985 |val_acc: 0.986 |loss: 0.064 |val_loss: 0.071\n",
      "epoch: 24/5 |acc: 0.995 |val_acc: 0.986 |loss: 0.040 |val_loss: 0.071\n",
      "epoch: 24/6 |acc: 0.980 |val_acc: 0.986 |loss: 0.074 |val_loss: 0.070\n",
      "epoch: 24/7 |acc: 0.990 |val_acc: 0.986 |loss: 0.046 |val_loss: 0.070\n",
      "epoch: 24/8 |acc: 0.995 |val_acc: 0.986 |loss: 0.057 |val_loss: 0.070\n",
      "epoch: 24/9 |acc: 0.995 |val_acc: 0.986 |loss: 0.065 |val_loss: 0.070\n",
      "epoch: 25/0 |acc: 0.995 |val_acc: 0.986 |loss: 0.063 |val_loss: 0.070\n",
      "epoch: 25/1 |acc: 0.995 |val_acc: 0.986 |loss: 0.041 |val_loss: 0.070\n",
      "epoch: 25/2 |acc: 0.985 |val_acc: 0.986 |loss: 0.068 |val_loss: 0.070\n",
      "epoch: 25/3 |acc: 0.980 |val_acc: 0.986 |loss: 0.074 |val_loss: 0.070\n",
      "epoch: 25/4 |acc: 0.985 |val_acc: 0.986 |loss: 0.073 |val_loss: 0.070\n",
      "epoch: 25/5 |acc: 0.980 |val_acc: 0.988 |loss: 0.068 |val_loss: 0.069\n",
      "epoch: 25/6 |acc: 0.995 |val_acc: 0.988 |loss: 0.060 |val_loss: 0.069\n",
      "epoch: 25/7 |acc: 0.985 |val_acc: 0.988 |loss: 0.077 |val_loss: 0.069\n",
      "epoch: 25/8 |acc: 0.980 |val_acc: 0.988 |loss: 0.067 |val_loss: 0.069\n",
      "epoch: 25/9 |acc: 0.990 |val_acc: 0.988 |loss: 0.041 |val_loss: 0.069\n",
      "epoch: 26/0 |acc: 0.990 |val_acc: 0.988 |loss: 0.050 |val_loss: 0.069\n",
      "epoch: 26/1 |acc: 0.990 |val_acc: 0.988 |loss: 0.061 |val_loss: 0.069\n",
      "epoch: 26/2 |acc: 0.995 |val_acc: 0.988 |loss: 0.042 |val_loss: 0.069\n",
      "epoch: 26/3 |acc: 0.975 |val_acc: 0.988 |loss: 0.065 |val_loss: 0.069\n",
      "epoch: 26/4 |acc: 0.975 |val_acc: 0.988 |loss: 0.099 |val_loss: 0.068\n",
      "epoch: 26/5 |acc: 0.990 |val_acc: 0.988 |loss: 0.061 |val_loss: 0.068\n",
      "epoch: 26/6 |acc: 0.985 |val_acc: 0.988 |loss: 0.083 |val_loss: 0.068\n",
      "epoch: 26/7 |acc: 0.985 |val_acc: 0.988 |loss: 0.050 |val_loss: 0.068\n",
      "epoch: 26/8 |acc: 0.995 |val_acc: 0.988 |loss: 0.042 |val_loss: 0.068\n",
      "epoch: 26/9 |acc: 0.990 |val_acc: 0.988 |loss: 0.066 |val_loss: 0.068\n",
      "epoch: 27/0 |acc: 0.980 |val_acc: 0.988 |loss: 0.062 |val_loss: 0.068\n",
      "epoch: 27/1 |acc: 0.975 |val_acc: 0.988 |loss: 0.072 |val_loss: 0.068\n",
      "epoch: 27/2 |acc: 0.985 |val_acc: 0.988 |loss: 0.068 |val_loss: 0.068\n",
      "epoch: 27/3 |acc: 0.980 |val_acc: 0.988 |loss: 0.098 |val_loss: 0.067\n",
      "epoch: 27/4 |acc: 0.995 |val_acc: 0.988 |loss: 0.051 |val_loss: 0.067\n",
      "epoch: 27/5 |acc: 0.990 |val_acc: 0.988 |loss: 0.043 |val_loss: 0.067\n",
      "epoch: 27/6 |acc: 0.995 |val_acc: 0.988 |loss: 0.042 |val_loss: 0.067\n",
      "epoch: 27/7 |acc: 0.995 |val_acc: 0.988 |loss: 0.047 |val_loss: 0.067\n",
      "epoch: 27/8 |acc: 0.990 |val_acc: 0.988 |loss: 0.052 |val_loss: 0.067\n"
     ]
    },
    {
     "name": "stdout",
     "output_type": "stream",
     "text": [
      "epoch: 27/9 |acc: 0.990 |val_acc: 0.988 |loss: 0.074 |val_loss: 0.067\n",
      "epoch: 28/0 |acc: 0.985 |val_acc: 0.988 |loss: 0.054 |val_loss: 0.067\n",
      "epoch: 28/1 |acc: 0.995 |val_acc: 0.988 |loss: 0.048 |val_loss: 0.067\n",
      "epoch: 28/2 |acc: 0.980 |val_acc: 0.988 |loss: 0.068 |val_loss: 0.067\n",
      "epoch: 28/3 |acc: 0.980 |val_acc: 0.988 |loss: 0.074 |val_loss: 0.067\n",
      "epoch: 28/4 |acc: 0.995 |val_acc: 0.988 |loss: 0.064 |val_loss: 0.067\n",
      "epoch: 28/5 |acc: 0.990 |val_acc: 0.988 |loss: 0.058 |val_loss: 0.066\n",
      "epoch: 28/6 |acc: 0.985 |val_acc: 0.988 |loss: 0.086 |val_loss: 0.066\n",
      "epoch: 28/7 |acc: 0.975 |val_acc: 0.988 |loss: 0.071 |val_loss: 0.066\n",
      "epoch: 28/8 |acc: 0.995 |val_acc: 0.988 |loss: 0.040 |val_loss: 0.066\n",
      "epoch: 28/9 |acc: 0.995 |val_acc: 0.988 |loss: 0.037 |val_loss: 0.066\n",
      "epoch: 29/0 |acc: 0.990 |val_acc: 0.988 |loss: 0.048 |val_loss: 0.066\n",
      "epoch: 29/1 |acc: 0.995 |val_acc: 0.988 |loss: 0.056 |val_loss: 0.066\n",
      "epoch: 29/2 |acc: 0.995 |val_acc: 0.988 |loss: 0.041 |val_loss: 0.066\n",
      "epoch: 29/3 |acc: 0.985 |val_acc: 0.988 |loss: 0.074 |val_loss: 0.066\n",
      "epoch: 29/4 |acc: 0.985 |val_acc: 0.988 |loss: 0.048 |val_loss: 0.066\n",
      "epoch: 29/5 |acc: 0.975 |val_acc: 0.988 |loss: 0.100 |val_loss: 0.066\n",
      "epoch: 29/6 |acc: 0.990 |val_acc: 0.988 |loss: 0.045 |val_loss: 0.065\n",
      "epoch: 29/7 |acc: 0.990 |val_acc: 0.988 |loss: 0.058 |val_loss: 0.065\n",
      "epoch: 29/8 |acc: 0.985 |val_acc: 0.988 |loss: 0.051 |val_loss: 0.065\n",
      "epoch: 29/9 |acc: 0.985 |val_acc: 0.988 |loss: 0.070 |val_loss: 0.065\n",
      "epoch: 30/0 |acc: 0.985 |val_acc: 0.988 |loss: 0.065 |val_loss: 0.065\n",
      "epoch: 30/1 |acc: 0.995 |val_acc: 0.988 |loss: 0.049 |val_loss: 0.065\n",
      "epoch: 30/2 |acc: 0.975 |val_acc: 0.988 |loss: 0.086 |val_loss: 0.065\n",
      "epoch: 30/3 |acc: 0.980 |val_acc: 0.988 |loss: 0.087 |val_loss: 0.065\n",
      "epoch: 30/4 |acc: 0.995 |val_acc: 0.988 |loss: 0.042 |val_loss: 0.065\n",
      "epoch: 30/5 |acc: 0.985 |val_acc: 0.988 |loss: 0.064 |val_loss: 0.065\n",
      "epoch: 30/6 |acc: 0.990 |val_acc: 0.988 |loss: 0.053 |val_loss: 0.065\n",
      "epoch: 30/7 |acc: 0.995 |val_acc: 0.988 |loss: 0.042 |val_loss: 0.064\n",
      "epoch: 30/8 |acc: 0.990 |val_acc: 0.988 |loss: 0.059 |val_loss: 0.064\n",
      "epoch: 30/9 |acc: 0.995 |val_acc: 0.988 |loss: 0.035 |val_loss: 0.064\n",
      "epoch: 31/0 |acc: 0.990 |val_acc: 0.988 |loss: 0.053 |val_loss: 0.064\n",
      "epoch: 31/1 |acc: 0.995 |val_acc: 0.988 |loss: 0.055 |val_loss: 0.064\n",
      "epoch: 31/2 |acc: 1.000 |val_acc: 0.988 |loss: 0.038 |val_loss: 0.064\n",
      "epoch: 31/3 |acc: 0.990 |val_acc: 0.988 |loss: 0.054 |val_loss: 0.064\n",
      "epoch: 31/4 |acc: 0.980 |val_acc: 0.988 |loss: 0.099 |val_loss: 0.064\n",
      "epoch: 31/5 |acc: 1.000 |val_acc: 0.988 |loss: 0.034 |val_loss: 0.064\n",
      "epoch: 31/6 |acc: 0.985 |val_acc: 0.988 |loss: 0.049 |val_loss: 0.064\n",
      "epoch: 31/7 |acc: 0.975 |val_acc: 0.988 |loss: 0.077 |val_loss: 0.064\n",
      "epoch: 31/8 |acc: 0.975 |val_acc: 0.988 |loss: 0.073 |val_loss: 0.064\n",
      "epoch: 31/9 |acc: 0.995 |val_acc: 0.988 |loss: 0.042 |val_loss: 0.064\n",
      "epoch: 32/0 |acc: 0.985 |val_acc: 0.988 |loss: 0.062 |val_loss: 0.064\n",
      "epoch: 32/1 |acc: 0.990 |val_acc: 0.988 |loss: 0.047 |val_loss: 0.064\n",
      "epoch: 32/2 |acc: 0.995 |val_acc: 0.988 |loss: 0.049 |val_loss: 0.063\n",
      "epoch: 32/3 |acc: 0.975 |val_acc: 0.988 |loss: 0.101 |val_loss: 0.063\n",
      "epoch: 32/4 |acc: 0.995 |val_acc: 0.988 |loss: 0.034 |val_loss: 0.063\n",
      "epoch: 32/5 |acc: 1.000 |val_acc: 0.988 |loss: 0.040 |val_loss: 0.063\n",
      "epoch: 32/6 |acc: 1.000 |val_acc: 0.988 |loss: 0.034 |val_loss: 0.063\n",
      "epoch: 32/7 |acc: 0.990 |val_acc: 0.988 |loss: 0.057 |val_loss: 0.063\n",
      "epoch: 32/8 |acc: 0.980 |val_acc: 0.988 |loss: 0.072 |val_loss: 0.063\n",
      "epoch: 32/9 |acc: 0.985 |val_acc: 0.988 |loss: 0.073 |val_loss: 0.063\n",
      "epoch: 33/0 |acc: 1.000 |val_acc: 0.988 |loss: 0.034 |val_loss: 0.063\n",
      "epoch: 33/1 |acc: 0.970 |val_acc: 0.988 |loss: 0.086 |val_loss: 0.063\n",
      "epoch: 33/2 |acc: 0.980 |val_acc: 0.988 |loss: 0.065 |val_loss: 0.063\n",
      "epoch: 33/3 |acc: 0.995 |val_acc: 0.988 |loss: 0.045 |val_loss: 0.063\n",
      "epoch: 33/4 |acc: 0.995 |val_acc: 0.988 |loss: 0.038 |val_loss: 0.063\n",
      "epoch: 33/5 |acc: 1.000 |val_acc: 0.988 |loss: 0.044 |val_loss: 0.063\n",
      "epoch: 33/6 |acc: 0.985 |val_acc: 0.988 |loss: 0.045 |val_loss: 0.062\n",
      "epoch: 33/7 |acc: 0.990 |val_acc: 0.988 |loss: 0.080 |val_loss: 0.062\n",
      "epoch: 33/8 |acc: 0.995 |val_acc: 0.988 |loss: 0.060 |val_loss: 0.062\n",
      "epoch: 33/9 |acc: 0.985 |val_acc: 0.988 |loss: 0.064 |val_loss: 0.062\n",
      "epoch: 34/0 |acc: 0.980 |val_acc: 0.988 |loss: 0.087 |val_loss: 0.062\n",
      "epoch: 34/1 |acc: 1.000 |val_acc: 0.988 |loss: 0.034 |val_loss: 0.062\n",
      "epoch: 34/2 |acc: 1.000 |val_acc: 0.988 |loss: 0.027 |val_loss: 0.062\n",
      "epoch: 34/3 |acc: 0.985 |val_acc: 0.988 |loss: 0.083 |val_loss: 0.062\n",
      "epoch: 34/4 |acc: 0.985 |val_acc: 0.988 |loss: 0.076 |val_loss: 0.062\n",
      "epoch: 34/5 |acc: 0.990 |val_acc: 0.988 |loss: 0.045 |val_loss: 0.062\n",
      "epoch: 34/6 |acc: 0.995 |val_acc: 0.988 |loss: 0.046 |val_loss: 0.062\n",
      "epoch: 34/7 |acc: 0.980 |val_acc: 0.988 |loss: 0.062 |val_loss: 0.062\n",
      "epoch: 34/8 |acc: 1.000 |val_acc: 0.988 |loss: 0.036 |val_loss: 0.062\n",
      "epoch: 34/9 |acc: 0.990 |val_acc: 0.988 |loss: 0.058 |val_loss: 0.062\n",
      "epoch: 35/0 |acc: 0.990 |val_acc: 0.988 |loss: 0.060 |val_loss: 0.062\n",
      "epoch: 35/1 |acc: 0.990 |val_acc: 0.988 |loss: 0.066 |val_loss: 0.061\n",
      "epoch: 35/2 |acc: 0.985 |val_acc: 0.988 |loss: 0.052 |val_loss: 0.061\n",
      "epoch: 35/3 |acc: 1.000 |val_acc: 0.988 |loss: 0.036 |val_loss: 0.061\n",
      "epoch: 35/4 |acc: 0.980 |val_acc: 0.988 |loss: 0.066 |val_loss: 0.061\n",
      "epoch: 35/5 |acc: 1.000 |val_acc: 0.988 |loss: 0.033 |val_loss: 0.061\n",
      "epoch: 35/6 |acc: 0.975 |val_acc: 0.988 |loss: 0.084 |val_loss: 0.061\n",
      "epoch: 35/7 |acc: 0.990 |val_acc: 0.988 |loss: 0.071 |val_loss: 0.061\n",
      "epoch: 35/8 |acc: 1.000 |val_acc: 0.988 |loss: 0.037 |val_loss: 0.061\n",
      "epoch: 35/9 |acc: 1.000 |val_acc: 0.988 |loss: 0.041 |val_loss: 0.061\n",
      "epoch: 36/0 |acc: 0.970 |val_acc: 0.988 |loss: 0.087 |val_loss: 0.061\n",
      "epoch: 36/1 |acc: 0.995 |val_acc: 0.988 |loss: 0.060 |val_loss: 0.061\n",
      "epoch: 36/2 |acc: 0.995 |val_acc: 0.988 |loss: 0.048 |val_loss: 0.061\n",
      "epoch: 36/3 |acc: 0.985 |val_acc: 0.988 |loss: 0.075 |val_loss: 0.061\n",
      "epoch: 36/4 |acc: 0.990 |val_acc: 0.988 |loss: 0.056 |val_loss: 0.061\n",
      "epoch: 36/5 |acc: 0.990 |val_acc: 0.988 |loss: 0.060 |val_loss: 0.061\n",
      "epoch: 36/6 |acc: 0.995 |val_acc: 0.988 |loss: 0.047 |val_loss: 0.061\n",
      "epoch: 36/7 |acc: 1.000 |val_acc: 0.988 |loss: 0.033 |val_loss: 0.061\n",
      "epoch: 36/8 |acc: 1.000 |val_acc: 0.988 |loss: 0.041 |val_loss: 0.060\n",
      "epoch: 36/9 |acc: 0.990 |val_acc: 0.988 |loss: 0.033 |val_loss: 0.060\n",
      "epoch: 37/0 |acc: 0.995 |val_acc: 0.988 |loss: 0.039 |val_loss: 0.060\n",
      "epoch: 37/1 |acc: 0.995 |val_acc: 0.988 |loss: 0.046 |val_loss: 0.060\n",
      "epoch: 37/2 |acc: 0.980 |val_acc: 0.988 |loss: 0.084 |val_loss: 0.060\n",
      "epoch: 37/3 |acc: 0.990 |val_acc: 0.988 |loss: 0.078 |val_loss: 0.060\n",
      "epoch: 37/4 |acc: 0.985 |val_acc: 0.988 |loss: 0.071 |val_loss: 0.060\n",
      "epoch: 37/5 |acc: 1.000 |val_acc: 0.988 |loss: 0.036 |val_loss: 0.060\n",
      "epoch: 37/6 |acc: 0.980 |val_acc: 0.988 |loss: 0.049 |val_loss: 0.060\n",
      "epoch: 37/7 |acc: 0.995 |val_acc: 0.988 |loss: 0.042 |val_loss: 0.060\n",
      "epoch: 37/8 |acc: 0.990 |val_acc: 0.988 |loss: 0.050 |val_loss: 0.060\n",
      "epoch: 37/9 |acc: 1.000 |val_acc: 0.988 |loss: 0.039 |val_loss: 0.060\n",
      "epoch: 38/0 |acc: 0.990 |val_acc: 0.988 |loss: 0.088 |val_loss: 0.060\n",
      "epoch: 38/1 |acc: 0.990 |val_acc: 0.988 |loss: 0.060 |val_loss: 0.060\n",
      "epoch: 38/2 |acc: 1.000 |val_acc: 0.988 |loss: 0.031 |val_loss: 0.060\n",
      "epoch: 38/3 |acc: 0.985 |val_acc: 0.988 |loss: 0.065 |val_loss: 0.060\n",
      "epoch: 38/4 |acc: 0.995 |val_acc: 0.988 |loss: 0.048 |val_loss: 0.060\n",
      "epoch: 38/5 |acc: 0.995 |val_acc: 0.988 |loss: 0.045 |val_loss: 0.060\n",
      "epoch: 38/6 |acc: 0.990 |val_acc: 0.988 |loss: 0.052 |val_loss: 0.060\n",
      "epoch: 38/7 |acc: 0.985 |val_acc: 0.988 |loss: 0.058 |val_loss: 0.059\n",
      "epoch: 38/8 |acc: 0.990 |val_acc: 0.988 |loss: 0.047 |val_loss: 0.059\n",
      "epoch: 38/9 |acc: 0.990 |val_acc: 0.988 |loss: 0.035 |val_loss: 0.059\n",
      "epoch: 39/0 |acc: 0.985 |val_acc: 0.988 |loss: 0.071 |val_loss: 0.059\n",
      "epoch: 39/1 |acc: 0.990 |val_acc: 0.988 |loss: 0.054 |val_loss: 0.059\n",
      "epoch: 39/2 |acc: 0.990 |val_acc: 0.988 |loss: 0.052 |val_loss: 0.059\n",
      "epoch: 39/3 |acc: 0.995 |val_acc: 0.988 |loss: 0.053 |val_loss: 0.059\n",
      "epoch: 39/4 |acc: 0.995 |val_acc: 0.988 |loss: 0.050 |val_loss: 0.059\n",
      "epoch: 39/5 |acc: 0.995 |val_acc: 0.988 |loss: 0.031 |val_loss: 0.059\n",
      "epoch: 39/6 |acc: 0.990 |val_acc: 0.988 |loss: 0.046 |val_loss: 0.059\n",
      "epoch: 39/7 |acc: 0.990 |val_acc: 0.988 |loss: 0.055 |val_loss: 0.059\n",
      "epoch: 39/8 |acc: 0.985 |val_acc: 0.988 |loss: 0.081 |val_loss: 0.059\n",
      "epoch: 39/9 |acc: 1.000 |val_acc: 0.988 |loss: 0.029 |val_loss: 0.059\n"
     ]
    }
   ],
   "source": [
    "lr.train()"
   ]
  },
  {
   "cell_type": "code",
   "execution_count": 156,
   "metadata": {},
   "outputs": [
    {
     "data": {
      "image/png": "[encoded data removed]",
      "text/plain": [
       "<Figure size 432x288 with 1 Axes>"
      ]
     },
     "metadata": {
      "needs_background": "light"
     },
     "output_type": "display_data"
    }
   ],
   "source": [
    "plt.plot(lr.loss)\n",
    "plt.plot(lr.val_loss)\n",
    "plt.show()"
   ]
  },
  {
   "cell_type": "code",
   "execution_count": 157,
   "metadata": {},
   "outputs": [
    {
     "data": {
      "image/png": "[encoded data removed]",
      "text/plain": [
       "<Figure size 432x288 with 1 Axes>"
      ]
     },
     "metadata": {
      "needs_background": "light"
     },
     "output_type": "display_data"
    }
   ],
   "source": [
    "plt.plot(lr.acc)\n",
    "plt.plot(lr.val_acc)\n",
    "plt.show()"
   ]
  },
  {
   "cell_type": "code",
   "execution_count": 161,
   "metadata": {},
   "outputs": [],
   "source": [
    "# predict label from logistic regression\n",
    "W0_Xt = np.hstack((np.ones((Xt.shape[0], 1)), Xt))\n",
    "Yp_lr = (lr.predict(W0_Xt) > 0.5)"
   ]
  },
  {
   "cell_type": "markdown",
   "metadata": {},
   "source": [
    "# Support Vector Machine"
   ]
  },
  {
   "cell_type": "code",
   "execution_count": 268,
   "metadata": {},
   "outputs": [],
   "source": [
    "class SVM:\n",
    "    def __init__(self, X, Y):\n",
    "        self.X = X\n",
    "        Y[Y==0] = -1\n",
    "        self.Y = Y.reshape((-1, ))\n",
    "        self.W = np.random.randn(X.shape[1], )\n",
    "        self.b = 0\n",
    "        self.loss = []\n",
    "        self.acc = []\n",
    "        \n",
    "    def decision_vector(self):\n",
    "        \"\"\"\n",
    "        func desc; it calculates vector [0      if t[i] >= 1]\n",
    "                                        [1-t[i] if t[i] <  1]\n",
    "                                        where, t[i] = y[i] * (W.T * X[i] + b)\n",
    "        return; t vector: shape(no_of_samples, )\n",
    "        \"\"\"\n",
    "        # calculate t vector\n",
    "        t = self.Y * (np.matmul(self.X, self.W) + self.b)\n",
    "        dv = np.where(t>=1, 0, 1-t)\n",
    "        return dv\n",
    "        \n",
    "    def hinge_loss(self, c):\n",
    "        \"\"\"\n",
    "        formula; L = 1/2 * W.T * W + c summation max(0, 1-t[i])\n",
    "        params; c: penality applied to the error/outliers\n",
    "        return; loss: it is a scalar value\n",
    "        \"\"\"\n",
    "        #dv = \n",
    "        l = (0.5 * np.matmul(self.W.T, self.W)) + (c * np.sum(self.decision_vector()) )\n",
    "        return l\n",
    "    \n",
    "    def delta_Lw(self, c):\n",
    "        \"\"\"\n",
    "        func desc; computes partial derivative of hinge loss over W\n",
    "        formula; dL/dW = W + (c * \n",
    "                              summation(Y[i] * \n",
    "                                        W.T * \n",
    "                                        {o if 1-t[i] <=0\n",
    "                                         1 if 1-t[i] > 1}\n",
    "                                        )\n",
    "                              )\n",
    "                              where 1-t[i] was previously calculated as decision vector\n",
    "        return; delta_L over W: shape is same as W (no_of_feature, )\n",
    "        \"\"\"\n",
    "        dv = self.decision_vector() # decision vector\n",
    "        dW = self.W + (c * np.matmul(self.X, \n",
    "                                     (np.where(dv>0, -1, 0) * self.Y)\n",
    "                                    )\n",
    "                      )\n",
    "        return dW"
   ]
  },
  {
   "cell_type": "code",
   "execution_count": 266,
   "metadata": {},
   "outputs": [],
   "source": [
    "svc = SVM(X, Y)"
   ]
  },
  {
   "cell_type": "code",
   "execution_count": 267,
   "metadata": {},
   "outputs": [
    {
     "ename": "ValueError",
     "evalue": "matmul: Input operand 1 has a mismatch in its core dimension 0, with gufunc signature (n?,k),(k,m?)->(n?,m?) (size 2500 is different from 3)",
     "output_type": "error",
     "traceback": [
      "\u001b[1;31m---------------------------------------------------------------------------\u001b[0m",
      "\u001b[1;31mValueError\u001b[0m                                Traceback (most recent call last)",
      "\u001b[1;32m<ipython-input-267-1d57eac9f985>\u001b[0m in \u001b[0;36m<module>\u001b[1;34m\u001b[0m\n\u001b[1;32m----> 1\u001b[1;33m \u001b[0mdv\u001b[0m \u001b[1;33m=\u001b[0m \u001b[0msvc\u001b[0m\u001b[1;33m.\u001b[0m\u001b[0mdelta_Lw\u001b[0m\u001b[1;33m(\u001b[0m\u001b[1;36m11\u001b[0m\u001b[1;33m)\u001b[0m\u001b[1;33m\u001b[0m\u001b[1;33m\u001b[0m\u001b[0m\n\u001b[0m",
      "\u001b[1;32m<ipython-input-265-05f2903a3829>\u001b[0m in \u001b[0;36mdelta_Lw\u001b[1;34m(self, c)\u001b[0m\n\u001b[0;32m     45\u001b[0m         \"\"\"\n\u001b[0;32m     46\u001b[0m         \u001b[0mdv\u001b[0m \u001b[1;33m=\u001b[0m \u001b[0mself\u001b[0m\u001b[1;33m.\u001b[0m\u001b[0mdecision_vector\u001b[0m\u001b[1;33m(\u001b[0m\u001b[1;33m)\u001b[0m \u001b[1;31m# decision vector\u001b[0m\u001b[1;33m\u001b[0m\u001b[1;33m\u001b[0m\u001b[0m\n\u001b[1;32m---> 47\u001b[1;33m         dW = self.W + (c * np.matmul(self.X, \n\u001b[0m\u001b[0;32m     48\u001b[0m                                 \u001b[1;33m(\u001b[0m\u001b[0mnp\u001b[0m\u001b[1;33m.\u001b[0m\u001b[0mwhere\u001b[0m\u001b[1;33m(\u001b[0m\u001b[0mdv\u001b[0m\u001b[1;33m>\u001b[0m\u001b[1;36m0\u001b[0m\u001b[1;33m,\u001b[0m \u001b[1;33m-\u001b[0m\u001b[1;36m1\u001b[0m\u001b[1;33m,\u001b[0m \u001b[1;36m0\u001b[0m\u001b[1;33m)\u001b[0m \u001b[1;33m*\u001b[0m \u001b[0mself\u001b[0m\u001b[1;33m.\u001b[0m\u001b[0mY\u001b[0m\u001b[1;33m)\u001b[0m\u001b[1;33m\u001b[0m\u001b[1;33m\u001b[0m\u001b[0m\n\u001b[0;32m     49\u001b[0m                                )\n",
      "\u001b[1;31mValueError\u001b[0m: matmul: Input operand 1 has a mismatch in its core dimension 0, with gufunc signature (n?,k),(k,m?)->(n?,m?) (size 2500 is different from 3)"
     ]
    }
   ],
   "source": [
    "dv = svc.delta_Lw(11)"
   ]
  },
  {
   "cell_type": "code",
   "execution_count": 258,
   "metadata": {},
   "outputs": [
    {
     "data": {
      "text/plain": [
       "111461644.70554058"
      ]
     },
     "execution_count": 258,
     "metadata": {},
     "output_type": "execute_result"
    }
   ],
   "source": [
    "dv"
   ]
  },
  {
   "cell_type": "code",
   "execution_count": 247,
   "metadata": {},
   "outputs": [
    {
     "data": {
      "text/plain": [
       "array([[0.],\n",
       "       [0.],\n",
       "       [0.],\n",
       "       ...,\n",
       "       [0.],\n",
       "       [0.],\n",
       "       [0.]])"
      ]
     },
     "execution_count": 247,
     "metadata": {},
     "output_type": "execute_result"
    }
   ],
   "source": [
    "np.where(dv>=1, 0, 1-dv)"
   ]
  },
  {
   "cell_type": "markdown",
   "metadata": {},
   "source": [
    "# Conclusion"
   ]
  },
  {
   "cell_type": "code",
   "execution_count": 163,
   "metadata": {},
   "outputs": [],
   "source": [
    "cm_lr = confusion_matrix(Yt, Yp_lr)"
   ]
  },
  {
   "cell_type": "code",
   "execution_count": 175,
   "metadata": {},
   "outputs": [],
   "source": [
    "cmd_lr = ConfusionMatrixDisplay(cm_lr, display_labels=[0, 1])"
   ]
  },
  {
   "cell_type": "code",
   "execution_count": 177,
   "metadata": {},
   "outputs": [
    {
     "data": {
      "image/png": "[encoded data removed]",
      "text/plain": [
       "<Figure size 432x288 with 2 Axes>"
      ]
     },
     "metadata": {
      "needs_background": "light"
     },
     "output_type": "display_data"
    }
   ],
   "source": [
    "cmd_lr.plot(cmap='gray')\n",
    "cmd_lr.ax_.set_title(\"logistic regression\")\n",
    "plt.show()"
   ]
  },
  {
   "cell_type": "code",
   "execution_count": null,
   "metadata": {},
   "outputs": [],
   "source": []
  }
 ],
 "metadata": {
  "kernelspec": {
   "display_name": "Python 3",
   "language": "python",
   "name": "python3"
  },
  "language_info": {
   "codemirror_mode": {
    "name": "ipython",
    "version": 3
   },
   "file_extension": ".py",
   "mimetype": "text/x-python",
   "name": "python",
   "nbconvert_exporter": "python",
   "pygments_lexer": "ipython3",
   "version": "3.8.5"
  }
 },
 "nbformat": 4,
 "nbformat_minor": 4
}
