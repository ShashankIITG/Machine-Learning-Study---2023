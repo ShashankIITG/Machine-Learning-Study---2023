{
 "cells": [
  {
   "cell_type": "code",
   "execution_count": 1,
   "metadata": {},
   "outputs": [],
   "source": [
    "import pandas as pd\n",
    "import numpy as np\n",
    "import matplotlib.pyplot as plt \n",
    "\n",
    "import zi"
   ]
  },
  {
   "cell_type": "code",
   "execution_count": 2,
   "metadata": {},
   "outputs": [],
   "source": [
    "X_df = pd.read_csv(\"Training Data/Logistic_X_Train.csv\")\n",
    "Y_df = pd.read_csv(\"Training Data/Logistic_Y_Train.csv\")"
   ]
  },
  {
   "cell_type": "code",
   "execution_count": 3,
   "metadata": {},
   "outputs": [
    {
     "name": "stdout",
     "output_type": "stream",
     "text": [
      "<class 'pandas.core.frame.DataFrame'>\n",
      "RangeIndex: 3000 entries, 0 to 2999\n",
      "Data columns (total 3 columns):\n",
      " #   Column  Non-Null Count  Dtype  \n",
      "---  ------  --------------  -----  \n",
      " 0   f1      3000 non-null   float64\n",
      " 1   f2      3000 non-null   float64\n",
      " 2   f3      3000 non-null   float64\n",
      "dtypes: float64(3)\n",
      "memory usage: 70.4 KB\n"
     ]
    }
   ],
   "source": [
    "X_df.info()"
   ]
  },
  {
   "cell_type": "code",
   "execution_count": 4,
   "metadata": {},
   "outputs": [
    {
     "name": "stdout",
     "output_type": "stream",
     "text": [
      "<class 'pandas.core.frame.DataFrame'>\n",
      "RangeIndex: 3000 entries, 0 to 2999\n",
      "Data columns (total 1 columns):\n",
      " #   Column  Non-Null Count  Dtype\n",
      "---  ------  --------------  -----\n",
      " 0   label   3000 non-null   int64\n",
      "dtypes: int64(1)\n",
      "memory usage: 23.6 KB\n"
     ]
    }
   ],
   "source": [
    "Y_df.info()"
   ]
  },
  {
   "cell_type": "code",
   "execution_count": 5,
   "metadata": {},
   "outputs": [
    {
     "data": {
      "text/html": [
       "<div>\n",
       "<style scoped>\n",
       "    .dataframe tbody tr th:only-of-type {\n",
       "        vertical-align: middle;\n",
       "    }\n",
       "\n",
       "    .dataframe tbody tr th {\n",
       "        vertical-align: top;\n",
       "    }\n",
       "\n",
       "    .dataframe thead th {\n",
       "        text-align: right;\n",
       "    }\n",
       "</style>\n",
       "<table border=\"1\" class=\"dataframe\">\n",
       "  <thead>\n",
       "    <tr style=\"text-align: right;\">\n",
       "      <th></th>\n",
       "      <th>label</th>\n",
       "    </tr>\n",
       "  </thead>\n",
       "  <tbody>\n",
       "    <tr>\n",
       "      <th>0</th>\n",
       "      <td>1</td>\n",
       "    </tr>\n",
       "    <tr>\n",
       "      <th>1</th>\n",
       "      <td>1</td>\n",
       "    </tr>\n",
       "    <tr>\n",
       "      <th>2</th>\n",
       "      <td>1</td>\n",
       "    </tr>\n",
       "    <tr>\n",
       "      <th>3</th>\n",
       "      <td>0</td>\n",
       "    </tr>\n",
       "    <tr>\n",
       "      <th>4</th>\n",
       "      <td>0</td>\n",
       "    </tr>\n",
       "  </tbody>\n",
       "</table>\n",
       "</div>"
      ],
      "text/plain": [
       "   label\n",
       "0      1\n",
       "1      1\n",
       "2      1\n",
       "3      0\n",
       "4      0"
      ]
     },
     "execution_count": 5,
     "metadata": {},
     "output_type": "execute_result"
    }
   ],
   "source": [
    "Y_df.head()"
   ]
  },
  {
   "cell_type": "code",
   "execution_count": 7,
   "metadata": {},
   "outputs": [],
   "source": [
    "# convert data frame into numpy array\n",
    "X, Y = X_df.values, Y_df.values"
   ]
  },
  {
   "cell_type": "code",
   "execution_count": 22,
   "metadata": {},
   "outputs": [],
   "source": [
    "class LogisticRegression:\n",
    "    def __init__(self, X, Y):\n",
    "        \"\"\"\n",
    "        params; X: training independent features\n",
    "        params; Y: training dependent feature/label\n",
    "        \"\"\"\n",
    "        self.X = np.hstack((np.ones((X.shape[0], 1)), X)) # stacking vector of 1 for W0 (bias) to each sample\n",
    "        self.Y = Y\n",
    "        self.W = np.random.randn(self.X.shape[1], 1)\n",
    "        self.loss = []\n",
    "        self.acc = []\n",
    "        self.val_loss = []\n",
    "        self.val_acc = []\n",
    "    \n",
    "    def predict(self, X):\n",
    "        # this is Y hypothesis\n",
    "        Yhypo = np.matmul(X, self.W)\n",
    "        Yp = np.sigmoid(Yhypo)\n",
    "        return Yp\n",
    "        \n",
    "    def binary_cross_entropy(self, Y, Yp):\n",
    "        l = np.mean(Y*np.log2(Yp) + (1-Y)*np.log2(1-Yp))\n",
    "        return -l\n",
    "    \n",
    "    def accuracy(self, Y, Yp):\n",
    "        return np.mean(Yp == Y)\n",
    "    \n",
    "    def gradient_descent(self, X, Y):\n",
    "        Yp = self.predict(X)\n",
    "        return np.matmul(X.T, (Yp-Y))\n",
    "        \n",
    "    def train(self, learning_rate=0.001, epochs=40, batch_size=50, vsplit=0.2):\n",
    "        \"\"\"\n",
    "        func desc; this function trains the model over dataset \n",
    "        \"\"\"\n",
    "        # training and validation split\n",
    "        no_of_samples = self.X.shape[0]\n",
    "        split_idx = int(no_of_samples * vsplit)\n",
    "        \n",
    "        Xt, Yt = self.X[ : split_idx], self.Y[ : split_idx]\n",
    "        Xv, Yv = self.X[split_idx : ], self.Y[split_idx : ]\n",
    "        \n",
    "        no_of_batches = int(no_samples/batch_size)\n",
    "        for i in range(epochs):\n",
    "            # shuffle training data on every epoch to avoid residual samples\n",
    "            train_data = np.array(zip(Xt, Yt))\n",
    "            data_shuffle = np.random.shuffle(train_data)\n",
    "            Xt_tupple, Yt_tupple = zip(*data_shuffle) # unzip the shuffle data\n",
    "            Xt, Yt = np.asarray(Xt_tupple), np.asarray(Yt_tupple)\n",
    "            \n",
    "            for j in range(no_of_batches):\n",
    "                Xt_batch = Xt[j*batch_size: j+1*batch_size]\n",
    "                Yt_batch = Yt[j*batch_size: j+1*batch_size]\n",
    "                \n",
    "                Ytp_batch = self.predict(Xt_batch)\n",
    "                \n",
    "                W = W - learning_rate * self.gradient_descent(Xt_batch, Yt_batch)\n",
    "                \n",
    "                self.loss.append(binary_cross_entropy(Yt_batch, Ytp_batch))\n",
    "                self.acc.append(accuracy(Yt_batch, Ytp_batch))\n",
    "                \n",
    "                Yvp = self.predict(Xv)\n",
    "                self.val_loss.append(binary_cross_entropy(Yv, Yvp))\n",
    "                self.val_acc.append(accuracy(Yv, Yvp))\n",
    "                \n",
    "                print(\"epoch : {} | batch: {}\".format(i, j))"
   ]
  },
  {
   "cell_type": "code",
   "execution_count": 23,
   "metadata": {},
   "outputs": [],
   "source": [
    "lr = LogisticRegression(X, Y)"
   ]
  },
  {
   "cell_type": "code",
   "execution_count": 24,
   "metadata": {},
   "outputs": [
    {
     "ename": "NameError",
     "evalue": "name 'no_samples' is not defined",
     "output_type": "error",
     "traceback": [
      "\u001b[1;31m---------------------------------------------------------------------------\u001b[0m",
      "\u001b[1;31mNameError\u001b[0m                                 Traceback (most recent call last)",
      "\u001b[1;32m<ipython-input-24-b6d92b9dcb25>\u001b[0m in \u001b[0;36m<module>\u001b[1;34m\u001b[0m\n\u001b[1;32m----> 1\u001b[1;33m \u001b[0mlr\u001b[0m\u001b[1;33m.\u001b[0m\u001b[0mtrain\u001b[0m\u001b[1;33m(\u001b[0m\u001b[1;33m)\u001b[0m\u001b[1;33m\u001b[0m\u001b[1;33m\u001b[0m\u001b[0m\n\u001b[0m",
      "\u001b[1;32m<ipython-input-22-2501a933f150>\u001b[0m in \u001b[0;36mtrain\u001b[1;34m(self, learning_rate, epochs, batch_size, vsplit)\u001b[0m\n\u001b[0;32m     41\u001b[0m         \u001b[0mXv\u001b[0m\u001b[1;33m,\u001b[0m \u001b[0mYv\u001b[0m \u001b[1;33m=\u001b[0m \u001b[0mself\u001b[0m\u001b[1;33m.\u001b[0m\u001b[0mX\u001b[0m\u001b[1;33m[\u001b[0m\u001b[0msplit_idx\u001b[0m \u001b[1;33m:\u001b[0m \u001b[1;33m]\u001b[0m\u001b[1;33m,\u001b[0m \u001b[0mself\u001b[0m\u001b[1;33m.\u001b[0m\u001b[0mY\u001b[0m\u001b[1;33m[\u001b[0m\u001b[0msplit_idx\u001b[0m \u001b[1;33m:\u001b[0m \u001b[1;33m]\u001b[0m\u001b[1;33m\u001b[0m\u001b[1;33m\u001b[0m\u001b[0m\n\u001b[0;32m     42\u001b[0m \u001b[1;33m\u001b[0m\u001b[0m\n\u001b[1;32m---> 43\u001b[1;33m         \u001b[0mno_of_batches\u001b[0m \u001b[1;33m=\u001b[0m \u001b[0mint\u001b[0m\u001b[1;33m(\u001b[0m\u001b[0mno_samples\u001b[0m\u001b[1;33m/\u001b[0m\u001b[0mbatch_size\u001b[0m\u001b[1;33m)\u001b[0m\u001b[1;33m\u001b[0m\u001b[1;33m\u001b[0m\u001b[0m\n\u001b[0m\u001b[0;32m     44\u001b[0m         \u001b[1;32mfor\u001b[0m \u001b[0mi\u001b[0m \u001b[1;32min\u001b[0m \u001b[0mrange\u001b[0m\u001b[1;33m(\u001b[0m\u001b[0mepochs\u001b[0m\u001b[1;33m)\u001b[0m\u001b[1;33m:\u001b[0m\u001b[1;33m\u001b[0m\u001b[1;33m\u001b[0m\u001b[0m\n\u001b[0;32m     45\u001b[0m             \u001b[1;31m# shuffle training data on every epoch to avoid residual samples\u001b[0m\u001b[1;33m\u001b[0m\u001b[1;33m\u001b[0m\u001b[1;33m\u001b[0m\u001b[0m\n",
      "\u001b[1;31mNameError\u001b[0m: name 'no_samples' is not defined"
     ]
    }
   ],
   "source": [
    "lr.train()"
   ]
  },
  {
   "cell_type": "code",
   "execution_count": null,
   "metadata": {},
   "outputs": [],
   "source": []
  }
 ],
 "metadata": {
  "kernelspec": {
   "display_name": "Python 3",
   "language": "python",
   "name": "python3"
  },
  "language_info": {
   "codemirror_mode": {
    "name": "ipython",
    "version": 3
   },
   "file_extension": ".py",
   "mimetype": "text/x-python",
   "name": "python",
   "nbconvert_exporter": "python",
   "pygments_lexer": "ipython3",
   "version": "3.8.5"
  }
 },
 "nbformat": 4,
 "nbformat_minor": 4
}
