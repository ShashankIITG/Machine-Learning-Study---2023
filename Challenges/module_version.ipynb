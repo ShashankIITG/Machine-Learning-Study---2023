{
 "cells": [
  {
   "cell_type": "code",
   "execution_count": 1,
   "id": "8422b534",
   "metadata": {},
   "outputs": [],
   "source": [
    "import sys"
   ]
  },
  {
   "cell_type": "code",
   "execution_count": 4,
   "id": "28cb3854",
   "metadata": {},
   "outputs": [
    {
     "data": {
      "text/plain": [
       "'3.9.7 (default, Sep 16 2021, 16:59:28) [MSC v.1916 64 bit (AMD64)]'"
      ]
     },
     "execution_count": 4,
     "metadata": {},
     "output_type": "execute_result"
    }
   ],
   "source": [
    "format(sys.version)"
   ]
  },
  {
   "cell_type": "code",
   "execution_count": 24,
   "id": "bea89e12",
   "metadata": {},
   "outputs": [
    {
     "name": "stdout",
     "output_type": "stream",
     "text": [
      "Python: 3.9.7 (default, Sep 16 2021, 16:59:28) [MSC v.1916 64 bit (AMD64)]\n"
     ]
    }
   ],
   "source": [
    "print('Python:',format(sys.version))"
   ]
  },
  {
   "cell_type": "code",
   "execution_count": 30,
   "id": "4de2e1c7",
   "metadata": {},
   "outputs": [
    {
     "name": "stdout",
     "output_type": "stream",
     "text": [
      "numpy: 1.20.3\n",
      "matplotlib: 3.4.3\n",
      "pandas: 1.3.4\n",
      "sklearn: 0.24.2\n",
      "scipy: 1.7.1\n"
     ]
    }
   ],
   "source": [
    "import numpy\n",
    "print('numpy:',format(numpy.__version__))\n",
    "import matplotlib\n",
    "print('matplotlib:',format(matplotlib.__version__))\n",
    "import pandas\n",
    "print('pandas:',format(pandas.__version__))\n",
    "import sklearn\n",
    "print('sklearn:',format(sklearn.__version__))\n",
    "import scipy\n",
    "print('scipy:',format(scipy.__version__))"
   ]
  },
  {
   "cell_type": "code",
   "execution_count": null,
   "id": "b8065a28",
   "metadata": {},
   "outputs": [],
   "source": []
  }
 ],
 "metadata": {
  "kernelspec": {
   "display_name": "Python 3 (ipykernel)",
   "language": "python",
   "name": "python3"
  },
  "language_info": {
   "codemirror_mode": {
    "name": "ipython",
    "version": 3
   },
   "file_extension": ".py",
   "mimetype": "text/x-python",
   "name": "python",
   "nbconvert_exporter": "python",
   "pygments_lexer": "ipython3",
   "version": "3.9.7"
  }
 },
 "nbformat": 4,
 "nbformat_minor": 5
}
