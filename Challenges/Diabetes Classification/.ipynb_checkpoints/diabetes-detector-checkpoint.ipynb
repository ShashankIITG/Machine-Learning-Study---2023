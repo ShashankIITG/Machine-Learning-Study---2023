{
 "cells": [
  {
   "cell_type": "code",
   "execution_count": 1,
   "metadata": {},
   "outputs": [
    {
     "data": {
      "text/plain": [
       "'pregnancies\\nglucose\\nblood pressure\\nskin thickness\\ninsulin\\nBMI\\nDiabetes Pedigree Function\\nAge\\nOutcome'"
      ]
     },
     "execution_count": 1,
     "metadata": {},
     "output_type": "execute_result"
    }
   ],
   "source": [
    "'''pregnancies\n",
    "glucose\n",
    "blood pressure\n",
    "skin thickness\n",
    "insulin\n",
    "BMI\n",
    "Diabetes Pedigree Function\n",
    "Age\n",
    "Outcome'''"
   ]
  },
  {
   "cell_type": "code",
   "execution_count": 2,
   "metadata": {},
   "outputs": [],
   "source": [
    "import pandas as pd\n",
    "import numpy as np"
   ]
  },
  {
   "cell_type": "code",
   "execution_count": 6,
   "metadata": {},
   "outputs": [],
   "source": [
    "# data preparation"
   ]
  },
  {
   "cell_type": "code",
   "execution_count": 47,
   "metadata": {},
   "outputs": [],
   "source": [
    "## training data\n",
    "X_train_df = pd.read_csv('Diabetes_Xtrain.csv')\n",
    "Y_train_df = pd.read_csv('Diabetes_Ytrain.csv')\n",
    "\n",
    "X_train = X_train_df.values\n",
    "Y_train = Y_train_df.values\n",
    "Y_train = Y_train[:,0]"
   ]
  },
  {
   "cell_type": "code",
   "execution_count": 48,
   "metadata": {},
   "outputs": [],
   "source": [
    "## testing data\n",
    "X_test_df = pd.read_csv('Diabetes_Xtest.csv')\n",
    "\n",
    "X_test = X_test_df.values"
   ]
  },
  {
   "cell_type": "code",
   "execution_count": 49,
   "metadata": {},
   "outputs": [],
   "source": [
    "# knn function\n",
    "def dist(x1, x2):\n",
    "    return np.sqrt(sum((x1 - x2)**2))\n",
    "\n",
    "def knn(X, Y, queryPoint, k = 7):\n",
    "    \n",
    "    val = []\n",
    "    size = X.shape[0]\n",
    "    \n",
    "    for i in range(size):\n",
    "        d = dist(queryPoint, X[i])\n",
    "        val.append((d, Y[i]))\n",
    "        \n",
    "    val = sorted(val)\n",
    "    \n",
    "    # take first k value\n",
    "    val = val[:k]\n",
    "    \n",
    "    # convert list to numpy array\n",
    "    val = np.array(val)\n",
    "    \n",
    "    # find unique output and there frequency\n",
    "    counts = np.unique(val[:,1], return_counts=True)\n",
    "    \n",
    "    index = counts[1].argmax()\n",
    "    pred = counts[0][index]\n",
    "    \n",
    "    return pred"
   ]
  },
  {
   "cell_type": "code",
   "execution_count": 52,
   "metadata": {},
   "outputs": [],
   "source": [
    "pred = knn(X_train, Y_train, X_test[0])"
   ]
  },
  {
   "cell_type": "code",
   "execution_count": 53,
   "metadata": {},
   "outputs": [
    {
     "data": {
      "text/plain": [
       "1.0"
      ]
     },
     "execution_count": 53,
     "metadata": {},
     "output_type": "execute_result"
    }
   ],
   "source": [
    "pred"
   ]
  },
  {
   "cell_type": "code",
   "execution_count": 61,
   "metadata": {},
   "outputs": [
    {
     "name": "stdout",
     "output_type": "stream",
     "text": [
      " 0 1 2 3 4 5 6 7 8 9 10 11 12 13 14 15 16 17 18 19 20 21 22 23 24 25 26 27 28 29 30 31 32 33 34 35 36 37 38 39 40 41 42 43 44 45 46 47 48 49 50 51 52 53 54 55 56 57 58 59 60 61 62 63 64 65 66 67 68 69 70 71 72 73 74 75 76 77 78 79 80 81 82 83 84 85 86 87 88 89 90 91 92 93 94 95 96 97 98 99 100 101 102 103 104 105 106 107 108 109 110 111 112 113 114 115 116 117 118 119 120 121 122 123 124 125 126 127 128 129 130 131 132 133 134 135 136 137 138 139 140 141 142 143 144 145 146 147 148 149 150 151 152 153 154 155 156 157 158 159 160 161 162 163 164 165 166 167 168 169 170 171 172 173 174 175 176 177 178 179 180 181 182 183 184 185 186 187 188 189 190 191"
     ]
    }
   ],
   "source": [
    "# exporting all the predictions as csv\n",
    "test_size = X_test.shape[0]\n",
    "lst = []\n",
    "\n",
    "for i in range(test_size):\n",
    "    pred = knn(X_train, Y_train, X_test[i])\n",
    "    lst.append(int(pred))\n",
    "    print(\"\", i, end = \"\")\n",
    "    \n",
    "outcome = {\n",
    "    \"outputs\": np.array(lst)\n",
    "}\n",
    "\n",
    "df = pd.DataFrame(outcome, dtype = 'uint8')\n",
    "df.to_csv('output.csv', index = False)"
   ]
  },
  {
   "cell_type": "code",
   "execution_count": null,
   "metadata": {},
   "outputs": [],
   "source": []
  }
 ],
 "metadata": {
  "kernelspec": {
   "display_name": "Python 3",
   "language": "python",
   "name": "python3"
  },
  "language_info": {
   "codemirror_mode": {
    "name": "ipython",
    "version": 3
   },
   "file_extension": ".py",
   "mimetype": "text/x-python",
   "name": "python",
   "nbconvert_exporter": "python",
   "pygments_lexer": "ipython3",
   "version": "3.8.5"
  }
 },
 "nbformat": 4,
 "nbformat_minor": 4
}
