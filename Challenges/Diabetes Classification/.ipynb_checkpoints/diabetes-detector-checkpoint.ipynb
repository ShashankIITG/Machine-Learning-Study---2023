{
 "cells": [
  {
   "cell_type": "code",
   "execution_count": 1,
   "metadata": {},
   "outputs": [
    {
     "data": {
      "text/plain": [
       "'pregnancies\\nglucose\\nblood pressure\\nskin thickness\\ninsulin\\nBMI\\nDiabetes Pedigree Function\\nAge\\nOutcome'"
      ]
     },
     "execution_count": 1,
     "metadata": {},
     "output_type": "execute_result"
    }
   ],
   "source": [
    "'''pregnancies\n",
    "glucose\n",
    "blood pressure\n",
    "skin thickness\n",
    "insulin\n",
    "BMI\n",
    "Diabetes Pedigree Function\n",
    "Age\n",
    "Outcome'''"
   ]
  },
  {
   "cell_type": "code",
   "execution_count": 21,
   "metadata": {},
   "outputs": [],
   "source": [
    "import pandas as pd\n",
    "import numpy as np\n",
    "import matplotlib.pyplot as plt"
   ]
  },
  {
   "cell_type": "code",
   "execution_count": 3,
   "metadata": {},
   "outputs": [],
   "source": [
    "# data preparation\n",
    "\n",
    "## training data\n",
    "X_train_df = pd.read_csv('Diabetes_Xtrain.csv')\n",
    "Y_train_df = pd.read_csv('Diabetes_Ytrain.csv')\n",
    "\n",
    "X_train = X_train_df.values\n",
    "Y_train = Y_train_df.values\n",
    "Y_train = Y_train[:,0]"
   ]
  },
  {
   "cell_type": "code",
   "execution_count": 5,
   "metadata": {},
   "outputs": [
    {
     "name": "stdout",
     "output_type": "stream",
     "text": [
      "<class 'pandas.core.frame.DataFrame'>\n",
      "RangeIndex: 576 entries, 0 to 575\n",
      "Data columns (total 8 columns):\n",
      " #   Column                    Non-Null Count  Dtype  \n",
      "---  ------                    --------------  -----  \n",
      " 0   Pregnancies               576 non-null    int64  \n",
      " 1   Glucose                   576 non-null    int64  \n",
      " 2   BloodPressure             576 non-null    int64  \n",
      " 3   SkinThickness             576 non-null    int64  \n",
      " 4   Insulin                   576 non-null    int64  \n",
      " 5   BMI                       576 non-null    float64\n",
      " 6   DiabetesPedigreeFunction  576 non-null    float64\n",
      " 7   Age                       576 non-null    int64  \n",
      "dtypes: float64(2), int64(6)\n",
      "memory usage: 36.1 KB\n"
     ]
    }
   ],
   "source": [
    "# data understanding\n",
    "X_train_df.info()"
   ]
  },
  {
   "cell_type": "code",
   "execution_count": 6,
   "metadata": {},
   "outputs": [
    {
     "name": "stdout",
     "output_type": "stream",
     "text": [
      "<class 'pandas.core.frame.DataFrame'>\n",
      "RangeIndex: 576 entries, 0 to 575\n",
      "Data columns (total 1 columns):\n",
      " #   Column   Non-Null Count  Dtype\n",
      "---  ------   --------------  -----\n",
      " 0   Outcome  576 non-null    int64\n",
      "dtypes: int64(1)\n",
      "memory usage: 4.6 KB\n"
     ]
    }
   ],
   "source": [
    "Y_train_df.info()"
   ]
  },
  {
   "cell_type": "code",
   "execution_count": 8,
   "metadata": {},
   "outputs": [
    {
     "data": {
      "text/plain": [
       "array([0, 1], dtype=int64)"
      ]
     },
     "execution_count": 8,
     "metadata": {},
     "output_type": "execute_result"
    }
   ],
   "source": [
    "np.unique(Y_train)"
   ]
  },
  {
   "cell_type": "code",
   "execution_count": 48,
   "metadata": {},
   "outputs": [],
   "source": [
    "## testing data\n",
    "X_test_df = pd.read_csv('Diabetes_Xtest.csv')\n",
    "\n",
    "X_test = X_test_df.values"
   ]
  },
  {
   "cell_type": "code",
   "execution_count": 49,
   "metadata": {},
   "outputs": [],
   "source": [
    "# knn function\n",
    "def dist(x1, x2):\n",
    "    return np.sqrt(sum((x1 - x2)**2))\n",
    "\n",
    "def knn(X, Y, queryPoint, k = 7):\n",
    "    \n",
    "    val = []\n",
    "    size = X.shape[0]\n",
    "    \n",
    "    for i in range(size):\n",
    "        d = dist(queryPoint, X[i])\n",
    "        val.append((d, Y[i]))\n",
    "        \n",
    "    val = sorted(val)\n",
    "    \n",
    "    # take first k value\n",
    "    val = val[:k]\n",
    "    \n",
    "    # convert list to numpy array\n",
    "    val = np.array(val)\n",
    "    \n",
    "    # find unique output and there frequency\n",
    "    counts = np.unique(val[:,1], return_counts=True)\n",
    "    \n",
    "    index = counts[1].argmax()\n",
    "    pred = counts[0][index]\n",
    "    \n",
    "    return pred"
   ]
  },
  {
   "cell_type": "code",
   "execution_count": 52,
   "metadata": {},
   "outputs": [],
   "source": [
    "pred = knn(X_train, Y_train, X_test[0])"
   ]
  },
  {
   "cell_type": "code",
   "execution_count": 76,
   "metadata": {},
   "outputs": [],
   "source": [
    "from sklearn.model_selection import train_test_split"
   ]
  },
  {
   "cell_type": "code",
   "execution_count": 77,
   "metadata": {},
   "outputs": [],
   "source": [
    "Xt, Yt, Xv, Yv = train_test_split(X_train, Y_train, test_size=0.2)"
   ]
  },
  {
   "cell_type": "code",
   "execution_count": 61,
   "metadata": {},
   "outputs": [
    {
     "name": "stdout",
     "output_type": "stream",
     "text": [
      " 0 1 2 3 4 5 6 7 8 9 10 11 12 13 14 15 16 17 18 19 20 21 22 23 24 25 26 27 28 29 30 31 32 33 34 35 36 37 38 39 40 41 42 43 44 45 46 47 48 49 50 51 52 53 54 55 56 57 58 59 60 61 62 63 64 65 66 67 68 69 70 71 72 73 74 75 76 77 78 79 80 81 82 83 84 85 86 87 88 89 90 91 92 93 94 95 96 97 98 99 100 101 102 103 104 105 106 107 108 109 110 111 112 113 114 115 116 117 118 119 120 121 122 123 124 125 126 127 128 129 130 131 132 133 134 135 136 137 138 139 140 141 142 143 144 145 146 147 148 149 150 151 152 153 154 155 156 157 158 159 160 161 162 163 164 165 166 167 168 169 170 171 172 173 174 175 176 177 178 179 180 181 182 183 184 185 186 187 188 189 190 191"
     ]
    }
   ],
   "source": [
    "# exporting all the predictions as csv\n",
    "test_size = X_test.shape[0]\n",
    "lst = []\n",
    "\n",
    "for i in range(test_size):\n",
    "    pred = knn(X_train, Y_train, X_test[i])\n",
    "    lst.append(int(pred))\n",
    "    print(\"\", i, end = \"\\r\")\n",
    "    \n",
    "outcome = {\n",
    "    \"outputs\": np.array(lst)\n",
    "}\n",
    "\n",
    "df = pd.DataFrame(outcome, dtype = 'uint8')\n",
    "df.to_csv('output.csv', index = False)"
   ]
  },
  {
   "cell_type": "code",
   "execution_count": null,
   "metadata": {},
   "outputs": [],
   "source": [
    "for i in range(test_size):\n",
    "    pred = knn(X_train, Y_train, X_test[i])\n",
    "    lst.append(int(pred))\n",
    "    print(\"\", i, end = \"\\r\")"
   ]
  },
  {
   "cell_type": "markdown",
   "metadata": {},
   "source": [
    "# classification using neural network (MLP)"
   ]
  },
  {
   "cell_type": "code",
   "execution_count": 50,
   "metadata": {},
   "outputs": [],
   "source": [
    "from keras.models import Sequential\n",
    "from keras.layers import Input, Dense\n",
    "from keras.optimizers import Adam\n",
    "from keras.callbacks import ModelCheckpoint, EarlyStopping"
   ]
  },
  {
   "cell_type": "code",
   "execution_count": 58,
   "metadata": {},
   "outputs": [],
   "source": [
    "model = Sequential()\n",
    "model.add(Input(X_train.shape[1]))\n",
    "model.add(Dense(24, activation='relu'))\n",
    "model.add(Dense(24, activation='relu'))\n",
    "model.add(Dense(1, activation='sigmoid')) # its binary classification problem\n",
    "model.compile(loss='binary_crossentropy', optimizer=Adam(learning_rate=0.001), metrics=['accuracy'])"
   ]
  },
  {
   "cell_type": "code",
   "execution_count": 59,
   "metadata": {},
   "outputs": [],
   "source": [
    "early_stop = EarlyStopping(monitor='val_accuracy', patience=5)"
   ]
  },
  {
   "cell_type": "code",
   "execution_count": 60,
   "metadata": {
    "scrolled": true
   },
   "outputs": [
    {
     "name": "stdout",
     "output_type": "stream",
     "text": [
      "no of samples: 576\n",
      "Epoch 1/90\n",
      "15/15 [==============================] - 4s 113ms/step - loss: 2.0803 - accuracy: 0.5761 - val_loss: 2.1737 - val_accuracy: 0.5690\n",
      "Epoch 2/90\n",
      "15/15 [==============================] - 1s 59ms/step - loss: 1.4888 - accuracy: 0.5783 - val_loss: 1.4280 - val_accuracy: 0.5431\n",
      "Epoch 3/90\n",
      "15/15 [==============================] - 1s 59ms/step - loss: 1.2266 - accuracy: 0.5478 - val_loss: 1.2805 - val_accuracy: 0.6121\n",
      "Epoch 4/90\n",
      "15/15 [==============================] - 1s 59ms/step - loss: 1.1129 - accuracy: 0.5913 - val_loss: 1.1986 - val_accuracy: 0.5948\n",
      "Epoch 5/90\n",
      "15/15 [==============================] - 1s 57ms/step - loss: 1.0018 - accuracy: 0.5457 - val_loss: 1.1109 - val_accuracy: 0.6466\n",
      "Epoch 6/90\n",
      "15/15 [==============================] - 1s 56ms/step - loss: 0.8931 - accuracy: 0.6087 - val_loss: 0.9809 - val_accuracy: 0.6121\n",
      "Epoch 7/90\n",
      "15/15 [==============================] - 1s 60ms/step - loss: 0.8357 - accuracy: 0.6283 - val_loss: 0.8993 - val_accuracy: 0.6121\n",
      "Epoch 8/90\n",
      "15/15 [==============================] - 1s 55ms/step - loss: 0.8138 - accuracy: 0.6043 - val_loss: 0.9004 - val_accuracy: 0.6379\n",
      "Epoch 9/90\n",
      "15/15 [==============================] - 1s 59ms/step - loss: 0.7855 - accuracy: 0.6304 - val_loss: 0.8171 - val_accuracy: 0.6293\n",
      "Epoch 10/90\n",
      "15/15 [==============================] - 1s 54ms/step - loss: 0.7078 - accuracy: 0.6587 - val_loss: 0.8332 - val_accuracy: 0.6638\n",
      "Epoch 11/90\n",
      "15/15 [==============================] - 1s 57ms/step - loss: 0.6966 - accuracy: 0.6739 - val_loss: 0.9806 - val_accuracy: 0.4828\n",
      "Epoch 12/90\n",
      "15/15 [==============================] - 1s 77ms/step - loss: 0.7957 - accuracy: 0.5783 - val_loss: 0.8119 - val_accuracy: 0.5172\n",
      "Epoch 13/90\n",
      "15/15 [==============================] - 2s 103ms/step - loss: 0.6999 - accuracy: 0.6630 - val_loss: 0.7495 - val_accuracy: 0.6897\n",
      "Epoch 14/90\n",
      "15/15 [==============================] - 1s 81ms/step - loss: 0.6630 - accuracy: 0.6826 - val_loss: 0.7066 - val_accuracy: 0.6983\n",
      "Epoch 15/90\n",
      "15/15 [==============================] - 1s 58ms/step - loss: 0.6175 - accuracy: 0.7000 - val_loss: 0.7045 - val_accuracy: 0.7155\n",
      "Epoch 16/90\n",
      "15/15 [==============================] - 1s 69ms/step - loss: 0.6283 - accuracy: 0.6739 - val_loss: 0.7067 - val_accuracy: 0.7069\n",
      "Epoch 17/90\n",
      "15/15 [==============================] - 1s 66ms/step - loss: 0.6654 - accuracy: 0.6717 - val_loss: 0.8484 - val_accuracy: 0.6552\n",
      "Epoch 18/90\n",
      "15/15 [==============================] - 1s 89ms/step - loss: 0.6527 - accuracy: 0.6761 - val_loss: 0.7099 - val_accuracy: 0.6810\n",
      "Epoch 19/90\n",
      "15/15 [==============================] - 1s 67ms/step - loss: 0.7367 - accuracy: 0.6609 - val_loss: 0.9323 - val_accuracy: 0.4914\n",
      "Epoch 20/90\n",
      "15/15 [==============================] - 1s 69ms/step - loss: 0.6378 - accuracy: 0.6587 - val_loss: 0.6998 - val_accuracy: 0.6810\n"
     ]
    }
   ],
   "source": [
    "print(\"no of samples: %d\" %X_train.shape[0])\n",
    "hist = model.fit(X_train, Y_train, epochs=90, validation_split=0.2, use_multiprocessing=True, callbacks=[early_stop])"
   ]
  },
  {
   "cell_type": "code",
   "execution_count": 35,
   "metadata": {},
   "outputs": [
    {
     "data": {
      "image/png": "[encoded data removed]",
      "text/plain": [
       "<Figure size 432x288 with 1 Axes>"
      ]
     },
     "metadata": {
      "needs_background": "light"
     },
     "output_type": "display_data"
    }
   ],
   "source": [
    "plt.plot(hist.history['loss'], label=\"training loss\")\n",
    "plt.plot(hist.history['val_loss'], label=\"validation loss\")\n",
    "plt.show()"
   ]
  },
  {
   "cell_type": "code",
   "execution_count": 34,
   "metadata": {},
   "outputs": [
    {
     "data": {
      "image/png": "[encoded data removed]",
      "text/plain": [
       "<Figure size 432x288 with 1 Axes>"
      ]
     },
     "metadata": {
      "needs_background": "light"
     },
     "output_type": "display_data"
    }
   ],
   "source": [
    "plt.plot(hist.history['accuracy'], label=\"training loss\")\n",
    "plt.plot(hist.history['val_accuracy'], label=\"validation loss\")\n",
    "plt.show()"
   ]
  },
  {
   "cell_type": "code",
   "execution_count": 36,
   "metadata": {},
   "outputs": [
    {
     "data": {
      "text/plain": [
       "dict_keys(['loss', 'accuracy', 'val_loss', 'val_accuracy'])"
      ]
     },
     "execution_count": 36,
     "metadata": {},
     "output_type": "execute_result"
    }
   ],
   "source": [
    "hist.history.keys()"
   ]
  },
  {
   "cell_type": "code",
   "execution_count": 37,
   "metadata": {},
   "outputs": [],
   "source": [
    "# the accuracy on validation set is just about 70%\n",
    "# which is not great at all"
   ]
  },
  {
   "cell_type": "code",
   "execution_count": 61,
   "metadata": {},
   "outputs": [
    {
     "data": {
      "image/png": "[encoded data removed]",
      "text/plain": [
       "<Figure size 432x288 with 1 Axes>"
      ]
     },
     "metadata": {
      "needs_background": "light"
     },
     "output_type": "display_data"
    }
   ],
   "source": [
    "plt.plot(hist.history['accuracy'], label=\"training loss\")\n",
    "plt.plot(hist.history['val_accuracy'], label=\"validation loss\")\n",
    "plt.legend()\n",
    "plt.show()"
   ]
  },
  {
   "cell_type": "code",
   "execution_count": 62,
   "metadata": {},
   "outputs": [
    {
     "data": {
      "image/png": "[encoded data removed]",
      "text/plain": [
       "<Figure size 432x288 with 1 Axes>"
      ]
     },
     "metadata": {
      "needs_background": "light"
     },
     "output_type": "display_data"
    }
   ],
   "source": [
    "plt.plot(hist.history['loss'], label=\"training loss\")\n",
    "plt.plot(hist.history['val_loss'], label=\"validation loss\")\n",
    "plt.legend()\n",
    "plt.show()"
   ]
  },
  {
   "cell_type": "markdown",
   "metadata": {},
   "source": [
    "# Logistic Regression"
   ]
  },
  {
   "cell_type": "code",
   "execution_count": 33,
   "metadata": {},
   "outputs": [],
   "source": [
    "from sklearn.linear_model import LogisticRegression"
   ]
  },
  {
   "cell_type": "code",
   "execution_count": 63,
   "metadata": {},
   "outputs": [],
   "source": [
    "lr_model = LogisticRegression(solver='liblinear')"
   ]
  },
  {
   "cell_type": "code",
   "execution_count": 64,
   "metadata": {},
   "outputs": [
    {
     "name": "stdout",
     "output_type": "stream",
     "text": [
      "(576, 8) (576,)\n"
     ]
    }
   ],
   "source": [
    "print(X_train.shape, Y_train.shape)"
   ]
  },
  {
   "cell_type": "code",
   "execution_count": 65,
   "metadata": {},
   "outputs": [
    {
     "data": {
      "text/plain": [
       "LogisticRegression(solver='liblinear')"
      ]
     },
     "execution_count": 65,
     "metadata": {},
     "output_type": "execute_result"
    }
   ],
   "source": [
    "lr_model.fit(X_train, Y_train)"
   ]
  },
  {
   "cell_type": "code",
   "execution_count": 66,
   "metadata": {},
   "outputs": [],
   "source": [
    "theta0 = lr_model.intercept_\n",
    "thetas = lr_model.coef_"
   ]
  },
  {
   "cell_type": "code",
   "execution_count": 67,
   "metadata": {},
   "outputs": [
    {
     "name": "stdout",
     "output_type": "stream",
     "text": [
      "[-5.46843589] [[ 1.08002155e-01  2.74046082e-02 -1.49956959e-02 -1.36057614e-03\n",
      "  -3.45816348e-04  5.90902594e-02  6.11255349e-01 -9.88334816e-04]]\n"
     ]
    }
   ],
   "source": [
    "print(theta0, thetas)"
   ]
  },
  {
   "cell_type": "code",
   "execution_count": 72,
   "metadata": {},
   "outputs": [],
   "source": [
    "Yp_lr = lr_model.predict(X_train)"
   ]
  },
  {
   "cell_type": "markdown",
   "metadata": {},
   "source": [
    "# Compare results - Confusion Matrix"
   ]
  },
  {
   "cell_type": "code",
   "execution_count": 74,
   "metadata": {},
   "outputs": [],
   "source": [
    "from sklearn.metrics import confusion_matrix\n",
    "from sklearn import metrics"
   ]
  },
  {
   "cell_type": "code",
   "execution_count": 75,
   "metadata": {},
   "outputs": [
    {
     "data": {
      "text/plain": [
       "array([[338,  37],\n",
       "       [ 89, 112]], dtype=int64)"
      ]
     },
     "execution_count": 75,
     "metadata": {},
     "output_type": "execute_result"
    }
   ],
   "source": [
    "# linear regression\n",
    "confusion_matrix(Y_train, Yp_lr)"
   ]
  },
  {
   "cell_type": "code",
   "execution_count": null,
   "metadata": {},
   "outputs": [],
   "source": [
    "cm_display = metrics.ConfusionMatrixDisplay(confusion_matrix = confusion_matrix, display_labels = [False, True])"
   ]
  }
 ],
 "metadata": {
  "kernelspec": {
   "display_name": "Python 3",
   "language": "python",
   "name": "python3"
  },
  "language_info": {
   "codemirror_mode": {
    "name": "ipython",
    "version": 3
   },
   "file_extension": ".py",
   "mimetype": "text/x-python",
   "name": "python",
   "nbconvert_exporter": "python",
   "pygments_lexer": "ipython3",
   "version": "3.8.5"
  }
 },
 "nbformat": 4,
 "nbformat_minor": 4
}
