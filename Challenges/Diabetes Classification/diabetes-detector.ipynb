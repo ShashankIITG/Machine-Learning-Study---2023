{
 "cells": [
  {
   "cell_type": "code",
   "execution_count": 1,
   "metadata": {},
   "outputs": [
    {
     "data": {
      "text/plain": [
       "'pregnancies\\nglucose\\nblood pressure\\nskin thickness\\ninsulin\\nBMI\\nDiabetes Pedigree Function\\nAge\\nOutcome'"
      ]
     },
     "execution_count": 1,
     "metadata": {},
     "output_type": "execute_result"
    }
   ],
   "source": [
    "'''pregnancies\n",
    "glucose\n",
    "blood pressure\n",
    "skin thickness\n",
    "insulin\n",
    "BMI\n",
    "Diabetes Pedigree Function\n",
    "Age\n",
    "Outcome'''"
   ]
  },
  {
   "cell_type": "code",
   "execution_count": 21,
   "metadata": {},
   "outputs": [],
   "source": [
    "import pandas as pd\n",
    "import numpy as np\n",
    "import matplotlib.pyplot as plt"
   ]
  },
  {
   "cell_type": "code",
   "execution_count": 3,
   "metadata": {},
   "outputs": [],
   "source": [
    "# data preparation\n",
    "\n",
    "## training data\n",
    "X_train_df = pd.read_csv('Diabetes_Xtrain.csv')\n",
    "Y_train_df = pd.read_csv('Diabetes_Ytrain.csv')\n",
    "\n",
    "X_train = X_train_df.values\n",
    "Y_train = Y_train_df.values\n",
    "Y_train = Y_train[:,0]"
   ]
  },
  {
   "cell_type": "code",
   "execution_count": 5,
   "metadata": {},
   "outputs": [
    {
     "name": "stdout",
     "output_type": "stream",
     "text": [
      "<class 'pandas.core.frame.DataFrame'>\n",
      "RangeIndex: 576 entries, 0 to 575\n",
      "Data columns (total 8 columns):\n",
      " #   Column                    Non-Null Count  Dtype  \n",
      "---  ------                    --------------  -----  \n",
      " 0   Pregnancies               576 non-null    int64  \n",
      " 1   Glucose                   576 non-null    int64  \n",
      " 2   BloodPressure             576 non-null    int64  \n",
      " 3   SkinThickness             576 non-null    int64  \n",
      " 4   Insulin                   576 non-null    int64  \n",
      " 5   BMI                       576 non-null    float64\n",
      " 6   DiabetesPedigreeFunction  576 non-null    float64\n",
      " 7   Age                       576 non-null    int64  \n",
      "dtypes: float64(2), int64(6)\n",
      "memory usage: 36.1 KB\n"
     ]
    }
   ],
   "source": [
    "# data understanding\n",
    "X_train_df.info()"
   ]
  },
  {
   "cell_type": "code",
   "execution_count": 6,
   "metadata": {},
   "outputs": [
    {
     "name": "stdout",
     "output_type": "stream",
     "text": [
      "<class 'pandas.core.frame.DataFrame'>\n",
      "RangeIndex: 576 entries, 0 to 575\n",
      "Data columns (total 1 columns):\n",
      " #   Column   Non-Null Count  Dtype\n",
      "---  ------   --------------  -----\n",
      " 0   Outcome  576 non-null    int64\n",
      "dtypes: int64(1)\n",
      "memory usage: 4.6 KB\n"
     ]
    }
   ],
   "source": [
    "Y_train_df.info()"
   ]
  },
  {
   "cell_type": "code",
   "execution_count": 8,
   "metadata": {},
   "outputs": [
    {
     "data": {
      "text/plain": [
       "array([0, 1], dtype=int64)"
      ]
     },
     "execution_count": 8,
     "metadata": {},
     "output_type": "execute_result"
    }
   ],
   "source": [
    "np.unique(Y_train)"
   ]
  },
  {
   "cell_type": "code",
   "execution_count": 87,
   "metadata": {},
   "outputs": [],
   "source": [
    "## testing data\n",
    "X_test_df = pd.read_csv('Diabetes_Xtest.csv')\n",
    "\n",
    "X_test = X_test_df.values"
   ]
  },
  {
   "cell_type": "code",
   "execution_count": 88,
   "metadata": {},
   "outputs": [],
   "source": [
    "# knn function\n",
    "def dist(x1, x2):\n",
    "    return np.sqrt(sum((x1 - x2)**2))\n",
    "\n",
    "def knn(X, Y, queryPoint, k = 7):\n",
    "    \n",
    "    val = []\n",
    "    size = X.shape[0]\n",
    "    \n",
    "    for i in range(size):\n",
    "        d = dist(queryPoint, X[i])\n",
    "        val.append((d, Y[i]))\n",
    "        \n",
    "    val = sorted(val)\n",
    "    \n",
    "    # take first k value\n",
    "    val = val[:k]\n",
    "    \n",
    "    # convert list to numpy array\n",
    "    val = np.array(val)\n",
    "    \n",
    "    # find unique output and there frequency\n",
    "    counts = np.unique(val[:,1], return_counts=True)\n",
    "    \n",
    "    index = counts[1].argmax()\n",
    "    pred = counts[0][index]\n",
    "    \n",
    "    return pred"
   ]
  },
  {
   "cell_type": "code",
   "execution_count": 90,
   "metadata": {},
   "outputs": [
    {
     "data": {
      "text/plain": [
       "1.0"
      ]
     },
     "execution_count": 90,
     "metadata": {},
     "output_type": "execute_result"
    }
   ],
   "source": [
    "knn(X_train, Y_train, X_test[0])"
   ]
  },
  {
   "cell_type": "code",
   "execution_count": 94,
   "metadata": {},
   "outputs": [
    {
     "name": "stdout",
     "output_type": "stream",
     "text": [
      " 191\r"
     ]
    }
   ],
   "source": [
    "# exporting all the predictions as csv\n",
    "test_size = X_test.shape[0]\n",
    "lst = []\n",
    "\n",
    "for i in range(test_size):\n",
    "    pred = knn(X_train, Y_train, X_test[i])\n",
    "    lst.append(int(pred))\n",
    "    print(\"\", i, end = \"\\r\")\n",
    "    \n",
    "outcome = {\n",
    "    \"outputs\": np.array(lst)\n",
    "}\n",
    "\n",
    "df = pd.DataFrame(outcome, dtype = 'uint8')\n",
    "df.to_csv('output.csv', index = False)"
   ]
  },
  {
   "cell_type": "code",
   "execution_count": 102,
   "metadata": {},
   "outputs": [],
   "source": [
    "Xt, Xv, Yt, Yv = train_test_split(X_train, Y_train, test_size=0.2)"
   ]
  },
  {
   "cell_type": "code",
   "execution_count": 92,
   "metadata": {},
   "outputs": [],
   "source": [
    "from sklearn.model_selection import train_test_split\n",
    "import tqdm"
   ]
  },
  {
   "cell_type": "code",
   "execution_count": 105,
   "metadata": {},
   "outputs": [],
   "source": [
    "Yp_knn = []\n",
    "for i in range(Xv.shape[0]):\n",
    "    pred = knn(Xt, Yt, Xv[i])\n",
    "    Yp_knn.append(int(pred))\n",
    "    \n",
    "Yp_knn = np.asarray(Yp_knn)"
   ]
  },
  {
   "cell_type": "markdown",
   "metadata": {},
   "source": [
    "# classification using neural network (MLP)"
   ]
  },
  {
   "cell_type": "code",
   "execution_count": 50,
   "metadata": {},
   "outputs": [],
   "source": [
    "from keras.models import Sequential\n",
    "from keras.layers import Input, Dense\n",
    "from keras.optimizers import Adam\n",
    "from keras.callbacks import ModelCheckpoint, EarlyStopping"
   ]
  },
  {
   "cell_type": "code",
   "execution_count": 122,
   "metadata": {},
   "outputs": [],
   "source": [
    "mlp_model = Sequential()\n",
    "mlp_model.add(Input(X_train.shape[1]))\n",
    "mlp_model.add(Dense(24, activation='relu'))\n",
    "mlp_model.add(Dense(24, activation='relu'))\n",
    "mlp_model.add(Dense(1, activation='sigmoid')) # its binary classification problem\n",
    "mlp_model.compile(loss='binary_crossentropy', optimizer=Adam(learning_rate=0.001), metrics=['accuracy'])"
   ]
  },
  {
   "cell_type": "code",
   "execution_count": 123,
   "metadata": {},
   "outputs": [],
   "source": [
    "early_stop = EarlyStopping(monitor='val_accuracy', patience=9, restore_best_weights=True)"
   ]
  },
  {
   "cell_type": "code",
   "execution_count": 124,
   "metadata": {
    "scrolled": true
   },
   "outputs": [
    {
     "name": "stdout",
     "output_type": "stream",
     "text": [
      "Epoch 1/90\n",
      "12/12 [==============================] - 5s 133ms/step - loss: 15.9208 - accuracy: 0.3152 - val_loss: 8.8715 - val_accuracy: 0.4457\n",
      "Epoch 2/90\n",
      "12/12 [==============================] - 1s 60ms/step - loss: 7.4769 - accuracy: 0.3288 - val_loss: 3.3630 - val_accuracy: 0.4348\n",
      "Epoch 3/90\n",
      "12/12 [==============================] - 1s 61ms/step - loss: 2.7437 - accuracy: 0.5054 - val_loss: 3.3934 - val_accuracy: 0.5109\n",
      "Epoch 4/90\n",
      "12/12 [==============================] - 1s 71ms/step - loss: 2.0397 - accuracy: 0.6549 - val_loss: 1.7645 - val_accuracy: 0.6087\n",
      "Epoch 5/90\n",
      "12/12 [==============================] - 1s 72ms/step - loss: 1.3618 - accuracy: 0.5870 - val_loss: 1.4492 - val_accuracy: 0.5543\n",
      "Epoch 6/90\n",
      "12/12 [==============================] - 1s 59ms/step - loss: 1.2149 - accuracy: 0.6060 - val_loss: 1.4966 - val_accuracy: 0.6087\n",
      "Epoch 7/90\n",
      "12/12 [==============================] - 1s 63ms/step - loss: 1.0253 - accuracy: 0.6223 - val_loss: 1.2553 - val_accuracy: 0.5870\n",
      "Epoch 8/90\n",
      "12/12 [==============================] - 1s 93ms/step - loss: 0.9359 - accuracy: 0.6168 - val_loss: 1.2078 - val_accuracy: 0.6087\n",
      "Epoch 9/90\n",
      "12/12 [==============================] - 1s 115ms/step - loss: 0.9025 - accuracy: 0.6359 - val_loss: 1.1448 - val_accuracy: 0.6413\n",
      "Epoch 10/90\n",
      "12/12 [==============================] - 1s 74ms/step - loss: 0.8448 - accuracy: 0.6060 - val_loss: 1.1438 - val_accuracy: 0.5870\n",
      "Epoch 11/90\n",
      "12/12 [==============================] - 1s 68ms/step - loss: 0.8290 - accuracy: 0.6196 - val_loss: 0.9743 - val_accuracy: 0.6304\n",
      "Epoch 12/90\n",
      "12/12 [==============================] - 1s 58ms/step - loss: 0.7607 - accuracy: 0.6413 - val_loss: 0.9706 - val_accuracy: 0.6196\n",
      "Epoch 13/90\n",
      "12/12 [==============================] - 1s 65ms/step - loss: 0.7472 - accuracy: 0.6277 - val_loss: 0.9753 - val_accuracy: 0.6196\n",
      "Epoch 14/90\n",
      "12/12 [==============================] - 1s 67ms/step - loss: 0.7367 - accuracy: 0.6495 - val_loss: 0.8617 - val_accuracy: 0.6630\n",
      "Epoch 15/90\n",
      "12/12 [==============================] - 1s 57ms/step - loss: 0.7099 - accuracy: 0.6440 - val_loss: 0.9007 - val_accuracy: 0.6196\n",
      "Epoch 16/90\n",
      "12/12 [==============================] - 1s 76ms/step - loss: 0.7036 - accuracy: 0.6386 - val_loss: 0.8824 - val_accuracy: 0.6630\n",
      "Epoch 17/90\n",
      "12/12 [==============================] - 1s 65ms/step - loss: 0.6814 - accuracy: 0.6522 - val_loss: 0.7883 - val_accuracy: 0.6630\n",
      "Epoch 18/90\n",
      "12/12 [==============================] - 2s 158ms/step - loss: 0.7103 - accuracy: 0.6440 - val_loss: 0.8395 - val_accuracy: 0.6413\n",
      "Epoch 19/90\n",
      "12/12 [==============================] - 1s 100ms/step - loss: 0.6554 - accuracy: 0.6467 - val_loss: 0.7727 - val_accuracy: 0.6630\n",
      "Epoch 20/90\n",
      "12/12 [==============================] - 1s 116ms/step - loss: 0.6430 - accuracy: 0.6576 - val_loss: 0.8091 - val_accuracy: 0.6739\n",
      "Epoch 21/90\n",
      "12/12 [==============================] - 1s 118ms/step - loss: 0.6468 - accuracy: 0.6359 - val_loss: 0.7659 - val_accuracy: 0.6848\n",
      "Epoch 22/90\n",
      "12/12 [==============================] - 1s 94ms/step - loss: 0.6292 - accuracy: 0.6658 - val_loss: 0.7394 - val_accuracy: 0.6848\n",
      "Epoch 23/90\n",
      "12/12 [==============================] - 1s 66ms/step - loss: 0.6389 - accuracy: 0.6848 - val_loss: 0.7511 - val_accuracy: 0.6848\n",
      "Epoch 24/90\n",
      "12/12 [==============================] - 1s 61ms/step - loss: 0.6191 - accuracy: 0.6848 - val_loss: 0.7540 - val_accuracy: 0.6739\n",
      "Epoch 25/90\n",
      "12/12 [==============================] - 1s 61ms/step - loss: 0.6104 - accuracy: 0.6821 - val_loss: 0.7018 - val_accuracy: 0.6739\n",
      "Epoch 26/90\n",
      "12/12 [==============================] - 1s 60ms/step - loss: 0.6306 - accuracy: 0.6712 - val_loss: 0.7278 - val_accuracy: 0.6304\n",
      "Epoch 27/90\n",
      "12/12 [==============================] - 1s 63ms/step - loss: 0.6133 - accuracy: 0.6929 - val_loss: 0.8334 - val_accuracy: 0.6087\n",
      "Epoch 28/90\n",
      "12/12 [==============================] - 1s 66ms/step - loss: 0.6115 - accuracy: 0.6766 - val_loss: 0.6991 - val_accuracy: 0.6304\n",
      "Epoch 29/90\n",
      "12/12 [==============================] - 1s 87ms/step - loss: 0.5761 - accuracy: 0.7147 - val_loss: 0.7932 - val_accuracy: 0.6196\n",
      "Epoch 30/90\n",
      "12/12 [==============================] - 1s 89ms/step - loss: 0.5975 - accuracy: 0.7065 - val_loss: 0.7015 - val_accuracy: 0.6630\n"
     ]
    }
   ],
   "source": [
    "# print(\"no of samples: %d\" %X_train.shape[0])\n",
    "hist = mlp_model.fit(Xt, Yt, epochs=90, validation_split=0.2, use_multiprocessing=True, callbacks=[early_stop])"
   ]
  },
  {
   "cell_type": "code",
   "execution_count": 35,
   "metadata": {},
   "outputs": [
    {
     "data": {
      "image/png": "[encoded data removed]",
      "text/plain": [
       "<Figure size 432x288 with 1 Axes>"
      ]
     },
     "metadata": {
      "needs_background": "light"
     },
     "output_type": "display_data"
    }
   ],
   "source": [
    "plt.plot(hist.history['loss'], label=\"training loss\")\n",
    "plt.plot(hist.history['val_loss'], label=\"validation loss\")\n",
    "plt.show()"
   ]
  },
  {
   "cell_type": "code",
   "execution_count": 34,
   "metadata": {},
   "outputs": [
    {
     "data": {
      "image/png": "[encoded data removed]",
      "text/plain": [
       "<Figure size 432x288 with 1 Axes>"
      ]
     },
     "metadata": {
      "needs_background": "light"
     },
     "output_type": "display_data"
    }
   ],
   "source": [
    "plt.plot(hist.history['accuracy'], label=\"training loss\")\n",
    "plt.plot(hist.history['val_accuracy'], label=\"validation loss\")\n",
    "plt.show()"
   ]
  },
  {
   "cell_type": "code",
   "execution_count": 36,
   "metadata": {},
   "outputs": [
    {
     "data": {
      "text/plain": [
       "dict_keys(['loss', 'accuracy', 'val_loss', 'val_accuracy'])"
      ]
     },
     "execution_count": 36,
     "metadata": {},
     "output_type": "execute_result"
    }
   ],
   "source": [
    "hist.history.keys()"
   ]
  },
  {
   "cell_type": "code",
   "execution_count": 37,
   "metadata": {},
   "outputs": [],
   "source": [
    "# the accuracy on validation set is just about 70%\n",
    "# which is not great at all"
   ]
  },
  {
   "cell_type": "code",
   "execution_count": 125,
   "metadata": {},
   "outputs": [
    {
     "data": {
      "image/png": "[encoded data removed]",
      "text/plain": [
       "<Figure size 432x288 with 1 Axes>"
      ]
     },
     "metadata": {
      "needs_background": "light"
     },
     "output_type": "display_data"
    }
   ],
   "source": [
    "plt.plot(hist.history['accuracy'], label=\"training loss\")\n",
    "plt.plot(hist.history['val_accuracy'], label=\"validation loss\")\n",
    "plt.legend()\n",
    "plt.show()"
   ]
  },
  {
   "cell_type": "code",
   "execution_count": 126,
   "metadata": {},
   "outputs": [
    {
     "data": {
      "image/png": "[encoded data removed]",
      "text/plain": [
       "<Figure size 432x288 with 1 Axes>"
      ]
     },
     "metadata": {
      "needs_background": "light"
     },
     "output_type": "display_data"
    }
   ],
   "source": [
    "plt.plot(hist.history['loss'], label=\"training loss\")\n",
    "plt.plot(hist.history['val_loss'], label=\"validation loss\")\n",
    "plt.legend()\n",
    "plt.show()"
   ]
  },
  {
   "cell_type": "code",
   "execution_count": 127,
   "metadata": {},
   "outputs": [],
   "source": [
    "Yp_mlp = mlp_model.predict_on_batch(Xv)"
   ]
  },
  {
   "cell_type": "code",
   "execution_count": 129,
   "metadata": {},
   "outputs": [
    {
     "name": "stdout",
     "output_type": "stream",
     "text": [
      "(116,) (116, 1)\n"
     ]
    }
   ],
   "source": [
    "print(Yp_knn.shape, Yp_mlp.shape)"
   ]
  },
  {
   "cell_type": "markdown",
   "metadata": {},
   "source": [
    "# Logistic Regression"
   ]
  },
  {
   "cell_type": "code",
   "execution_count": 131,
   "metadata": {},
   "outputs": [],
   "source": [
    "from sklearn.linear_model import LogisticRegression"
   ]
  },
  {
   "cell_type": "code",
   "execution_count": 132,
   "metadata": {},
   "outputs": [],
   "source": [
    "lr_model = LogisticRegression(solver='liblinear')"
   ]
  },
  {
   "cell_type": "code",
   "execution_count": 133,
   "metadata": {},
   "outputs": [
    {
     "name": "stdout",
     "output_type": "stream",
     "text": [
      "(576, 8) (576,)\n"
     ]
    }
   ],
   "source": [
    "print(X_train.shape, Y_train.shape)"
   ]
  },
  {
   "cell_type": "code",
   "execution_count": 134,
   "metadata": {},
   "outputs": [
    {
     "data": {
      "text/plain": [
       "LogisticRegression(solver='liblinear')"
      ]
     },
     "execution_count": 134,
     "metadata": {},
     "output_type": "execute_result"
    }
   ],
   "source": [
    "lr_model.fit(Xt, Yt)"
   ]
  },
  {
   "cell_type": "code",
   "execution_count": 135,
   "metadata": {},
   "outputs": [],
   "source": [
    "theta0 = lr_model.intercept_\n",
    "thetas = lr_model.coef_"
   ]
  },
  {
   "cell_type": "code",
   "execution_count": 136,
   "metadata": {},
   "outputs": [
    {
     "name": "stdout",
     "output_type": "stream",
     "text": [
      "[-5.50467124] [[ 1.01192671e-01  2.85998608e-02 -1.51401748e-02 -3.11098662e-03\n",
      "  -7.32672065e-04  5.78998719e-02  8.10766477e-01 -3.65700539e-03]]\n"
     ]
    }
   ],
   "source": [
    "print(theta0, thetas)"
   ]
  },
  {
   "cell_type": "code",
   "execution_count": 137,
   "metadata": {},
   "outputs": [],
   "source": [
    "Yp_lr = lr_model.predict(Xv)"
   ]
  },
  {
   "cell_type": "code",
   "execution_count": 139,
   "metadata": {},
   "outputs": [],
   "source": [
    "Yp_lr = Yp_lr.reshape(-1, 1)"
   ]
  },
  {
   "cell_type": "code",
   "execution_count": 141,
   "metadata": {},
   "outputs": [
    {
     "name": "stdout",
     "output_type": "stream",
     "text": [
      "(116, 1)\n"
     ]
    }
   ],
   "source": [
    "print(Yp_lr.shape)"
   ]
  },
  {
   "cell_type": "markdown",
   "metadata": {},
   "source": [
    "# Decision Tree - SkLearn"
   ]
  },
  {
   "cell_type": "code",
   "execution_count": 379,
   "metadata": {},
   "outputs": [],
   "source": [
    "from sklearn.tree import DecisionTreeClassifier, plot_tree\n",
    "#from sklearn.metrics import "
   ]
  },
  {
   "cell_type": "code",
   "execution_count": 380,
   "metadata": {},
   "outputs": [],
   "source": [
    "sk_decision_tree = DecisionTreeClassifier(criterion=\"entropy\", max_depth=7)"
   ]
  },
  {
   "cell_type": "code",
   "execution_count": 381,
   "metadata": {},
   "outputs": [
    {
     "data": {
      "text/plain": [
       "DecisionTreeClassifier(criterion='entropy', max_depth=7)"
      ]
     },
     "execution_count": 381,
     "metadata": {},
     "output_type": "execute_result"
    }
   ],
   "source": [
    "sk_decision_tree.fit(Xt, Yt)"
   ]
  },
  {
   "cell_type": "code",
   "execution_count": 382,
   "metadata": {},
   "outputs": [
    {
     "data": {
      "text/plain": [
       "0.6379310344827587"
      ]
     },
     "execution_count": 382,
     "metadata": {},
     "output_type": "execute_result"
    }
   ],
   "source": [
    "sk_decision_tree.score(Xv, Yv)"
   ]
  },
  {
   "cell_type": "markdown",
   "metadata": {},
   "source": [
    "# Decision Tree"
   ]
  },
  {
   "cell_type": "code",
   "execution_count": 254,
   "metadata": {},
   "outputs": [],
   "source": [
    "def entropy(Y):\n",
    "    total = Y.shape[0]\n",
    "    counts = np.unique(Y, return_counts=True)[1]\n",
    "    probs = np.asarray(counts) / total\n",
    "    randomness = -1.0 * np.sum(probs*np.log2(probs))\n",
    "    \n",
    "    return randomness\n",
    "    \n",
    "# helper function - split dataset along a feature \n",
    "def divide_data(X, Y, split_key):\n",
    "    \"\"\"\n",
    "    func desc; divide data is a helper function that splits data along the split_key\n",
    "    params; X: feature values of the dataset\n",
    "    params; Y: labels of the dataset\n",
    "    params; split_key: the index of a feature to split the dataset\n",
    "    \"\"\"\n",
    "    X_left, X_right = [], []\n",
    "    Y_left, Y_right = [], []\n",
    "    \n",
    "    for i in range(X.shape[0]):\n",
    "        if X[i, split_key] > np.mean(X[:, split_key]):\n",
    "            X_right.append(X[i])\n",
    "            Y_right.append(Y[i])\n",
    "        else:\n",
    "            X_left.append(X[i])\n",
    "            Y_left.append(Y[i])\n",
    "    \n",
    "    return np.asarray(X_left), np.asarray(Y_left), np.asarray(X_right), np.asarray(Y_right)\n",
    "    \n",
    "def info_gain(X, Y, split_key):\n",
    "    X_left, Y_left, X_right, Y_right = divide_data(X, Y, split_key)\n",
    "    \n",
    "    # this is a leaf case - all data are in one side\n",
    "    if X_left.shape[0] == 0 or X_right.shape[0] == 0:\n",
    "        # here info gain is neglibile(-infinity)\n",
    "        return -1000000\n",
    "\n",
    "    left_ig = (Y_left.shape[0] / Y.shape[0]) * entropy(Y_left)\n",
    "    right_ig = (Y_right.shape[0] / Y.shape[0]) * entropy(Y_right)\n",
    "\n",
    "    ig = entropy(Y) - left_ig - right_ig\n",
    "    return ig"
   ]
  },
  {
   "cell_type": "code",
   "execution_count": 231,
   "metadata": {},
   "outputs": [],
   "source": [
    "igs = []\n",
    "\n",
    "for i in range(Xt.shape[1]):\n",
    "    ig = info_gain(Xt, Yt, i)\n",
    "    igs.append(ig)"
   ]
  },
  {
   "cell_type": "code",
   "execution_count": 233,
   "metadata": {},
   "outputs": [
    {
     "data": {
      "text/plain": [
       "1"
      ]
     },
     "execution_count": 233,
     "metadata": {},
     "output_type": "execute_result"
    }
   ],
   "source": [
    "np.argmax(igs)"
   ]
  },
  {
   "cell_type": "code",
   "execution_count": 364,
   "metadata": {},
   "outputs": [],
   "source": [
    "class DecisionTree:\n",
    "    def __init__(self, max_depth=5):\n",
    "        self.depth = 0\n",
    "        self.max_depth = max_depth\n",
    "        self.left = None\n",
    "        self.right = None\n",
    "        self.target = None\n",
    "        self.split_key = None # this will help while predicting how to make decision\n",
    "        self.split_val = None\n",
    "        \n",
    "    def train(self, X, Y):\n",
    "        # stop condition\n",
    "        if self.depth >= self.max_depth:\n",
    "            if Y.mean() > 0.5:\n",
    "                self.target = 1\n",
    "            else:\n",
    "                self.target = 0\n",
    "            return\n",
    "        \n",
    "        igs = []\n",
    "        for i in range(X.shape[1]):\n",
    "            ig = info_gain(X, Y, i)\n",
    "            igs.append(ig)\n",
    "            \n",
    "        self.split_key = np.argmax(igs)\n",
    "        self.split_val = np.mean(X[:, self.split_key])\n",
    "        \n",
    "        X_left, Y_left, X_right, Y_right = divide_data(X, Y, self.split_key)\n",
    "        \n",
    "        #check if no more split are possible i.e., all data are in one side (either 0 or 1)\n",
    "        if Y_left.shape[0] * Y_right.shape[0] == 0:\n",
    "            if np.mean(Y) < 0.5:\n",
    "                self.target = 0\n",
    "            else:\n",
    "                self.target = 1\n",
    "            return\n",
    "        \n",
    "        self.left = DecisionTree(max_depth = self.max_depth-1)\n",
    "        # return X_left, Y_left, X_right, Y_right\n",
    "        self.left.train(X_left, Y_left)\n",
    "        \n",
    "        \n",
    "        self.right = DecisionTree(max_depth = self.max_depth-1)\n",
    "        self.right.train(X_right, Y_right)\n",
    "        \n",
    "        # making decision/target at every node\n",
    "        if np.mean(Y) >= 0.5:\n",
    "            self.target = 1\n",
    "        else:\n",
    "            self.target = 0\n",
    "        return\n",
    "    \n",
    "    def predict(self, X):\n",
    "        Yp = []\n",
    "        #print(self.split_key, self.split_val, end=\" \")\n",
    "        if X[self.split_key] > self.split_val:\n",
    "            #print(\"right: {}\".format(self.right))\n",
    "            if self.right.split_key is None:\n",
    "                return self.target \n",
    "                Yp.append(self.target)\n",
    "            else:\n",
    "                return self.right.predict(X)\n",
    "        else:\n",
    "            #print(\"right: {}\".format(self.right))\n",
    "            if self.left.split_key is None:\n",
    "                \n",
    "                return self.target\n",
    "                Yp.append(self.target)\n",
    "            else:\n",
    "                return self.left.predict(X)"
   ]
  },
  {
   "cell_type": "code",
   "execution_count": 365,
   "metadata": {},
   "outputs": [],
   "source": [
    "decision_tree = DecisionTree(7)"
   ]
  },
  {
   "cell_type": "code",
   "execution_count": 366,
   "metadata": {},
   "outputs": [],
   "source": [
    "decision_tree.train(Xt, Yt)"
   ]
  },
  {
   "cell_type": "code",
   "execution_count": 371,
   "metadata": {},
   "outputs": [],
   "source": [
    "Yp_dt = np.zeros(Yv.shape, dtype=int)\n",
    "\n",
    "for i in range(Xv.shape[0]):\n",
    "    Yp_dt[i] = decision_tree.predict(Xv[i])    "
   ]
  },
  {
   "cell_type": "code",
   "execution_count": 372,
   "metadata": {},
   "outputs": [
    {
     "data": {
      "text/plain": [
       "array([0, 0, 1, 0, 0, 1, 0, 0, 0, 0, 0, 1, 1, 0, 1, 1, 1, 1, 0, 1, 0, 0,\n",
       "       0, 0, 1, 0, 0, 0, 1, 0, 0, 1, 1, 1, 1, 0, 0, 0, 1, 0, 1, 0, 1, 0,\n",
       "       0, 0, 0, 0, 0, 0, 0, 1, 0, 1, 0, 0, 0, 0, 0, 1, 0, 1, 0, 0, 0, 0,\n",
       "       1, 0, 0, 1, 0, 0, 0, 0, 0, 1, 0, 0, 1, 1, 1, 1, 1, 0, 1, 0, 0, 0,\n",
       "       0, 1, 1, 0, 1, 0, 1, 0, 0, 0, 0, 1, 0, 0, 0, 0, 1, 0, 0, 0, 1, 0,\n",
       "       1, 1, 0, 1, 0, 0])"
      ]
     },
     "execution_count": 372,
     "metadata": {},
     "output_type": "execute_result"
    }
   ],
   "source": [
    "Yp_dt"
   ]
  },
  {
   "cell_type": "markdown",
   "metadata": {},
   "source": [
    "# Support Vector Machine"
   ]
  },
  {
   "cell_type": "code",
   "execution_count": 383,
   "metadata": {},
   "outputs": [],
   "source": [
    "from sklearn import svm"
   ]
  },
  {
   "cell_type": "code",
   "execution_count": 386,
   "metadata": {},
   "outputs": [],
   "source": [
    "svc = svm.SVC(kernel='linear')"
   ]
  },
  {
   "cell_type": "code",
   "execution_count": 387,
   "metadata": {},
   "outputs": [
    {
     "data": {
      "text/plain": [
       "SVC(kernel='linear')"
      ]
     },
     "execution_count": 387,
     "metadata": {},
     "output_type": "execute_result"
    }
   ],
   "source": [
    "svc.fit(Xt, Yt)"
   ]
  },
  {
   "cell_type": "code",
   "execution_count": 388,
   "metadata": {},
   "outputs": [
    {
     "data": {
      "text/plain": [
       "0.7934782608695652"
      ]
     },
     "execution_count": 388,
     "metadata": {},
     "output_type": "execute_result"
    }
   ],
   "source": [
    "svc.score(Xt, Yt)"
   ]
  },
  {
   "cell_type": "code",
   "execution_count": 389,
   "metadata": {},
   "outputs": [],
   "source": [
    "Yp_svm = svc.predict(Xv)"
   ]
  },
  {
   "cell_type": "code",
   "execution_count": 391,
   "metadata": {
    "scrolled": true
   },
   "outputs": [
    {
     "data": {
      "text/plain": [
       "0.7586206896551724"
      ]
     },
     "execution_count": 391,
     "metadata": {},
     "output_type": "execute_result"
    }
   ],
   "source": [
    "svc.score(Xv, Yv)"
   ]
  },
  {
   "cell_type": "markdown",
   "metadata": {},
   "source": [
    "# SVM - rbf and polynomial kernel"
   ]
  },
  {
   "cell_type": "code",
   "execution_count": 395,
   "metadata": {},
   "outputs": [
    {
     "data": {
      "text/plain": [
       "SVC()"
      ]
     },
     "execution_count": 395,
     "metadata": {},
     "output_type": "execute_result"
    }
   ],
   "source": [
    "svc_rgb = svm.SVC(kernel='rbf')\n",
    "svc_rgb.fit(Xt, Yt)"
   ]
  },
  {
   "cell_type": "code",
   "execution_count": 396,
   "metadata": {},
   "outputs": [
    {
     "data": {
      "text/plain": [
       "0.6982758620689655"
      ]
     },
     "execution_count": 396,
     "metadata": {},
     "output_type": "execute_result"
    }
   ],
   "source": [
    "svc_rgb.score(Xv, Yv)"
   ]
  },
  {
   "cell_type": "code",
   "execution_count": 397,
   "metadata": {},
   "outputs": [
    {
     "data": {
      "text/plain": [
       "SVC(kernel='poly')"
      ]
     },
     "execution_count": 397,
     "metadata": {},
     "output_type": "execute_result"
    }
   ],
   "source": [
    "svc_poly = svm.SVC(kernel='poly')\n",
    "svc_poly.fit(Xt, Yt)"
   ]
  },
  {
   "cell_type": "code",
   "execution_count": 398,
   "metadata": {},
   "outputs": [
    {
     "data": {
      "text/plain": [
       "0.7413793103448276"
      ]
     },
     "execution_count": 398,
     "metadata": {},
     "output_type": "execute_result"
    }
   ],
   "source": [
    "svc_poly.score(Xv, Yv)"
   ]
  },
  {
   "cell_type": "code",
   "execution_count": 399,
   "metadata": {},
   "outputs": [
    {
     "data": {
      "text/plain": [
       "SVC(kernel='sigmoid')"
      ]
     },
     "execution_count": 399,
     "metadata": {},
     "output_type": "execute_result"
    }
   ],
   "source": [
    "svc_sigmoid = svm.SVC(kernel='sigmoid')\n",
    "svc_sigmoid.fit(Xt, Yt)"
   ]
  },
  {
   "cell_type": "code",
   "execution_count": 400,
   "metadata": {},
   "outputs": [
    {
     "data": {
      "text/plain": [
       "0.47413793103448276"
      ]
     },
     "execution_count": 400,
     "metadata": {},
     "output_type": "execute_result"
    }
   ],
   "source": [
    "svc_sigmoid.score(Xv, Yv)"
   ]
  },
  {
   "cell_type": "markdown",
   "metadata": {},
   "source": [
    "# Compare results - Confusion Matrix"
   ]
  },
  {
   "cell_type": "code",
   "execution_count": 74,
   "metadata": {},
   "outputs": [],
   "source": [
    "from sklearn.metrics import confusion_matrix\n",
    "from sklearn import metrics"
   ]
  },
  {
   "cell_type": "code",
   "execution_count": 150,
   "metadata": {
    "scrolled": true
   },
   "outputs": [],
   "source": [
    "from math import floor, ceil"
   ]
  },
  {
   "cell_type": "code",
   "execution_count": 392,
   "metadata": {},
   "outputs": [],
   "source": [
    "conf_knn = confusion_matrix(Yv, Yp_knn) # k-nearest neighbour\n",
    "conf_lr = confusion_matrix(Yv, Yp_lr) # logistic regression\n",
    "conf_mlp = confusion_matrix(Yv, Yp_mlp > 0.5) # multi-layer perceptron\n",
    "conf_dt = confusion_matrix(Yv, Yp_dt) # decision tree\n",
    "conf_svm = confusion_matrix(Yv, Yp_svm) # support vector machine"
   ]
  },
  {
   "cell_type": "code",
   "execution_count": 393,
   "metadata": {},
   "outputs": [],
   "source": [
    "cm_knn = metrics.ConfusionMatrixDisplay(confusion_matrix = conf_knn, display_labels = [0, 1])\n",
    "cm_lr = metrics.ConfusionMatrixDisplay(confusion_matrix = conf_lr, display_labels = [0, 1])\n",
    "cm_mlp = metrics.ConfusionMatrixDisplay(confusion_matrix = conf_mlp, display_labels = [0, 1])\n",
    "cm_dt = metrics.ConfusionMatrixDisplay(confusion_matrix = conf_dt, display_labels = [0, 1])\n",
    "cm_svm = metrics.ConfusionMatrixDisplay(confusion_matrix = conf_svm, display_labels = [0, 1])"
   ]
  },
  {
   "cell_type": "code",
   "execution_count": 394,
   "metadata": {},
   "outputs": [
    {
     "data": {
      "image/png": "[encoded data removed]",
      "text/plain": [
       "<Figure size 432x288 with 2 Axes>"
      ]
     },
     "metadata": {
      "needs_background": "light"
     },
     "output_type": "display_data"
    },
    {
     "data": {
      "image/png": "[encoded data removed]",
      "text/plain": [
       "<Figure size 432x288 with 2 Axes>"
      ]
     },
     "metadata": {
      "needs_background": "light"
     },
     "output_type": "display_data"
    },
    {
     "data": {
      "image/png": "[encoded data removed]",
      "text/plain": [
       "<Figure size 432x288 with 2 Axes>"
      ]
     },
     "metadata": {
      "needs_background": "light"
     },
     "output_type": "display_data"
    },
    {
     "data": {
      "image/png": "[encoded data removed]",
      "text/plain": [
       "<Figure size 432x288 with 2 Axes>"
      ]
     },
     "metadata": {
      "needs_background": "light"
     },
     "output_type": "display_data"
    },
    {
     "data": {
      "image/png": "[encoded data removed]",
      "text/plain": [
       "<Figure size 432x288 with 2 Axes>"
      ]
     },
     "metadata": {
      "needs_background": "light"
     },
     "output_type": "display_data"
    }
   ],
   "source": [
    "cm_knn.plot()\n",
    "cm_lr.plot()\n",
    "cm_mlp.plot()\n",
    "cm_dt.plot()\n",
    "cm_svm.plot()\n",
    "plt.show()"
   ]
  },
  {
   "cell_type": "code",
   "execution_count": null,
   "metadata": {},
   "outputs": [],
   "source": []
  }
 ],
 "metadata": {
  "kernelspec": {
   "display_name": "Python 3",
   "language": "python",
   "name": "python3"
  },
  "language_info": {
   "codemirror_mode": {
    "name": "ipython",
    "version": 3
   },
   "file_extension": ".py",
   "mimetype": "text/x-python",
   "name": "python",
   "nbconvert_exporter": "python",
   "pygments_lexer": "ipython3",
   "version": "3.8.5"
  }
 },
 "nbformat": 4,
 "nbformat_minor": 4
}
