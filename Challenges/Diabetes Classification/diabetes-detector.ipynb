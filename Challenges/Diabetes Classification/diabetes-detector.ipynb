{
 "cells": [
  {
   "cell_type": "code",
   "execution_count": 1,
   "metadata": {},
   "outputs": [
    {
     "data": {
      "text/plain": [
       "'pregnancies\\nglucose\\nblood pressure\\nskin thickness\\ninsulin\\nBMI\\nDiabetes Pedigree Function\\nAge\\nOutcome'"
      ]
     },
     "execution_count": 1,
     "metadata": {},
     "output_type": "execute_result"
    }
   ],
   "source": [
    "'''pregnancies\n",
    "glucose\n",
    "blood pressure\n",
    "skin thickness\n",
    "insulin\n",
    "BMI\n",
    "Diabetes Pedigree Function\n",
    "Age\n",
    "Outcome'''"
   ]
  },
  {
   "cell_type": "code",
   "execution_count": 21,
   "metadata": {},
   "outputs": [],
   "source": [
    "import pandas as pd\n",
    "import numpy as np\n",
    "import matplotlib.pyplot as plt"
   ]
  },
  {
   "cell_type": "code",
   "execution_count": 3,
   "metadata": {},
   "outputs": [],
   "source": [
    "# data preparation\n",
    "\n",
    "## training data\n",
    "X_train_df = pd.read_csv('Diabetes_Xtrain.csv')\n",
    "Y_train_df = pd.read_csv('Diabetes_Ytrain.csv')\n",
    "\n",
    "X_train = X_train_df.values\n",
    "Y_train = Y_train_df.values\n",
    "Y_train = Y_train[:,0]"
   ]
  },
  {
   "cell_type": "code",
   "execution_count": 5,
   "metadata": {},
   "outputs": [
    {
     "name": "stdout",
     "output_type": "stream",
     "text": [
      "<class 'pandas.core.frame.DataFrame'>\n",
      "RangeIndex: 576 entries, 0 to 575\n",
      "Data columns (total 8 columns):\n",
      " #   Column                    Non-Null Count  Dtype  \n",
      "---  ------                    --------------  -----  \n",
      " 0   Pregnancies               576 non-null    int64  \n",
      " 1   Glucose                   576 non-null    int64  \n",
      " 2   BloodPressure             576 non-null    int64  \n",
      " 3   SkinThickness             576 non-null    int64  \n",
      " 4   Insulin                   576 non-null    int64  \n",
      " 5   BMI                       576 non-null    float64\n",
      " 6   DiabetesPedigreeFunction  576 non-null    float64\n",
      " 7   Age                       576 non-null    int64  \n",
      "dtypes: float64(2), int64(6)\n",
      "memory usage: 36.1 KB\n"
     ]
    }
   ],
   "source": [
    "# data understanding\n",
    "X_train_df.info()"
   ]
  },
  {
   "cell_type": "code",
   "execution_count": 6,
   "metadata": {},
   "outputs": [
    {
     "name": "stdout",
     "output_type": "stream",
     "text": [
      "<class 'pandas.core.frame.DataFrame'>\n",
      "RangeIndex: 576 entries, 0 to 575\n",
      "Data columns (total 1 columns):\n",
      " #   Column   Non-Null Count  Dtype\n",
      "---  ------   --------------  -----\n",
      " 0   Outcome  576 non-null    int64\n",
      "dtypes: int64(1)\n",
      "memory usage: 4.6 KB\n"
     ]
    }
   ],
   "source": [
    "Y_train_df.info()"
   ]
  },
  {
   "cell_type": "code",
   "execution_count": 8,
   "metadata": {},
   "outputs": [
    {
     "data": {
      "text/plain": [
       "array([0, 1], dtype=int64)"
      ]
     },
     "execution_count": 8,
     "metadata": {},
     "output_type": "execute_result"
    }
   ],
   "source": [
    "np.unique(Y_train)"
   ]
  },
  {
   "cell_type": "code",
   "execution_count": 48,
   "metadata": {},
   "outputs": [],
   "source": [
    "## testing data\n",
    "X_test_df = pd.read_csv('Diabetes_Xtest.csv')\n",
    "\n",
    "X_test = X_test_df.values"
   ]
  },
  {
   "cell_type": "code",
   "execution_count": 49,
   "metadata": {},
   "outputs": [],
   "source": [
    "# knn function\n",
    "def dist(x1, x2):\n",
    "    return np.sqrt(sum((x1 - x2)**2))\n",
    "\n",
    "def knn(X, Y, queryPoint, k = 7):\n",
    "    \n",
    "    val = []\n",
    "    size = X.shape[0]\n",
    "    \n",
    "    for i in range(size):\n",
    "        d = dist(queryPoint, X[i])\n",
    "        val.append((d, Y[i]))\n",
    "        \n",
    "    val = sorted(val)\n",
    "    \n",
    "    # take first k value\n",
    "    val = val[:k]\n",
    "    \n",
    "    # convert list to numpy array\n",
    "    val = np.array(val)\n",
    "    \n",
    "    # find unique output and there frequency\n",
    "    counts = np.unique(val[:,1], return_counts=True)\n",
    "    \n",
    "    index = counts[1].argmax()\n",
    "    pred = counts[0][index]\n",
    "    \n",
    "    return pred"
   ]
  },
  {
   "cell_type": "code",
   "execution_count": 52,
   "metadata": {},
   "outputs": [],
   "source": [
    "pred = knn(X_train, Y_train, X_test[0])"
   ]
  },
  {
   "cell_type": "code",
   "execution_count": 53,
   "metadata": {},
   "outputs": [
    {
     "data": {
      "text/plain": [
       "1.0"
      ]
     },
     "execution_count": 53,
     "metadata": {},
     "output_type": "execute_result"
    }
   ],
   "source": [
    "pred"
   ]
  },
  {
   "cell_type": "code",
   "execution_count": 61,
   "metadata": {},
   "outputs": [
    {
     "name": "stdout",
     "output_type": "stream",
     "text": [
      " 0 1 2 3 4 5 6 7 8 9 10 11 12 13 14 15 16 17 18 19 20 21 22 23 24 25 26 27 28 29 30 31 32 33 34 35 36 37 38 39 40 41 42 43 44 45 46 47 48 49 50 51 52 53 54 55 56 57 58 59 60 61 62 63 64 65 66 67 68 69 70 71 72 73 74 75 76 77 78 79 80 81 82 83 84 85 86 87 88 89 90 91 92 93 94 95 96 97 98 99 100 101 102 103 104 105 106 107 108 109 110 111 112 113 114 115 116 117 118 119 120 121 122 123 124 125 126 127 128 129 130 131 132 133 134 135 136 137 138 139 140 141 142 143 144 145 146 147 148 149 150 151 152 153 154 155 156 157 158 159 160 161 162 163 164 165 166 167 168 169 170 171 172 173 174 175 176 177 178 179 180 181 182 183 184 185 186 187 188 189 190 191"
     ]
    }
   ],
   "source": [
    "# exporting all the predictions as csv\n",
    "test_size = X_test.shape[0]\n",
    "lst = []\n",
    "\n",
    "for i in range(test_size):\n",
    "    pred = knn(X_train, Y_train, X_test[i])\n",
    "    lst.append(int(pred))\n",
    "    print(\"\", i, end = \"\\r\")\n",
    "    \n",
    "outcome = {\n",
    "    \"outputs\": np.array(lst)\n",
    "}\n",
    "\n",
    "df = pd.DataFrame(outcome, dtype = 'uint8')\n",
    "df.to_csv('output.csv', index = False)"
   ]
  },
  {
   "cell_type": "markdown",
   "metadata": {},
   "source": [
    "classification using neural network"
   ]
  },
  {
   "cell_type": "code",
   "execution_count": 12,
   "metadata": {},
   "outputs": [],
   "source": [
    "from keras.models import Sequential\n",
    "from keras.layers import Input, Dense\n",
    "from keras.optimizers import Adam"
   ]
  },
  {
   "cell_type": "code",
   "execution_count": 31,
   "metadata": {},
   "outputs": [],
   "source": [
    "model = Sequential()\n",
    "model.add(Input(X_train.shape[1]))\n",
    "model.add(Dense(24, activation='relu'))\n",
    "model.add(Dense(24, activation='relu'))\n",
    "model.add(Dense(1, activation='sigmoid')) # its binary classification problem\n",
    "model.compile(loss='binary_crossentropy', optimizer=Adam(learning_rate=0.001), metrics=['accuracy'])"
   ]
  },
  {
   "cell_type": "code",
   "execution_count": 32,
   "metadata": {},
   "outputs": [
    {
     "name": "stdout",
     "output_type": "stream",
     "text": [
      "no of samples: 576\n",
      "Epoch 1/100\n",
      "15/15 [==============================] - 5s 114ms/step - loss: 2.5284 - accuracy: 0.5804 - val_loss: 2.4454 - val_accuracy: 0.5345\n",
      "Epoch 2/100\n",
      "15/15 [==============================] - 1s 59ms/step - loss: 1.4490 - accuracy: 0.6065 - val_loss: 1.0792 - val_accuracy: 0.5690\n",
      "Epoch 3/100\n",
      "15/15 [==============================] - 1s 56ms/step - loss: 0.8987 - accuracy: 0.5652 - val_loss: 0.9039 - val_accuracy: 0.5431\n",
      "Epoch 4/100\n",
      "15/15 [==============================] - 1s 74ms/step - loss: 0.7870 - accuracy: 0.6413 - val_loss: 0.8595 - val_accuracy: 0.5603\n",
      "Epoch 5/100\n",
      "15/15 [==============================] - 1s 55ms/step - loss: 0.7692 - accuracy: 0.6478 - val_loss: 0.8127 - val_accuracy: 0.6207\n",
      "Epoch 6/100\n",
      "15/15 [==============================] - 1s 66ms/step - loss: 0.7461 - accuracy: 0.6348 - val_loss: 1.1089 - val_accuracy: 0.5000\n",
      "Epoch 7/100\n",
      "15/15 [==============================] - 1s 55ms/step - loss: 0.7457 - accuracy: 0.6804 - val_loss: 0.7933 - val_accuracy: 0.6207\n",
      "Epoch 8/100\n",
      "15/15 [==============================] - 1s 55ms/step - loss: 0.6881 - accuracy: 0.6783 - val_loss: 0.7839 - val_accuracy: 0.6638\n",
      "Epoch 9/100\n",
      "15/15 [==============================] - 1s 61ms/step - loss: 0.6718 - accuracy: 0.6978 - val_loss: 0.8149 - val_accuracy: 0.6034\n",
      "Epoch 10/100\n",
      "15/15 [==============================] - 1s 62ms/step - loss: 0.6429 - accuracy: 0.6957 - val_loss: 0.7676 - val_accuracy: 0.6724\n",
      "Epoch 11/100\n",
      "15/15 [==============================] - 1s 81ms/step - loss: 0.6910 - accuracy: 0.6891 - val_loss: 0.8146 - val_accuracy: 0.6724\n",
      "Epoch 12/100\n",
      "15/15 [==============================] - 1s 67ms/step - loss: 0.6592 - accuracy: 0.7196 - val_loss: 0.7691 - val_accuracy: 0.6379\n",
      "Epoch 13/100\n",
      "15/15 [==============================] - 1s 82ms/step - loss: 0.6123 - accuracy: 0.7130 - val_loss: 0.7452 - val_accuracy: 0.6724\n",
      "Epoch 14/100\n",
      "15/15 [==============================] - 1s 61ms/step - loss: 0.6058 - accuracy: 0.7239 - val_loss: 0.7332 - val_accuracy: 0.6810\n",
      "Epoch 15/100\n",
      "15/15 [==============================] - 1s 55ms/step - loss: 0.6042 - accuracy: 0.7109 - val_loss: 0.7769 - val_accuracy: 0.6121\n",
      "Epoch 16/100\n",
      "15/15 [==============================] - 1s 73ms/step - loss: 0.6017 - accuracy: 0.7174 - val_loss: 0.7855 - val_accuracy: 0.5948\n",
      "Epoch 17/100\n",
      "15/15 [==============================] - 1s 71ms/step - loss: 0.5994 - accuracy: 0.7326 - val_loss: 0.7334 - val_accuracy: 0.6293\n",
      "Epoch 18/100\n",
      "15/15 [==============================] - 1s 48ms/step - loss: 0.5734 - accuracy: 0.7326 - val_loss: 0.7512 - val_accuracy: 0.6207\n",
      "Epoch 19/100\n",
      "15/15 [==============================] - 1s 50ms/step - loss: 0.5810 - accuracy: 0.7217 - val_loss: 0.8298 - val_accuracy: 0.6552\n",
      "Epoch 20/100\n",
      "15/15 [==============================] - 1s 48ms/step - loss: 0.6249 - accuracy: 0.7022 - val_loss: 0.7445 - val_accuracy: 0.6552\n",
      "Epoch 21/100\n",
      "15/15 [==============================] - 1s 61ms/step - loss: 0.6069 - accuracy: 0.7196 - val_loss: 0.8327 - val_accuracy: 0.5172\n",
      "Epoch 22/100\n",
      "15/15 [==============================] - 1s 62ms/step - loss: 0.6080 - accuracy: 0.7391 - val_loss: 0.7616 - val_accuracy: 0.6810\n",
      "Epoch 23/100\n",
      "15/15 [==============================] - 1s 65ms/step - loss: 0.6648 - accuracy: 0.6891 - val_loss: 0.7102 - val_accuracy: 0.6724\n",
      "Epoch 24/100\n",
      "15/15 [==============================] - 1s 96ms/step - loss: 0.5841 - accuracy: 0.7283 - val_loss: 0.7297 - val_accuracy: 0.6293\n",
      "Epoch 25/100\n",
      "15/15 [==============================] - 1s 87ms/step - loss: 0.6207 - accuracy: 0.7130 - val_loss: 0.7327 - val_accuracy: 0.6293\n",
      "Epoch 26/100\n",
      "15/15 [==============================] - 1s 86ms/step - loss: 0.6046 - accuracy: 0.7000 - val_loss: 0.7117 - val_accuracy: 0.6897\n",
      "Epoch 27/100\n",
      "15/15 [==============================] - 1s 67ms/step - loss: 0.6110 - accuracy: 0.6891 - val_loss: 0.7834 - val_accuracy: 0.5776\n",
      "Epoch 28/100\n",
      "15/15 [==============================] - 1s 62ms/step - loss: 0.5712 - accuracy: 0.7283 - val_loss: 0.7143 - val_accuracy: 0.6897\n",
      "Epoch 29/100\n",
      "15/15 [==============================] - 1s 69ms/step - loss: 0.5731 - accuracy: 0.7283 - val_loss: 0.7377 - val_accuracy: 0.6810\n",
      "Epoch 30/100\n",
      "15/15 [==============================] - 1s 68ms/step - loss: 0.5717 - accuracy: 0.7457 - val_loss: 0.6988 - val_accuracy: 0.6810\n",
      "Epoch 31/100\n",
      "15/15 [==============================] - 1s 69ms/step - loss: 0.5488 - accuracy: 0.7413 - val_loss: 0.6779 - val_accuracy: 0.6897\n",
      "Epoch 32/100\n",
      "15/15 [==============================] - 1s 69ms/step - loss: 0.5427 - accuracy: 0.7478 - val_loss: 0.6764 - val_accuracy: 0.6552\n",
      "Epoch 33/100\n",
      "15/15 [==============================] - 1s 64ms/step - loss: 0.5403 - accuracy: 0.7457 - val_loss: 0.7521 - val_accuracy: 0.6724\n",
      "Epoch 34/100\n",
      "15/15 [==============================] - 1s 66ms/step - loss: 0.5518 - accuracy: 0.7326 - val_loss: 0.6592 - val_accuracy: 0.7414\n",
      "Epoch 35/100\n",
      "15/15 [==============================] - 1s 68ms/step - loss: 0.5596 - accuracy: 0.7326 - val_loss: 0.6826 - val_accuracy: 0.6810\n",
      "Epoch 36/100\n",
      "15/15 [==============================] - 1s 67ms/step - loss: 0.5554 - accuracy: 0.7326 - val_loss: 0.6953 - val_accuracy: 0.6552\n",
      "Epoch 37/100\n",
      "15/15 [==============================] - 1s 66ms/step - loss: 0.5822 - accuracy: 0.7261 - val_loss: 0.7241 - val_accuracy: 0.6638\n",
      "Epoch 38/100\n",
      "15/15 [==============================] - 1s 76ms/step - loss: 0.5772 - accuracy: 0.7391 - val_loss: 0.7262 - val_accuracy: 0.6724\n",
      "Epoch 39/100\n",
      "15/15 [==============================] - 1s 77ms/step - loss: 0.5432 - accuracy: 0.7304 - val_loss: 0.7151 - val_accuracy: 0.6638\n",
      "Epoch 40/100\n",
      "15/15 [==============================] - 1s 62ms/step - loss: 0.5755 - accuracy: 0.7130 - val_loss: 0.6793 - val_accuracy: 0.6897\n",
      "Epoch 41/100\n",
      "15/15 [==============================] - 1s 83ms/step - loss: 0.5323 - accuracy: 0.7348 - val_loss: 0.6930 - val_accuracy: 0.6897\n",
      "Epoch 42/100\n",
      "15/15 [==============================] - 1s 68ms/step - loss: 0.5688 - accuracy: 0.7435 - val_loss: 0.6696 - val_accuracy: 0.7155\n",
      "Epoch 43/100\n",
      "15/15 [==============================] - 1s 63ms/step - loss: 0.5669 - accuracy: 0.7413 - val_loss: 0.6562 - val_accuracy: 0.7069\n",
      "Epoch 44/100\n",
      "15/15 [==============================] - 1s 64ms/step - loss: 0.5567 - accuracy: 0.7239 - val_loss: 0.6485 - val_accuracy: 0.7155\n",
      "Epoch 45/100\n",
      "15/15 [==============================] - 1s 57ms/step - loss: 0.5477 - accuracy: 0.7326 - val_loss: 0.6954 - val_accuracy: 0.6638\n",
      "Epoch 46/100\n",
      "15/15 [==============================] - 1s 52ms/step - loss: 0.5334 - accuracy: 0.7587 - val_loss: 0.6960 - val_accuracy: 0.6466\n",
      "Epoch 47/100\n",
      "15/15 [==============================] - 1s 81ms/step - loss: 0.5421 - accuracy: 0.7500 - val_loss: 0.6627 - val_accuracy: 0.6810\n",
      "Epoch 48/100\n",
      "15/15 [==============================] - 1s 80ms/step - loss: 0.5541 - accuracy: 0.7522 - val_loss: 0.6652 - val_accuracy: 0.6897\n",
      "Epoch 49/100\n",
      "15/15 [==============================] - 1s 81ms/step - loss: 0.5529 - accuracy: 0.7239 - val_loss: 0.6738 - val_accuracy: 0.6552\n",
      "Epoch 50/100\n",
      "15/15 [==============================] - 1s 59ms/step - loss: 0.5613 - accuracy: 0.7283 - val_loss: 0.6839 - val_accuracy: 0.6638\n",
      "Epoch 51/100\n",
      "15/15 [==============================] - 1s 73ms/step - loss: 0.5333 - accuracy: 0.7478 - val_loss: 0.8367 - val_accuracy: 0.6897\n",
      "Epoch 52/100\n",
      "15/15 [==============================] - 1s 78ms/step - loss: 0.6029 - accuracy: 0.7130 - val_loss: 0.6956 - val_accuracy: 0.7241\n",
      "Epoch 53/100\n",
      "15/15 [==============================] - 1s 71ms/step - loss: 0.5531 - accuracy: 0.7261 - val_loss: 0.7069 - val_accuracy: 0.6466\n",
      "Epoch 54/100\n",
      "15/15 [==============================] - 1s 81ms/step - loss: 0.5293 - accuracy: 0.7391 - val_loss: 0.6901 - val_accuracy: 0.6638\n",
      "Epoch 55/100\n",
      "15/15 [==============================] - 1s 79ms/step - loss: 0.5670 - accuracy: 0.7174 - val_loss: 0.6866 - val_accuracy: 0.6552\n",
      "Epoch 56/100\n",
      "15/15 [==============================] - 1s 83ms/step - loss: 0.5551 - accuracy: 0.7413 - val_loss: 0.6736 - val_accuracy: 0.6724\n",
      "Epoch 57/100\n",
      "15/15 [==============================] - 1s 85ms/step - loss: 0.5495 - accuracy: 0.7304 - val_loss: 0.6513 - val_accuracy: 0.6810\n",
      "Epoch 58/100\n"
     ]
    },
    {
     "name": "stdout",
     "output_type": "stream",
     "text": [
      "15/15 [==============================] - 1s 60ms/step - loss: 0.5051 - accuracy: 0.7717 - val_loss: 0.6568 - val_accuracy: 0.6983\n",
      "Epoch 59/100\n",
      "15/15 [==============================] - 1s 53ms/step - loss: 0.5292 - accuracy: 0.7543 - val_loss: 0.7217 - val_accuracy: 0.6897\n",
      "Epoch 60/100\n",
      "15/15 [==============================] - 1s 59ms/step - loss: 0.5152 - accuracy: 0.7478 - val_loss: 0.6303 - val_accuracy: 0.6897\n",
      "Epoch 61/100\n",
      "15/15 [==============================] - 1s 67ms/step - loss: 0.5073 - accuracy: 0.7696 - val_loss: 0.6528 - val_accuracy: 0.7069\n",
      "Epoch 62/100\n",
      "15/15 [==============================] - 1s 70ms/step - loss: 0.5218 - accuracy: 0.7435 - val_loss: 0.6414 - val_accuracy: 0.6983\n",
      "Epoch 63/100\n",
      "15/15 [==============================] - 1s 54ms/step - loss: 0.5172 - accuracy: 0.7630 - val_loss: 0.6781 - val_accuracy: 0.6810\n",
      "Epoch 64/100\n",
      "15/15 [==============================] - 1s 60ms/step - loss: 0.5249 - accuracy: 0.7370 - val_loss: 0.6360 - val_accuracy: 0.7069\n",
      "Epoch 65/100\n",
      "15/15 [==============================] - 1s 63ms/step - loss: 0.5108 - accuracy: 0.7522 - val_loss: 0.6934 - val_accuracy: 0.6466\n",
      "Epoch 66/100\n",
      "15/15 [==============================] - 1s 60ms/step - loss: 0.5310 - accuracy: 0.7413 - val_loss: 0.7185 - val_accuracy: 0.6379\n",
      "Epoch 67/100\n",
      "15/15 [==============================] - 1s 58ms/step - loss: 0.5527 - accuracy: 0.7413 - val_loss: 0.6614 - val_accuracy: 0.6810\n",
      "Epoch 68/100\n",
      "15/15 [==============================] - 1s 69ms/step - loss: 0.5139 - accuracy: 0.7478 - val_loss: 0.6599 - val_accuracy: 0.6810\n",
      "Epoch 69/100\n",
      "15/15 [==============================] - 1s 93ms/step - loss: 0.4902 - accuracy: 0.7761 - val_loss: 0.7211 - val_accuracy: 0.6293\n",
      "Epoch 70/100\n",
      "15/15 [==============================] - 1s 88ms/step - loss: 0.5223 - accuracy: 0.7522 - val_loss: 0.7510 - val_accuracy: 0.6293\n",
      "Epoch 71/100\n",
      "15/15 [==============================] - 1s 74ms/step - loss: 0.5293 - accuracy: 0.7674 - val_loss: 0.8211 - val_accuracy: 0.5776\n",
      "Epoch 72/100\n",
      "15/15 [==============================] - 1s 90ms/step - loss: 0.5252 - accuracy: 0.7478 - val_loss: 0.6802 - val_accuracy: 0.6552\n",
      "Epoch 73/100\n",
      "15/15 [==============================] - 1s 83ms/step - loss: 0.5195 - accuracy: 0.7478 - val_loss: 0.6225 - val_accuracy: 0.7069\n",
      "Epoch 74/100\n",
      "15/15 [==============================] - 2s 131ms/step - loss: 0.5309 - accuracy: 0.7435 - val_loss: 0.6239 - val_accuracy: 0.6897\n",
      "Epoch 75/100\n",
      "15/15 [==============================] - 1s 97ms/step - loss: 0.4865 - accuracy: 0.7630 - val_loss: 0.6661 - val_accuracy: 0.6293\n",
      "Epoch 76/100\n",
      "15/15 [==============================] - 1s 76ms/step - loss: 0.4943 - accuracy: 0.7609 - val_loss: 0.6743 - val_accuracy: 0.6466\n",
      "Epoch 77/100\n",
      "15/15 [==============================] - 1s 73ms/step - loss: 0.4884 - accuracy: 0.7739 - val_loss: 0.7076 - val_accuracy: 0.6293\n",
      "Epoch 78/100\n",
      "15/15 [==============================] - 1s 75ms/step - loss: 0.5035 - accuracy: 0.7652 - val_loss: 0.6765 - val_accuracy: 0.6466\n",
      "Epoch 79/100\n",
      "15/15 [==============================] - 1s 61ms/step - loss: 0.5191 - accuracy: 0.7435 - val_loss: 0.6422 - val_accuracy: 0.6810\n",
      "Epoch 80/100\n",
      "15/15 [==============================] - 1s 61ms/step - loss: 0.5306 - accuracy: 0.7391 - val_loss: 0.6263 - val_accuracy: 0.6983\n",
      "Epoch 81/100\n",
      "15/15 [==============================] - 1s 59ms/step - loss: 0.5442 - accuracy: 0.7565 - val_loss: 0.6742 - val_accuracy: 0.6466\n",
      "Epoch 82/100\n",
      "15/15 [==============================] - 1s 60ms/step - loss: 0.5053 - accuracy: 0.7630 - val_loss: 0.6441 - val_accuracy: 0.6983\n",
      "Epoch 83/100\n",
      "15/15 [==============================] - 1s 56ms/step - loss: 0.5163 - accuracy: 0.7413 - val_loss: 0.6866 - val_accuracy: 0.6466\n",
      "Epoch 84/100\n",
      "15/15 [==============================] - 1s 83ms/step - loss: 0.4888 - accuracy: 0.7848 - val_loss: 0.6347 - val_accuracy: 0.7155\n",
      "Epoch 85/100\n",
      "15/15 [==============================] - 1s 81ms/step - loss: 0.4830 - accuracy: 0.7739 - val_loss: 0.6687 - val_accuracy: 0.6810\n",
      "Epoch 86/100\n",
      "15/15 [==============================] - 1s 62ms/step - loss: 0.5079 - accuracy: 0.7630 - val_loss: 0.6726 - val_accuracy: 0.6897\n",
      "Epoch 87/100\n",
      "15/15 [==============================] - 1s 58ms/step - loss: 0.4971 - accuracy: 0.7457 - val_loss: 0.6339 - val_accuracy: 0.6897\n",
      "Epoch 88/100\n",
      "15/15 [==============================] - 1s 80ms/step - loss: 0.4960 - accuracy: 0.7717 - val_loss: 0.6431 - val_accuracy: 0.6983\n",
      "Epoch 89/100\n",
      "15/15 [==============================] - 1s 82ms/step - loss: 0.5010 - accuracy: 0.7739 - val_loss: 0.7019 - val_accuracy: 0.6466\n",
      "Epoch 90/100\n",
      "15/15 [==============================] - 1s 63ms/step - loss: 0.4904 - accuracy: 0.7652 - val_loss: 0.7127 - val_accuracy: 0.6638\n",
      "Epoch 91/100\n",
      "15/15 [==============================] - 1s 60ms/step - loss: 0.4902 - accuracy: 0.7674 - val_loss: 0.6145 - val_accuracy: 0.7241\n",
      "Epoch 92/100\n",
      "15/15 [==============================] - 1s 79ms/step - loss: 0.4709 - accuracy: 0.7935 - val_loss: 0.8038 - val_accuracy: 0.7155\n",
      "Epoch 93/100\n",
      "15/15 [==============================] - 1s 77ms/step - loss: 0.5784 - accuracy: 0.7283 - val_loss: 0.6884 - val_accuracy: 0.6983\n",
      "Epoch 94/100\n",
      "15/15 [==============================] - 1s 62ms/step - loss: 0.5468 - accuracy: 0.7283 - val_loss: 0.6306 - val_accuracy: 0.6897\n",
      "Epoch 95/100\n",
      "15/15 [==============================] - 1s 63ms/step - loss: 0.5130 - accuracy: 0.7457 - val_loss: 0.6563 - val_accuracy: 0.6638\n",
      "Epoch 96/100\n",
      "15/15 [==============================] - 1s 73ms/step - loss: 0.4822 - accuracy: 0.7913 - val_loss: 0.6630 - val_accuracy: 0.6897\n",
      "Epoch 97/100\n",
      "15/15 [==============================] - 1s 61ms/step - loss: 0.4898 - accuracy: 0.7761 - val_loss: 0.6312 - val_accuracy: 0.6724\n",
      "Epoch 98/100\n",
      "15/15 [==============================] - 1s 57ms/step - loss: 0.4828 - accuracy: 0.7783 - val_loss: 0.6885 - val_accuracy: 0.6466\n",
      "Epoch 99/100\n",
      "15/15 [==============================] - 1s 58ms/step - loss: 0.4925 - accuracy: 0.7674 - val_loss: 0.8177 - val_accuracy: 0.6121\n",
      "Epoch 100/100\n",
      "15/15 [==============================] - 1s 74ms/step - loss: 0.5269 - accuracy: 0.7609 - val_loss: 0.8195 - val_accuracy: 0.5862\n"
     ]
    }
   ],
   "source": [
    "print(\"no of samples: %d\" %X_train.shape[0])\n",
    "hist = model.fit(X_train, Y_train, epochs=100, validation_split=0.2, use_multiprocessing=True)"
   ]
  },
  {
   "cell_type": "code",
   "execution_count": 35,
   "metadata": {},
   "outputs": [
    {
     "data": {
      "image/png": "[encoded data removed]",
      "text/plain": [
       "<Figure size 432x288 with 1 Axes>"
      ]
     },
     "metadata": {
      "needs_background": "light"
     },
     "output_type": "display_data"
    }
   ],
   "source": [
    "plt.plot(hist.history['loss'], label=\"training loss\")\n",
    "plt.plot(hist.history['val_loss'], label=\"validation loss\")\n",
    "plt.show()"
   ]
  },
  {
   "cell_type": "code",
   "execution_count": 34,
   "metadata": {},
   "outputs": [
    {
     "data": {
      "image/png": "[encoded data removed]",
      "text/plain": [
       "<Figure size 432x288 with 1 Axes>"
      ]
     },
     "metadata": {
      "needs_background": "light"
     },
     "output_type": "display_data"
    }
   ],
   "source": [
    "plt.plot(hist.history['accuracy'], label=\"training loss\")\n",
    "plt.plot(hist.history['val_accuracy'], label=\"validation loss\")\n",
    "plt.show()"
   ]
  },
  {
   "cell_type": "code",
   "execution_count": 36,
   "metadata": {},
   "outputs": [
    {
     "data": {
      "text/plain": [
       "dict_keys(['loss', 'accuracy', 'val_loss', 'val_accuracy'])"
      ]
     },
     "execution_count": 36,
     "metadata": {},
     "output_type": "execute_result"
    }
   ],
   "source": [
    "hist.history.keys()"
   ]
  },
  {
   "cell_type": "code",
   "execution_count": 37,
   "metadata": {},
   "outputs": [],
   "source": [
    "# the accuracy on validation set is just about 70%\n",
    "# which is not great at all"
   ]
  },
  {
   "cell_type": "markdown",
   "metadata": {},
   "source": [
    "# Logistic Regression"
   ]
  },
  {
   "cell_type": "code",
   "execution_count": 33,
   "metadata": {},
   "outputs": [],
   "source": [
    "from sklearn.linear_model import LogisticRegression"
   ]
  },
  {
   "cell_type": "code",
   "execution_count": 38,
   "metadata": {},
   "outputs": [],
   "source": [
    "lr_model = LogisticRegression()"
   ]
  },
  {
   "cell_type": "code",
   "execution_count": 40,
   "metadata": {},
   "outputs": [
    {
     "name": "stdout",
     "output_type": "stream",
     "text": [
      "(576, 8) (576,)\n"
     ]
    }
   ],
   "source": [
    "print(X_train.shape, Y_train.shape)"
   ]
  },
  {
   "cell_type": "code",
   "execution_count": 42,
   "metadata": {},
   "outputs": [
    {
     "ename": "AttributeError",
     "evalue": "'str' object has no attribute 'decode'",
     "output_type": "error",
     "traceback": [
      "\u001b[1;31m---------------------------------------------------------------------------\u001b[0m",
      "\u001b[1;31mAttributeError\u001b[0m                            Traceback (most recent call last)",
      "\u001b[1;32m<ipython-input-42-4d8a9aa744de>\u001b[0m in \u001b[0;36m<module>\u001b[1;34m\u001b[0m\n\u001b[1;32m----> 1\u001b[1;33m \u001b[0mlr_model\u001b[0m\u001b[1;33m.\u001b[0m\u001b[0mfit\u001b[0m\u001b[1;33m(\u001b[0m\u001b[0mX_train\u001b[0m\u001b[1;33m,\u001b[0m \u001b[0mY_train\u001b[0m\u001b[1;33m)\u001b[0m\u001b[1;33m\u001b[0m\u001b[1;33m\u001b[0m\u001b[0m\n\u001b[0m",
      "\u001b[1;32mZ:\\Google\\Anaconda\\lib\\site-packages\\sklearn\\linear_model\\_logistic.py\u001b[0m in \u001b[0;36mfit\u001b[1;34m(self, X, y, sample_weight)\u001b[0m\n\u001b[0;32m   1405\u001b[0m         \u001b[1;32melse\u001b[0m\u001b[1;33m:\u001b[0m\u001b[1;33m\u001b[0m\u001b[1;33m\u001b[0m\u001b[0m\n\u001b[0;32m   1406\u001b[0m             \u001b[0mprefer\u001b[0m \u001b[1;33m=\u001b[0m \u001b[1;34m'processes'\u001b[0m\u001b[1;33m\u001b[0m\u001b[1;33m\u001b[0m\u001b[0m\n\u001b[1;32m-> 1407\u001b[1;33m         fold_coefs_ = Parallel(n_jobs=self.n_jobs, verbose=self.verbose,\n\u001b[0m\u001b[0;32m   1408\u001b[0m                                \u001b[1;33m**\u001b[0m\u001b[0m_joblib_parallel_args\u001b[0m\u001b[1;33m(\u001b[0m\u001b[0mprefer\u001b[0m\u001b[1;33m=\u001b[0m\u001b[0mprefer\u001b[0m\u001b[1;33m)\u001b[0m\u001b[1;33m)\u001b[0m\u001b[1;33m(\u001b[0m\u001b[1;33m\u001b[0m\u001b[1;33m\u001b[0m\u001b[0m\n\u001b[0;32m   1409\u001b[0m             path_func(X, y, pos_class=class_, Cs=[C_],\n",
      "\u001b[1;32mZ:\\Google\\Anaconda\\lib\\site-packages\\joblib\\parallel.py\u001b[0m in \u001b[0;36m__call__\u001b[1;34m(self, iterable)\u001b[0m\n\u001b[0;32m   1046\u001b[0m             \u001b[1;31m# remaining jobs.\u001b[0m\u001b[1;33m\u001b[0m\u001b[1;33m\u001b[0m\u001b[1;33m\u001b[0m\u001b[0m\n\u001b[0;32m   1047\u001b[0m             \u001b[0mself\u001b[0m\u001b[1;33m.\u001b[0m\u001b[0m_iterating\u001b[0m \u001b[1;33m=\u001b[0m \u001b[1;32mFalse\u001b[0m\u001b[1;33m\u001b[0m\u001b[1;33m\u001b[0m\u001b[0m\n\u001b[1;32m-> 1048\u001b[1;33m             \u001b[1;32mif\u001b[0m \u001b[0mself\u001b[0m\u001b[1;33m.\u001b[0m\u001b[0mdispatch_one_batch\u001b[0m\u001b[1;33m(\u001b[0m\u001b[0miterator\u001b[0m\u001b[1;33m)\u001b[0m\u001b[1;33m:\u001b[0m\u001b[1;33m\u001b[0m\u001b[1;33m\u001b[0m\u001b[0m\n\u001b[0m\u001b[0;32m   1049\u001b[0m                 \u001b[0mself\u001b[0m\u001b[1;33m.\u001b[0m\u001b[0m_iterating\u001b[0m \u001b[1;33m=\u001b[0m \u001b[0mself\u001b[0m\u001b[1;33m.\u001b[0m\u001b[0m_original_iterator\u001b[0m \u001b[1;32mis\u001b[0m \u001b[1;32mnot\u001b[0m \u001b[1;32mNone\u001b[0m\u001b[1;33m\u001b[0m\u001b[1;33m\u001b[0m\u001b[0m\n\u001b[0;32m   1050\u001b[0m \u001b[1;33m\u001b[0m\u001b[0m\n",
      "\u001b[1;32mZ:\\Google\\Anaconda\\lib\\site-packages\\joblib\\parallel.py\u001b[0m in \u001b[0;36mdispatch_one_batch\u001b[1;34m(self, iterator)\u001b[0m\n\u001b[0;32m    864\u001b[0m                 \u001b[1;32mreturn\u001b[0m \u001b[1;32mFalse\u001b[0m\u001b[1;33m\u001b[0m\u001b[1;33m\u001b[0m\u001b[0m\n\u001b[0;32m    865\u001b[0m             \u001b[1;32melse\u001b[0m\u001b[1;33m:\u001b[0m\u001b[1;33m\u001b[0m\u001b[1;33m\u001b[0m\u001b[0m\n\u001b[1;32m--> 866\u001b[1;33m                 \u001b[0mself\u001b[0m\u001b[1;33m.\u001b[0m\u001b[0m_dispatch\u001b[0m\u001b[1;33m(\u001b[0m\u001b[0mtasks\u001b[0m\u001b[1;33m)\u001b[0m\u001b[1;33m\u001b[0m\u001b[1;33m\u001b[0m\u001b[0m\n\u001b[0m\u001b[0;32m    867\u001b[0m                 \u001b[1;32mreturn\u001b[0m \u001b[1;32mTrue\u001b[0m\u001b[1;33m\u001b[0m\u001b[1;33m\u001b[0m\u001b[0m\n\u001b[0;32m    868\u001b[0m \u001b[1;33m\u001b[0m\u001b[0m\n",
      "\u001b[1;32mZ:\\Google\\Anaconda\\lib\\site-packages\\joblib\\parallel.py\u001b[0m in \u001b[0;36m_dispatch\u001b[1;34m(self, batch)\u001b[0m\n\u001b[0;32m    782\u001b[0m         \u001b[1;32mwith\u001b[0m \u001b[0mself\u001b[0m\u001b[1;33m.\u001b[0m\u001b[0m_lock\u001b[0m\u001b[1;33m:\u001b[0m\u001b[1;33m\u001b[0m\u001b[1;33m\u001b[0m\u001b[0m\n\u001b[0;32m    783\u001b[0m             \u001b[0mjob_idx\u001b[0m \u001b[1;33m=\u001b[0m \u001b[0mlen\u001b[0m\u001b[1;33m(\u001b[0m\u001b[0mself\u001b[0m\u001b[1;33m.\u001b[0m\u001b[0m_jobs\u001b[0m\u001b[1;33m)\u001b[0m\u001b[1;33m\u001b[0m\u001b[1;33m\u001b[0m\u001b[0m\n\u001b[1;32m--> 784\u001b[1;33m             \u001b[0mjob\u001b[0m \u001b[1;33m=\u001b[0m \u001b[0mself\u001b[0m\u001b[1;33m.\u001b[0m\u001b[0m_backend\u001b[0m\u001b[1;33m.\u001b[0m\u001b[0mapply_async\u001b[0m\u001b[1;33m(\u001b[0m\u001b[0mbatch\u001b[0m\u001b[1;33m,\u001b[0m \u001b[0mcallback\u001b[0m\u001b[1;33m=\u001b[0m\u001b[0mcb\u001b[0m\u001b[1;33m)\u001b[0m\u001b[1;33m\u001b[0m\u001b[1;33m\u001b[0m\u001b[0m\n\u001b[0m\u001b[0;32m    785\u001b[0m             \u001b[1;31m# A job can complete so quickly than its callback is\u001b[0m\u001b[1;33m\u001b[0m\u001b[1;33m\u001b[0m\u001b[1;33m\u001b[0m\u001b[0m\n\u001b[0;32m    786\u001b[0m             \u001b[1;31m# called before we get here, causing self._jobs to\u001b[0m\u001b[1;33m\u001b[0m\u001b[1;33m\u001b[0m\u001b[1;33m\u001b[0m\u001b[0m\n",
      "\u001b[1;32mZ:\\Google\\Anaconda\\lib\\site-packages\\joblib\\_parallel_backends.py\u001b[0m in \u001b[0;36mapply_async\u001b[1;34m(self, func, callback)\u001b[0m\n\u001b[0;32m    206\u001b[0m     \u001b[1;32mdef\u001b[0m \u001b[0mapply_async\u001b[0m\u001b[1;33m(\u001b[0m\u001b[0mself\u001b[0m\u001b[1;33m,\u001b[0m \u001b[0mfunc\u001b[0m\u001b[1;33m,\u001b[0m \u001b[0mcallback\u001b[0m\u001b[1;33m=\u001b[0m\u001b[1;32mNone\u001b[0m\u001b[1;33m)\u001b[0m\u001b[1;33m:\u001b[0m\u001b[1;33m\u001b[0m\u001b[1;33m\u001b[0m\u001b[0m\n\u001b[0;32m    207\u001b[0m         \u001b[1;34m\"\"\"Schedule a func to be run\"\"\"\u001b[0m\u001b[1;33m\u001b[0m\u001b[1;33m\u001b[0m\u001b[0m\n\u001b[1;32m--> 208\u001b[1;33m         \u001b[0mresult\u001b[0m \u001b[1;33m=\u001b[0m \u001b[0mImmediateResult\u001b[0m\u001b[1;33m(\u001b[0m\u001b[0mfunc\u001b[0m\u001b[1;33m)\u001b[0m\u001b[1;33m\u001b[0m\u001b[1;33m\u001b[0m\u001b[0m\n\u001b[0m\u001b[0;32m    209\u001b[0m         \u001b[1;32mif\u001b[0m \u001b[0mcallback\u001b[0m\u001b[1;33m:\u001b[0m\u001b[1;33m\u001b[0m\u001b[1;33m\u001b[0m\u001b[0m\n\u001b[0;32m    210\u001b[0m             \u001b[0mcallback\u001b[0m\u001b[1;33m(\u001b[0m\u001b[0mresult\u001b[0m\u001b[1;33m)\u001b[0m\u001b[1;33m\u001b[0m\u001b[1;33m\u001b[0m\u001b[0m\n",
      "\u001b[1;32mZ:\\Google\\Anaconda\\lib\\site-packages\\joblib\\_parallel_backends.py\u001b[0m in \u001b[0;36m__init__\u001b[1;34m(self, batch)\u001b[0m\n\u001b[0;32m    570\u001b[0m         \u001b[1;31m# Don't delay the application, to avoid keeping the input\u001b[0m\u001b[1;33m\u001b[0m\u001b[1;33m\u001b[0m\u001b[1;33m\u001b[0m\u001b[0m\n\u001b[0;32m    571\u001b[0m         \u001b[1;31m# arguments in memory\u001b[0m\u001b[1;33m\u001b[0m\u001b[1;33m\u001b[0m\u001b[1;33m\u001b[0m\u001b[0m\n\u001b[1;32m--> 572\u001b[1;33m         \u001b[0mself\u001b[0m\u001b[1;33m.\u001b[0m\u001b[0mresults\u001b[0m \u001b[1;33m=\u001b[0m \u001b[0mbatch\u001b[0m\u001b[1;33m(\u001b[0m\u001b[1;33m)\u001b[0m\u001b[1;33m\u001b[0m\u001b[1;33m\u001b[0m\u001b[0m\n\u001b[0m\u001b[0;32m    573\u001b[0m \u001b[1;33m\u001b[0m\u001b[0m\n\u001b[0;32m    574\u001b[0m     \u001b[1;32mdef\u001b[0m \u001b[0mget\u001b[0m\u001b[1;33m(\u001b[0m\u001b[0mself\u001b[0m\u001b[1;33m)\u001b[0m\u001b[1;33m:\u001b[0m\u001b[1;33m\u001b[0m\u001b[1;33m\u001b[0m\u001b[0m\n",
      "\u001b[1;32mZ:\\Google\\Anaconda\\lib\\site-packages\\joblib\\parallel.py\u001b[0m in \u001b[0;36m__call__\u001b[1;34m(self)\u001b[0m\n\u001b[0;32m    260\u001b[0m         \u001b[1;31m# change the default number of processes to -1\u001b[0m\u001b[1;33m\u001b[0m\u001b[1;33m\u001b[0m\u001b[1;33m\u001b[0m\u001b[0m\n\u001b[0;32m    261\u001b[0m         \u001b[1;32mwith\u001b[0m \u001b[0mparallel_backend\u001b[0m\u001b[1;33m(\u001b[0m\u001b[0mself\u001b[0m\u001b[1;33m.\u001b[0m\u001b[0m_backend\u001b[0m\u001b[1;33m,\u001b[0m \u001b[0mn_jobs\u001b[0m\u001b[1;33m=\u001b[0m\u001b[0mself\u001b[0m\u001b[1;33m.\u001b[0m\u001b[0m_n_jobs\u001b[0m\u001b[1;33m)\u001b[0m\u001b[1;33m:\u001b[0m\u001b[1;33m\u001b[0m\u001b[1;33m\u001b[0m\u001b[0m\n\u001b[1;32m--> 262\u001b[1;33m             return [func(*args, **kwargs)\n\u001b[0m\u001b[0;32m    263\u001b[0m                     for func, args, kwargs in self.items]\n\u001b[0;32m    264\u001b[0m \u001b[1;33m\u001b[0m\u001b[0m\n",
      "\u001b[1;32mZ:\\Google\\Anaconda\\lib\\site-packages\\joblib\\parallel.py\u001b[0m in \u001b[0;36m<listcomp>\u001b[1;34m(.0)\u001b[0m\n\u001b[0;32m    260\u001b[0m         \u001b[1;31m# change the default number of processes to -1\u001b[0m\u001b[1;33m\u001b[0m\u001b[1;33m\u001b[0m\u001b[1;33m\u001b[0m\u001b[0m\n\u001b[0;32m    261\u001b[0m         \u001b[1;32mwith\u001b[0m \u001b[0mparallel_backend\u001b[0m\u001b[1;33m(\u001b[0m\u001b[0mself\u001b[0m\u001b[1;33m.\u001b[0m\u001b[0m_backend\u001b[0m\u001b[1;33m,\u001b[0m \u001b[0mn_jobs\u001b[0m\u001b[1;33m=\u001b[0m\u001b[0mself\u001b[0m\u001b[1;33m.\u001b[0m\u001b[0m_n_jobs\u001b[0m\u001b[1;33m)\u001b[0m\u001b[1;33m:\u001b[0m\u001b[1;33m\u001b[0m\u001b[1;33m\u001b[0m\u001b[0m\n\u001b[1;32m--> 262\u001b[1;33m             return [func(*args, **kwargs)\n\u001b[0m\u001b[0;32m    263\u001b[0m                     for func, args, kwargs in self.items]\n\u001b[0;32m    264\u001b[0m \u001b[1;33m\u001b[0m\u001b[0m\n",
      "\u001b[1;32mZ:\\Google\\Anaconda\\lib\\site-packages\\sklearn\\linear_model\\_logistic.py\u001b[0m in \u001b[0;36m_logistic_regression_path\u001b[1;34m(X, y, pos_class, Cs, fit_intercept, max_iter, tol, verbose, solver, coef, class_weight, dual, penalty, intercept_scaling, multi_class, random_state, check_input, max_squared_sum, sample_weight, l1_ratio)\u001b[0m\n\u001b[0;32m    760\u001b[0m                 \u001b[0moptions\u001b[0m\u001b[1;33m=\u001b[0m\u001b[1;33m{\u001b[0m\u001b[1;34m\"iprint\"\u001b[0m\u001b[1;33m:\u001b[0m \u001b[0miprint\u001b[0m\u001b[1;33m,\u001b[0m \u001b[1;34m\"gtol\"\u001b[0m\u001b[1;33m:\u001b[0m \u001b[0mtol\u001b[0m\u001b[1;33m,\u001b[0m \u001b[1;34m\"maxiter\"\u001b[0m\u001b[1;33m:\u001b[0m \u001b[0mmax_iter\u001b[0m\u001b[1;33m}\u001b[0m\u001b[1;33m\u001b[0m\u001b[1;33m\u001b[0m\u001b[0m\n\u001b[0;32m    761\u001b[0m             )\n\u001b[1;32m--> 762\u001b[1;33m             n_iter_i = _check_optimize_result(\n\u001b[0m\u001b[0;32m    763\u001b[0m                 \u001b[0msolver\u001b[0m\u001b[1;33m,\u001b[0m \u001b[0mopt_res\u001b[0m\u001b[1;33m,\u001b[0m \u001b[0mmax_iter\u001b[0m\u001b[1;33m,\u001b[0m\u001b[1;33m\u001b[0m\u001b[1;33m\u001b[0m\u001b[0m\n\u001b[0;32m    764\u001b[0m                 extra_warning_msg=_LOGISTIC_SOLVER_CONVERGENCE_MSG)\n",
      "\u001b[1;32mZ:\\Google\\Anaconda\\lib\\site-packages\\sklearn\\utils\\optimize.py\u001b[0m in \u001b[0;36m_check_optimize_result\u001b[1;34m(solver, result, max_iter, extra_warning_msg)\u001b[0m\n\u001b[0;32m    241\u001b[0m                 \u001b[1;34m\"    https://scikit-learn.org/stable/modules/\"\u001b[0m\u001b[1;33m\u001b[0m\u001b[1;33m\u001b[0m\u001b[0m\n\u001b[0;32m    242\u001b[0m                 \u001b[1;34m\"preprocessing.html\"\u001b[0m\u001b[1;33m\u001b[0m\u001b[1;33m\u001b[0m\u001b[0m\n\u001b[1;32m--> 243\u001b[1;33m             ).format(solver, result.status, result.message.decode(\"latin1\"))\n\u001b[0m\u001b[0;32m    244\u001b[0m             \u001b[1;32mif\u001b[0m \u001b[0mextra_warning_msg\u001b[0m \u001b[1;32mis\u001b[0m \u001b[1;32mnot\u001b[0m \u001b[1;32mNone\u001b[0m\u001b[1;33m:\u001b[0m\u001b[1;33m\u001b[0m\u001b[1;33m\u001b[0m\u001b[0m\n\u001b[0;32m    245\u001b[0m                 \u001b[0mwarning_msg\u001b[0m \u001b[1;33m+=\u001b[0m \u001b[1;34m\"\\n\"\u001b[0m \u001b[1;33m+\u001b[0m \u001b[0mextra_warning_msg\u001b[0m\u001b[1;33m\u001b[0m\u001b[1;33m\u001b[0m\u001b[0m\n",
      "\u001b[1;31mAttributeError\u001b[0m: 'str' object has no attribute 'decode'"
     ]
    }
   ],
   "source": [
    "lr_model.fit(X_train, Y_train)"
   ]
  },
  {
   "cell_type": "code",
   "execution_count": null,
   "metadata": {},
   "outputs": [],
   "source": []
  }
 ],
 "metadata": {
  "kernelspec": {
   "display_name": "Python 3",
   "language": "python",
   "name": "python3"
  },
  "language_info": {
   "codemirror_mode": {
    "name": "ipython",
    "version": 3
   },
   "file_extension": ".py",
   "mimetype": "text/x-python",
   "name": "python",
   "nbconvert_exporter": "python",
   "pygments_lexer": "ipython3",
   "version": "3.8.5"
  }
 },
 "nbformat": 4,
 "nbformat_minor": 4
}
