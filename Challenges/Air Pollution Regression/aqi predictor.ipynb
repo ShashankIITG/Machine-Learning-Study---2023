{
 "cells": [
  {
   "cell_type": "code",
   "execution_count": 1,
   "metadata": {},
   "outputs": [],
   "source": [
    "import numpy as np\n",
    "import pandas as pd\n",
    "import matplotlib.pyplot as plt"
   ]
  },
  {
   "cell_type": "code",
   "execution_count": 2,
   "metadata": {},
   "outputs": [],
   "source": [
    "train = pd.read_csv('../../Dataset/air_quality/Train/Train.csv')"
   ]
  },
  {
   "cell_type": "code",
   "execution_count": 3,
   "metadata": {},
   "outputs": [
    {
     "name": "stdout",
     "output_type": "stream",
     "text": [
      "<class 'pandas.core.frame.DataFrame'>\n",
      "RangeIndex: 1600 entries, 0 to 1599\n",
      "Data columns (total 6 columns):\n",
      " #   Column     Non-Null Count  Dtype  \n",
      "---  ------     --------------  -----  \n",
      " 0   feature_1  1600 non-null   float64\n",
      " 1   feature_2  1600 non-null   float64\n",
      " 2   feature_3  1600 non-null   float64\n",
      " 3   feature_4  1600 non-null   float64\n",
      " 4   feature_5  1600 non-null   float64\n",
      " 5   target     1600 non-null   float64\n",
      "dtypes: float64(6)\n",
      "memory usage: 75.1 KB\n"
     ]
    }
   ],
   "source": [
    "train.info()"
   ]
  },
  {
   "cell_type": "code",
   "execution_count": 4,
   "metadata": {},
   "outputs": [
    {
     "data": {
      "text/html": [
       "<div>\n",
       "<style scoped>\n",
       "    .dataframe tbody tr th:only-of-type {\n",
       "        vertical-align: middle;\n",
       "    }\n",
       "\n",
       "    .dataframe tbody tr th {\n",
       "        vertical-align: top;\n",
       "    }\n",
       "\n",
       "    .dataframe thead th {\n",
       "        text-align: right;\n",
       "    }\n",
       "</style>\n",
       "<table border=\"1\" class=\"dataframe\">\n",
       "  <thead>\n",
       "    <tr style=\"text-align: right;\">\n",
       "      <th></th>\n",
       "      <th>feature_1</th>\n",
       "      <th>feature_2</th>\n",
       "      <th>feature_3</th>\n",
       "      <th>feature_4</th>\n",
       "      <th>feature_5</th>\n",
       "      <th>target</th>\n",
       "    </tr>\n",
       "  </thead>\n",
       "  <tbody>\n",
       "    <tr>\n",
       "      <th>feature_1</th>\n",
       "      <td>1.000000</td>\n",
       "      <td>0.017356</td>\n",
       "      <td>-0.007307</td>\n",
       "      <td>-0.051649</td>\n",
       "      <td>-0.004005</td>\n",
       "      <td>0.260274</td>\n",
       "    </tr>\n",
       "    <tr>\n",
       "      <th>feature_2</th>\n",
       "      <td>0.017356</td>\n",
       "      <td>1.000000</td>\n",
       "      <td>-0.053230</td>\n",
       "      <td>-0.000601</td>\n",
       "      <td>0.001096</td>\n",
       "      <td>0.855356</td>\n",
       "    </tr>\n",
       "    <tr>\n",
       "      <th>feature_3</th>\n",
       "      <td>-0.007307</td>\n",
       "      <td>-0.053230</td>\n",
       "      <td>1.000000</td>\n",
       "      <td>-0.004463</td>\n",
       "      <td>-0.066958</td>\n",
       "      <td>0.024866</td>\n",
       "    </tr>\n",
       "    <tr>\n",
       "      <th>feature_4</th>\n",
       "      <td>-0.051649</td>\n",
       "      <td>-0.000601</td>\n",
       "      <td>-0.004463</td>\n",
       "      <td>1.000000</td>\n",
       "      <td>-0.005602</td>\n",
       "      <td>0.396420</td>\n",
       "    </tr>\n",
       "    <tr>\n",
       "      <th>feature_5</th>\n",
       "      <td>-0.004005</td>\n",
       "      <td>0.001096</td>\n",
       "      <td>-0.066958</td>\n",
       "      <td>-0.005602</td>\n",
       "      <td>1.000000</td>\n",
       "      <td>0.014760</td>\n",
       "    </tr>\n",
       "    <tr>\n",
       "      <th>target</th>\n",
       "      <td>0.260274</td>\n",
       "      <td>0.855356</td>\n",
       "      <td>0.024866</td>\n",
       "      <td>0.396420</td>\n",
       "      <td>0.014760</td>\n",
       "      <td>1.000000</td>\n",
       "    </tr>\n",
       "  </tbody>\n",
       "</table>\n",
       "</div>"
      ],
      "text/plain": [
       "           feature_1  feature_2  feature_3  feature_4  feature_5    target\n",
       "feature_1   1.000000   0.017356  -0.007307  -0.051649  -0.004005  0.260274\n",
       "feature_2   0.017356   1.000000  -0.053230  -0.000601   0.001096  0.855356\n",
       "feature_3  -0.007307  -0.053230   1.000000  -0.004463  -0.066958  0.024866\n",
       "feature_4  -0.051649  -0.000601  -0.004463   1.000000  -0.005602  0.396420\n",
       "feature_5  -0.004005   0.001096  -0.066958  -0.005602   1.000000  0.014760\n",
       "target      0.260274   0.855356   0.024866   0.396420   0.014760  1.000000"
      ]
     },
     "execution_count": 4,
     "metadata": {},
     "output_type": "execute_result"
    }
   ],
   "source": [
    "train.corr()"
   ]
  },
  {
   "cell_type": "code",
   "execution_count": null,
   "metadata": {},
   "outputs": [],
   "source": [
    "# feature 2 is highly corelated with target, we can consider it if we want to reduce feature\n",
    "# feature 3, and 5 are very less corelated with target, we can ignore them if we want to reduce feature"
   ]
  },
  {
   "cell_type": "code",
   "execution_count": null,
   "metadata": {},
   "outputs": [],
   "source": [
    "train.head()"
   ]
  },
  {
   "cell_type": "code",
   "execution_count": null,
   "metadata": {},
   "outputs": [],
   "source": [
    "plt.scatter(train['feature_3'], train['target'])"
   ]
  },
  {
   "cell_type": "code",
   "execution_count": null,
   "metadata": {},
   "outputs": [],
   "source": []
  }
 ],
 "metadata": {
  "kernelspec": {
   "display_name": "Python 3",
   "language": "python",
   "name": "python3"
  },
  "language_info": {
   "codemirror_mode": {
    "name": "ipython",
    "version": 3
   },
   "file_extension": ".py",
   "mimetype": "text/x-python",
   "name": "python",
   "nbconvert_exporter": "python",
   "pygments_lexer": "ipython3",
   "version": "3.8.5"
  }
 },
 "nbformat": 4,
 "nbformat_minor": 4
}
