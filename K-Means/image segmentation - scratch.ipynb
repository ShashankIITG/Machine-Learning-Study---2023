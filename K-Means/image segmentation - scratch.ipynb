{
 "cells": [
  {
   "cell_type": "code",
   "execution_count": 1,
   "id": "000ba872",
   "metadata": {},
   "outputs": [],
   "source": [
    "import cv2"
   ]
  },
  {
   "cell_type": "code",
   "execution_count": 3,
   "id": "929bfa58",
   "metadata": {},
   "outputs": [],
   "source": [
    "img = cv2.imread('C:/Users/Monika/Pictures/Camera Roll/Trapti.jpg')"
   ]
  },
  {
   "cell_type": "code",
   "execution_count": 4,
   "id": "eee6a87e",
   "metadata": {},
   "outputs": [],
   "source": [
    "img = cv2.cvtColor(img, cv2.COLOR_BGR2RGB)"
   ]
  },
  {
   "cell_type": "code",
   "execution_count": 5,
   "id": "4ebcbc13",
   "metadata": {},
   "outputs": [],
   "source": [
    "img_flat = img.reshape((-1, 3))"
   ]
  },
  {
   "cell_type": "code",
   "execution_count": 6,
   "id": "7a21a125",
   "metadata": {},
   "outputs": [
    {
     "data": {
      "text/plain": [
       "(466200, 3)"
      ]
     },
     "execution_count": 6,
     "metadata": {},
     "output_type": "execute_result"
    }
   ],
   "source": [
    "img_flat.shape"
   ]
  },
  {
   "cell_type": "code",
   "execution_count": 7,
   "id": "78457869",
   "metadata": {},
   "outputs": [],
   "source": [
    "import numpy as np"
   ]
  },
  {
   "cell_type": "code",
   "execution_count": 73,
   "id": "a0110836",
   "metadata": {},
   "outputs": [],
   "source": [
    "def distance(x1, x2):\n",
    "    return np.sqrt(np.sum((x1-x2)**2, axis=1))"
   ]
  },
  {
   "cell_type": "code",
   "execution_count": 183,
   "id": "d0368eaf",
   "metadata": {},
   "outputs": [],
   "source": [
    "class KMeans:\n",
    "    def __init__(self, X, k):\n",
    "        self.k = k\n",
    "        self.X = X\n",
    "        self.centers = 255 * np.random.rand(self.k, 3)\n",
    "        self.cluster = []\n",
    "        \n",
    "    def setCluster(self):\n",
    "        cluster = []\n",
    "        no_of_datapoints = self.X.shape[0]\n",
    "        \n",
    "        for i in range(no_of_datapoints):\n",
    "            dist = distance(self.X[i], self.centers)\n",
    "            cluster.append(np.argmax(dist))\n",
    "        \n",
    "        cluster = np.array(cluster)\n",
    "        return cluster\n",
    "        \n",
    "    def resetCenter(self, cluster):\n",
    "        centers = []\n",
    "        \n",
    "        for ik in range(self.k):\n",
    "            new_center = self.X[cluster == ik].mean(axis = 0)\n",
    "            centers.append(new_center)\n",
    "        \n",
    "        centers = np.array(centers)\n",
    "        return centers\n",
    "    \n",
    "    def fit(self):\n",
    "        for i in range(3):\n",
    "            cluster = self.setCluster()\n",
    "            centers = self.resetCenter(cluster)\n",
    "            print(centers)\n",
    "            print(self.centers)\n",
    "            self.centers = centers\n",
    "        "
   ]
  },
  {
   "cell_type": "code",
   "execution_count": 184,
   "id": "a93fed04",
   "metadata": {},
   "outputs": [],
   "source": [
    "kmean = KMeans(img_flat, 5)"
   ]
  },
  {
   "cell_type": "code",
   "execution_count": 185,
   "id": "38cfa1f0",
   "metadata": {},
   "outputs": [
    {
     "data": {
      "text/plain": [
       "array([[114.32681494, 194.0143805 , 252.8507754 ],\n",
       "       [211.16600836, 118.19893583, 205.73252962],\n",
       "       [116.10229501, 237.14448504, 169.12205049],\n",
       "       [191.09384778, 221.32088171, 129.84681357],\n",
       "       [ 30.24359505,   6.09674139, 231.92333335]])"
      ]
     },
     "execution_count": 185,
     "metadata": {},
     "output_type": "execute_result"
    }
   ],
   "source": [
    "kmean.centers"
   ]
  },
  {
   "cell_type": "code",
   "execution_count": 186,
   "id": "01ec0f23",
   "metadata": {},
   "outputs": [],
   "source": [
    "cls = kmean.setCluster()"
   ]
  },
  {
   "cell_type": "code",
   "execution_count": 188,
   "id": "4ed5d6ef",
   "metadata": {},
   "outputs": [
    {
     "data": {
      "text/plain": [
       "array([0, 4], dtype=int64)"
      ]
     },
     "execution_count": 188,
     "metadata": {},
     "output_type": "execute_result"
    }
   ],
   "source": [
    "np.unique(cls)"
   ]
  },
  {
   "cell_type": "code",
   "execution_count": 180,
   "id": "f3eef8ef",
   "metadata": {},
   "outputs": [
    {
     "name": "stderr",
     "output_type": "stream",
     "text": [
      "C:\\Users\\Monika\\AppData\\Local\\Temp\\ipykernel_12516\\1684440798.py:23: RuntimeWarning: Mean of empty slice.\n",
      "  new_center = self.X[cluster == ik].mean(axis = 0)\n",
      "C:\\ProgramData\\Anaconda3\\lib\\site-packages\\numpy\\core\\_methods.py:181: RuntimeWarning: invalid value encountered in true_divide\n",
      "  ret = um.true_divide(\n"
     ]
    }
   ],
   "source": [
    "ctr = kmean.resetCenter(c)"
   ]
  },
  {
   "cell_type": "code",
   "execution_count": 182,
   "id": "59eea163",
   "metadata": {},
   "outputs": [
    {
     "data": {
      "text/plain": [
       "array([False])"
      ]
     },
     "execution_count": 182,
     "metadata": {},
     "output_type": "execute_result"
    }
   ],
   "source": [
    "np.unique(cls == 2)"
   ]
  },
  {
   "cell_type": "code",
   "execution_count": 167,
   "id": "6ac74cdf",
   "metadata": {},
   "outputs": [
    {
     "data": {
      "text/plain": [
       "array([[ 94.08169467,  52.03723033,  39.05105113],\n",
       "       [177.17645567, 176.65615688, 178.06224934],\n",
       "       [         nan,          nan,          nan],\n",
       "       [         nan,          nan,          nan],\n",
       "       [         nan,          nan,          nan]])"
      ]
     },
     "execution_count": 167,
     "metadata": {},
     "output_type": "execute_result"
    }
   ],
   "source": [
    "ctr"
   ]
  },
  {
   "cell_type": "code",
   "execution_count": null,
   "id": "81c53945",
   "metadata": {},
   "outputs": [],
   "source": []
  }
 ],
 "metadata": {
  "kernelspec": {
   "display_name": "Python 3 (ipykernel)",
   "language": "python",
   "name": "python3"
  },
  "language_info": {
   "codemirror_mode": {
    "name": "ipython",
    "version": 3
   },
   "file_extension": ".py",
   "mimetype": "text/x-python",
   "name": "python",
   "nbconvert_exporter": "python",
   "pygments_lexer": "ipython3",
   "version": "3.9.15"
  }
 },
 "nbformat": 4,
 "nbformat_minor": 5
}
